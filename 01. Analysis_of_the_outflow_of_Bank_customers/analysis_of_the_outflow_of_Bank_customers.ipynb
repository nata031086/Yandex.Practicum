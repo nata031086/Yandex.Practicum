{
 "cells": [
  {
   "cell_type": "markdown",
   "id": "7ba5d6e8",
   "metadata": {},
   "source": [
    "## Анализ оттока клиентов Банка"
   ]
  },
  {
   "cell_type": "markdown",
   "id": "e505b21e",
   "metadata": {},
   "source": [
    "**Заказчик:** \n",
    "\n",
    "отдел маркетинга банка «Метанпромбанк»"
   ]
  },
  {
   "cell_type": "markdown",
   "id": "1f381ba8",
   "metadata": {},
   "source": [
    "**Цель проекта:** \n",
    "\n",
    "Анализ клиентов регионального банка и выделие сегментов клиентов,\n",
    "которые склонны уходить из банка для дальнейших мер по снижению оттока и сохранению текущих клиентов."
   ]
  },
  {
   "cell_type": "markdown",
   "id": "154bc9d2",
   "metadata": {},
   "source": [
    "**Входные данные:**\n",
    "\n",
    "Банк располагается в Ярославле и областных городах: Ростов Великий и Рыбинск. Данные о клиентах банка «Метанпром» содержатся в датасете /datasets/bank_scrooge.csv, доступ к которому можно получить из интернета по адресу https://code.s3.yandex.net/datasets/.\\\n",
    "Итак, в датасете представлены следующие колонки:\\\n",
    "•\tUSERID — идентификатор пользователя,\\\n",
    "•\tscore — баллы кредитного скоринга,\\\n",
    "•\tcity — город,\\\n",
    "•\tgender — пол,\\\n",
    "•\tage — возраст,\\\n",
    "•\tequity — количество баллов собственности\\\n",
    "•\tbalance — баланс на счёте,\\\n",
    "•\tproducts — количество продуктов, которыми пользуется клиент,\\\n",
    "•\tcredit_card — есть ли кредитная карта,\\\n",
    "•\tlast_activity — активный клиент,\\\n",
    "•\tEST_SALARY — оценочный доход клиента,\\\n",
    "•\tсhurn — признак оттока."
   ]
  },
  {
   "cell_type": "markdown",
   "id": "6b8b6130",
   "metadata": {},
   "source": [
    "**Ход анализа:**\n",
    "\n",
    "• Обзор и предобработка данных;\\\n",
    "• Исследовательский анализ данных;\\\n",
    "• Проверка гипотез;\\\n",
    "• Сегментация клиентов Банка;\\\n",
    "• Выводы и рекомендации для Заказчика;\\\n",
    "• Презентация"
   ]
  },
  {
   "cell_type": "code",
   "execution_count": 1,
   "id": "a665e26a",
   "metadata": {},
   "outputs": [],
   "source": [
    "# импортируем библиотеки\n",
    "import pandas as pd\n",
    "from IPython.display import display\n",
    "import seaborn as sns\n",
    "import matplotlib.pyplot as plt\n",
    "from scipy import stats as st\n",
    "import numpy as np\n",
    "from statsmodels.stats.proportion import proportions_ztest"
   ]
  },
  {
   "cell_type": "markdown",
   "id": "a00895e3",
   "metadata": {},
   "source": [
    "### Шаг 1. Загрузка данных"
   ]
  },
  {
   "cell_type": "code",
   "execution_count": 2,
   "id": "3568af44",
   "metadata": {},
   "outputs": [],
   "source": [
    "# загрузим данные из CSV-файла в переменную\n",
    "data = pd.read_csv('C:/Users/nata/Downloads/bank_scrooge.csv')"
   ]
  },
  {
   "cell_type": "code",
   "execution_count": 3,
   "id": "81d48716",
   "metadata": {},
   "outputs": [
    {
     "data": {
      "text/html": [
       "<div>\n",
       "<style scoped>\n",
       "    .dataframe tbody tr th:only-of-type {\n",
       "        vertical-align: middle;\n",
       "    }\n",
       "\n",
       "    .dataframe tbody tr th {\n",
       "        vertical-align: top;\n",
       "    }\n",
       "\n",
       "    .dataframe thead th {\n",
       "        text-align: right;\n",
       "    }\n",
       "</style>\n",
       "<table border=\"1\" class=\"dataframe\">\n",
       "  <thead>\n",
       "    <tr style=\"text-align: right;\">\n",
       "      <th></th>\n",
       "      <th>USERID</th>\n",
       "      <th>score</th>\n",
       "      <th>city</th>\n",
       "      <th>gender</th>\n",
       "      <th>age</th>\n",
       "      <th>equity</th>\n",
       "      <th>balance</th>\n",
       "      <th>products</th>\n",
       "      <th>credit_card</th>\n",
       "      <th>last_activity</th>\n",
       "      <th>EST_SALARY</th>\n",
       "      <th>churn</th>\n",
       "    </tr>\n",
       "  </thead>\n",
       "  <tbody>\n",
       "    <tr>\n",
       "      <th>0</th>\n",
       "      <td>183012</td>\n",
       "      <td>850.0</td>\n",
       "      <td>Рыбинск</td>\n",
       "      <td>Ж</td>\n",
       "      <td>25.0</td>\n",
       "      <td>1</td>\n",
       "      <td>59214.82</td>\n",
       "      <td>2</td>\n",
       "      <td>0</td>\n",
       "      <td>1</td>\n",
       "      <td>75719.14</td>\n",
       "      <td>1</td>\n",
       "    </tr>\n",
       "    <tr>\n",
       "      <th>1</th>\n",
       "      <td>146556</td>\n",
       "      <td>861.0</td>\n",
       "      <td>Рыбинск</td>\n",
       "      <td>Ж</td>\n",
       "      <td>37.0</td>\n",
       "      <td>5</td>\n",
       "      <td>850594.33</td>\n",
       "      <td>3</td>\n",
       "      <td>1</td>\n",
       "      <td>0</td>\n",
       "      <td>86621.77</td>\n",
       "      <td>0</td>\n",
       "    </tr>\n",
       "    <tr>\n",
       "      <th>2</th>\n",
       "      <td>120722</td>\n",
       "      <td>892.0</td>\n",
       "      <td>Рыбинск</td>\n",
       "      <td>Ж</td>\n",
       "      <td>30.0</td>\n",
       "      <td>0</td>\n",
       "      <td>NaN</td>\n",
       "      <td>1</td>\n",
       "      <td>1</td>\n",
       "      <td>1</td>\n",
       "      <td>107683.34</td>\n",
       "      <td>0</td>\n",
       "    </tr>\n",
       "    <tr>\n",
       "      <th>3</th>\n",
       "      <td>225363</td>\n",
       "      <td>866.0</td>\n",
       "      <td>Ярославль</td>\n",
       "      <td>Ж</td>\n",
       "      <td>51.0</td>\n",
       "      <td>5</td>\n",
       "      <td>1524746.26</td>\n",
       "      <td>2</td>\n",
       "      <td>0</td>\n",
       "      <td>1</td>\n",
       "      <td>174423.53</td>\n",
       "      <td>1</td>\n",
       "    </tr>\n",
       "    <tr>\n",
       "      <th>4</th>\n",
       "      <td>157978</td>\n",
       "      <td>730.0</td>\n",
       "      <td>Ярославль</td>\n",
       "      <td>М</td>\n",
       "      <td>34.0</td>\n",
       "      <td>5</td>\n",
       "      <td>174.00</td>\n",
       "      <td>1</td>\n",
       "      <td>1</td>\n",
       "      <td>0</td>\n",
       "      <td>67353.16</td>\n",
       "      <td>1</td>\n",
       "    </tr>\n",
       "    <tr>\n",
       "      <th>...</th>\n",
       "      <td>...</td>\n",
       "      <td>...</td>\n",
       "      <td>...</td>\n",
       "      <td>...</td>\n",
       "      <td>...</td>\n",
       "      <td>...</td>\n",
       "      <td>...</td>\n",
       "      <td>...</td>\n",
       "      <td>...</td>\n",
       "      <td>...</td>\n",
       "      <td>...</td>\n",
       "      <td>...</td>\n",
       "    </tr>\n",
       "    <tr>\n",
       "      <th>9995</th>\n",
       "      <td>120553</td>\n",
       "      <td>814.0</td>\n",
       "      <td>Рыбинск</td>\n",
       "      <td>М</td>\n",
       "      <td>27.0</td>\n",
       "      <td>1</td>\n",
       "      <td>78144.65</td>\n",
       "      <td>1</td>\n",
       "      <td>0</td>\n",
       "      <td>1</td>\n",
       "      <td>18943.64</td>\n",
       "      <td>0</td>\n",
       "    </tr>\n",
       "    <tr>\n",
       "      <th>9996</th>\n",
       "      <td>139170</td>\n",
       "      <td>894.0</td>\n",
       "      <td>Ярославль</td>\n",
       "      <td>М</td>\n",
       "      <td>46.0</td>\n",
       "      <td>0</td>\n",
       "      <td>NaN</td>\n",
       "      <td>1</td>\n",
       "      <td>1</td>\n",
       "      <td>0</td>\n",
       "      <td>196898.29</td>\n",
       "      <td>0</td>\n",
       "    </tr>\n",
       "    <tr>\n",
       "      <th>9997</th>\n",
       "      <td>115639</td>\n",
       "      <td>903.0</td>\n",
       "      <td>Ярославль</td>\n",
       "      <td>М</td>\n",
       "      <td>24.0</td>\n",
       "      <td>0</td>\n",
       "      <td>NaN</td>\n",
       "      <td>2</td>\n",
       "      <td>1</td>\n",
       "      <td>1</td>\n",
       "      <td>108905.09</td>\n",
       "      <td>0</td>\n",
       "    </tr>\n",
       "    <tr>\n",
       "      <th>9998</th>\n",
       "      <td>148700</td>\n",
       "      <td>777.0</td>\n",
       "      <td>Ярославль</td>\n",
       "      <td>Ж</td>\n",
       "      <td>68.0</td>\n",
       "      <td>3</td>\n",
       "      <td>865457.97</td>\n",
       "      <td>3</td>\n",
       "      <td>0</td>\n",
       "      <td>1</td>\n",
       "      <td>86874.90</td>\n",
       "      <td>0</td>\n",
       "    </tr>\n",
       "    <tr>\n",
       "      <th>9999</th>\n",
       "      <td>96267</td>\n",
       "      <td>828.0</td>\n",
       "      <td>Рыбинск</td>\n",
       "      <td>Ж</td>\n",
       "      <td>58.0</td>\n",
       "      <td>3</td>\n",
       "      <td>1180886.70</td>\n",
       "      <td>4</td>\n",
       "      <td>0</td>\n",
       "      <td>1</td>\n",
       "      <td>21422.37</td>\n",
       "      <td>0</td>\n",
       "    </tr>\n",
       "  </tbody>\n",
       "</table>\n",
       "<p>10000 rows × 12 columns</p>\n",
       "</div>"
      ],
      "text/plain": [
       "      USERID  score       city gender   age  equity     balance  products  \\\n",
       "0     183012  850.0    Рыбинск      Ж  25.0       1    59214.82         2   \n",
       "1     146556  861.0    Рыбинск      Ж  37.0       5   850594.33         3   \n",
       "2     120722  892.0    Рыбинск      Ж  30.0       0         NaN         1   \n",
       "3     225363  866.0  Ярославль      Ж  51.0       5  1524746.26         2   \n",
       "4     157978  730.0  Ярославль      М  34.0       5      174.00         1   \n",
       "...      ...    ...        ...    ...   ...     ...         ...       ...   \n",
       "9995  120553  814.0    Рыбинск      М  27.0       1    78144.65         1   \n",
       "9996  139170  894.0  Ярославль      М  46.0       0         NaN         1   \n",
       "9997  115639  903.0  Ярославль      М  24.0       0         NaN         2   \n",
       "9998  148700  777.0  Ярославль      Ж  68.0       3   865457.97         3   \n",
       "9999   96267  828.0    Рыбинск      Ж  58.0       3  1180886.70         4   \n",
       "\n",
       "      credit_card  last_activity  EST_SALARY  churn  \n",
       "0               0              1    75719.14      1  \n",
       "1               1              0    86621.77      0  \n",
       "2               1              1   107683.34      0  \n",
       "3               0              1   174423.53      1  \n",
       "4               1              0    67353.16      1  \n",
       "...           ...            ...         ...    ...  \n",
       "9995            0              1    18943.64      0  \n",
       "9996            1              0   196898.29      0  \n",
       "9997            1              1   108905.09      0  \n",
       "9998            0              1    86874.90      0  \n",
       "9999            0              1    21422.37      0  \n",
       "\n",
       "[10000 rows x 12 columns]"
      ]
     },
     "metadata": {},
     "output_type": "display_data"
    }
   ],
   "source": [
    "# выведим таблицу с помощью функции display\n",
    "display(data)"
   ]
  },
  {
   "cell_type": "code",
   "execution_count": 4,
   "id": "03d6589d",
   "metadata": {},
   "outputs": [
    {
     "name": "stdout",
     "output_type": "stream",
     "text": [
      "<class 'pandas.core.frame.DataFrame'>\n",
      "RangeIndex: 10000 entries, 0 to 9999\n",
      "Data columns (total 12 columns):\n",
      " #   Column         Non-Null Count  Dtype  \n",
      "---  ------         --------------  -----  \n",
      " 0   USERID         10000 non-null  int64  \n",
      " 1   score          10000 non-null  float64\n",
      " 2   city           10000 non-null  object \n",
      " 3   gender         10000 non-null  object \n",
      " 4   age            9974 non-null   float64\n",
      " 5   equity         10000 non-null  int64  \n",
      " 6   balance        7705 non-null   float64\n",
      " 7   products       10000 non-null  int64  \n",
      " 8   credit_card    10000 non-null  int64  \n",
      " 9   last_activity  10000 non-null  int64  \n",
      " 10  EST_SALARY     10000 non-null  float64\n",
      " 11  churn          10000 non-null  int64  \n",
      "dtypes: float64(4), int64(6), object(2)\n",
      "memory usage: 937.6+ KB\n"
     ]
    }
   ],
   "source": [
    "# выведим основную информацию о датафрейме с помощью метода info()\n",
    "data.info()"
   ]
  },
  {
   "cell_type": "code",
   "execution_count": 5,
   "id": "c92658d1",
   "metadata": {},
   "outputs": [
    {
     "data": {
      "text/plain": [
       "USERID              0\n",
       "score               0\n",
       "city                0\n",
       "gender              0\n",
       "age                26\n",
       "equity              0\n",
       "balance          2295\n",
       "products            0\n",
       "credit_card         0\n",
       "last_activity       0\n",
       "EST_SALARY          0\n",
       "churn               0\n",
       "dtype: int64"
      ]
     },
     "execution_count": 5,
     "metadata": {},
     "output_type": "execute_result"
    }
   ],
   "source": [
    "# проверим датасет на наличие пропусков\n",
    "data.isna().sum()"
   ]
  },
  {
   "cell_type": "code",
   "execution_count": 6,
   "id": "02ae8c9f",
   "metadata": {},
   "outputs": [
    {
     "data": {
      "text/plain": [
       "USERID            0.0%\n",
       "score             0.0%\n",
       "city              0.0%\n",
       "gender            0.0%\n",
       "age               0.3%\n",
       "equity            0.0%\n",
       "balance          22.9%\n",
       "products          0.0%\n",
       "credit_card       0.0%\n",
       "last_activity     0.0%\n",
       "EST_SALARY        0.0%\n",
       "churn             0.0%\n",
       "dtype: object"
      ]
     },
     "execution_count": 6,
     "metadata": {},
     "output_type": "execute_result"
    }
   ],
   "source": [
    "# посмотрим на процент этих пропущенных значений в столбцах\n",
    "(data.isna().sum()/len(data)).apply('{:.1%}'.format)"
   ]
  },
  {
   "cell_type": "markdown",
   "id": "8f8e1626",
   "metadata": {},
   "source": [
    "**Промежуточные итоги:**\n",
    "\n",
    "Изучив общую информацию о датасете, мы выяснили, что:\\\n",
    "• таблица содержит 12 столцов и 10 000 срок;\\\n",
    "• необходимо отредактировать названия колонок;\\\n",
    "• частично преобразовать тип данных;\\\n",
    "• есть пропуски в некоторых столбцах.\n",
    "\n",
    "Перед тем как приступить к анализу необходимо подготовить данные, а именно:\\\n",
    "• переименуем названия некоторых колонок, используя «змеиный_регистр»;\\\n",
    "• столбцы 'credit_card', 'last_activity' и 'churn' содержат значения 1 и 0, а значит должны иметь булевый тип. А столбец 'age' должен быть целочисленым;\\\n",
    "• проверим на наличие явных и неявных дубликатов. Обработаем их, если такие значения присутствуют;\\\n",
    "• столбцы 'age', 'balance' содержат пропуски. С учетом того, что пропусков в столбце 'age' меньше 1%, то просто отбросим их, а вот пропусков в столбце 'balance' 22,9%. Это повод для изучения, так как без дополнительного обоснования их нельзя отбрасывать или заполнять одним значением, т.к. это приведёт к заметным искажениям."
   ]
  },
  {
   "cell_type": "markdown",
   "id": "0eee0786",
   "metadata": {},
   "source": [
    "### Шаг 2. Предобработка данных"
   ]
  },
  {
   "cell_type": "code",
   "execution_count": 7,
   "id": "7270bce1",
   "metadata": {},
   "outputs": [
    {
     "data": {
      "text/plain": [
       "Index(['user_id', 'score', 'city', 'gender', 'age', 'equity', 'balance',\n",
       "       'products', 'credit_card', 'last_activity', 'est_salary', 'churn'],\n",
       "      dtype='object')"
      ]
     },
     "execution_count": 7,
     "metadata": {},
     "output_type": "execute_result"
    }
   ],
   "source": [
    "# переименуем название колонок\n",
    "data = data.rename(\n",
    "    columns={'USERID': 'user_id', 'EST_SALARY': 'est_salary'})\n",
    "data.columns"
   ]
  },
  {
   "cell_type": "code",
   "execution_count": 8,
   "id": "fc376820",
   "metadata": {},
   "outputs": [
    {
     "name": "stdout",
     "output_type": "stream",
     "text": [
      "<class 'pandas.core.frame.DataFrame'>\n",
      "RangeIndex: 10000 entries, 0 to 9999\n",
      "Data columns (total 12 columns):\n",
      " #   Column         Non-Null Count  Dtype  \n",
      "---  ------         --------------  -----  \n",
      " 0   user_id        10000 non-null  int64  \n",
      " 1   score          10000 non-null  float64\n",
      " 2   city           10000 non-null  object \n",
      " 3   gender         10000 non-null  object \n",
      " 4   age            9974 non-null   float64\n",
      " 5   equity         10000 non-null  int64  \n",
      " 6   balance        7705 non-null   float64\n",
      " 7   products       10000 non-null  int64  \n",
      " 8   credit_card    10000 non-null  bool   \n",
      " 9   last_activity  10000 non-null  bool   \n",
      " 10  est_salary     10000 non-null  float64\n",
      " 11  churn          10000 non-null  bool   \n",
      "dtypes: bool(3), float64(4), int64(3), object(2)\n",
      "memory usage: 732.6+ KB\n"
     ]
    }
   ],
   "source": [
    "# меняем типы данных в некоторых столбцах\n",
    "data['credit_card'] = data['credit_card'].astype('bool') \n",
    "data['last_activity'] = data['last_activity'].astype('bool') \n",
    "data['churn'] = data['churn'].astype('bool')\n",
    "data.info ()"
   ]
  },
  {
   "cell_type": "code",
   "execution_count": 9,
   "id": "f05cacec",
   "metadata": {},
   "outputs": [
    {
     "data": {
      "text/plain": [
       "array([2, 3, 1, 4, 5, 0], dtype=int64)"
      ]
     },
     "execution_count": 9,
     "metadata": {},
     "output_type": "execute_result"
    }
   ],
   "source": [
    "# какие уникальные значения в столбце 'products'\n",
    "data['products'].unique()"
   ]
  },
  {
   "cell_type": "markdown",
   "id": "47711ab4",
   "metadata": {},
   "source": [
    "Так, как в нашем датасете только актуальные данные, т.е. все клиенты на данный момент являются действующими, а значит у них есть минимум один продукт. Выясним количество таких клиентов, и если их меньше 5% от общего числа, то отбросим их."
   ]
  },
  {
   "cell_type": "code",
   "execution_count": 10,
   "id": "fdd525ca",
   "metadata": {},
   "outputs": [
    {
     "name": "stdout",
     "output_type": "stream",
     "text": [
      "Количество клиентов в датасете без единого банковского продукта от общего числа =0.01%\n"
     ]
    }
   ],
   "source": [
    "print('Количество клиентов в датасете без единого банковского продукта от общего числа =' \"{:.2%}\".format(len(data.query('products == 0')) / len(data)))"
   ]
  },
  {
   "cell_type": "code",
   "execution_count": 11,
   "id": "65c8f199",
   "metadata": {},
   "outputs": [
    {
     "name": "stdout",
     "output_type": "stream",
     "text": [
      "<class 'pandas.core.frame.DataFrame'>\n",
      "Index: 9999 entries, 0 to 9999\n",
      "Data columns (total 12 columns):\n",
      " #   Column         Non-Null Count  Dtype  \n",
      "---  ------         --------------  -----  \n",
      " 0   user_id        9999 non-null   int64  \n",
      " 1   score          9999 non-null   float64\n",
      " 2   city           9999 non-null   object \n",
      " 3   gender         9999 non-null   object \n",
      " 4   age            9973 non-null   float64\n",
      " 5   equity         9999 non-null   int64  \n",
      " 6   balance        7705 non-null   float64\n",
      " 7   products       9999 non-null   int64  \n",
      " 8   credit_card    9999 non-null   bool   \n",
      " 9   last_activity  9999 non-null   bool   \n",
      " 10  est_salary     9999 non-null   float64\n",
      " 11  churn          9999 non-null   bool   \n",
      "dtypes: bool(3), float64(4), int64(3), object(2)\n",
      "memory usage: 810.5+ KB\n"
     ]
    }
   ],
   "source": [
    "# отбросим данные по клиентам без единого продукта\n",
    "data = data.query('products != 0')\n",
    "data.info()"
   ]
  },
  {
   "cell_type": "code",
   "execution_count": 12,
   "id": "e0a8bfcb",
   "metadata": {},
   "outputs": [
    {
     "name": "stdout",
     "output_type": "stream",
     "text": [
      "Количество строк-дубликатов = 0\n"
     ]
    }
   ],
   "source": [
    "# выведим количество строк-дубликатов (явных) в данных \n",
    "print('Количество строк-дубликатов =', data.duplicated().sum())"
   ]
  },
  {
   "cell_type": "code",
   "execution_count": 13,
   "id": "53ee6df4",
   "metadata": {},
   "outputs": [
    {
     "name": "stdout",
     "output_type": "stream",
     "text": [
      "Количество дубликатов пользователей = 73 , что составляет 0.73% об общего числа данных\n"
     ]
    }
   ],
   "source": [
    "# проверим на неявные дубликаты в столбцах 'user_id'\n",
    "(print('Количество дубликатов пользователей =', data.duplicated(subset=['user_id']).sum(), \n",
    "       ', что составляет', \"{:.2%}\".format(data['user_id'].duplicated().sum() / len(data)), 'об общего числа данных'))"
   ]
  },
  {
   "cell_type": "code",
   "execution_count": 14,
   "id": "dd9d0022",
   "metadata": {},
   "outputs": [
    {
     "data": {
      "text/html": [
       "<div>\n",
       "<style scoped>\n",
       "    .dataframe tbody tr th:only-of-type {\n",
       "        vertical-align: middle;\n",
       "    }\n",
       "\n",
       "    .dataframe tbody tr th {\n",
       "        vertical-align: top;\n",
       "    }\n",
       "\n",
       "    .dataframe thead th {\n",
       "        text-align: right;\n",
       "    }\n",
       "</style>\n",
       "<table border=\"1\" class=\"dataframe\">\n",
       "  <thead>\n",
       "    <tr style=\"text-align: right;\">\n",
       "      <th></th>\n",
       "      <th>user_id</th>\n",
       "      <th>score</th>\n",
       "      <th>city</th>\n",
       "      <th>gender</th>\n",
       "      <th>age</th>\n",
       "      <th>equity</th>\n",
       "      <th>balance</th>\n",
       "      <th>products</th>\n",
       "      <th>credit_card</th>\n",
       "      <th>last_activity</th>\n",
       "      <th>est_salary</th>\n",
       "      <th>churn</th>\n",
       "    </tr>\n",
       "  </thead>\n",
       "  <tbody>\n",
       "    <tr>\n",
       "      <th>3274</th>\n",
       "      <td>155765</td>\n",
       "      <td>863.0</td>\n",
       "      <td>Ярославль</td>\n",
       "      <td>М</td>\n",
       "      <td>30.0</td>\n",
       "      <td>5</td>\n",
       "      <td>1036114.50</td>\n",
       "      <td>5</td>\n",
       "      <td>True</td>\n",
       "      <td>True</td>\n",
       "      <td>150744.50</td>\n",
       "      <td>True</td>\n",
       "    </tr>\n",
       "    <tr>\n",
       "      <th>5197</th>\n",
       "      <td>155765</td>\n",
       "      <td>923.0</td>\n",
       "      <td>Рыбинск</td>\n",
       "      <td>М</td>\n",
       "      <td>30.0</td>\n",
       "      <td>0</td>\n",
       "      <td>NaN</td>\n",
       "      <td>1</td>\n",
       "      <td>True</td>\n",
       "      <td>True</td>\n",
       "      <td>120296.60</td>\n",
       "      <td>False</td>\n",
       "    </tr>\n",
       "    <tr>\n",
       "      <th>8205</th>\n",
       "      <td>227795</td>\n",
       "      <td>840.0</td>\n",
       "      <td>Рыбинск</td>\n",
       "      <td>М</td>\n",
       "      <td>34.0</td>\n",
       "      <td>2</td>\n",
       "      <td>350768.03</td>\n",
       "      <td>1</td>\n",
       "      <td>True</td>\n",
       "      <td>False</td>\n",
       "      <td>102036.14</td>\n",
       "      <td>True</td>\n",
       "    </tr>\n",
       "    <tr>\n",
       "      <th>8497</th>\n",
       "      <td>227795</td>\n",
       "      <td>839.0</td>\n",
       "      <td>Ярославль</td>\n",
       "      <td>М</td>\n",
       "      <td>34.0</td>\n",
       "      <td>2</td>\n",
       "      <td>326593.14</td>\n",
       "      <td>2</td>\n",
       "      <td>True</td>\n",
       "      <td>False</td>\n",
       "      <td>103314.92</td>\n",
       "      <td>False</td>\n",
       "    </tr>\n",
       "  </tbody>\n",
       "</table>\n",
       "</div>"
      ],
      "text/plain": [
       "      user_id  score       city gender   age  equity     balance  products  \\\n",
       "3274   155765  863.0  Ярославль      М  30.0       5  1036114.50         5   \n",
       "5197   155765  923.0    Рыбинск      М  30.0       0         NaN         1   \n",
       "8205   227795  840.0    Рыбинск      М  34.0       2   350768.03         1   \n",
       "8497   227795  839.0  Ярославль      М  34.0       2   326593.14         2   \n",
       "\n",
       "      credit_card  last_activity  est_salary  churn  \n",
       "3274         True           True   150744.50   True  \n",
       "5197         True           True   120296.60  False  \n",
       "8205         True          False   102036.14   True  \n",
       "8497         True          False   103314.92  False  "
      ]
     },
     "metadata": {},
     "output_type": "display_data"
    }
   ],
   "source": [
    "# посмотрим, что из себя представляют клиенты с дублированным user_id, добавив для полной их индетефикации возраст и пол\n",
    "display(data[data.duplicated(['user_id', 'age', 'gender'], False)])"
   ]
  },
  {
   "cell_type": "code",
   "execution_count": 15,
   "id": "ca4586f2",
   "metadata": {},
   "outputs": [
    {
     "name": "stdout",
     "output_type": "stream",
     "text": [
      "Количество неявных дубликатов пользователей составляет = 0.02% об общего числа данных\n"
     ]
    }
   ],
   "source": [
    "(print('Количество неявных дубликатов пользователей составляет =', \"{:.2%}\".format(data.duplicated(subset=['user_id', 'age', 'gender']).sum() / len(data)), 'об общего числа данных'))"
   ]
  },
  {
   "cell_type": "code",
   "execution_count": 16,
   "id": "fb1e889c",
   "metadata": {},
   "outputs": [],
   "source": [
    "# отбросим эти четыре строки, \n",
    "# а остальные строки оставим возможно дублированные id возникли при выгрузке данных из разных источников, \n",
    "# так как остальные параментры не совпадают \n",
    "data = data.drop_duplicates(subset=['user_id', 'age', 'gender'])"
   ]
  },
  {
   "cell_type": "markdown",
   "id": "8f5a24e3",
   "metadata": {},
   "source": [
    "Количество пропущенных значений в столбце \"age\" меньше одного процента, удаление этих данных никак не повлиет на аналитику. Так сделаем это."
   ]
  },
  {
   "cell_type": "code",
   "execution_count": 17,
   "id": "58d46288",
   "metadata": {},
   "outputs": [],
   "source": [
    "# удалим строки с пропусками в столбце (их 0,3% от общего числа данных)  и преобразуем тип данных на 'int'\n",
    "data = data.dropna(subset=['age'])\n",
    "data['age'] = data['age'].astype('int')"
   ]
  },
  {
   "cell_type": "code",
   "execution_count": 18,
   "id": "515c825e",
   "metadata": {},
   "outputs": [],
   "source": [
    "# сделаем копию оригигнальных столбцов 'city' и 'gender', чтобы не потерять оригинальный столбец\n",
    "data['city_copy'] = data['city']\n",
    "data['gender_copy'] = data['gender']"
   ]
  },
  {
   "cell_type": "code",
   "execution_count": 19,
   "id": "397bda5f",
   "metadata": {},
   "outputs": [
    {
     "data": {
      "text/html": [
       "<div>\n",
       "<style scoped>\n",
       "    .dataframe tbody tr th:only-of-type {\n",
       "        vertical-align: middle;\n",
       "    }\n",
       "\n",
       "    .dataframe tbody tr th {\n",
       "        vertical-align: top;\n",
       "    }\n",
       "\n",
       "    .dataframe thead th {\n",
       "        text-align: right;\n",
       "    }\n",
       "</style>\n",
       "<table border=\"1\" class=\"dataframe\">\n",
       "  <thead>\n",
       "    <tr style=\"text-align: right;\">\n",
       "      <th></th>\n",
       "      <th>user_id</th>\n",
       "      <th>score</th>\n",
       "      <th>city</th>\n",
       "      <th>gender</th>\n",
       "      <th>age</th>\n",
       "      <th>equity</th>\n",
       "      <th>balance</th>\n",
       "      <th>products</th>\n",
       "      <th>credit_card</th>\n",
       "      <th>last_activity</th>\n",
       "      <th>est_salary</th>\n",
       "      <th>churn</th>\n",
       "      <th>city_copy_Ростов</th>\n",
       "      <th>city_copy_Рыбинск</th>\n",
       "      <th>city_copy_Ярославль</th>\n",
       "      <th>gender_copy_М</th>\n",
       "    </tr>\n",
       "  </thead>\n",
       "  <tbody>\n",
       "    <tr>\n",
       "      <th>0</th>\n",
       "      <td>183012</td>\n",
       "      <td>850.0</td>\n",
       "      <td>Рыбинск</td>\n",
       "      <td>Ж</td>\n",
       "      <td>25</td>\n",
       "      <td>1</td>\n",
       "      <td>59214.82</td>\n",
       "      <td>2</td>\n",
       "      <td>False</td>\n",
       "      <td>True</td>\n",
       "      <td>75719.14</td>\n",
       "      <td>True</td>\n",
       "      <td>False</td>\n",
       "      <td>True</td>\n",
       "      <td>False</td>\n",
       "      <td>False</td>\n",
       "    </tr>\n",
       "    <tr>\n",
       "      <th>1</th>\n",
       "      <td>146556</td>\n",
       "      <td>861.0</td>\n",
       "      <td>Рыбинск</td>\n",
       "      <td>Ж</td>\n",
       "      <td>37</td>\n",
       "      <td>5</td>\n",
       "      <td>850594.33</td>\n",
       "      <td>3</td>\n",
       "      <td>True</td>\n",
       "      <td>False</td>\n",
       "      <td>86621.77</td>\n",
       "      <td>False</td>\n",
       "      <td>False</td>\n",
       "      <td>True</td>\n",
       "      <td>False</td>\n",
       "      <td>False</td>\n",
       "    </tr>\n",
       "    <tr>\n",
       "      <th>2</th>\n",
       "      <td>120722</td>\n",
       "      <td>892.0</td>\n",
       "      <td>Рыбинск</td>\n",
       "      <td>Ж</td>\n",
       "      <td>30</td>\n",
       "      <td>0</td>\n",
       "      <td>NaN</td>\n",
       "      <td>1</td>\n",
       "      <td>True</td>\n",
       "      <td>True</td>\n",
       "      <td>107683.34</td>\n",
       "      <td>False</td>\n",
       "      <td>False</td>\n",
       "      <td>True</td>\n",
       "      <td>False</td>\n",
       "      <td>False</td>\n",
       "    </tr>\n",
       "    <tr>\n",
       "      <th>3</th>\n",
       "      <td>225363</td>\n",
       "      <td>866.0</td>\n",
       "      <td>Ярославль</td>\n",
       "      <td>Ж</td>\n",
       "      <td>51</td>\n",
       "      <td>5</td>\n",
       "      <td>1524746.26</td>\n",
       "      <td>2</td>\n",
       "      <td>False</td>\n",
       "      <td>True</td>\n",
       "      <td>174423.53</td>\n",
       "      <td>True</td>\n",
       "      <td>False</td>\n",
       "      <td>False</td>\n",
       "      <td>True</td>\n",
       "      <td>False</td>\n",
       "    </tr>\n",
       "    <tr>\n",
       "      <th>4</th>\n",
       "      <td>157978</td>\n",
       "      <td>730.0</td>\n",
       "      <td>Ярославль</td>\n",
       "      <td>М</td>\n",
       "      <td>34</td>\n",
       "      <td>5</td>\n",
       "      <td>174.00</td>\n",
       "      <td>1</td>\n",
       "      <td>True</td>\n",
       "      <td>False</td>\n",
       "      <td>67353.16</td>\n",
       "      <td>True</td>\n",
       "      <td>False</td>\n",
       "      <td>False</td>\n",
       "      <td>True</td>\n",
       "      <td>True</td>\n",
       "    </tr>\n",
       "    <tr>\n",
       "      <th>...</th>\n",
       "      <td>...</td>\n",
       "      <td>...</td>\n",
       "      <td>...</td>\n",
       "      <td>...</td>\n",
       "      <td>...</td>\n",
       "      <td>...</td>\n",
       "      <td>...</td>\n",
       "      <td>...</td>\n",
       "      <td>...</td>\n",
       "      <td>...</td>\n",
       "      <td>...</td>\n",
       "      <td>...</td>\n",
       "      <td>...</td>\n",
       "      <td>...</td>\n",
       "      <td>...</td>\n",
       "      <td>...</td>\n",
       "    </tr>\n",
       "    <tr>\n",
       "      <th>9995</th>\n",
       "      <td>120553</td>\n",
       "      <td>814.0</td>\n",
       "      <td>Рыбинск</td>\n",
       "      <td>М</td>\n",
       "      <td>27</td>\n",
       "      <td>1</td>\n",
       "      <td>78144.65</td>\n",
       "      <td>1</td>\n",
       "      <td>False</td>\n",
       "      <td>True</td>\n",
       "      <td>18943.64</td>\n",
       "      <td>False</td>\n",
       "      <td>False</td>\n",
       "      <td>True</td>\n",
       "      <td>False</td>\n",
       "      <td>True</td>\n",
       "    </tr>\n",
       "    <tr>\n",
       "      <th>9996</th>\n",
       "      <td>139170</td>\n",
       "      <td>894.0</td>\n",
       "      <td>Ярославль</td>\n",
       "      <td>М</td>\n",
       "      <td>46</td>\n",
       "      <td>0</td>\n",
       "      <td>NaN</td>\n",
       "      <td>1</td>\n",
       "      <td>True</td>\n",
       "      <td>False</td>\n",
       "      <td>196898.29</td>\n",
       "      <td>False</td>\n",
       "      <td>False</td>\n",
       "      <td>False</td>\n",
       "      <td>True</td>\n",
       "      <td>True</td>\n",
       "    </tr>\n",
       "    <tr>\n",
       "      <th>9997</th>\n",
       "      <td>115639</td>\n",
       "      <td>903.0</td>\n",
       "      <td>Ярославль</td>\n",
       "      <td>М</td>\n",
       "      <td>24</td>\n",
       "      <td>0</td>\n",
       "      <td>NaN</td>\n",
       "      <td>2</td>\n",
       "      <td>True</td>\n",
       "      <td>True</td>\n",
       "      <td>108905.09</td>\n",
       "      <td>False</td>\n",
       "      <td>False</td>\n",
       "      <td>False</td>\n",
       "      <td>True</td>\n",
       "      <td>True</td>\n",
       "    </tr>\n",
       "    <tr>\n",
       "      <th>9998</th>\n",
       "      <td>148700</td>\n",
       "      <td>777.0</td>\n",
       "      <td>Ярославль</td>\n",
       "      <td>Ж</td>\n",
       "      <td>68</td>\n",
       "      <td>3</td>\n",
       "      <td>865457.97</td>\n",
       "      <td>3</td>\n",
       "      <td>False</td>\n",
       "      <td>True</td>\n",
       "      <td>86874.90</td>\n",
       "      <td>False</td>\n",
       "      <td>False</td>\n",
       "      <td>False</td>\n",
       "      <td>True</td>\n",
       "      <td>False</td>\n",
       "    </tr>\n",
       "    <tr>\n",
       "      <th>9999</th>\n",
       "      <td>96267</td>\n",
       "      <td>828.0</td>\n",
       "      <td>Рыбинск</td>\n",
       "      <td>Ж</td>\n",
       "      <td>58</td>\n",
       "      <td>3</td>\n",
       "      <td>1180886.70</td>\n",
       "      <td>4</td>\n",
       "      <td>False</td>\n",
       "      <td>True</td>\n",
       "      <td>21422.37</td>\n",
       "      <td>False</td>\n",
       "      <td>False</td>\n",
       "      <td>True</td>\n",
       "      <td>False</td>\n",
       "      <td>False</td>\n",
       "    </tr>\n",
       "  </tbody>\n",
       "</table>\n",
       "<p>9971 rows × 16 columns</p>\n",
       "</div>"
      ],
      "text/plain": [
       "      user_id  score       city gender  age  equity     balance  products  \\\n",
       "0      183012  850.0    Рыбинск      Ж   25       1    59214.82         2   \n",
       "1      146556  861.0    Рыбинск      Ж   37       5   850594.33         3   \n",
       "2      120722  892.0    Рыбинск      Ж   30       0         NaN         1   \n",
       "3      225363  866.0  Ярославль      Ж   51       5  1524746.26         2   \n",
       "4      157978  730.0  Ярославль      М   34       5      174.00         1   \n",
       "...       ...    ...        ...    ...  ...     ...         ...       ...   \n",
       "9995   120553  814.0    Рыбинск      М   27       1    78144.65         1   \n",
       "9996   139170  894.0  Ярославль      М   46       0         NaN         1   \n",
       "9997   115639  903.0  Ярославль      М   24       0         NaN         2   \n",
       "9998   148700  777.0  Ярославль      Ж   68       3   865457.97         3   \n",
       "9999    96267  828.0    Рыбинск      Ж   58       3  1180886.70         4   \n",
       "\n",
       "      credit_card  last_activity  est_salary  churn  city_copy_Ростов  \\\n",
       "0           False           True    75719.14   True             False   \n",
       "1            True          False    86621.77  False             False   \n",
       "2            True           True   107683.34  False             False   \n",
       "3           False           True   174423.53   True             False   \n",
       "4            True          False    67353.16   True             False   \n",
       "...           ...            ...         ...    ...               ...   \n",
       "9995        False           True    18943.64  False             False   \n",
       "9996         True          False   196898.29  False             False   \n",
       "9997         True           True   108905.09  False             False   \n",
       "9998        False           True    86874.90  False             False   \n",
       "9999        False           True    21422.37  False             False   \n",
       "\n",
       "      city_copy_Рыбинск  city_copy_Ярославль  gender_copy_М  \n",
       "0                  True                False          False  \n",
       "1                  True                False          False  \n",
       "2                  True                False          False  \n",
       "3                 False                 True          False  \n",
       "4                 False                 True           True  \n",
       "...                 ...                  ...            ...  \n",
       "9995               True                False           True  \n",
       "9996              False                 True           True  \n",
       "9997              False                 True           True  \n",
       "9998              False                 True          False  \n",
       "9999               True                False          False  \n",
       "\n",
       "[9971 rows x 16 columns]"
      ]
     },
     "metadata": {},
     "output_type": "display_data"
    }
   ],
   "source": [
    "# закодируем категориальные данные уолонок 'city_copy' и 'gender_copy' численно\n",
    "data = pd.get_dummies(data, columns = ['city_copy'])\n",
    "data = pd.get_dummies(data, columns = ['gender_copy'], drop_first=True)\n",
    "display(data)"
   ]
  },
  {
   "cell_type": "code",
   "execution_count": 20,
   "id": "3539b27f",
   "metadata": {},
   "outputs": [],
   "source": [
    "# переименуем новые столбцы для удобства\n",
    "data = data.rename (\n",
    "    columns = ({\n",
    "        'city_copy_Ростов':'rostov', 'city_copy_Рыбинск':'rybinsk','city_copy_Ярославль':'yaroslavl', \n",
    "        'gender_copy_Ж':'female', 'gender_copy_М':'male'}))"
   ]
  },
  {
   "cell_type": "code",
   "execution_count": 21,
   "id": "05a3b436",
   "metadata": {},
   "outputs": [],
   "source": [
    "# проверим пропуски в столбце 'balance'\n",
    "# сравним статистические показатели для двух наборов данных (с пропущенными и заполненным значениями в столбце 'balance')"
   ]
  },
  {
   "cell_type": "code",
   "execution_count": 22,
   "id": "e4cf6885",
   "metadata": {},
   "outputs": [
    {
     "data": {
      "text/html": [
       "<div>\n",
       "<style scoped>\n",
       "    .dataframe tbody tr th:only-of-type {\n",
       "        vertical-align: middle;\n",
       "    }\n",
       "\n",
       "    .dataframe tbody tr th {\n",
       "        vertical-align: top;\n",
       "    }\n",
       "\n",
       "    .dataframe thead th {\n",
       "        text-align: right;\n",
       "    }\n",
       "</style>\n",
       "<table border=\"1\" class=\"dataframe\">\n",
       "  <thead>\n",
       "    <tr style=\"text-align: right;\">\n",
       "      <th></th>\n",
       "      <th>user_id</th>\n",
       "      <th>score</th>\n",
       "      <th>age</th>\n",
       "      <th>equity</th>\n",
       "      <th>balance</th>\n",
       "      <th>products</th>\n",
       "      <th>est_salary</th>\n",
       "    </tr>\n",
       "  </thead>\n",
       "  <tbody>\n",
       "    <tr>\n",
       "      <th>count</th>\n",
       "      <td>7694.000000</td>\n",
       "      <td>7694.000000</td>\n",
       "      <td>7694.000000</td>\n",
       "      <td>7694.000000</td>\n",
       "      <td>7.694000e+03</td>\n",
       "      <td>7694.000000</td>\n",
       "      <td>7.694000e+03</td>\n",
       "    </tr>\n",
       "    <tr>\n",
       "      <th>mean</th>\n",
       "      <td>171703.602937</td>\n",
       "      <td>843.744736</td>\n",
       "      <td>42.925526</td>\n",
       "      <td>3.394983</td>\n",
       "      <td>8.273107e+05</td>\n",
       "      <td>2.081232</td>\n",
       "      <td>1.245232e+05</td>\n",
       "    </tr>\n",
       "    <tr>\n",
       "      <th>std</th>\n",
       "      <td>33809.013024</td>\n",
       "      <td>55.346109</td>\n",
       "      <td>12.244383</td>\n",
       "      <td>1.584840</td>\n",
       "      <td>1.980448e+06</td>\n",
       "      <td>0.757495</td>\n",
       "      <td>1.046736e+05</td>\n",
       "    </tr>\n",
       "    <tr>\n",
       "      <th>min</th>\n",
       "      <td>94561.000000</td>\n",
       "      <td>689.000000</td>\n",
       "      <td>18.000000</td>\n",
       "      <td>0.000000</td>\n",
       "      <td>0.000000e+00</td>\n",
       "      <td>1.000000</td>\n",
       "      <td>2.546300e+03</td>\n",
       "    </tr>\n",
       "    <tr>\n",
       "      <th>25%</th>\n",
       "      <td>142637.500000</td>\n",
       "      <td>801.000000</td>\n",
       "      <td>33.000000</td>\n",
       "      <td>2.000000</td>\n",
       "      <td>2.956339e+05</td>\n",
       "      <td>2.000000</td>\n",
       "      <td>6.755439e+04</td>\n",
       "    </tr>\n",
       "    <tr>\n",
       "      <th>50%</th>\n",
       "      <td>172707.000000</td>\n",
       "      <td>840.000000</td>\n",
       "      <td>40.000000</td>\n",
       "      <td>4.000000</td>\n",
       "      <td>5.243565e+05</td>\n",
       "      <td>2.000000</td>\n",
       "      <td>1.062503e+05</td>\n",
       "    </tr>\n",
       "    <tr>\n",
       "      <th>75%</th>\n",
       "      <td>201132.500000</td>\n",
       "      <td>882.000000</td>\n",
       "      <td>52.000000</td>\n",
       "      <td>5.000000</td>\n",
       "      <td>9.803785e+05</td>\n",
       "      <td>2.000000</td>\n",
       "      <td>1.551624e+05</td>\n",
       "    </tr>\n",
       "    <tr>\n",
       "      <th>max</th>\n",
       "      <td>229136.000000</td>\n",
       "      <td>1000.000000</td>\n",
       "      <td>86.000000</td>\n",
       "      <td>9.000000</td>\n",
       "      <td>1.191136e+08</td>\n",
       "      <td>5.000000</td>\n",
       "      <td>1.395064e+06</td>\n",
       "    </tr>\n",
       "  </tbody>\n",
       "</table>\n",
       "</div>"
      ],
      "text/plain": [
       "             user_id        score          age       equity       balance  \\\n",
       "count    7694.000000  7694.000000  7694.000000  7694.000000  7.694000e+03   \n",
       "mean   171703.602937   843.744736    42.925526     3.394983  8.273107e+05   \n",
       "std     33809.013024    55.346109    12.244383     1.584840  1.980448e+06   \n",
       "min     94561.000000   689.000000    18.000000     0.000000  0.000000e+00   \n",
       "25%    142637.500000   801.000000    33.000000     2.000000  2.956339e+05   \n",
       "50%    172707.000000   840.000000    40.000000     4.000000  5.243565e+05   \n",
       "75%    201132.500000   882.000000    52.000000     5.000000  9.803785e+05   \n",
       "max    229136.000000  1000.000000    86.000000     9.000000  1.191136e+08   \n",
       "\n",
       "          products    est_salary  \n",
       "count  7694.000000  7.694000e+03  \n",
       "mean      2.081232  1.245232e+05  \n",
       "std       0.757495  1.046736e+05  \n",
       "min       1.000000  2.546300e+03  \n",
       "25%       2.000000  6.755439e+04  \n",
       "50%       2.000000  1.062503e+05  \n",
       "75%       2.000000  1.551624e+05  \n",
       "max       5.000000  1.395064e+06  "
      ]
     },
     "execution_count": 22,
     "metadata": {},
     "output_type": "execute_result"
    }
   ],
   "source": [
    "# статистические показатели для набор данных с заполненными значениями в 'balance'\n",
    "data[data['balance'].notnull()].describe()"
   ]
  },
  {
   "cell_type": "code",
   "execution_count": 23,
   "id": "7b791c0d",
   "metadata": {},
   "outputs": [
    {
     "data": {
      "text/html": [
       "<div>\n",
       "<style scoped>\n",
       "    .dataframe tbody tr th:only-of-type {\n",
       "        vertical-align: middle;\n",
       "    }\n",
       "\n",
       "    .dataframe tbody tr th {\n",
       "        vertical-align: top;\n",
       "    }\n",
       "\n",
       "    .dataframe thead th {\n",
       "        text-align: right;\n",
       "    }\n",
       "</style>\n",
       "<table border=\"1\" class=\"dataframe\">\n",
       "  <thead>\n",
       "    <tr style=\"text-align: right;\">\n",
       "      <th></th>\n",
       "      <th>user_id</th>\n",
       "      <th>score</th>\n",
       "      <th>age</th>\n",
       "      <th>equity</th>\n",
       "      <th>balance</th>\n",
       "      <th>products</th>\n",
       "      <th>est_salary</th>\n",
       "    </tr>\n",
       "  </thead>\n",
       "  <tbody>\n",
       "    <tr>\n",
       "      <th>count</th>\n",
       "      <td>2277.000000</td>\n",
       "      <td>2277.000000</td>\n",
       "      <td>2277.000000</td>\n",
       "      <td>2277.000000</td>\n",
       "      <td>0.0</td>\n",
       "      <td>2277.000000</td>\n",
       "      <td>2.277000e+03</td>\n",
       "    </tr>\n",
       "    <tr>\n",
       "      <th>mean</th>\n",
       "      <td>171922.544137</td>\n",
       "      <td>865.289416</td>\n",
       "      <td>42.082126</td>\n",
       "      <td>0.050066</td>\n",
       "      <td>NaN</td>\n",
       "      <td>1.163812</td>\n",
       "      <td>2.264804e+05</td>\n",
       "    </tr>\n",
       "    <tr>\n",
       "      <th>std</th>\n",
       "      <td>33312.302246</td>\n",
       "      <td>89.561994</td>\n",
       "      <td>11.919023</td>\n",
       "      <td>0.218129</td>\n",
       "      <td>NaN</td>\n",
       "      <td>0.403139</td>\n",
       "      <td>1.998564e+05</td>\n",
       "    </tr>\n",
       "    <tr>\n",
       "      <th>min</th>\n",
       "      <td>114182.000000</td>\n",
       "      <td>642.000000</td>\n",
       "      <td>18.000000</td>\n",
       "      <td>0.000000</td>\n",
       "      <td>NaN</td>\n",
       "      <td>1.000000</td>\n",
       "      <td>2.027403e+04</td>\n",
       "    </tr>\n",
       "    <tr>\n",
       "      <th>25%</th>\n",
       "      <td>142981.000000</td>\n",
       "      <td>871.000000</td>\n",
       "      <td>33.000000</td>\n",
       "      <td>0.000000</td>\n",
       "      <td>NaN</td>\n",
       "      <td>1.000000</td>\n",
       "      <td>1.202605e+05</td>\n",
       "    </tr>\n",
       "    <tr>\n",
       "      <th>50%</th>\n",
       "      <td>172448.000000</td>\n",
       "      <td>903.000000</td>\n",
       "      <td>40.000000</td>\n",
       "      <td>0.000000</td>\n",
       "      <td>NaN</td>\n",
       "      <td>1.000000</td>\n",
       "      <td>1.743606e+05</td>\n",
       "    </tr>\n",
       "    <tr>\n",
       "      <th>75%</th>\n",
       "      <td>201260.000000</td>\n",
       "      <td>922.000000</td>\n",
       "      <td>49.000000</td>\n",
       "      <td>0.000000</td>\n",
       "      <td>NaN</td>\n",
       "      <td>1.000000</td>\n",
       "      <td>2.404211e+05</td>\n",
       "    </tr>\n",
       "    <tr>\n",
       "      <th>max</th>\n",
       "      <td>229145.000000</td>\n",
       "      <td>990.000000</td>\n",
       "      <td>86.000000</td>\n",
       "      <td>1.000000</td>\n",
       "      <td>NaN</td>\n",
       "      <td>3.000000</td>\n",
       "      <td>1.333687e+06</td>\n",
       "    </tr>\n",
       "  </tbody>\n",
       "</table>\n",
       "</div>"
      ],
      "text/plain": [
       "             user_id        score          age       equity  balance  \\\n",
       "count    2277.000000  2277.000000  2277.000000  2277.000000      0.0   \n",
       "mean   171922.544137   865.289416    42.082126     0.050066      NaN   \n",
       "std     33312.302246    89.561994    11.919023     0.218129      NaN   \n",
       "min    114182.000000   642.000000    18.000000     0.000000      NaN   \n",
       "25%    142981.000000   871.000000    33.000000     0.000000      NaN   \n",
       "50%    172448.000000   903.000000    40.000000     0.000000      NaN   \n",
       "75%    201260.000000   922.000000    49.000000     0.000000      NaN   \n",
       "max    229145.000000   990.000000    86.000000     1.000000      NaN   \n",
       "\n",
       "          products    est_salary  \n",
       "count  2277.000000  2.277000e+03  \n",
       "mean      1.163812  2.264804e+05  \n",
       "std       0.403139  1.998564e+05  \n",
       "min       1.000000  2.027403e+04  \n",
       "25%       1.000000  1.202605e+05  \n",
       "50%       1.000000  1.743606e+05  \n",
       "75%       1.000000  2.404211e+05  \n",
       "max       3.000000  1.333687e+06  "
      ]
     },
     "execution_count": 23,
     "metadata": {},
     "output_type": "execute_result"
    }
   ],
   "source": [
    "# статистические показатели для набор данных с пропусками в 'balance'\n",
    "data[data['balance'].isnull()].describe()"
   ]
  },
  {
   "cell_type": "markdown",
   "id": "1d2bb887",
   "metadata": {},
   "source": [
    "**Промежуточные итоги:**\n",
    "Мы проверили пропуски в столбце 'balance'.\\\n",
    "После сравнения статистических показателей для двух наборов данных (с пропущенными и заполненными значениями в столбце 'balance') выявили следующие:\\\n",
    "• показатели этих признаков 'score', 'age', 'rostov', 'rybinsk', 'yaroslavl', 'gender_clients' для клиентов из двух наборов данных не значительно отличаются,\\\n",
    "• показатели этих признаков 'equity', 'products' и 'est_salary' для клиентов из двух наборов данных значительно отличаются.\\\n",
    "Т.е. для клиентов с пропусками в 'balance' значения этих показателей ниже. Можно преположить, несолько вариантов таких, как для них этот Банк не основной или они имеют один банковский продукт (и это кредитная история. т.е. эти люди малообеспеченнные поэтому их показатели не высокие).\n",
    "\n",
    "Точной уверенности у нас нет, оставим эти пропуки, как есть, но обратить на это внимание коллег, кто предоставили эти данные, ведь это порой могут быть ошибки системы или процесса выгрузки.  \n",
    "</div>    "
   ]
  },
  {
   "cell_type": "markdown",
   "id": "ebeef737",
   "metadata": {},
   "source": [
    "**Промежуточные итоги:**\n",
    "\n",
    "Мы:\\\n",
    "• переименовали названия некоторых колонок на 'user_id', 'est_salary', соблюдая хороший стиль;\\\n",
    "• преобрзовали тип данных у столбцов 'credit_card', 'last_activity' и 'churn' на булевый тип, а у столбца 'age' - на целочисленный;\\\n",
    "• отбросили неактуальные данные (это 0.01% от общего количество данных), т.е. в текущих данных представлены клиенты, у которых есть минимум один продукт;    \n",
    "• выявили неявные дублекаты ( 0.02% об общего числа данных) и отбросил их, а вот явных дубликатов не обнаружили;\\\n",
    "• отбросили данный с пропусками в столбце 'age' (изначально их было 0,3% от общего числа данных);\\\n",
    "• закодировали переменные для нашего удобства в работе с ними, т.е. в таблице с данными добавили новые столбцы (все города и пол клиентов);\\\n",
    "• данный с пропусками в столбце 'balance' проанализировали, и можно предположить, что это связано с тем, что у клиентов это не основной банк или то, что у клиентов один банковский продукт - и это кредитная карта. Так как точной уверенности у нас нет, оставим эти пропуки, как есть, но обратить на это внимание коллег, кто предоставили эти данные, ведь это порой могут быть ошибки системы или процесса выгрузки."
   ]
  },
  {
   "cell_type": "markdown",
   "id": "8a099c4e",
   "metadata": {},
   "source": [
    "### Шаг. 3. Исследовательский анализ данных "
   ]
  },
  {
   "cell_type": "markdown",
   "id": "8010c472",
   "metadata": {},
   "source": [
    "#### 3.1. Исследуем портреты типичного текущего клиента банка и того клиента, который склонен уйти из банка (средние и медианы)"
   ]
  },
  {
   "cell_type": "markdown",
   "id": "0bdee3f3",
   "metadata": {},
   "source": [
    "Портрет клиента собререм в виде таблицы меры центральной тендецнии, описывающие портреты клиентов по каждому признаку. А после между сегментами посчитаем относительную разницу.\\\n",
    "Таблица будет собрана, учитывая:\\\n",
    ". среднее будем использовать для непрерывных величин. Также если у непрерывной величины есть выбросы, вместо среднего посчитаем медиану;\\\n",
    ". что касается дискретных признаков - будем использовать медиану;\\\n",
    ". закодированные признаки в портрете клиента не будем использовать, а будем использвать исходные категориальные признаки и их значения моды.\\\n",
    "Относительную разницу для моды и медианы считать не будем."
   ]
  },
  {
   "cell_type": "code",
   "execution_count": 24,
   "id": "930e89ef",
   "metadata": {},
   "outputs": [
    {
     "data": {
      "text/html": [
       "<div>\n",
       "<style scoped>\n",
       "    .dataframe tbody tr th:only-of-type {\n",
       "        vertical-align: middle;\n",
       "    }\n",
       "\n",
       "    .dataframe tbody tr th {\n",
       "        vertical-align: top;\n",
       "    }\n",
       "\n",
       "    .dataframe thead th {\n",
       "        text-align: right;\n",
       "    }\n",
       "</style>\n",
       "<table border=\"1\" class=\"dataframe\">\n",
       "  <thead>\n",
       "    <tr style=\"text-align: right;\">\n",
       "      <th></th>\n",
       "      <th>score</th>\n",
       "      <th>age</th>\n",
       "      <th>equity</th>\n",
       "      <th>balance</th>\n",
       "      <th>products</th>\n",
       "      <th>est_salary</th>\n",
       "    </tr>\n",
       "  </thead>\n",
       "  <tbody>\n",
       "    <tr>\n",
       "      <th>count</th>\n",
       "      <td>9971.000000</td>\n",
       "      <td>9971.000000</td>\n",
       "      <td>9971.000000</td>\n",
       "      <td>7.694000e+03</td>\n",
       "      <td>9971.000000</td>\n",
       "      <td>9.971000e+03</td>\n",
       "    </tr>\n",
       "    <tr>\n",
       "      <th>mean</th>\n",
       "      <td>848.664728</td>\n",
       "      <td>42.732925</td>\n",
       "      <td>2.631130</td>\n",
       "      <td>8.273107e+05</td>\n",
       "      <td>1.871728</td>\n",
       "      <td>1.478063e+05</td>\n",
       "    </tr>\n",
       "    <tr>\n",
       "      <th>std</th>\n",
       "      <td>65.395403</td>\n",
       "      <td>12.175406</td>\n",
       "      <td>1.980074</td>\n",
       "      <td>1.980448e+06</td>\n",
       "      <td>0.792577</td>\n",
       "      <td>1.393001e+05</td>\n",
       "    </tr>\n",
       "    <tr>\n",
       "      <th>min</th>\n",
       "      <td>642.000000</td>\n",
       "      <td>18.000000</td>\n",
       "      <td>0.000000</td>\n",
       "      <td>0.000000e+00</td>\n",
       "      <td>1.000000</td>\n",
       "      <td>2.546300e+03</td>\n",
       "    </tr>\n",
       "    <tr>\n",
       "      <th>25%</th>\n",
       "      <td>802.000000</td>\n",
       "      <td>33.000000</td>\n",
       "      <td>0.000000</td>\n",
       "      <td>2.956339e+05</td>\n",
       "      <td>1.000000</td>\n",
       "      <td>7.525178e+04</td>\n",
       "    </tr>\n",
       "    <tr>\n",
       "      <th>50%</th>\n",
       "      <td>853.000000</td>\n",
       "      <td>40.000000</td>\n",
       "      <td>3.000000</td>\n",
       "      <td>5.243565e+05</td>\n",
       "      <td>2.000000</td>\n",
       "      <td>1.196431e+05</td>\n",
       "    </tr>\n",
       "    <tr>\n",
       "      <th>75%</th>\n",
       "      <td>900.000000</td>\n",
       "      <td>51.000000</td>\n",
       "      <td>4.000000</td>\n",
       "      <td>9.803785e+05</td>\n",
       "      <td>2.000000</td>\n",
       "      <td>1.745011e+05</td>\n",
       "    </tr>\n",
       "    <tr>\n",
       "      <th>max</th>\n",
       "      <td>1000.000000</td>\n",
       "      <td>86.000000</td>\n",
       "      <td>9.000000</td>\n",
       "      <td>1.191136e+08</td>\n",
       "      <td>5.000000</td>\n",
       "      <td>1.395064e+06</td>\n",
       "    </tr>\n",
       "  </tbody>\n",
       "</table>\n",
       "</div>"
      ],
      "text/plain": [
       "             score          age       equity       balance     products  \\\n",
       "count  9971.000000  9971.000000  9971.000000  7.694000e+03  9971.000000   \n",
       "mean    848.664728    42.732925     2.631130  8.273107e+05     1.871728   \n",
       "std      65.395403    12.175406     1.980074  1.980448e+06     0.792577   \n",
       "min     642.000000    18.000000     0.000000  0.000000e+00     1.000000   \n",
       "25%     802.000000    33.000000     0.000000  2.956339e+05     1.000000   \n",
       "50%     853.000000    40.000000     3.000000  5.243565e+05     2.000000   \n",
       "75%     900.000000    51.000000     4.000000  9.803785e+05     2.000000   \n",
       "max    1000.000000    86.000000     9.000000  1.191136e+08     5.000000   \n",
       "\n",
       "         est_salary  \n",
       "count  9.971000e+03  \n",
       "mean   1.478063e+05  \n",
       "std    1.393001e+05  \n",
       "min    2.546300e+03  \n",
       "25%    7.525178e+04  \n",
       "50%    1.196431e+05  \n",
       "75%    1.745011e+05  \n",
       "max    1.395064e+06  "
      ]
     },
     "execution_count": 24,
     "metadata": {},
     "output_type": "execute_result"
    }
   ],
   "source": [
    "# изучим непрерывные величины на наличие у них выбросов\n",
    "data[['score', 'age', 'equity', 'balance', 'products', 'est_salary']].describe()"
   ]
  },
  {
   "cell_type": "markdown",
   "id": "90550957",
   "metadata": {},
   "source": [
    "Выбросы (там где медиана и среднее арифметическое сильно различаться) - это параметры 'balance', 'est_salary'. Значит в портрете клиента для этих величин будем использовать медиану."
   ]
  },
  {
   "cell_type": "code",
   "execution_count": 25,
   "id": "277daa81",
   "metadata": {},
   "outputs": [
    {
     "data": {
      "text/html": [
       "<div>\n",
       "<style scoped>\n",
       "    .dataframe tbody tr th:only-of-type {\n",
       "        vertical-align: middle;\n",
       "    }\n",
       "\n",
       "    .dataframe tbody tr th {\n",
       "        vertical-align: top;\n",
       "    }\n",
       "\n",
       "    .dataframe thead th {\n",
       "        text-align: right;\n",
       "    }\n",
       "</style>\n",
       "<table border=\"1\" class=\"dataframe\">\n",
       "  <thead>\n",
       "    <tr style=\"text-align: right;\">\n",
       "      <th></th>\n",
       "      <th>churn</th>\n",
       "      <th>score</th>\n",
       "      <th>city</th>\n",
       "      <th>gender</th>\n",
       "      <th>age</th>\n",
       "      <th>equity</th>\n",
       "      <th>balance</th>\n",
       "      <th>products</th>\n",
       "      <th>credit_card</th>\n",
       "      <th>last_activity</th>\n",
       "      <th>est_salary</th>\n",
       "    </tr>\n",
       "  </thead>\n",
       "  <tbody>\n",
       "    <tr>\n",
       "      <th>0</th>\n",
       "      <td>False</td>\n",
       "      <td>845.0</td>\n",
       "      <td>Ярославль</td>\n",
       "      <td>Ж</td>\n",
       "      <td>43.0</td>\n",
       "      <td>2.0</td>\n",
       "      <td>475438.0</td>\n",
       "      <td>2.0</td>\n",
       "      <td>1.0</td>\n",
       "      <td>0.0</td>\n",
       "      <td>118228.0</td>\n",
       "    </tr>\n",
       "    <tr>\n",
       "      <th>1</th>\n",
       "      <td>True</td>\n",
       "      <td>863.0</td>\n",
       "      <td>Ярославль</td>\n",
       "      <td>М</td>\n",
       "      <td>41.0</td>\n",
       "      <td>4.0</td>\n",
       "      <td>783909.0</td>\n",
       "      <td>2.0</td>\n",
       "      <td>1.0</td>\n",
       "      <td>1.0</td>\n",
       "      <td>125409.0</td>\n",
       "    </tr>\n",
       "  </tbody>\n",
       "</table>\n",
       "</div>"
      ],
      "text/plain": [
       "   churn  score       city gender   age  equity   balance  products  \\\n",
       "0  False  845.0  Ярославль      Ж  43.0     2.0  475438.0       2.0   \n",
       "1   True  863.0  Ярославль      М  41.0     4.0  783909.0       2.0   \n",
       "\n",
       "   credit_card  last_activity  est_salary  \n",
       "0          1.0            0.0    118228.0  \n",
       "1          1.0            1.0    125409.0  "
      ]
     },
     "metadata": {},
     "output_type": "display_data"
    }
   ],
   "source": [
    "# выведем сводную таблицу с мерами центральной тендецнии, описывающие портреты обоих клиентов\n",
    "central_trends = data.groupby('churn').agg({\n",
    "                         'score': 'mean',\n",
    "                         'city': pd.Series.mode,\n",
    "                         'gender': pd.Series.mode,\n",
    "                         'age': 'mean',\n",
    "                         'equity': 'mean',\n",
    "                         'balance': 'median',\n",
    "                         'products': 'mean', \n",
    "                         'credit_card': 'median', \n",
    "                         'last_activity': 'median', \n",
    "                         'est_salary': 'median',\n",
    "                         \n",
    "                         }).round().reset_index()\n",
    "display(central_trends)"
   ]
  },
  {
   "cell_type": "code",
   "execution_count": 26,
   "id": "835079ff",
   "metadata": {},
   "outputs": [
    {
     "data": {
      "text/html": [
       "<div>\n",
       "<style scoped>\n",
       "    .dataframe tbody tr th:only-of-type {\n",
       "        vertical-align: middle;\n",
       "    }\n",
       "\n",
       "    .dataframe tbody tr th {\n",
       "        vertical-align: top;\n",
       "    }\n",
       "\n",
       "    .dataframe thead th {\n",
       "        text-align: right;\n",
       "    }\n",
       "</style>\n",
       "<table border=\"1\" class=\"dataframe\">\n",
       "  <thead>\n",
       "    <tr style=\"text-align: right;\">\n",
       "      <th></th>\n",
       "      <th>churn</th>\n",
       "      <th>score</th>\n",
       "      <th>city</th>\n",
       "      <th>gender</th>\n",
       "      <th>age</th>\n",
       "      <th>equity</th>\n",
       "      <th>balance</th>\n",
       "      <th>products</th>\n",
       "      <th>credit_card</th>\n",
       "      <th>last_activity</th>\n",
       "      <th>est_salary</th>\n",
       "    </tr>\n",
       "  </thead>\n",
       "  <tbody>\n",
       "    <tr>\n",
       "      <th>0</th>\n",
       "      <td>False</td>\n",
       "      <td>845.0</td>\n",
       "      <td>Ярославль</td>\n",
       "      <td>Ж</td>\n",
       "      <td>43.0</td>\n",
       "      <td>2.0</td>\n",
       "      <td>475438.0</td>\n",
       "      <td>2.0</td>\n",
       "      <td>1.0</td>\n",
       "      <td>0.0</td>\n",
       "      <td>118228.0</td>\n",
       "    </tr>\n",
       "    <tr>\n",
       "      <th>1</th>\n",
       "      <td>True</td>\n",
       "      <td>863.0</td>\n",
       "      <td>Ярославль</td>\n",
       "      <td>М</td>\n",
       "      <td>41.0</td>\n",
       "      <td>4.0</td>\n",
       "      <td>783909.0</td>\n",
       "      <td>2.0</td>\n",
       "      <td>1.0</td>\n",
       "      <td>1.0</td>\n",
       "      <td>125409.0</td>\n",
       "    </tr>\n",
       "    <tr>\n",
       "      <th>2</th>\n",
       "      <td>-</td>\n",
       "      <td>2.09%</td>\n",
       "      <td>-</td>\n",
       "      <td>-</td>\n",
       "      <td>-4.88%</td>\n",
       "      <td>50.00%</td>\n",
       "      <td>-</td>\n",
       "      <td>0.00%</td>\n",
       "      <td>-</td>\n",
       "      <td>-</td>\n",
       "      <td>-</td>\n",
       "    </tr>\n",
       "  </tbody>\n",
       "</table>\n",
       "</div>"
      ],
      "text/plain": [
       "   churn  score       city gender     age  equity   balance products  \\\n",
       "0  False  845.0  Ярославль      Ж    43.0     2.0  475438.0      2.0   \n",
       "1   True  863.0  Ярославль      М    41.0     4.0  783909.0      2.0   \n",
       "2      -  2.09%          -      -  -4.88%  50.00%         -    0.00%   \n",
       "\n",
       "  credit_card last_activity est_salary  \n",
       "0         1.0           0.0   118228.0  \n",
       "1         1.0           1.0   125409.0  \n",
       "2           -             -          -  "
      ]
     },
     "metadata": {},
     "output_type": "display_data"
    }
   ],
   "source": [
    "dt1 = \"{:.2%}\".format(1-central_trends.loc[0, 'score'] / central_trends.loc[1, 'score'])\n",
    "dt2 = \"{:.2%}\".format(1-central_trends.loc[0, 'age'] / central_trends.loc[1, 'age'])\n",
    "dt3 = \"{:.2%}\".format(1-central_trends.loc[0, 'equity'] / central_trends.loc[1, 'equity'])\n",
    "dt4 = \"{:.2%}\".format(1-central_trends.loc[0, 'products'] / central_trends.loc[1, 'products'])\n",
    "central_trends.loc[len(central_trends.index )] = ['-', dt1, '-', '-', dt2, dt3, '-', dt4, '-', '-', '-']\n",
    "display(central_trends)"
   ]
  },
  {
   "cell_type": "code",
   "execution_count": 27,
   "id": "36b2adbd",
   "metadata": {},
   "outputs": [
    {
     "data": {
      "text/html": [
       "<div>\n",
       "<style scoped>\n",
       "    .dataframe tbody tr th:only-of-type {\n",
       "        vertical-align: middle;\n",
       "    }\n",
       "\n",
       "    .dataframe tbody tr th {\n",
       "        vertical-align: top;\n",
       "    }\n",
       "\n",
       "    .dataframe thead th {\n",
       "        text-align: right;\n",
       "    }\n",
       "</style>\n",
       "<table border=\"1\" class=\"dataframe\">\n",
       "  <thead>\n",
       "    <tr style=\"text-align: right;\">\n",
       "      <th></th>\n",
       "      <th>Лояльный</th>\n",
       "      <th>Отточный</th>\n",
       "      <th>Относительная разница</th>\n",
       "    </tr>\n",
       "  </thead>\n",
       "  <tbody>\n",
       "    <tr>\n",
       "      <th>churn</th>\n",
       "      <td>False</td>\n",
       "      <td>True</td>\n",
       "      <td>-</td>\n",
       "    </tr>\n",
       "    <tr>\n",
       "      <th>score</th>\n",
       "      <td>845.0</td>\n",
       "      <td>863.0</td>\n",
       "      <td>2.09%</td>\n",
       "    </tr>\n",
       "    <tr>\n",
       "      <th>city</th>\n",
       "      <td>Ярославль</td>\n",
       "      <td>Ярославль</td>\n",
       "      <td>-</td>\n",
       "    </tr>\n",
       "    <tr>\n",
       "      <th>gender</th>\n",
       "      <td>Ж</td>\n",
       "      <td>М</td>\n",
       "      <td>-</td>\n",
       "    </tr>\n",
       "    <tr>\n",
       "      <th>age</th>\n",
       "      <td>43.0</td>\n",
       "      <td>41.0</td>\n",
       "      <td>-4.88%</td>\n",
       "    </tr>\n",
       "    <tr>\n",
       "      <th>equity</th>\n",
       "      <td>2.0</td>\n",
       "      <td>4.0</td>\n",
       "      <td>50.00%</td>\n",
       "    </tr>\n",
       "    <tr>\n",
       "      <th>balance</th>\n",
       "      <td>475438.0</td>\n",
       "      <td>783909.0</td>\n",
       "      <td>-</td>\n",
       "    </tr>\n",
       "    <tr>\n",
       "      <th>products</th>\n",
       "      <td>2.0</td>\n",
       "      <td>2.0</td>\n",
       "      <td>0.00%</td>\n",
       "    </tr>\n",
       "    <tr>\n",
       "      <th>credit_card</th>\n",
       "      <td>1.0</td>\n",
       "      <td>1.0</td>\n",
       "      <td>-</td>\n",
       "    </tr>\n",
       "    <tr>\n",
       "      <th>last_activity</th>\n",
       "      <td>0.0</td>\n",
       "      <td>1.0</td>\n",
       "      <td>-</td>\n",
       "    </tr>\n",
       "    <tr>\n",
       "      <th>est_salary</th>\n",
       "      <td>118228.0</td>\n",
       "      <td>125409.0</td>\n",
       "      <td>-</td>\n",
       "    </tr>\n",
       "  </tbody>\n",
       "</table>\n",
       "</div>"
      ],
      "text/plain": [
       "                Лояльный   Отточный Относительная разница\n",
       "churn              False       True                     -\n",
       "score              845.0      863.0                 2.09%\n",
       "city           Ярославль  Ярославль                     -\n",
       "gender                 Ж          М                     -\n",
       "age                 43.0       41.0                -4.88%\n",
       "equity               2.0        4.0                50.00%\n",
       "balance         475438.0   783909.0                     -\n",
       "products             2.0        2.0                 0.00%\n",
       "credit_card          1.0        1.0                     -\n",
       "last_activity        0.0        1.0                     -\n",
       "est_salary      118228.0   125409.0                     -"
      ]
     },
     "metadata": {},
     "output_type": "display_data"
    }
   ],
   "source": [
    "# для удобства переформируем сводную таблицу\n",
    "display(pd.concat({'Лояльный': central_trends.iloc[0], 'Отточный': central_trends.iloc[1], 'Относительная разница': central_trends.iloc[2] }, axis = 1))"
   ]
  },
  {
   "cell_type": "markdown",
   "id": "d6021aa7",
   "metadata": {},
   "source": [
    "**Промежуточные итоги:**\n",
    "\n",
    "Мы имеем портреты типичного лояльного клиента и клиента, который склонен уйти из банка.\n",
    "\n",
    "Типичный лояльный клиент (не отточный):\\\n",
    "• женщина, проживающая в Ярославле (gender+city),\\\n",
    "• в возрасте 43 лет (age),\\\n",
    "• имеющая 845.0 баллов кредитного скоринга (score),\\\n",
    "• и количество баллов собственности равное 3.0 (equity),\\\n",
    "• на счету баланс равный 475 438.0 у.е. (balance),\\\n",
    "• пользующаяся 2.0 продуктами банка (products),\\\n",
    "• владеет кредитной картой (credit_card),\\\n",
    "• за последней месяц был не активен (last_activity),\\\n",
    "• оценочный доход клиента равен 118 228.0 у.е. (est_salary).\n",
    "\n",
    "Типичный клиент, который склонен уйти из банка (отточный):\\\n",
    "• мужчина, проживающий в Ярославле (gender+city),\\\n",
    "• в возрасте 41 года (age),\\\n",
    "• имеющий 863.0 баллов кредитного скоринга (score),\\\n",
    "• и количество баллов собственности равное 4,0 (equity),\\\n",
    "• на счету баланс равный 783 909.0 у.е. (balance),\\\n",
    "• пользующийся 2.0 продуктами банка (products),\\\n",
    "• владеет кредитной картой (credit_card),\\\n",
    "• за последней месяц был активен (last_activity),\\\n",
    "• оценочный доход клиента равен 125 409.0 у.е. (est_salary).\n",
    "\n",
    "\n",
    "Основные отличия между этими клиентами в разрезе оттока:\\\n",
    "• больше клиентов мужского пола (gender),\\\n",
    "• и они моложе (на -4,88%) (age),\\\n",
    "• у них выше балл кредитного скоринга (на 2,09%) (score),\\\n",
    "• имеют больше баллов собственности (на 50%) (equity),\\\n",
    "• баланс на счету больше (в 1,6 раз) (balance),\\\n",
    "• за последней месяц был активен (last_activity),\\\n",
    "• оценочный доход чуть больше (est_salary).\\\n",
    "\n",
    "Можно сделать вывод, что уходят клиенты более обеспеченные."
   ]
  },
  {
   "cell_type": "markdown",
   "id": "4d7563f9",
   "metadata": {},
   "source": [
    "#### 3.2. Построим визуализации для непрерывных и категориальных величин"
   ]
  },
  {
   "cell_type": "code",
   "execution_count": 28,
   "id": "d5fffbf8",
   "metadata": {
    "scrolled": false
   },
   "outputs": [
    {
     "data": {
      "image/png": "[encoded data removed]",
      "text/plain": [
       "<Figure size 1500x500 with 1 Axes>"
      ]
     },
     "metadata": {},
     "output_type": "display_data"
    },
    {
     "data": {
      "image/png": "[encoded data removed]",
      "text/plain": [
       "<Figure size 1500x500 with 1 Axes>"
      ]
     },
     "metadata": {},
     "output_type": "display_data"
    },
    {
     "data": {
      "image/png": "[encoded data removed]",
      "text/plain": [
       "<Figure size 1500x500 with 1 Axes>"
      ]
     },
     "metadata": {},
     "output_type": "display_data"
    }
   ],
   "source": [
    "# построим графики плотности для непрерывных переменных в разрезе клиентов Банка (отточных и лояльных)\n",
    "for i in ['score', 'balance', 'est_salary']:\n",
    "    plt.figure(figsize=(15,5))\n",
    "    sns.kdeplot(data, hue='churn', x=i, common_norm=False, palette=['blue', 'red'], clip=(0.0, 1500000.0))\n",
    "    plt.legend(['Отточный', 'Лояльный'])\n",
    "    plt.title(\"График плотности\")\n",
    "    plt.ylabel(\"Плотность\")\n",
    "    plt.show()"
   ]
  },
  {
   "cell_type": "code",
   "execution_count": 29,
   "id": "b3087c64",
   "metadata": {},
   "outputs": [
    {
     "data": {
      "image/png": "[encoded data removed]",
      "text/plain": [
       "<Figure size 1500x500 with 1 Axes>"
      ]
     },
     "metadata": {},
     "output_type": "display_data"
    }
   ],
   "source": [
    "# построим гистограммы для непрерывных переменных в разрезе клиентов Банка (отточных и лояльных)\n",
    "for i in ['age']:\n",
    "    plt.figure(figsize=(15,5))\n",
    "    sns.histplot (data, hue='churn', x=i, stat='density', common_norm=False, palette=['blue', 'red'], alpha=0.5)\n",
    "    plt.legend(['Отточный', 'Лояльный'])\n",
    "    plt.title(\"Гистограмма\")\n",
    "    plt.ylabel(\"Плотность\")\n",
    "    plt.show()"
   ]
  },
  {
   "cell_type": "code",
   "execution_count": 30,
   "id": "35c098ad",
   "metadata": {
    "scrolled": false
   },
   "outputs": [
    {
     "data": {
      "image/png": "[encoded data removed]",
      "text/plain": [
       "<Figure size 1500x500 with 1 Axes>"
      ]
     },
     "metadata": {},
     "output_type": "display_data"
    },
    {
     "name": "stdout",
     "output_type": "stream",
     "text": [
      "\n"
     ]
    },
    {
     "data": {
      "image/png": "[encoded data removed]",
      "text/plain": [
       "<Figure size 1500x500 with 1 Axes>"
      ]
     },
     "metadata": {},
     "output_type": "display_data"
    },
    {
     "name": "stdout",
     "output_type": "stream",
     "text": [
      "\n"
     ]
    },
    {
     "data": {
      "image/png": "[encoded data removed]",
      "text/plain": [
       "<Figure size 1500x500 with 1 Axes>"
      ]
     },
     "metadata": {},
     "output_type": "display_data"
    },
    {
     "name": "stdout",
     "output_type": "stream",
     "text": [
      "\n"
     ]
    },
    {
     "data": {
      "image/png": "[encoded data removed]",
      "text/plain": [
       "<Figure size 1500x500 with 1 Axes>"
      ]
     },
     "metadata": {},
     "output_type": "display_data"
    },
    {
     "name": "stdout",
     "output_type": "stream",
     "text": [
      "\n"
     ]
    },
    {
     "data": {
      "image/png": "[encoded data removed]",
      "text/plain": [
       "<Figure size 1500x500 with 1 Axes>"
      ]
     },
     "metadata": {},
     "output_type": "display_data"
    },
    {
     "name": "stdout",
     "output_type": "stream",
     "text": [
      "\n"
     ]
    },
    {
     "data": {
      "image/png": "[encoded data removed]",
      "text/plain": [
       "<Figure size 1500x500 with 1 Axes>"
      ]
     },
     "metadata": {},
     "output_type": "display_data"
    },
    {
     "name": "stdout",
     "output_type": "stream",
     "text": [
      "\n"
     ]
    }
   ],
   "source": [
    "# построим столбиковые диаграммы для категориальных переменных в разрезе отттока клиентов Банка\n",
    "for i in ['city', 'gender', 'credit_card', 'last_activity', 'equity', 'products']:\n",
    "    (data.pivot_table(index = i, values = 'churn', aggfunc = 'mean') \n",
    "          .plot(kind = 'barh', stacked = True, color=['lightblue'], figsize=(15,5)))\n",
    "    plt.axvline (x=data['churn'].mean())\n",
    "    \n",
    "    plt.title(i)\n",
    "    #plt.legend(['среднее значение оттока по банку', 'Отточные клиенты'], loc = 'upper right')\n",
    "    plt.legend(['среднее значение оттока по банку', 'Отточные клиенты'], loc='best', bbox_to_anchor=(0.5, 0.5, 0.5, 0.7))\n",
    "    plt.xlabel(\"Доля оттока\")\n",
    "    plt.ylabel(\"\")\n",
    "    plt.show()\n",
    "    print()"
   ]
  },
  {
   "cell_type": "markdown",
   "id": "1dc18f4d",
   "metadata": {},
   "source": [
    "**Промежуточные итоги:**"
   ]
  },
  {
   "cell_type": "markdown",
   "id": "778012d2",
   "metadata": {},
   "source": [
    "С учетом полученных визуализаций выделим признаки, оказывающие наибольшее влияние на отток клиентов Банка:\\\n",
    "• 820-920 баллов кредитного скоринга (score),\\\n",
    "• баланс от 920 тыс. у.с. (balance),\\\n",
    "• оценочный доход в интервале 100 - 210 тыс. у.е. (est_salary),\\\n",
    "• возраст в интервалах 25-35 и 50-60 лет (age),\\\n",
    "• проживающий в Ярославле-Ростове (city),\\\n",
    "• человек мужского пола (gender),\\\n",
    "• не имеющий кредитную карту (credit_card),\\\n",
    "• за последней месяц активен (last_activity),\\\n",
    "• обладающий количество баллов собственности в интервале от 3-9 (самый высокий отток у обладателей 9 баллов собственности)(equity),\\\n",
    "• владеют от 2 до 5-ти продуктами банка (самый высокий отток владельцев 4-х продуктов)(product)."
   ]
  },
  {
   "cell_type": "markdown",
   "id": "920298ec",
   "metadata": {},
   "source": [
    "#### 3.3. Корреляционный анализ"
   ]
  },
  {
   "cell_type": "code",
   "execution_count": 31,
   "id": "1ccae91a",
   "metadata": {},
   "outputs": [
    {
     "data": {
      "image/png": "[encoded data removed]",
      "text/plain": [
       "<Figure size 1500x1500 with 2 Axes>"
      ]
     },
     "metadata": {},
     "output_type": "display_data"
    }
   ],
   "source": [
    "# из анализа данных уберем пару столбцов, так как мы их ранее закодировали и столбец с id\n",
    "data_corr = data.drop(['user_id', 'city', 'gender'], axis=1)\n",
    "\n",
    "# оформим матрицу корреляций в виде графика  \n",
    "plt.figure(figsize=(15, 15))\n",
    "sns.heatmap(data_corr.corr().round(2), cmap='coolwarm', center=0, annot=True, fmt='', )\n",
    "plt.title('Матрица корреляций всех признаков') # название графика\n",
    "plt.show() "
   ]
  },
  {
   "cell_type": "markdown",
   "id": "83b83d30",
   "metadata": {},
   "source": [
    "**Промежуточные итоги:**"
   ]
  },
  {
   "cell_type": "markdown",
   "id": "40d08e32",
   "metadata": {},
   "source": [
    "Итак, коэффициент корреляции может принимать любые значения в диапазоне от -1 до 1.\\\n",
    "Для трактовки силы связи между двумя наблюдаемыми величинами используем шкалу Чеддока.\\\n",
    "Она определяет тесноту связи следующим образом:\\\n",
    "0 – полное отсутствие связи;\\\n",
    "0 – 0.3 – очень слабая;\\\n",
    "0.3 – 0.5 – слабая;\\\n",
    "0.5 – 0.7 – средняя;\\\n",
    "0.7 – 0.9 – высокая;\\\n",
    "0.9 – 1 – очень высокая.\n",
    "\n",
    "\n",
    "Мы имеем:\\\n",
    "• Очень высокой, высокой и средней связи между двумя наблюдаемыми величинами полностью отсутсвует,\n",
    "\n",
    "• Слабая связь наблюдается между:\\\n",
    "  product - equity = 0.43\\\n",
    "  est_salary - balance = 0,34\n",
    "  \n",
    "  \n",
    "• Очень слабая связь наблюдается между:  \n",
    "  churn - product = 0,3\\\n",
    "  churn - equity = 0,27\\\n",
    "  balance - score = 0,24                \n",
    "  female - age = 0,21\\\n",
    "  и далее по уменьшению до отрицательных значений\\\n",
    "  \n",
    "Поэтому сегментируя клиентов Банка будем стараться выносить эти признаки (между которыми наблюдается пусть и слабая связь) в разные сегменты, чтобы максимизировать покрытие.\n"
   ]
  },
  {
   "cell_type": "markdown",
   "id": "c4f3cad3",
   "metadata": {},
   "source": [
    "### Шаг. 4. Проверка гипотез"
   ]
  },
  {
   "cell_type": "markdown",
   "id": "2fd7aba9",
   "metadata": {},
   "source": [
    "При проверках статистических гипотез используют несолько статистических критериев (t-критерий и u-критерий).\\\n",
    "Перечислим все требования к данным, которые предъявляют эти критерии и проверим, соответствуют ли наши данные этим требованиям.\\\n",
    "Первую гипотезу, о том, влияет ли отток на доходы клиентов, проверим и t-критерием и u-критерием, объясним расхождения, если они возникнут, и выберем, какому критерию стоит доверять сильнее, поясним из-за чего между результатами работы критериев могут возникать расхождения, даже если они не возникли в данном случае."
   ]
  },
  {
   "cell_type": "markdown",
   "id": "05f791c6",
   "metadata": {},
   "source": [
    "Требования t-критерия (критерия Стьюдента):\\\n",
    "• сравниваемые выборки должны происходить из нормально распределённых совокупностей,\\\n",
    "• дисперсии сравниваемых генеральных совокупностей должны быть равны.    "
   ]
  },
  {
   "cell_type": "markdown",
   "id": "5fdf75da",
   "metadata": {},
   "source": [
    "Требования u-критерия (критерия Манна-Уитни):\\\n",
    "• когда в данных есть большие (по сравнению с нормальным распределением) выбросы, алгебраические метрики работают плохо, то применяется тест, основанный на структурном подходе, или непараметрический."
   ]
  },
  {
   "cell_type": "markdown",
   "id": "726eac77",
   "metadata": {},
   "source": [
    "#### 4.1. Гипотеза I\n",
    "Проверим Гипотезу о различии дохода между теми клиентами, которые ушли и теми, которые остались, и t-критерием и u-критерием.\\\n",
    "H_0: доходы клиентов, которые ушли и теми, которые остались, равны;\\\n",
    "H_1: доходы клиентов, которые ушли и теми, которые остались, разные."
   ]
  },
  {
   "cell_type": "code",
   "execution_count": 32,
   "id": "04925685",
   "metadata": {},
   "outputs": [],
   "source": [
    "# сделаем срезы по типу оттока\n",
    "churn_false = data.query('churn == False') \n",
    "churn_true = data.query('churn == True') \n",
    "\n",
    "# задаем уровень статистической значимости\n",
    "alpha = 0.05 "
   ]
  },
  {
   "cell_type": "code",
   "execution_count": 33,
   "id": "a5455cb0",
   "metadata": {},
   "outputs": [
    {
     "name": "stdout",
     "output_type": "stream",
     "text": [
      "p-значение: 0.8375793339223048\n",
      "Не получилось отвергнуть нулевую гипотезу о равенстве среднем доходе клиенов, которые ушли и теми, которые остались\n"
     ]
    }
   ],
   "source": [
    "# поверим t-критерием\n",
    "results = st.ttest_ind(churn_false['est_salary'], churn_true['est_salary'], equal_var = False, alternative='two-sided')\n",
    "\n",
    "print('p-значение:', results.pvalue)\n",
    "\n",
    "if results.pvalue < alpha:\n",
    "    print('Отвергаем нулевую гипотезу о равенстве среднем доходе клиенов, которые ушли и теми, которые остались')\n",
    "else:\n",
    "    print('Не получилось отвергнуть нулевую гипотезу о равенстве среднем доходе клиенов, которые ушли и теми, которые остались')  \n"
   ]
  },
  {
   "cell_type": "code",
   "execution_count": 34,
   "id": "8c548814",
   "metadata": {},
   "outputs": [
    {
     "name": "stdout",
     "output_type": "stream",
     "text": [
      "p-значение:  0.00016953006982322303\n",
      "Отвергаем нулевую гипотезу: разница статистически значима\n"
     ]
    }
   ],
   "source": [
    "# проверим u-критерием\n",
    "results = st.mannwhitneyu(churn_false['est_salary'], churn_true['est_salary'])\n",
    "\n",
    "print('p-значение: ', results.pvalue)\n",
    "\n",
    "if results.pvalue < alpha:\n",
    "    print('Отвергаем нулевую гипотезу: разница статистически значима')\n",
    "else:\n",
    "    print(\n",
    "        'Не получилось отвергнуть нулевую гипотезу, вывод о различии сделать нельзя'\n",
    "    ) \n",
    "    "
   ]
  },
  {
   "cell_type": "markdown",
   "id": "ee4f7392",
   "metadata": {},
   "source": [
    "**Мы получили расхождение в результах**, дабы выбрать какому критерию стоит доверять сильнее, проверим наши выборки по требования t-критерия:\\\n",
    "• выборки churn_false['est_salary'], churn_true['est_salary'] должны происходить из нормально распределённых совокупностей. И это мы проверим тестом Шапиро-Уилка, сформулировав Н_0 гипотезу: выборки происходят из нолрмально распределеных совокупностей и Н_1: выборки происходят не из нормально распределенных совокупностей,\\\n",
    "• дисперсии сравниваемых генеральных совокупностей должны быть равны.   "
   ]
  },
  {
   "cell_type": "code",
   "execution_count": 35,
   "id": "5f18278f",
   "metadata": {},
   "outputs": [
    {
     "name": "stdout",
     "output_type": "stream",
     "text": [
      "p-значение:  0.0\n",
      "Отвергаем нулевую гипотезу: выборка из нормально распределенных совокупностей\n"
     ]
    },
    {
     "name": "stderr",
     "output_type": "stream",
     "text": [
      "C:\\Users\\nata\\anaconda3\\Lib\\site-packages\\scipy\\stats\\_morestats.py:1882: UserWarning: p-value may not be accurate for N > 5000.\n",
      "  warnings.warn(\"p-value may not be accurate for N > 5000.\")\n"
     ]
    }
   ],
   "source": [
    "# проведем тест Шапиро-Уилка\n",
    "results = st.shapiro(churn_false['est_salary'])\n",
    "\n",
    "print('p-значение: ', results.pvalue)\n",
    "\n",
    "if results.pvalue < alpha:\n",
    "    print('Отвергаем нулевую гипотезу: выборка из нормально распределенных совокупностей')\n",
    "else:\n",
    "    print(\n",
    "        'Не получилось отвергнуть нулевую гипотезу о том, что выборка из нормально распределенных совокупностей'\n",
    "    ) "
   ]
  },
  {
   "cell_type": "code",
   "execution_count": 36,
   "id": "7170c2c5",
   "metadata": {},
   "outputs": [
    {
     "name": "stdout",
     "output_type": "stream",
     "text": [
      "p-значение:  0.0\n",
      "Отвергаем нулевую гипотезу: выборка из нормально распределенных совокупностей\n"
     ]
    }
   ],
   "source": [
    "# проведем тест Шапиро-Уилка\n",
    "results = st.shapiro(churn_true['est_salary'])\n",
    "\n",
    "print('p-значение: ', results.pvalue)\n",
    "\n",
    "if results.pvalue < alpha:\n",
    "    print('Отвергаем нулевую гипотезу: выборка из нормально распределенных совокупностей')\n",
    "else:\n",
    "    print(\n",
    "        'Не получилось отвергнуть нулевую гипотезу о том, что выборка из нормально распределенных совокупностей'\n",
    "    ) \n"
   ]
  },
  {
   "cell_type": "markdown",
   "id": "07e31c5b",
   "metadata": {},
   "source": [
    "**Итак**, наши выборки churn_false['est_salary'], churn_true['est_salary'] происходят из **не нормально распределённых** совокупностей"
   ]
  },
  {
   "cell_type": "code",
   "execution_count": 37,
   "id": "ccf41eee",
   "metadata": {},
   "outputs": [
    {
     "name": "stdout",
     "output_type": "stream",
     "text": [
      "Дисперсия выборки churn_true[est_salary] равна = 15103959586\n",
      "Дисперсия выборки churn_false[est_salary] равна = 20361003165\n"
     ]
    }
   ],
   "source": [
    "print('Дисперсия выборки churn_true[est_salary] равна =', round(np.var(churn_true['est_salary'])))\n",
    "print('Дисперсия выборки churn_false[est_salary] равна =', round(np.var(churn_false['est_salary'])))"
   ]
  },
  {
   "cell_type": "markdown",
   "id": "d20be05e",
   "metadata": {},
   "source": [
    "**Промежуточные итоги:**\n",
    "\n",
    "Мы проверили Гипотезу о различии дохода между теми клиентами, которые ушли и теми, которые остались, и t-критерием и u-критерием. В ходе проверки у нас возникли расхождения. Для того, чтобы выбрать какому критерию стоит доверять сильнее, мы проверили выполняются ли требования t-критерия для сравниваемых выборок. Убедились в том, что эти выборки происходят из не нормально распределённых совокупностей и дисперсии этих совокупностей не равны. Т. об., полагаться на результаты t-теста не нельзя. А значит проверка u-критерием нашей гипотезы дала корректный результат. **И доходы клиентов, которые ушли и теми, которые остались, разные.**"
   ]
  },
  {
   "cell_type": "markdown",
   "id": "550b6e17",
   "metadata": {},
   "source": [
    "#### 4.2. Гипотеза II\n",
    "\n",
    "Далее мы будем проводить сегментацию клиентов Банка, поэтому проверим какое именно количество банковских продуктов, которым владеет клиент, влияет на отток клиентов из Банка."
   ]
  },
  {
   "cell_type": "markdown",
   "id": "a5a889c3",
   "metadata": {},
   "source": [
    "H_0: На отток клиента из Банка влияет факт владения n-кол-вом банковских продуктов.\n",
    "H_1: На отток клиента из Банка не влияет факт владения n-кол-вом банковских продуктов."
   ]
  },
  {
   "cell_type": "code",
   "execution_count": 38,
   "id": "58223e78",
   "metadata": {},
   "outputs": [],
   "source": [
    "# сделаем срезы по количеству продуктов\n",
    "product_1 = data.query('products == 1')\n",
    "product_2 = data.query('products == 2') \n",
    "product_3 = data.query('products == 3') \n",
    "product_4 = data.query('products == 4') \n",
    "product_5 = data.query('products == 5') \n",
    "\n",
    "# задаем уровень статистической значимости\n",
    "alpha = 0.05 "
   ]
  },
  {
   "cell_type": "code",
   "execution_count": 39,
   "id": "7c7a8171",
   "metadata": {},
   "outputs": [
    {
     "name": "stdout",
     "output_type": "stream",
     "text": [
      "p-значение: 7.234720798669758e-139\n",
      "Отвергаем нулевую гипотезу для клиентов, владеющих  1 продуктом(-ами)\n",
      "\n",
      "p-значение: 0.11087703576428808\n",
      "Не получилось отвергнуть нулевую гипотезу для клиентов, владеющих  2 продуктом(-ами)\n",
      "\n",
      "p-значение: 1.3675004275377048e-13\n",
      "Отвергаем нулевую гипотезу для клиентов, владеющих  3 продуктом(-ами)\n",
      "\n",
      "p-значение: 4.45874859342682e-92\n",
      "Отвергаем нулевую гипотезу для клиентов, владеющих  4 продуктом(-ами)\n",
      "\n",
      "p-значение: 0.03506697463288895\n",
      "Не получилось отвергнуть нулевую гипотезу для клиентов, владеющих  5 продуктом(-ами)\n",
      "\n"
     ]
    }
   ],
   "source": [
    "# критический уровень статистической значимости\n",
    "alpha = 0.05\n",
    "\n",
    "# уровень оттока генеральной совокупности\n",
    "churn_level = data['churn'].mean()\n",
    "\n",
    "bonferroni_alpha = alpha / 5 #  поправка на множественную проверку гипотез\n",
    "\n",
    "for products in [1, 2, 3, 4, 5]:\n",
    "\n",
    "    # количество испытаний\n",
    "    nobs = data[data['products'] == products]['churn'].count()\n",
    "\n",
    "    # количество успехов в испытаниях nobs\n",
    "    successes = data[(data['products'] == products) & (data['churn'] == 1)]['churn'].count()\n",
    "\n",
    "    \n",
    "    z_stat, pval = proportions_ztest(successes, nobs, churn_level)\n",
    "\n",
    "    print('p-значение:', float(pval))\n",
    "\n",
    "    if pval < bonferroni_alpha:\n",
    "        print('Отвергаем нулевую гипотезу для клиентов, владеющих ', products, 'продуктом(-ами)')\n",
    "    else:\n",
    "        print('Не получилось отвергнуть нулевую гипотезу для клиентов, владеющих ', products, 'продуктом(-ами)')\n",
    "    print()    \n"
   ]
  },
  {
   "cell_type": "markdown",
   "id": "dccf6417",
   "metadata": {},
   "source": [
    "**Промежуточные итоги:**\n",
    "\n",
    "Мы проверили Гипотезу о влиянии количества банковских продуктов на желание клиентов уйти из Банка. В ходе проверки мы разбили клиентов, которые владеют от 1-5 банковскими продуктами. И выяснили, что на желание уйти из Банка влияет количество и это количество равное двум продуктам Банка. "
   ]
  },
  {
   "cell_type": "markdown",
   "id": "7fb51438",
   "metadata": {},
   "source": [
    "### Шаг 5. Соберем наблюдения по поднятым вопросам выше в один общий вывод."
   ]
  },
  {
   "cell_type": "markdown",
   "id": "c6a6b793",
   "metadata": {},
   "source": [
    "Перед тем, как приступить к выделению сегментов клиентов регионального Банка, которые склонны уходить из банка для дальнейших мер по снижению оттока и сохранению текущих клиентов.\n",
    "\n",
    "Давайте вспомним и подведем итоги по нашей проделанной работе в рамках анализа этих клиентов.\n",
    "\n",
    "На этапе предобработки данных мы частично преобразовали тип данных, переименовывали названия колонок, проверили на наличие пропущенных значений, явных и не явных дубликатов и частично отбросили их, закодировали часть переменных для удобства в работе с ними.\n",
    "\n",
    "Мы исследовали, строили визуализации и матрицу корреляции дабы:\\\n",
    ". получить портреты типичного лояльного и оттточного клиента Банка и выяснить их отличия;\\\n",
    ". понять какие признаки оказывают наибольшее влияние на отток;\\\n",
    ". искали взаимосвязи между этими признаками.\n",
    "\n",
    "Мы проверили пару гипотез и t-критерием и u-критерием, а именно:\\\n",
    ". о различии дохода между теми клиентами, которые ушли и теми, которые остались;\\\n",
    ". о влиянии количества банковских продуктов на желание клиентов уйти из Банка.\n",
    "\n",
    "\n",
    "Наши наблюдения следующие:\\\n",
    ". типичный лояльный клиент банка – это женщина 43-х лет, проживающая в Ярославле, пользующаяся двумя банковскими продуктами в т.ч. и кредитной картой. Ее оценочный доход составляет 118 тыс. у.е., баланс на счету - 475 тыс. у.е., имеющая 845.0 баллов кредитного скоринга и количество баллов собственности равное 3.0.\n",
    "\n",
    ". среди типичных отточных клиентов больше мужчин, которые моложе (на 4,88%) и имеют выше балл кредитного  скоринга (на 2,09%) и больше баллов собственности (на 50%),  баланс на счету больше (в 1,6 раз). \n",
    "\n",
    "Можно сделать вывод, что уходят из Банка чаще клиенты более обеспеченные.\n",
    "\n",
    ". признаки, оказывающие наибольшее влияние на отток клиентов Банка:\\\n",
    "• 820-920 баллов кредитного скоринга (score),\\\n",
    "• баланс от 920 тыс. у.с. (balance),\\\n",
    "• оценочный доход в интервале 100 - 210 тыс. у.е. (est_salary),\\\n",
    "• возраст в интервалах 25-35 лет, 37-38 и 50-60 лет (age),\\\n",
    "• проживающий в Ярославле (city),\\\n",
    "• человек мужского пола (gender),\\\n",
    "• не имеющий кредитную карту (credit_card),\\\n",
    "• за последней месяц активен (last_activity),\\\n",
    "• количество баллов собственности равно 5 (equity),\\\n",
    "• владеют от 1 до 4-х продуктами банка (product).\n",
    "\n",
    ". выявили слабую взаимосвязь между  product - equity = 0.43 и  est_salary - balance = 0,34, очень слабую между churn - product = 0,3, churn - equity = 0,27, balance - score = 0,24, female - age = 0,21. \n",
    "\n",
    "Поэтому сегментируя клиентов Банка будем стараться выносить эти признаки (между которыми наблюдается пусть и слабая связь) в разные сегменты, чтобы максимизировать покрытие.\n",
    "\n",
    ". мы проверили гипотезы:\n",
    ". о различии дохода между теми клиентами и выяснили, что доходы клиентов, которые ушли и теми, которые остались, разные.\n",
    ". о влиянии количества банковских продуктов и выяснили, что на желание уйти из Банка влияет количество и это количество равное двум продуктам Банка."
   ]
  },
  {
   "cell_type": "markdown",
   "id": "f519b001",
   "metadata": {},
   "source": [
    "### Шаг 6. Сегментируем клиентов Банка"
   ]
  },
  {
   "cell_type": "markdown",
   "id": "b16ce51e",
   "metadata": {},
   "source": [
    "Сегментация клиентов — это разделение их на группы по определенным признакам или критериям: их геолокации, возрасту, потребностям, действиям на сайте и пр. \n",
    "\n",
    "В нашем анализе мы выделяем сегмент по следующим договоренностям:\\\n",
    "• отток более чем в 2 раза больше, чем в среднем по Банку,\\\n",
    "• размер сегмента 300-2000 человк.\\\n",
    "Всего сегментов будет три, каждый сегмент объединем по 2-м признакам оттока.\\\n",
    "Всего должно получиться 6 отточных интервалов."
   ]
  },
  {
   "cell_type": "code",
   "execution_count": 40,
   "id": "7fb5a5d5",
   "metadata": {},
   "outputs": [
    {
     "name": "stdout",
     "output_type": "stream",
     "text": [
      "Средняя отточность по Банку = 18.23%\n"
     ]
    }
   ],
   "source": [
    "# средняя отточность по датасету\n",
    "average_churn = data['churn'].mean()\n",
    "print('Средняя отточность по Банку =', \"{:.2%}\".format(average_churn))"
   ]
  },
  {
   "cell_type": "code",
   "execution_count": 41,
   "id": "2bbbe5d8",
   "metadata": {},
   "outputs": [
    {
     "name": "stdout",
     "output_type": "stream",
     "text": [
      "820 <= score <= 910\n",
      "             churn\n",
      "mean      0.239883\n",
      "sum    1144.000000\n",
      "count  4769.000000\n",
      "\n",
      "balance > 950000\n",
      "             churn\n",
      "mean      0.377745\n",
      "sum     757.000000\n",
      "count  2004.000000\n",
      "\n",
      "100000 <= est_salary <= 210000\n",
      "             churn\n",
      "mean      0.204873\n",
      "sum     925.000000\n",
      "count  4515.000000\n",
      "\n",
      "25 <= age <= 35\n",
      "             churn\n",
      "mean      0.217819\n",
      "sum     665.000000\n",
      "count  3053.000000\n",
      "\n",
      "37 <= age <= 38\n",
      "            churn\n",
      "mean     0.184783\n",
      "sum    136.000000\n",
      "count  736.000000\n",
      "\n",
      "50 < age <= 60\n",
      "             churn\n",
      "mean      0.273764\n",
      "sum     432.000000\n",
      "count  1578.000000\n",
      "\n",
      "yaroslavl == True\n",
      "            churn\n",
      "mean      0.19016\n",
      "sum    1117.00000\n",
      "count  5874.00000\n",
      "\n",
      "male == True\n",
      "             churn\n",
      "mean      0.237122\n",
      "sum    1183.000000\n",
      "count  4989.000000\n",
      "\n",
      "credit_card == False\n",
      "             churn\n",
      "mean      0.255566\n",
      "sum     815.000000\n",
      "count  3189.000000\n",
      "\n",
      "last_activity == True\n",
      "             churn\n",
      "mean      0.244918\n",
      "sum    1277.000000\n",
      "count  5214.000000\n",
      "\n",
      "equity == 5\n",
      "             churn\n",
      "mean      0.300783\n",
      "sum     576.000000\n",
      "count  1915.000000\n",
      "\n",
      "products == 2\n",
      "            churn\n",
      "mean      0.19109\n",
      "sum     978.00000\n",
      "count  5118.00000\n",
      "\n"
     ]
    }
   ],
   "source": [
    "# набор условий на основе только одного из признаков отточности \n",
    "for i in ['820 <= score <= 910', 'balance > 950000', '100000 <= est_salary <= 210000', '25 <= age <= 35', \n",
    "           '37 <= age <= 38', '50 < age <= 60','yaroslavl == True', 'male == True', 'credit_card == False',\n",
    "           'last_activity == True', 'equity == 5',  'products == 2']:\n",
    "    print(i)\n",
    "    print(data.query(i).agg({\"churn\":['mean', 'sum', 'count']})\n",
    "         )\n",
    "    print()"
   ]
  },
  {
   "cell_type": "code",
   "execution_count": 42,
   "id": "c6f55742",
   "metadata": {},
   "outputs": [
    {
     "name": "stdout",
     "output_type": "stream",
     "text": [
      "820 <= score <= 910\n",
      "             churn\n",
      "mean      0.433431\n",
      "sum     446.000000\n",
      "count  1029.000000\n",
      "\n",
      "100000 <= est_salary <= 210000\n",
      "             churn\n",
      "mean      0.423077\n",
      "sum     440.000000\n",
      "count  1040.000000\n",
      "\n",
      "25 <= age <= 35\n",
      "            churn\n",
      "mean     0.535714\n",
      "sum    225.000000\n",
      "count  420.000000\n",
      "\n",
      "37 <= age <= 38\n",
      "            churn\n",
      "mean     0.421965\n",
      "sum     73.000000\n",
      "count  173.000000\n",
      "\n",
      "50 < age <= 60\n",
      "            churn\n",
      "mean     0.486111\n",
      "sum    210.000000\n",
      "count  432.000000\n",
      "\n",
      "yaroslavl == True\n",
      "             churn\n",
      "mean      0.407166\n",
      "sum     500.000000\n",
      "count  1228.000000\n",
      "\n",
      "male == True\n",
      "            churn\n",
      "mean      0.48599\n",
      "sum     503.00000\n",
      "count  1035.00000\n",
      "\n",
      "credit_card == False\n",
      "            churn\n",
      "mean     0.434692\n",
      "sum    416.000000\n",
      "count  957.000000\n",
      "\n",
      "last_activity == True\n",
      "           churn\n",
      "mean      0.5109\n",
      "sum     539.0000\n",
      "count  1055.0000\n",
      "\n",
      "equity == 5\n",
      "            churn\n",
      "mean     0.382494\n",
      "sum    319.000000\n",
      "count  834.000000\n",
      "\n",
      "products == 2\n",
      "             churn\n",
      "mean      0.324185\n",
      "sum     378.000000\n",
      "count  1166.000000\n",
      "\n"
     ]
    }
   ],
   "source": [
    "for i in ['820 <= score <= 910', '100000 <= est_salary <= 210000', '25 <= age <= 35', \n",
    "           '37 <= age <= 38', '50 < age <= 60','yaroslavl == True', 'male == True', 'credit_card == False',\n",
    "           'last_activity == True', 'equity == 5',  'products == 2']:\n",
    "    print(i)\n",
    "    print(data.query('balance > 950000').query(i).agg({\"churn\":['mean', 'sum', 'count']})\n",
    "         )\n",
    "    print()    "
   ]
  },
  {
   "cell_type": "markdown",
   "id": "29bc4c88",
   "metadata": {},
   "source": [
    "**Первый сегмент**: "
   ]
  },
  {
   "cell_type": "code",
   "execution_count": 43,
   "id": "d2d4dad3",
   "metadata": {},
   "outputs": [
    {
     "data": {
      "text/html": [
       "<div>\n",
       "<style scoped>\n",
       "    .dataframe tbody tr th:only-of-type {\n",
       "        vertical-align: middle;\n",
       "    }\n",
       "\n",
       "    .dataframe tbody tr th {\n",
       "        vertical-align: top;\n",
       "    }\n",
       "\n",
       "    .dataframe thead th {\n",
       "        text-align: right;\n",
       "    }\n",
       "</style>\n",
       "<table border=\"1\" class=\"dataframe\">\n",
       "  <thead>\n",
       "    <tr style=\"text-align: right;\">\n",
       "      <th></th>\n",
       "      <th>churn</th>\n",
       "    </tr>\n",
       "  </thead>\n",
       "  <tbody>\n",
       "    <tr>\n",
       "      <th>mean</th>\n",
       "      <td>0.48599</td>\n",
       "    </tr>\n",
       "    <tr>\n",
       "      <th>sum</th>\n",
       "      <td>503.00000</td>\n",
       "    </tr>\n",
       "    <tr>\n",
       "      <th>count</th>\n",
       "      <td>1035.00000</td>\n",
       "    </tr>\n",
       "  </tbody>\n",
       "</table>\n",
       "</div>"
      ],
      "text/plain": [
       "            churn\n",
       "mean      0.48599\n",
       "sum     503.00000\n",
       "count  1035.00000"
      ]
     },
     "execution_count": 43,
     "metadata": {},
     "output_type": "execute_result"
    }
   ],
   "source": [
    "data.query('balance > 950000 and male == True').agg({\"churn\":['mean', 'sum', 'count']})"
   ]
  },
  {
   "cell_type": "code",
   "execution_count": 44,
   "id": "4aabb48c",
   "metadata": {},
   "outputs": [
    {
     "name": "stdout",
     "output_type": "stream",
     "text": [
      "820 <= score <= 910\n",
      "             churn\n",
      "mean      0.316781\n",
      "sum     555.000000\n",
      "count  1752.000000\n",
      "\n",
      "balance > 950000\n",
      "            churn\n",
      "mean     0.434692\n",
      "sum    416.000000\n",
      "count  957.000000\n",
      "\n",
      "100000 <= est_salary <= 210000\n",
      "             churn\n",
      "mean      0.297037\n",
      "sum     431.000000\n",
      "count  1451.000000\n",
      "\n",
      "25 <= age <= 35\n",
      "            churn\n",
      "mean     0.356711\n",
      "sum    295.000000\n",
      "count  827.000000\n",
      "\n",
      "37 <= age <= 38\n",
      "            churn\n",
      "mean     0.247664\n",
      "sum     53.000000\n",
      "count  214.000000\n",
      "\n",
      "50 < age <= 60\n",
      "            churn\n",
      "mean     0.366044\n",
      "sum    235.000000\n",
      "count  642.000000\n",
      "\n",
      "yaroslavl == True\n",
      "             churn\n",
      "mean      0.290223\n",
      "sum     469.000000\n",
      "count  1616.000000\n",
      "\n",
      "male == True\n",
      "             churn\n",
      "mean      0.350729\n",
      "sum     457.000000\n",
      "count  1303.000000\n",
      "\n",
      "last_activity == True\n",
      "             churn\n",
      "mean      0.350716\n",
      "sum     612.000000\n",
      "count  1745.000000\n",
      "\n",
      "equity == 5\n",
      "            churn\n",
      "mean     0.372624\n",
      "sum    294.000000\n",
      "count  789.000000\n",
      "\n",
      "products == 2\n",
      "             churn\n",
      "mean      0.275052\n",
      "sum     527.000000\n",
      "count  1916.000000\n",
      "\n"
     ]
    }
   ],
   "source": [
    "# набор условий на основе только одного из признаков отточности \n",
    "for i in ['820 <= score <= 910', 'balance > 950000', '100000 <= est_salary <= 210000', '25 <= age <= 35', \n",
    "           '37 <= age <= 38', '50 < age <= 60','yaroslavl == True', 'male == True', \n",
    "           'last_activity == True', 'equity == 5',  'products == 2']:\n",
    "    print(i)\n",
    "    print(data.query('credit_card == False').query(i).agg({\"churn\":['mean', 'sum', 'count']})\n",
    "         )\n",
    "    print()"
   ]
  },
  {
   "cell_type": "markdown",
   "id": "4be5af38",
   "metadata": {},
   "source": [
    "**Второй сегмент**: "
   ]
  },
  {
   "cell_type": "code",
   "execution_count": 45,
   "id": "e4eecdf6",
   "metadata": {},
   "outputs": [
    {
     "data": {
      "text/html": [
       "<div>\n",
       "<style scoped>\n",
       "    .dataframe tbody tr th:only-of-type {\n",
       "        vertical-align: middle;\n",
       "    }\n",
       "\n",
       "    .dataframe tbody tr th {\n",
       "        vertical-align: top;\n",
       "    }\n",
       "\n",
       "    .dataframe thead th {\n",
       "        text-align: right;\n",
       "    }\n",
       "</style>\n",
       "<table border=\"1\" class=\"dataframe\">\n",
       "  <thead>\n",
       "    <tr style=\"text-align: right;\">\n",
       "      <th></th>\n",
       "      <th>churn</th>\n",
       "    </tr>\n",
       "  </thead>\n",
       "  <tbody>\n",
       "    <tr>\n",
       "      <th>mean</th>\n",
       "      <td>0.366044</td>\n",
       "    </tr>\n",
       "    <tr>\n",
       "      <th>sum</th>\n",
       "      <td>235.000000</td>\n",
       "    </tr>\n",
       "    <tr>\n",
       "      <th>count</th>\n",
       "      <td>642.000000</td>\n",
       "    </tr>\n",
       "  </tbody>\n",
       "</table>\n",
       "</div>"
      ],
      "text/plain": [
       "            churn\n",
       "mean     0.366044\n",
       "sum    235.000000\n",
       "count  642.000000"
      ]
     },
     "execution_count": 45,
     "metadata": {},
     "output_type": "execute_result"
    }
   ],
   "source": [
    "data.query('credit_card == False and 50 < age <= 60').agg({\"churn\":['mean', 'sum', 'count']})"
   ]
  },
  {
   "cell_type": "code",
   "execution_count": 46,
   "id": "270bf554",
   "metadata": {
    "scrolled": false
   },
   "outputs": [
    {
     "name": "stdout",
     "output_type": "stream",
     "text": [
      "820 <= score <= 910\n",
      "             churn\n",
      "mean      0.335069\n",
      "sum     386.000000\n",
      "count  1152.000000\n",
      "\n",
      "balance > 950000\n",
      "            churn\n",
      "mean     0.382494\n",
      "sum    319.000000\n",
      "count  834.000000\n",
      "\n",
      "100000 <= est_salary <= 210000\n",
      "            churn\n",
      "mean     0.340802\n",
      "sum    289.000000\n",
      "count  848.000000\n",
      "\n",
      "25 <= age <= 35\n",
      "            churn\n",
      "mean     0.363484\n",
      "sum    217.000000\n",
      "count  597.000000\n",
      "\n",
      "37 <= age <= 38\n",
      "            churn\n",
      "mean     0.300613\n",
      "sum     49.000000\n",
      "count  163.000000\n",
      "\n",
      "50 < age <= 60\n",
      "           churn\n",
      "mean     0.39939\n",
      "sum    131.00000\n",
      "count  328.00000\n",
      "\n",
      "yaroslavl == True\n",
      "             churn\n",
      "mean      0.326011\n",
      "sum     371.000000\n",
      "count  1138.000000\n",
      "\n",
      "male == True\n",
      "            churn\n",
      "mean     0.400206\n",
      "sum    389.000000\n",
      "count  972.000000\n",
      "\n",
      "credit_card == False\n",
      "            churn\n",
      "mean     0.372624\n",
      "sum    294.000000\n",
      "count  789.000000\n",
      "\n",
      "last_activity == True\n",
      "             churn\n",
      "mean      0.423762\n",
      "sum     428.000000\n",
      "count  1010.000000\n",
      "\n",
      "equity == 5\n",
      "             churn\n",
      "mean      0.300783\n",
      "sum     576.000000\n",
      "count  1915.000000\n",
      "\n",
      "products == 2\n",
      "             churn\n",
      "mean      0.261054\n",
      "sum     307.000000\n",
      "count  1176.000000\n",
      "\n"
     ]
    }
   ],
   "source": [
    "# набор условий на основе только одного из признаков отточности \n",
    "for i in ['820 <= score <= 910', 'balance > 950000', '100000 <= est_salary <= 210000', '25 <= age <= 35', \n",
    "           '37 <= age <= 38', '50 < age <= 60','yaroslavl == True', 'male == True', 'credit_card == False',\n",
    "           'last_activity == True', 'equity == 5',  'products == 2']:\n",
    "    print(i)\n",
    "    print(data.query('equity == 5').query(i).agg({\"churn\":['mean', 'sum', 'count']})\n",
    "         )\n",
    "    print()"
   ]
  },
  {
   "cell_type": "markdown",
   "id": "a339d81a",
   "metadata": {},
   "source": [
    "**Третий сегмент**: "
   ]
  },
  {
   "cell_type": "code",
   "execution_count": 47,
   "id": "cdc390fb",
   "metadata": {},
   "outputs": [
    {
     "data": {
      "text/html": [
       "<div>\n",
       "<style scoped>\n",
       "    .dataframe tbody tr th:only-of-type {\n",
       "        vertical-align: middle;\n",
       "    }\n",
       "\n",
       "    .dataframe tbody tr th {\n",
       "        vertical-align: top;\n",
       "    }\n",
       "\n",
       "    .dataframe thead th {\n",
       "        text-align: right;\n",
       "    }\n",
       "</style>\n",
       "<table border=\"1\" class=\"dataframe\">\n",
       "  <thead>\n",
       "    <tr style=\"text-align: right;\">\n",
       "      <th></th>\n",
       "      <th>churn</th>\n",
       "    </tr>\n",
       "  </thead>\n",
       "  <tbody>\n",
       "    <tr>\n",
       "      <th>mean</th>\n",
       "      <td>0.423762</td>\n",
       "    </tr>\n",
       "    <tr>\n",
       "      <th>sum</th>\n",
       "      <td>428.000000</td>\n",
       "    </tr>\n",
       "    <tr>\n",
       "      <th>count</th>\n",
       "      <td>1010.000000</td>\n",
       "    </tr>\n",
       "  </tbody>\n",
       "</table>\n",
       "</div>"
      ],
      "text/plain": [
       "             churn\n",
       "mean      0.423762\n",
       "sum     428.000000\n",
       "count  1010.000000"
      ]
     },
     "execution_count": 47,
     "metadata": {},
     "output_type": "execute_result"
    }
   ],
   "source": [
    "data.query('last_activity == True and equity == 5').agg({\"churn\":['mean', 'sum', 'count']})"
   ]
  },
  {
   "cell_type": "markdown",
   "id": "30ab313e",
   "metadata": {},
   "source": [
    "### Шаг. 6. Выводы и рекомендации для Заказчика"
   ]
  },
  {
   "cell_type": "markdown",
   "id": "47aa3415",
   "metadata": {},
   "source": [
    "Мы выделили три сегмента клиентов, которые склонны уходить из банка, дадим рекомендации по снижению оттока и сохранению текущих клиентов.\\\n",
    "Напомним, мы сегминтирорвали по следующим принципам:\\\n",
    "• отток более чем в 2 раза больше, чем в среднем по Банку (это 18.23%),\\\n",
    "• размер сегмента 300-2000 человек,\\\n",
    "• каждый сегмент объединем по 2-м признакам оттока.\\\n",
    "\n",
    "Итак,\\\n",
    "**первый сегмент** - клиенты-мужчины с балансом на счету более 950 тыс у.е. (1035 человек - отток 503 = 48,6%)\\\n",
    "Рекомендации. Заинтересовать такого клиента можно:\\\n",
    "• услугами персонального менеджера, приоритетное обслуживание в отделениях (т.е. без очереди), специальные залы или зоны обслуживания, в которых есть отдельные переговорные комнаты для встреч с персональным менеджером\n",
    "• уникальными финансовыми предложениями, в которые входят сервисные депозиты с несколько более высокими ставками при размещении крупных денежных сумм, паи одного или нескольких инвестиционных фондов с разным уровнем риска, страховые продукты и премиальные банковские карты с особыми дисконтными программами. \n",
    "\n",
    "**второй сегмент** - клиенты, которым от 50-60 лет, без кредитной карты (642 человек - отток 235 = 36,6%)\n",
    "Рекомендации. Заинтересовать такого клиента можно:\\\n",
    "Будущие пенсионеры это те клиенты, которые в скором времени будут получать фиксированные выплаты на счёт поэтому для них можно предложить:\n",
    "• открытие кредитной карта без оплаты за обслуживание с кэшбэк на заправки и продутовые магазины,\\\n",
    "• более выгодные условия по стандартным кредитным продуктам, а именно меньшие ставки по кредитам, кредитным картам и ипотеке.\n",
    "\n",
    "\n",
    "\n",
    "**третий сегмент** - клиенты, которые проявляют активность в последний месяц, их количество баллов собственности равно 5 (1010 человек - 428 отток = 42,4%)\n",
    "Рекомендации. Заинтересовать такого клиента можно:\\\n",
    "• предложить льготную ипотеку с крупными чеками для состоятельных клиентов (для покупки-инвистирования очередного или дорого объекта),\\\n",
    "• кредит под залог недвижимости (на не малый период) и предложить ставку по залоговому кредиту ниже, чем по потребительским."
   ]
  }
 ],
 "metadata": {
  "kernelspec": {
   "display_name": "Python 3 (ipykernel)",
   "language": "python",
   "name": "python3"
  },
  "language_info": {
   "codemirror_mode": {
    "name": "ipython",
    "version": 3
   },
   "file_extension": ".py",
   "mimetype": "text/x-python",
   "name": "python",
   "nbconvert_exporter": "python",
   "pygments_lexer": "ipython3",
   "version": "3.11.5"
  }
 },
 "nbformat": 4,
 "nbformat_minor": 5
}
