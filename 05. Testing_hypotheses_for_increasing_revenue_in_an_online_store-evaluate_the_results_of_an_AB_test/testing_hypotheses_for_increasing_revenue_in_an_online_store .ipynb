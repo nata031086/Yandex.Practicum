{
 "cells": [
  {
   "cell_type": "markdown",
   "metadata": {},
   "source": [
    "# Принятие решений в бизнесе"
   ]
  },
  {
   "cell_type": "markdown",
   "metadata": {},
   "source": [
    "**Заказчик**\\\n",
    "Интернет-магазин \n",
    "\n",
    "**Цель проекта**\\\n",
    "Необходимо приоритизировать гипотезы, запустить A/B-тест и проанализировать результаты.\n",
    "Список этих гипотез ранее был подготовлен совместно с отделом маргетинга для увеличения выручки компании.\n",
    "\n",
    "**Входные данные**\\\n",
    "Данные для приоритизация гипотез:\\\n",
    "Файл со списком гипотез /datasets/hypothesis.csv\\\n",
    "•\tHypothesis — краткое описание гипотезы;\\\n",
    "•\tReach — охват пользователей по 10-балльной шкале;\\\n",
    "•\tImpact — влияние на пользователей по 10-балльной шкале;\\\n",
    "•\tConfidence — уверенность в гипотезе по 10-балльной шкале;\\\n",
    "•\tEfforts — затраты ресурсов на проверку гипотезы по 10-балльной шкале. Чем больше значение Efforts, тем дороже проверка гипотезы.\n",
    "\n",
    "Данные для анализа A/B-теста:\\\n",
    "Файл с информацией о заказах пользователей в интернет-магазине /datasets/orders.csv\\\n",
    "•\ttransactionId — идентификатор заказа;\\\n",
    "•\tvisitorId — идентификатор пользователя, совершившего заказ;\\\n",
    "•\tdate — дата, когда был совершён заказ;\\\n",
    "•\trevenue — выручка заказа;\\\n",
    "•\tgroup — группа A/B-теста, в которую попал заказ.\\\n",
    "Файл с информацией о посещениях пользователями интернет-магазина /datasets/visitors.csv\\\n",
    "•\tdate — дата;\\\n",
    "•\tgroup — группа A/B-теста;\\\n",
    "•\tvisitors — количество пользователей в указанную дату в указанной группе A/B-теста\n",
    "\n",
    "\n",
    "**Ход анализа**\\\n",
    "Анализ пройдёт в несколько этапов:\\\n",
    "• Обзор и предобработка данных;\\\n",
    "• Приоритезация гипотез;\\\n",
    "• Анализ А/В-теста."
   ]
  },
  {
   "cell_type": "code",
   "execution_count": 1,
   "metadata": {},
   "outputs": [],
   "source": [
    "# импортируем библиотеки\n",
    "import pandas as pd\n",
    "from IPython.display import display\n",
    "from datetime import datetime, timedelta\n",
    "import numpy as np\n",
    "import datetime as dt\n",
    "import matplotlib.pyplot as plt\n",
    "from pandas.plotting import register_matplotlib_converters\n",
    "import warnings\n",
    "import scipy.stats as stats"
   ]
  },
  {
   "cell_type": "markdown",
   "metadata": {},
   "source": [
    "## 1.  Загрузим данные и подготовим их к анализу"
   ]
  },
  {
   "cell_type": "code",
   "execution_count": 2,
   "metadata": {},
   "outputs": [],
   "source": [
    "# загрузим данные о гипотезах, заказах и посещениях из CSV-файлов в переменные\n",
    "hypothesis = pd.read_csv('C:/Users/nata/Downloads/hypothesis.csv')\n",
    "orders = pd.read_csv('C:/Users/nata/Downloads/orders.csv')\n",
    "visitors = pd.read_csv('C:/Users/nata/Downloads/visitors.csv')"
   ]
  },
  {
   "cell_type": "code",
   "execution_count": 3,
   "metadata": {},
   "outputs": [
    {
     "data": {
      "text/html": [
       "<div>\n",
       "<style scoped>\n",
       "    .dataframe tbody tr th:only-of-type {\n",
       "        vertical-align: middle;\n",
       "    }\n",
       "\n",
       "    .dataframe tbody tr th {\n",
       "        vertical-align: top;\n",
       "    }\n",
       "\n",
       "    .dataframe thead th {\n",
       "        text-align: right;\n",
       "    }\n",
       "</style>\n",
       "<table border=\"1\" class=\"dataframe\">\n",
       "  <thead>\n",
       "    <tr style=\"text-align: right;\">\n",
       "      <th></th>\n",
       "      <th>Hypothesis</th>\n",
       "      <th>Reach</th>\n",
       "      <th>Impact</th>\n",
       "      <th>Confidence</th>\n",
       "      <th>Efforts</th>\n",
       "    </tr>\n",
       "  </thead>\n",
       "  <tbody>\n",
       "    <tr>\n",
       "      <th>0</th>\n",
       "      <td>Добавить два новых канала привлечения трафика,...</td>\n",
       "      <td>3</td>\n",
       "      <td>10</td>\n",
       "      <td>8</td>\n",
       "      <td>6</td>\n",
       "    </tr>\n",
       "    <tr>\n",
       "      <th>1</th>\n",
       "      <td>Запустить собственную службу доставки, что сок...</td>\n",
       "      <td>2</td>\n",
       "      <td>5</td>\n",
       "      <td>4</td>\n",
       "      <td>10</td>\n",
       "    </tr>\n",
       "    <tr>\n",
       "      <th>2</th>\n",
       "      <td>Добавить блоки рекомендаций товаров на сайт ин...</td>\n",
       "      <td>8</td>\n",
       "      <td>3</td>\n",
       "      <td>7</td>\n",
       "      <td>3</td>\n",
       "    </tr>\n",
       "    <tr>\n",
       "      <th>3</th>\n",
       "      <td>Изменить структура категорий, что увеличит кон...</td>\n",
       "      <td>8</td>\n",
       "      <td>3</td>\n",
       "      <td>3</td>\n",
       "      <td>8</td>\n",
       "    </tr>\n",
       "    <tr>\n",
       "      <th>4</th>\n",
       "      <td>Изменить цвет фона главной страницы, чтобы уве...</td>\n",
       "      <td>3</td>\n",
       "      <td>1</td>\n",
       "      <td>1</td>\n",
       "      <td>1</td>\n",
       "    </tr>\n",
       "    <tr>\n",
       "      <th>5</th>\n",
       "      <td>Добавить страницу отзывов клиентов о магазине,...</td>\n",
       "      <td>3</td>\n",
       "      <td>2</td>\n",
       "      <td>2</td>\n",
       "      <td>3</td>\n",
       "    </tr>\n",
       "    <tr>\n",
       "      <th>6</th>\n",
       "      <td>Показать на главной странице баннеры с актуаль...</td>\n",
       "      <td>5</td>\n",
       "      <td>3</td>\n",
       "      <td>8</td>\n",
       "      <td>3</td>\n",
       "    </tr>\n",
       "    <tr>\n",
       "      <th>7</th>\n",
       "      <td>Добавить форму подписки на все основные страни...</td>\n",
       "      <td>10</td>\n",
       "      <td>7</td>\n",
       "      <td>8</td>\n",
       "      <td>5</td>\n",
       "    </tr>\n",
       "    <tr>\n",
       "      <th>8</th>\n",
       "      <td>Запустить акцию, дающую скидку на товар в день...</td>\n",
       "      <td>1</td>\n",
       "      <td>9</td>\n",
       "      <td>9</td>\n",
       "      <td>5</td>\n",
       "    </tr>\n",
       "  </tbody>\n",
       "</table>\n",
       "</div>"
      ],
      "text/plain": [
       "                                          Hypothesis  Reach  Impact  \\\n",
       "0  Добавить два новых канала привлечения трафика,...      3      10   \n",
       "1  Запустить собственную службу доставки, что сок...      2       5   \n",
       "2  Добавить блоки рекомендаций товаров на сайт ин...      8       3   \n",
       "3  Изменить структура категорий, что увеличит кон...      8       3   \n",
       "4  Изменить цвет фона главной страницы, чтобы уве...      3       1   \n",
       "5  Добавить страницу отзывов клиентов о магазине,...      3       2   \n",
       "6  Показать на главной странице баннеры с актуаль...      5       3   \n",
       "7  Добавить форму подписки на все основные страни...     10       7   \n",
       "8  Запустить акцию, дающую скидку на товар в день...      1       9   \n",
       "\n",
       "   Confidence  Efforts  \n",
       "0           8        6  \n",
       "1           4       10  \n",
       "2           7        3  \n",
       "3           3        8  \n",
       "4           1        1  \n",
       "5           2        3  \n",
       "6           8        3  \n",
       "7           8        5  \n",
       "8           9        5  "
      ]
     },
     "metadata": {},
     "output_type": "display_data"
    },
    {
     "data": {
      "text/html": [
       "<div>\n",
       "<style scoped>\n",
       "    .dataframe tbody tr th:only-of-type {\n",
       "        vertical-align: middle;\n",
       "    }\n",
       "\n",
       "    .dataframe tbody tr th {\n",
       "        vertical-align: top;\n",
       "    }\n",
       "\n",
       "    .dataframe thead th {\n",
       "        text-align: right;\n",
       "    }\n",
       "</style>\n",
       "<table border=\"1\" class=\"dataframe\">\n",
       "  <thead>\n",
       "    <tr style=\"text-align: right;\">\n",
       "      <th></th>\n",
       "      <th>transactionId</th>\n",
       "      <th>visitorId</th>\n",
       "      <th>date</th>\n",
       "      <th>revenue</th>\n",
       "      <th>group</th>\n",
       "    </tr>\n",
       "  </thead>\n",
       "  <tbody>\n",
       "    <tr>\n",
       "      <th>0</th>\n",
       "      <td>3667963787</td>\n",
       "      <td>3312258926</td>\n",
       "      <td>2019-08-15</td>\n",
       "      <td>1650</td>\n",
       "      <td>B</td>\n",
       "    </tr>\n",
       "    <tr>\n",
       "      <th>1</th>\n",
       "      <td>2804400009</td>\n",
       "      <td>3642806036</td>\n",
       "      <td>2019-08-15</td>\n",
       "      <td>730</td>\n",
       "      <td>B</td>\n",
       "    </tr>\n",
       "    <tr>\n",
       "      <th>2</th>\n",
       "      <td>2961555356</td>\n",
       "      <td>4069496402</td>\n",
       "      <td>2019-08-15</td>\n",
       "      <td>400</td>\n",
       "      <td>A</td>\n",
       "    </tr>\n",
       "    <tr>\n",
       "      <th>3</th>\n",
       "      <td>3797467345</td>\n",
       "      <td>1196621759</td>\n",
       "      <td>2019-08-15</td>\n",
       "      <td>9759</td>\n",
       "      <td>B</td>\n",
       "    </tr>\n",
       "    <tr>\n",
       "      <th>4</th>\n",
       "      <td>2282983706</td>\n",
       "      <td>2322279887</td>\n",
       "      <td>2019-08-15</td>\n",
       "      <td>2308</td>\n",
       "      <td>B</td>\n",
       "    </tr>\n",
       "    <tr>\n",
       "      <th>...</th>\n",
       "      <td>...</td>\n",
       "      <td>...</td>\n",
       "      <td>...</td>\n",
       "      <td>...</td>\n",
       "      <td>...</td>\n",
       "    </tr>\n",
       "    <tr>\n",
       "      <th>1192</th>\n",
       "      <td>2662137336</td>\n",
       "      <td>3733762160</td>\n",
       "      <td>2019-08-14</td>\n",
       "      <td>6490</td>\n",
       "      <td>B</td>\n",
       "    </tr>\n",
       "    <tr>\n",
       "      <th>1193</th>\n",
       "      <td>2203539145</td>\n",
       "      <td>370388673</td>\n",
       "      <td>2019-08-14</td>\n",
       "      <td>3190</td>\n",
       "      <td>A</td>\n",
       "    </tr>\n",
       "    <tr>\n",
       "      <th>1194</th>\n",
       "      <td>1807773912</td>\n",
       "      <td>573423106</td>\n",
       "      <td>2019-08-14</td>\n",
       "      <td>10550</td>\n",
       "      <td>A</td>\n",
       "    </tr>\n",
       "    <tr>\n",
       "      <th>1195</th>\n",
       "      <td>1947021204</td>\n",
       "      <td>1614305549</td>\n",
       "      <td>2019-08-14</td>\n",
       "      <td>100</td>\n",
       "      <td>A</td>\n",
       "    </tr>\n",
       "    <tr>\n",
       "      <th>1196</th>\n",
       "      <td>3936777065</td>\n",
       "      <td>2108080724</td>\n",
       "      <td>2019-08-15</td>\n",
       "      <td>202740</td>\n",
       "      <td>B</td>\n",
       "    </tr>\n",
       "  </tbody>\n",
       "</table>\n",
       "<p>1197 rows × 5 columns</p>\n",
       "</div>"
      ],
      "text/plain": [
       "      transactionId   visitorId        date  revenue group\n",
       "0        3667963787  3312258926  2019-08-15     1650     B\n",
       "1        2804400009  3642806036  2019-08-15      730     B\n",
       "2        2961555356  4069496402  2019-08-15      400     A\n",
       "3        3797467345  1196621759  2019-08-15     9759     B\n",
       "4        2282983706  2322279887  2019-08-15     2308     B\n",
       "...             ...         ...         ...      ...   ...\n",
       "1192     2662137336  3733762160  2019-08-14     6490     B\n",
       "1193     2203539145   370388673  2019-08-14     3190     A\n",
       "1194     1807773912   573423106  2019-08-14    10550     A\n",
       "1195     1947021204  1614305549  2019-08-14      100     A\n",
       "1196     3936777065  2108080724  2019-08-15   202740     B\n",
       "\n",
       "[1197 rows x 5 columns]"
      ]
     },
     "metadata": {},
     "output_type": "display_data"
    },
    {
     "data": {
      "text/html": [
       "<div>\n",
       "<style scoped>\n",
       "    .dataframe tbody tr th:only-of-type {\n",
       "        vertical-align: middle;\n",
       "    }\n",
       "\n",
       "    .dataframe tbody tr th {\n",
       "        vertical-align: top;\n",
       "    }\n",
       "\n",
       "    .dataframe thead th {\n",
       "        text-align: right;\n",
       "    }\n",
       "</style>\n",
       "<table border=\"1\" class=\"dataframe\">\n",
       "  <thead>\n",
       "    <tr style=\"text-align: right;\">\n",
       "      <th></th>\n",
       "      <th>date</th>\n",
       "      <th>group</th>\n",
       "      <th>visitors</th>\n",
       "    </tr>\n",
       "  </thead>\n",
       "  <tbody>\n",
       "    <tr>\n",
       "      <th>0</th>\n",
       "      <td>2019-08-01</td>\n",
       "      <td>A</td>\n",
       "      <td>719</td>\n",
       "    </tr>\n",
       "    <tr>\n",
       "      <th>1</th>\n",
       "      <td>2019-08-02</td>\n",
       "      <td>A</td>\n",
       "      <td>619</td>\n",
       "    </tr>\n",
       "    <tr>\n",
       "      <th>2</th>\n",
       "      <td>2019-08-03</td>\n",
       "      <td>A</td>\n",
       "      <td>507</td>\n",
       "    </tr>\n",
       "    <tr>\n",
       "      <th>3</th>\n",
       "      <td>2019-08-04</td>\n",
       "      <td>A</td>\n",
       "      <td>717</td>\n",
       "    </tr>\n",
       "    <tr>\n",
       "      <th>4</th>\n",
       "      <td>2019-08-05</td>\n",
       "      <td>A</td>\n",
       "      <td>756</td>\n",
       "    </tr>\n",
       "    <tr>\n",
       "      <th>...</th>\n",
       "      <td>...</td>\n",
       "      <td>...</td>\n",
       "      <td>...</td>\n",
       "    </tr>\n",
       "    <tr>\n",
       "      <th>57</th>\n",
       "      <td>2019-08-27</td>\n",
       "      <td>B</td>\n",
       "      <td>720</td>\n",
       "    </tr>\n",
       "    <tr>\n",
       "      <th>58</th>\n",
       "      <td>2019-08-28</td>\n",
       "      <td>B</td>\n",
       "      <td>654</td>\n",
       "    </tr>\n",
       "    <tr>\n",
       "      <th>59</th>\n",
       "      <td>2019-08-29</td>\n",
       "      <td>B</td>\n",
       "      <td>531</td>\n",
       "    </tr>\n",
       "    <tr>\n",
       "      <th>60</th>\n",
       "      <td>2019-08-30</td>\n",
       "      <td>B</td>\n",
       "      <td>490</td>\n",
       "    </tr>\n",
       "    <tr>\n",
       "      <th>61</th>\n",
       "      <td>2019-08-31</td>\n",
       "      <td>B</td>\n",
       "      <td>718</td>\n",
       "    </tr>\n",
       "  </tbody>\n",
       "</table>\n",
       "<p>62 rows × 3 columns</p>\n",
       "</div>"
      ],
      "text/plain": [
       "          date group  visitors\n",
       "0   2019-08-01     A       719\n",
       "1   2019-08-02     A       619\n",
       "2   2019-08-03     A       507\n",
       "3   2019-08-04     A       717\n",
       "4   2019-08-05     A       756\n",
       "..         ...   ...       ...\n",
       "57  2019-08-27     B       720\n",
       "58  2019-08-28     B       654\n",
       "59  2019-08-29     B       531\n",
       "60  2019-08-30     B       490\n",
       "61  2019-08-31     B       718\n",
       "\n",
       "[62 rows x 3 columns]"
      ]
     },
     "metadata": {},
     "output_type": "display_data"
    }
   ],
   "source": [
    "# выведем три таблицы с помощью функции display\n",
    "display(hypothesis, orders, visitors)"
   ]
  },
  {
   "cell_type": "code",
   "execution_count": 4,
   "metadata": {},
   "outputs": [
    {
     "name": "stdout",
     "output_type": "stream",
     "text": [
      "<class 'pandas.core.frame.DataFrame'>\n",
      "RangeIndex: 9 entries, 0 to 8\n",
      "Data columns (total 5 columns):\n",
      " #   Column      Non-Null Count  Dtype \n",
      "---  ------      --------------  ----- \n",
      " 0   Hypothesis  9 non-null      object\n",
      " 1   Reach       9 non-null      int64 \n",
      " 2   Impact      9 non-null      int64 \n",
      " 3   Confidence  9 non-null      int64 \n",
      " 4   Efforts     9 non-null      int64 \n",
      "dtypes: int64(4), object(1)\n",
      "memory usage: 492.0+ bytes\n",
      "\n",
      "<class 'pandas.core.frame.DataFrame'>\n",
      "RangeIndex: 1197 entries, 0 to 1196\n",
      "Data columns (total 5 columns):\n",
      " #   Column         Non-Null Count  Dtype \n",
      "---  ------         --------------  ----- \n",
      " 0   transactionId  1197 non-null   int64 \n",
      " 1   visitorId      1197 non-null   int64 \n",
      " 2   date           1197 non-null   object\n",
      " 3   revenue        1197 non-null   int64 \n",
      " 4   group          1197 non-null   object\n",
      "dtypes: int64(3), object(2)\n",
      "memory usage: 46.9+ KB\n",
      "\n",
      "<class 'pandas.core.frame.DataFrame'>\n",
      "RangeIndex: 62 entries, 0 to 61\n",
      "Data columns (total 3 columns):\n",
      " #   Column    Non-Null Count  Dtype \n",
      "---  ------    --------------  ----- \n",
      " 0   date      62 non-null     object\n",
      " 1   group     62 non-null     object\n",
      " 2   visitors  62 non-null     int64 \n",
      "dtypes: int64(1), object(2)\n",
      "memory usage: 1.6+ KB\n"
     ]
    }
   ],
   "source": [
    "# выведем основную информацию о датафреймах с помощью метода info()\n",
    "hypothesis.info()\n",
    "print()\n",
    "orders.info()\n",
    "print()\n",
    "visitors.info()"
   ]
  },
  {
   "cell_type": "code",
   "execution_count": 5,
   "metadata": {},
   "outputs": [
    {
     "name": "stdout",
     "output_type": "stream",
     "text": [
      "Количество строк-дубликатов в данных hypothesis = 0\n",
      "Количество строк-дубликатов в данных orders = 0\n",
      "Количество строк-дубликатов в данных visitors = 0\n"
     ]
    }
   ],
   "source": [
    "# выведем количество строк-дубликатов в данных и их процент в д\n",
    "print('Количество строк-дубликатов в данных hypothesis =', hypothesis.duplicated().sum())\n",
    "print('Количество строк-дубликатов в данных orders =', orders.duplicated().sum())\n",
    "print('Количество строк-дубликатов в данных visitors =', visitors.duplicated().sum())"
   ]
  },
  {
   "cell_type": "markdown",
   "metadata": {},
   "source": [
    "**Промежуточные выводы:** \\\n",
    "Мы выгрузили данные и изучили основную информацию о гипотезах, заказах и посещениях.\\\n",
    "Перед тем как приступить к анализу необходимо подготовить данные, а именно:\\\n",
    ". отредактировать некоторые названия колонок;\\\n",
    ". преобразовать типы данных у части колонок в таблицах."
   ]
  },
  {
   "cell_type": "code",
   "execution_count": 6,
   "metadata": {},
   "outputs": [
    {
     "data": {
      "text/plain": [
       "Index(['hypothesis', 'reach', 'impact', 'confidence', 'efforts'], dtype='object')"
      ]
     },
     "execution_count": 6,
     "metadata": {},
     "output_type": "execute_result"
    }
   ],
   "source": [
    "# приведем к нижнему регистру название колонок\n",
    "hypothesis.columns = hypothesis.columns.str.lower()\n",
    "hypothesis.columns"
   ]
  },
  {
   "cell_type": "code",
   "execution_count": 7,
   "metadata": {},
   "outputs": [
    {
     "data": {
      "text/plain": [
       "Index(['transaction_id', 'visitor_id', 'date', 'revenue', 'group'], dtype='object')"
      ]
     },
     "execution_count": 7,
     "metadata": {},
     "output_type": "execute_result"
    }
   ],
   "source": [
    "# частично переименуем название колонок\n",
    "orders = orders.rename(columns={'transactionId': 'transaction_id', 'visitorId': 'visitor_id'})\n",
    "orders.columns"
   ]
  },
  {
   "cell_type": "code",
   "execution_count": 8,
   "metadata": {},
   "outputs": [],
   "source": [
    "# изменим тип данных для столбцов с датами\n",
    "visitors['date'] = pd.to_datetime(visitors['date'])\n",
    "orders['date'] = pd.to_datetime(orders['date'])"
   ]
  },
  {
   "cell_type": "markdown",
   "metadata": {},
   "source": [
    "**Промежуточные итоги:** \\\n",
    "После изучения общей информации о данных выяснили:\\\n",
    ". данные представлены тремя таблицами;\\\n",
    ". все данные заполнены (т.е. в столбцах отсутуют пропущенные значения);\\\n",
    ". у части данных некорретный тип данных и мы это исправили;\\\n",
    ". в названиях колонок — расхождения с хорошим стилем и это тоже мы исправили;\\\n",
    ". строк-дубликатов не обнаружено."
   ]
  },
  {
   "cell_type": "code",
   "execution_count": 9,
   "metadata": {},
   "outputs": [
    {
     "data": {
      "text/plain": [
       "0"
      ]
     },
     "execution_count": 9,
     "metadata": {},
     "output_type": "execute_result"
    }
   ],
   "source": [
    "# проверка, не попадают ли какие-то пользователи в обе группы - по таблице с заказами.\n",
    "len(orders.loc[orders[\"group\"]==\"1\", \"visitor_id\"].isin(orders.loc[orders[\"group\"]==\"2\", \"visitor_id\"]))"
   ]
  },
  {
   "cell_type": "markdown",
   "metadata": {},
   "source": [
    "## 2.  Приоритизация гипотез"
   ]
  },
  {
   "cell_type": "markdown",
   "metadata": {},
   "source": [
    "В файле '/datasets/hypothesis.csv' девять гипотез по увеличению выручки интернет-магазина с указанными параметрами Reach, Impact, Confidence, Effort. \n",
    "\n",
    "Мы:"
   ]
  },
  {
   "cell_type": "markdown",
   "metadata": {},
   "source": [
    "### 2.1. Применим фреймворк ICE для приоритизации гипотез. Отсортируем их по убыванию приоритета."
   ]
  },
  {
   "cell_type": "code",
   "execution_count": 10,
   "metadata": {},
   "outputs": [],
   "source": [
    "# посчитаем ICE для гипотез и добавим полученные значения ICE к существующей таблице, отсортировав по столбцу 'ICE'\n",
    "hypothesis['ICE'] = round((hypothesis['impact'] * hypothesis['confidence']) / hypothesis['efforts'], 2)"
   ]
  },
  {
   "cell_type": "code",
   "execution_count": 11,
   "metadata": {},
   "outputs": [
    {
     "data": {
      "text/html": [
       "<div>\n",
       "<style scoped>\n",
       "    .dataframe tbody tr th:only-of-type {\n",
       "        vertical-align: middle;\n",
       "    }\n",
       "\n",
       "    .dataframe tbody tr th {\n",
       "        vertical-align: top;\n",
       "    }\n",
       "\n",
       "    .dataframe thead th {\n",
       "        text-align: right;\n",
       "    }\n",
       "</style>\n",
       "<table border=\"1\" class=\"dataframe\">\n",
       "  <thead>\n",
       "    <tr style=\"text-align: right;\">\n",
       "      <th></th>\n",
       "      <th>hypothesis</th>\n",
       "      <th>ICE</th>\n",
       "    </tr>\n",
       "  </thead>\n",
       "  <tbody>\n",
       "    <tr>\n",
       "      <th>8</th>\n",
       "      <td>Запустить акцию, дающую скидку на товар в день рождения</td>\n",
       "      <td>16.20</td>\n",
       "    </tr>\n",
       "    <tr>\n",
       "      <th>0</th>\n",
       "      <td>Добавить два новых канала привлечения трафика, что позволит привлекать на 30% больше пользователей</td>\n",
       "      <td>13.33</td>\n",
       "    </tr>\n",
       "    <tr>\n",
       "      <th>7</th>\n",
       "      <td>Добавить форму подписки на все основные страницы, чтобы собрать базу клиентов для email-рассылок</td>\n",
       "      <td>11.20</td>\n",
       "    </tr>\n",
       "    <tr>\n",
       "      <th>6</th>\n",
       "      <td>Показать на главной странице баннеры с актуальными акциями и распродажами, чтобы увеличить конверсию</td>\n",
       "      <td>8.00</td>\n",
       "    </tr>\n",
       "    <tr>\n",
       "      <th>2</th>\n",
       "      <td>Добавить блоки рекомендаций товаров на сайт интернет магазина, чтобы повысить конверсию и средний чек заказа</td>\n",
       "      <td>7.00</td>\n",
       "    </tr>\n",
       "    <tr>\n",
       "      <th>1</th>\n",
       "      <td>Запустить собственную службу доставки, что сократит срок доставки заказов</td>\n",
       "      <td>2.00</td>\n",
       "    </tr>\n",
       "    <tr>\n",
       "      <th>5</th>\n",
       "      <td>Добавить страницу отзывов клиентов о магазине, что позволит увеличить количество заказов</td>\n",
       "      <td>1.33</td>\n",
       "    </tr>\n",
       "    <tr>\n",
       "      <th>3</th>\n",
       "      <td>Изменить структура категорий, что увеличит конверсию, т.к. пользователи быстрее найдут нужный товар</td>\n",
       "      <td>1.12</td>\n",
       "    </tr>\n",
       "    <tr>\n",
       "      <th>4</th>\n",
       "      <td>Изменить цвет фона главной страницы, чтобы увеличить вовлеченность пользователей</td>\n",
       "      <td>1.00</td>\n",
       "    </tr>\n",
       "  </tbody>\n",
       "</table>\n",
       "</div>"
      ],
      "text/plain": [
       "                                                                                                     hypothesis  \\\n",
       "8                                                       Запустить акцию, дающую скидку на товар в день рождения   \n",
       "0            Добавить два новых канала привлечения трафика, что позволит привлекать на 30% больше пользователей   \n",
       "7              Добавить форму подписки на все основные страницы, чтобы собрать базу клиентов для email-рассылок   \n",
       "6          Показать на главной странице баннеры с актуальными акциями и распродажами, чтобы увеличить конверсию   \n",
       "2  Добавить блоки рекомендаций товаров на сайт интернет магазина, чтобы повысить конверсию и средний чек заказа   \n",
       "1                                     Запустить собственную службу доставки, что сократит срок доставки заказов   \n",
       "5                      Добавить страницу отзывов клиентов о магазине, что позволит увеличить количество заказов   \n",
       "3           Изменить структура категорий, что увеличит конверсию, т.к. пользователи быстрее найдут нужный товар   \n",
       "4                              Изменить цвет фона главной страницы, чтобы увеличить вовлеченность пользователей   \n",
       "\n",
       "     ICE  \n",
       "8  16.20  \n",
       "0  13.33  \n",
       "7  11.20  \n",
       "6   8.00  \n",
       "2   7.00  \n",
       "1   2.00  \n",
       "5   1.33  \n",
       "3   1.12  \n",
       "4   1.00  "
      ]
     },
     "execution_count": 11,
     "metadata": {},
     "output_type": "execute_result"
    }
   ],
   "source": [
    "pd.set_option('max_colwidth', 200)\n",
    "hypothesis[['hypothesis', 'ICE']].sort_values(by='ICE', ascending=False)"
   ]
  },
  {
   "cell_type": "markdown",
   "metadata": {},
   "source": [
    "**Промежуточные выводы:** \\\n",
    "Наиболее перспективные гипотезы по ICE: 8, 0, 7, 6, 2."
   ]
  },
  {
   "cell_type": "markdown",
   "metadata": {},
   "source": [
    "### 2.2. Применим фреймворк RICE для приоритизации гипотез. Отсортируем их по убыванию приоритета."
   ]
  },
  {
   "cell_type": "code",
   "execution_count": 12,
   "metadata": {},
   "outputs": [
    {
     "data": {
      "text/html": [
       "<div>\n",
       "<style scoped>\n",
       "    .dataframe tbody tr th:only-of-type {\n",
       "        vertical-align: middle;\n",
       "    }\n",
       "\n",
       "    .dataframe tbody tr th {\n",
       "        vertical-align: top;\n",
       "    }\n",
       "\n",
       "    .dataframe thead th {\n",
       "        text-align: right;\n",
       "    }\n",
       "</style>\n",
       "<table border=\"1\" class=\"dataframe\">\n",
       "  <thead>\n",
       "    <tr style=\"text-align: right;\">\n",
       "      <th></th>\n",
       "      <th>hypothesis</th>\n",
       "      <th>RICE</th>\n",
       "    </tr>\n",
       "  </thead>\n",
       "  <tbody>\n",
       "    <tr>\n",
       "      <th>7</th>\n",
       "      <td>Добавить форму подписки на все основные страницы, чтобы собрать базу клиентов для email-рассылок</td>\n",
       "      <td>112.0</td>\n",
       "    </tr>\n",
       "    <tr>\n",
       "      <th>2</th>\n",
       "      <td>Добавить блоки рекомендаций товаров на сайт интернет магазина, чтобы повысить конверсию и средний чек заказа</td>\n",
       "      <td>56.0</td>\n",
       "    </tr>\n",
       "    <tr>\n",
       "      <th>0</th>\n",
       "      <td>Добавить два новых канала привлечения трафика, что позволит привлекать на 30% больше пользователей</td>\n",
       "      <td>40.0</td>\n",
       "    </tr>\n",
       "    <tr>\n",
       "      <th>6</th>\n",
       "      <td>Показать на главной странице баннеры с актуальными акциями и распродажами, чтобы увеличить конверсию</td>\n",
       "      <td>40.0</td>\n",
       "    </tr>\n",
       "    <tr>\n",
       "      <th>8</th>\n",
       "      <td>Запустить акцию, дающую скидку на товар в день рождения</td>\n",
       "      <td>16.2</td>\n",
       "    </tr>\n",
       "    <tr>\n",
       "      <th>3</th>\n",
       "      <td>Изменить структура категорий, что увеличит конверсию, т.к. пользователи быстрее найдут нужный товар</td>\n",
       "      <td>9.0</td>\n",
       "    </tr>\n",
       "    <tr>\n",
       "      <th>1</th>\n",
       "      <td>Запустить собственную службу доставки, что сократит срок доставки заказов</td>\n",
       "      <td>4.0</td>\n",
       "    </tr>\n",
       "    <tr>\n",
       "      <th>5</th>\n",
       "      <td>Добавить страницу отзывов клиентов о магазине, что позволит увеличить количество заказов</td>\n",
       "      <td>4.0</td>\n",
       "    </tr>\n",
       "    <tr>\n",
       "      <th>4</th>\n",
       "      <td>Изменить цвет фона главной страницы, чтобы увеличить вовлеченность пользователей</td>\n",
       "      <td>3.0</td>\n",
       "    </tr>\n",
       "  </tbody>\n",
       "</table>\n",
       "</div>"
      ],
      "text/plain": [
       "                                                                                                     hypothesis  \\\n",
       "7              Добавить форму подписки на все основные страницы, чтобы собрать базу клиентов для email-рассылок   \n",
       "2  Добавить блоки рекомендаций товаров на сайт интернет магазина, чтобы повысить конверсию и средний чек заказа   \n",
       "0            Добавить два новых канала привлечения трафика, что позволит привлекать на 30% больше пользователей   \n",
       "6          Показать на главной странице баннеры с актуальными акциями и распродажами, чтобы увеличить конверсию   \n",
       "8                                                       Запустить акцию, дающую скидку на товар в день рождения   \n",
       "3           Изменить структура категорий, что увеличит конверсию, т.к. пользователи быстрее найдут нужный товар   \n",
       "1                                     Запустить собственную службу доставки, что сократит срок доставки заказов   \n",
       "5                      Добавить страницу отзывов клиентов о магазине, что позволит увеличить количество заказов   \n",
       "4                              Изменить цвет фона главной страницы, чтобы увеличить вовлеченность пользователей   \n",
       "\n",
       "    RICE  \n",
       "7  112.0  \n",
       "2   56.0  \n",
       "0   40.0  \n",
       "6   40.0  \n",
       "8   16.2  \n",
       "3    9.0  \n",
       "1    4.0  \n",
       "5    4.0  \n",
       "4    3.0  "
      ]
     },
     "execution_count": 12,
     "metadata": {},
     "output_type": "execute_result"
    }
   ],
   "source": [
    "# посчитаем RICE для гипотез и добавьте полученные значения RICE к существующей таблице, отсортировав по столбцу 'RICE'\n",
    "hypothesis['RICE'] = (hypothesis['reach'] * hypothesis['impact'] * hypothesis['confidence']) / hypothesis['efforts']\n",
    "hypothesis[['hypothesis', 'RICE']].sort_values(by='RICE', ascending=False)"
   ]
  },
  {
   "cell_type": "markdown",
   "metadata": {},
   "source": [
    "**Промежуточные выводы:** \\\n",
    "И снова наиболее перспективные гипотезы те же: 7, 2, 0, 6, 8."
   ]
  },
  {
   "cell_type": "markdown",
   "metadata": {},
   "source": [
    "### 2.3. Укажем, как изменилась приоритизация гипотез при применении RICE вместо ICE. Объясним, почему так произошло."
   ]
  },
  {
   "cell_type": "markdown",
   "metadata": {},
   "source": [
    "Приоритизация гипотез при применении RICE вместо ICE изменила последовательность в топ-5 перпективных гипотез. При применении RICE на первом месте уже гипотеза под номером 7, а не 8. Так получилось, потому что её параметр Reach равен 10, в то время как у других гипотез он меньше (напомним Reach - это скольких пользователей затронет изменение, которое вы хотите внести)."
   ]
  },
  {
   "cell_type": "markdown",
   "metadata": {},
   "source": [
    "## 3. Анализ A/B-теста"
   ]
  },
  {
   "cell_type": "markdown",
   "metadata": {},
   "source": [
    "Мы провели A/B-тест и получили результаты, которые описаны в файлах /datasets/orders.csv и /datasets/visitors.csv.\n",
    "\n",
    "Проанализируем A/B-тест."
   ]
  },
  {
   "cell_type": "markdown",
   "metadata": {},
   "source": [
    "### 3.1. Построим график кумулятивной выручки по группам. Сделаем выводы и предположения"
   ]
  },
  {
   "cell_type": "code",
   "execution_count": 13,
   "metadata": {},
   "outputs": [
    {
     "name": "stdout",
     "output_type": "stream",
     "text": [
      "        date group  orders  buyers  revenue  visitors\n",
      "0 2019-08-01     A      24      20   148579       719\n",
      "1 2019-08-01     B      21      20   101217       713\n",
      "2 2019-08-02     A      44      38   242401      1338\n",
      "3 2019-08-02     B      45      43   266748      1294\n",
      "4 2019-08-03     A      68      62   354874      1845\n"
     ]
    }
   ],
   "source": [
    "# cоздаем датафрейм datesGroups с уникальными парами значений 'date' и 'group', таблицы orders,\n",
    "# избавляясь от дубликатов методом drop_duplicates()\n",
    "datesGroups = orders[['date','group']].drop_duplicates() \n",
    "\n",
    "# объявиляем переменную ordersAggregated, содержащую:\n",
    "# . дату;\n",
    "# . группу A/B-теста;\n",
    "# . число уникальных заказов в группе теста по указанную дату включительно;\n",
    "# . число уникальных пользователей, совершивших хотя бы 1 заказ в группе теста по указанную дату включительно;\n",
    "# . суммарную выручку заказов в группе теста по указанную дату включительно\n",
    "# отсортируем по столбцам 'date', 'group' в указанном порядке\n",
    "ordersAggregated = datesGroups.apply(\n",
    "    lambda x: orders[np.logical_and(orders['date'] <= x['date'], orders['group'] == x['group'])].agg({\n",
    "'date' : 'max',\n",
    "'group' : 'max',\n",
    "'transaction_id' : pd.Series.nunique,\n",
    "'visitor_id' : pd.Series.nunique,\n",
    "'revenue' : 'sum'}), axis=1).sort_values(by=['date','group']) \n",
    "\n",
    "# объявляем переменную visitorsAggregated, содержащую:\n",
    "# . дату;\n",
    "# . группу A/B-теста;\n",
    "# . количество уникальных посетителей в группе теста по указанную дату включительно\n",
    "# отсортируем по столбцам 'date', 'group' в указанном порядке\n",
    "visitorsAggregated = (datesGroups\n",
    "                      .apply(lambda x: visitors[np.logical_and(visitors['date'] <= x['date'], visitors['group'] == x['group'])]\n",
    "                             .agg({'date' : 'max', 'group' : 'max', 'visitors' : 'sum'}), axis=1)\n",
    "                      .sort_values(by=['date','group']))\n",
    "\n",
    "\n",
    "# определим переменную cumulativeData, объединив ordersAggregated и visitorsAggregated по колонкам 'date', 'group' \n",
    "# методом merge()\n",
    "cumulativeData = ordersAggregated.merge(visitorsAggregated, left_on=['date', 'group'], right_on=['date', 'group'])\n",
    "\n",
    "# присвоим столбцам cumulativeData текущие названия\n",
    "cumulativeData.columns = ['date', 'group', 'orders', 'buyers', 'revenue', 'visitors']\n",
    "\n",
    "# выведим первые 5 строк переменной cumulativeData\n",
    "print(cumulativeData.head(5)) "
   ]
  },
  {
   "cell_type": "code",
   "execution_count": 14,
   "metadata": {},
   "outputs": [
    {
     "name": "stdout",
     "output_type": "stream",
     "text": [
      "Минимальная и максимальная даты в текущем датафрейме 2019-08-01 00:00:00 и 2019-08-31 00:00:00\n"
     ]
    }
   ],
   "source": [
    "print('Минимальная и максимальная даты в текущем датафрейме', cumulativeData['date'].min(), 'и', cumulativeData['date'].max())"
   ]
  },
  {
   "cell_type": "code",
   "execution_count": 15,
   "metadata": {},
   "outputs": [
    {
     "name": "stdout",
     "output_type": "stream",
     "text": [
      "Минимальная и максимальная даты в исходных данных 2019-08-01 00:00:00 и 2019-08-31 00:00:00\n"
     ]
    }
   ],
   "source": [
    "print('Минимальная и максимальная даты в исходных данных', orders['date'].min(), 'и', orders['date'].max())"
   ]
  },
  {
   "cell_type": "code",
   "execution_count": 16,
   "metadata": {},
   "outputs": [],
   "source": [
    "# объявим переменные cumulativeRevenueA и cumulativeRevenueB, \n",
    "# в которых сохраним данные о датах, выручке и числе заказов в группах A и B\n",
    "cumulativeRevenueA = cumulativeData[cumulativeData['group']=='A'][['date','revenue', 'orders']]\n",
    "cumulativeRevenueB = cumulativeData[cumulativeData['group']=='B'][['date','revenue', 'orders']]"
   ]
  },
  {
   "cell_type": "code",
   "execution_count": 17,
   "metadata": {
    "scrolled": true
   },
   "outputs": [
    {
     "data": {
      "image/png": "[encoded data removed]",
      "text/plain": [
       "<Figure size 1500x500 with 1 Axes>"
      ]
     },
     "metadata": {},
     "output_type": "display_data"
    }
   ],
   "source": [
    "# cтроим график выручки для групп\n",
    "plt.figure(figsize=(15,5))\n",
    "plt.plot(cumulativeRevenueA['date'], cumulativeRevenueA['revenue'], label='A')\n",
    "plt.plot(cumulativeRevenueB['date'], cumulativeRevenueB['revenue'], label='B')\n",
    "plt.title('График динамики кумулятивной выручки по группам А и В', fontsize=10, pad=15)\n",
    "plt.ylabel(\"Выручка\")\n",
    "plt.xticks()\n",
    "plt.legend() \n",
    "plt.show()"
   ]
  },
  {
   "cell_type": "markdown",
   "metadata": {},
   "source": [
    "**Промежуточные выводы:** \\\n",
    "К концу теста (с 18 августа) сегмент B вырвался вперёд и продолжал лидировать весь остаток теста. Похоже, что в группе В есть аномально большие заказы, которые влияют на результаты. При дальнейшем анализе их нужно будет скорее всего удалить."
   ]
  },
  {
   "cell_type": "markdown",
   "metadata": {},
   "source": [
    "### 3.2. Построим график кумулятивного среднего чека по группам. Сделаем выводы и предположения"
   ]
  },
  {
   "cell_type": "code",
   "execution_count": 18,
   "metadata": {
    "scrolled": true
   },
   "outputs": [
    {
     "data": {
      "image/png": "[encoded data removed]",
      "text/plain": [
       "<Figure size 1500x500 with 1 Axes>"
      ]
     },
     "metadata": {},
     "output_type": "display_data"
    }
   ],
   "source": [
    "# для каждой группы построим графики кумулятивного среднего чека по дням\n",
    "plt.figure(figsize=(15,5))\n",
    "plt.plot(cumulativeRevenueA['date'], cumulativeRevenueA['revenue']/cumulativeRevenueA['orders'], label='A')\n",
    "plt.plot(cumulativeRevenueB['date'], cumulativeRevenueB['revenue']/cumulativeRevenueB['orders'], label='B')\n",
    "plt.title('График кумулятивного среднего чека по группам А и В', fontsize=10, pad=15)\n",
    "plt.ylabel(\"Средний чек\")\n",
    "plt.xticks()\n",
    "plt.legend() \n",
    "plt.show()"
   ]
  },
  {
   "cell_type": "markdown",
   "metadata": {},
   "source": [
    "**Промежуточные выводы:** \\\n",
    "Кумулятивное значение среднего чека группе А через какое-то время стабилизировался (с 15 августа). А вот кумулятивное значение среднего чека в группе В показал резкий скачок 18 августа, что говорит в пользу об аномально больших заказах."
   ]
  },
  {
   "cell_type": "markdown",
   "metadata": {},
   "source": [
    "### 3.3. \tПостроим график относительного изменения кумулятивного среднего чека группы B к группе A. Сделаем выводы и предположения"
   ]
  },
  {
   "cell_type": "code",
   "execution_count": 19,
   "metadata": {},
   "outputs": [
    {
     "data": {
      "image/png": "[encoded data removed]",
      "text/plain": [
       "<Figure size 1500x500 with 1 Axes>"
      ]
     },
     "metadata": {},
     "output_type": "display_data"
    }
   ],
   "source": [
    "# собираем данные в одном датафрейме\n",
    "mergedCumulativeRevenue = (cumulativeRevenueA\n",
    "                           .merge(cumulativeRevenueB, left_on='date', right_on='date', how='left', suffixes=['A', 'B']))\n",
    "\n",
    "# cтроим отношение средних чеков\n",
    "plt.figure(figsize=(15,5))\n",
    "plt.plot(mergedCumulativeRevenue['date'],(mergedCumulativeRevenue['revenueB']/mergedCumulativeRevenue['ordersB'])/(mergedCumulativeRevenue['revenueA']/mergedCumulativeRevenue['ordersA'])-1)\n",
    "\n",
    "# добавляем ось X\n",
    "plt.axhline(y=0, color='black', linestyle='--')\n",
    "plt.title('График относительного изменения кумулятивного среднего чека группы B к группе A')\n",
    "plt.ylabel(\"Отношение средних чеков (В к А)\")\n",
    "plt.xticks()\n",
    "plt.show()"
   ]
  },
  {
   "cell_type": "markdown",
   "metadata": {},
   "source": [
    "**Промежуточные выводы:** \\\n",
    "Результаты теста значительно и резко менялись в несколько дат (т.е. в начале теста группа B проигрывала группе A, затем вырвалась вперёд, а потом вновь проигрывалаи и снова вырвалась вперед). Видимо, именно тогда были совершены аномальные заказы.   "
   ]
  },
  {
   "cell_type": "markdown",
   "metadata": {},
   "source": [
    "### 3.4. Построим график кумулятивного среднего количества заказов на посетителя по группам. Сделаем выводы и предположения"
   ]
  },
  {
   "cell_type": "code",
   "execution_count": 20,
   "metadata": {},
   "outputs": [
    {
     "data": {
      "image/png": "[encoded data removed]",
      "text/plain": [
       "<Figure size 1500x500 with 1 Axes>"
      ]
     },
     "metadata": {},
     "output_type": "display_data"
    }
   ],
   "source": [
    "# считаем среднее количество заказов на посетителя\n",
    "cumulativeData['conversion'] = cumulativeData['orders']/cumulativeData['visitors']\n",
    "\n",
    "# отделяем данные по группе A\n",
    "cumulativeDataA = cumulativeData[cumulativeData['group']=='A']\n",
    "\n",
    "# отделяем данные по группе B\n",
    "cumulativeDataB = cumulativeData[cumulativeData['group']=='B']\n",
    "\n",
    "# строим графики\n",
    "plt.figure(figsize=(15,5))\n",
    "plt.plot(cumulativeDataA['date'], cumulativeDataA['conversion'], label='A')\n",
    "plt.plot(cumulativeDataB['date'], cumulativeDataB['conversion'], label='B')\n",
    "plt.legend()\n",
    "\n",
    "# задаем масштаб осей\n",
    "plt.axis([dt.datetime(2019, 8, 1), dt.datetime(2019, 9, 1), 0, 0.05])\n",
    "plt.title('График кумулятивного среднего количества заказов на посетителя по группам')\n",
    "plt.xticks()\n",
    "plt.show()"
   ]
  },
  {
   "cell_type": "markdown",
   "metadata": {},
   "source": [
    "**Промежуточные выводы:** \\\n",
    "В начале теста сегмент A имел большее кумулятивное среднее количество заказов, но постепенно сегмент B выровнялся и зафиксировался примерно около одного значения, больше значения сегмента A.\n",
    "Мы изменили масштаб графика, чтобы было видно, что абсолютное значение колебания в начале и в конце теста не слишком большое: от 3% до 4%. "
   ]
  },
  {
   "cell_type": "markdown",
   "metadata": {},
   "source": [
    "### 3.5. Построим график относительного изменения кумулятивного среднего количества заказов на посетителя группы B к группе A. Сделаем выводы и предположения"
   ]
  },
  {
   "cell_type": "code",
   "execution_count": 21,
   "metadata": {},
   "outputs": [
    {
     "data": {
      "image/png": "[encoded data removed]",
      "text/plain": [
       "<Figure size 1500x500 with 1 Axes>"
      ]
     },
     "metadata": {},
     "output_type": "display_data"
    }
   ],
   "source": [
    "# объединим таблицы cumulativeDataA и cumulativeDataB методом merge()\n",
    "mergedCumulativeConversions = cumulativeDataA[['date','conversion']].merge(cumulativeDataB[['date','conversion']], left_on='date', right_on='date', how='left', suffixes=['A', 'B'])\n",
    "\n",
    "# построим график\n",
    "plt.figure(figsize=(15,5))\n",
    "plt.plot(mergedCumulativeConversions['date'], mergedCumulativeConversions['conversionB']/mergedCumulativeConversions['conversionA']-1)\n",
    "\n",
    "# добавьте пунктирную линию оси X чёрного цвета ('black') со значением оси Y = 0 методом plt.axhline() \n",
    "plt.axhline(y=0, color='black', linestyle='--')\n",
    "plt.axhline(y=0.15, color='grey', linestyle='--')\n",
    "plt.title('Относительный прирост кумулятивного среднего количества заказов на посетителя группы B относительно группы A')\n",
    "plt.ylabel(\"Отношение среднего количества заказов на посетителя\")\n",
    "plt.xticks()\n",
    "plt.show()"
   ]
  },
  {
   "cell_type": "markdown",
   "metadata": {},
   "source": [
    "**Промежуточные выводы:** \\\n",
    "Мы построили график относительного различия метрики между группами.\n",
    "С самого начала теста группа B лидирует по метрике: становится лучше и лучше, либо зафиксировалась около прироста в 10% относительно группы A."
   ]
  },
  {
   "cell_type": "markdown",
   "metadata": {},
   "source": [
    "### 3.6. Построим точечный график количества заказов по пользователям. Сделаем выводы и предположения"
   ]
  },
  {
   "cell_type": "code",
   "execution_count": 22,
   "metadata": {},
   "outputs": [
    {
     "name": "stdout",
     "output_type": "stream",
     "text": [
      "      visitor_id  orders\n",
      "1023  4256040402      11\n",
      "591   2458001652      11\n",
      "569   2378935119       9\n",
      "487   2038680547       8\n",
      "44     199603092       5\n",
      "744   3062433592       5\n",
      "55     237748145       5\n",
      "917   3803269165       5\n",
      "299   1230306981       5\n",
      "897   3717692402       5\n"
     ]
    }
   ],
   "source": [
    "# создадим датафрейм c двумя столбцами: 'visitor_id' и 'orders' \n",
    "ordersByUsers = (\n",
    "    orders.groupby('visitor_id', as_index=False)\n",
    "    .agg({'transaction_id': 'nunique'})\n",
    ")\n",
    "ordersByUsers.columns = ['visitor_id', 'orders']\n",
    "\n",
    "# отсортируем по убыванию количества заказов пользователей и выведим на экран первые 10 строк\n",
    "print(ordersByUsers.sort_values(by='orders', ascending=False).head(10))"
   ]
  },
  {
   "cell_type": "code",
   "execution_count": 23,
   "metadata": {},
   "outputs": [
    {
     "data": {
      "image/png": "[encoded data removed]",
      "text/plain": [
       "<Figure size 1500x500 with 1 Axes>"
      ]
     },
     "metadata": {},
     "output_type": "display_data"
    }
   ],
   "source": [
    "# построим диаграмму методом scatter()\n",
    "plt.figure(figsize=(15,5))\n",
    "# серия из чисел от 0 до количества наблюдений в ordersByUsers\n",
    "x_values = pd.Series(range(0, len(ordersByUsers)))\n",
    "plt.scatter(x_values, ordersByUsers['orders']) \n",
    "plt.title('График количества заказов по пользователям')\n",
    "plt.ylabel(\"Количество заказов\")\n",
    "plt.show()"
   ]
  },
  {
   "cell_type": "markdown",
   "metadata": {},
   "source": [
    "**Промежуточные выводы:** \\\n",
    "Большинство пользователей совершило всего 1 заказ. Пользователей, заказавших более двух раз, гораздо меньше. Они вполне могут быть аномальными."
   ]
  },
  {
   "cell_type": "markdown",
   "metadata": {},
   "source": [
    "### 3.7. Посчитаем 95-й и 99-й перцентили количества заказов на пользователя. Выберим границу для определения аномальных пользователей"
   ]
  },
  {
   "cell_type": "code",
   "execution_count": 24,
   "metadata": {},
   "outputs": [
    {
     "name": "stdout",
     "output_type": "stream",
     "text": [
      "[2. 4.]\n"
     ]
    }
   ],
   "source": [
    "# посчитаем 95-й и 99-й перцентили количества заказов по пользователям методом np.percentile()\n",
    "print(np.percentile(ordersByUsers['orders'], [95, 99])) "
   ]
  },
  {
   "cell_type": "markdown",
   "metadata": {},
   "source": [
    "**Промежуточные выводы:** \\\n",
    "Не более 5% пользователей совершали больше двух заказов. И не более 1% пользователей — больше четырех заказов.\\\n",
    "Граница аномальных пользователей - 4 заказа на одого пользователя."
   ]
  },
  {
   "cell_type": "markdown",
   "metadata": {},
   "source": [
    "### 3.8. Построем точечный график стоимостей заказов. Сделаем выводы и предположения"
   ]
  },
  {
   "cell_type": "code",
   "execution_count": 25,
   "metadata": {},
   "outputs": [
    {
     "name": "stdout",
     "output_type": "stream",
     "text": [
      "      transaction_id  visitor_id       date  revenue group\n",
      "425        590470918  1920142716 2019-08-19  1294500     B\n",
      "1196      3936777065  2108080724 2019-08-15   202740     B\n",
      "858        192721366  1316129916 2019-08-27    93940     A\n",
      "1136       666610489  1307669133 2019-08-13    92550     A\n",
      "744       3668308183   888512513 2019-08-27    86620     B\n",
      "682       1216533772  4266935830 2019-08-29    78990     B\n",
      "662       1811671147  4266935830 2019-08-29    78990     A\n",
      "743       3603576309  4133034833 2019-08-09    67990     A\n",
      "1103      1348774318  1164614297 2019-08-12    66350     A\n",
      "1099       316924019   148427295 2019-08-12    65710     A\n"
     ]
    }
   ],
   "source": [
    "# отсортируем заказы пользователей по убыванию выручки и выведим на экран первые 10 строк\n",
    "print(orders.sort_values(by='revenue', ascending=False).head(10))"
   ]
  },
  {
   "cell_type": "code",
   "execution_count": 26,
   "metadata": {},
   "outputs": [
    {
     "data": {
      "image/png": "[encoded data removed]",
      "text/plain": [
       "<Figure size 1500x500 with 1 Axes>"
      ]
     },
     "metadata": {},
     "output_type": "display_data"
    }
   ],
   "source": [
    "# построим диаграмму методом scatter()\n",
    "plt.figure(figsize=(15,5))\n",
    "x_values = pd.Series(range(0, len(orders['revenue'])))\n",
    "plt.scatter(x_values, orders['revenue'])\n",
    "plt.title('График стоимостей заказов')\n",
    "plt.ylabel(\"Выручка\")\n",
    "plt.show()"
   ]
  },
  {
   "cell_type": "code",
   "execution_count": 27,
   "metadata": {},
   "outputs": [
    {
     "data": {
      "image/png": "[encoded data removed]",
      "text/plain": [
       "<Figure size 1500x500 with 1 Axes>"
      ]
     },
     "metadata": {},
     "output_type": "display_data"
    }
   ],
   "source": [
    "# добавим еще один график, ограничив значения по оси Y\n",
    "# чтобы двух явных выбросов не было видно, а мы могли рассмотреть основную часть заказов\n",
    "plt.figure(figsize=(15,5))\n",
    "plt.ylim(0, 200000)\n",
    "x_values = pd.Series(range(0, len(orders['revenue'])))\n",
    "plt.scatter(x_values, orders['revenue'])\n",
    "plt.title('График стоимостей заказов')\n",
    "plt.ylabel(\"Выручка\")\n",
    "plt.show()"
   ]
  },
  {
   "cell_type": "markdown",
   "metadata": {},
   "source": [
    "**Промежуточные выводы:** \\\n",
    "Заказов стоимостью 200 000 у.е. не очень много. Есть выброс в районе 1 250 000 у.е. Заказ на 1,25 миллиона в интернет-магазине выглядит весьма аномально."
   ]
  },
  {
   "cell_type": "markdown",
   "metadata": {},
   "source": [
    "### 3.9. Посчитаем 95-й и 99-й перцентили стоимости заказов. Выберем границу для определения аномальных заказов"
   ]
  },
  {
   "cell_type": "code",
   "execution_count": 28,
   "metadata": {},
   "outputs": [
    {
     "name": "stdout",
     "output_type": "stream",
     "text": [
      "[28000.  58233.2]\n"
     ]
    }
   ],
   "source": [
    "# посчитаем 95-й и 99-й перцентили стоимости заказов методом np.percentile()\n",
    "print(np.percentile(orders['revenue'], [95, 99])) "
   ]
  },
  {
   "cell_type": "markdown",
   "metadata": {},
   "source": [
    "**Промежуточные выводы:**\\\n",
    "Не более, чем у 5% заказов чек дороже 28 000 у.е. И не больше, чем у 1% заказов — дороже 58 233 у.е. \n",
    "Граница аномальных заказов - чек на 28 000 у.е."
   ]
  },
  {
   "cell_type": "markdown",
   "metadata": {},
   "source": [
    "### 3.10. Посчитаем статистическую значимость различий в среднем количестве заказов на посетителя между группами по «сырым» данным. Сделаем выводы и предположения"
   ]
  },
  {
   "cell_type": "markdown",
   "metadata": {},
   "source": [
    "Посчитаем статистическую значимость различий в среднем числе заказов на пользователя без удаления аномальных пользователей.\n",
    "\n",
    "    \n",
    "Сформулируем гипотезы.\\\n",
    "Нулевая: статистически значимых различий в среднем количестве заказов между группами по «сырым» данным нет.\\\n",
    "Альтернативная: статистически значимые различия в среднем количестве заказов между группами по «сырым» данным есть. \n",
    "\n",
    "    \n",
    "Для уровеня значимости установим стандартный уровень статистической значимости, равный 0.05.\n",
    "\n",
    "    \n",
    "Так как в данных о продажах и средних чеках есть большие (по сравнению с нормальным распределением) выбросы, то для проверки гипотез будем использовать непараметрический тест Уилкоксона-Манна-Уитни."
   ]
  },
  {
   "cell_type": "code",
   "execution_count": 29,
   "metadata": {},
   "outputs": [
    {
     "data": {
      "text/html": [
       "<div>\n",
       "<style scoped>\n",
       "    .dataframe tbody tr th:only-of-type {\n",
       "        vertical-align: middle;\n",
       "    }\n",
       "\n",
       "    .dataframe tbody tr th {\n",
       "        vertical-align: top;\n",
       "    }\n",
       "\n",
       "    .dataframe thead th {\n",
       "        text-align: right;\n",
       "    }\n",
       "</style>\n",
       "<table border=\"1\" class=\"dataframe\">\n",
       "  <thead>\n",
       "    <tr style=\"text-align: right;\">\n",
       "      <th></th>\n",
       "      <th>date</th>\n",
       "      <th>ordersPerDateA</th>\n",
       "      <th>revenuePerDateA</th>\n",
       "      <th>ordersPerDateB</th>\n",
       "      <th>revenuePerDateB</th>\n",
       "      <th>ordersCummulativeA</th>\n",
       "      <th>revenueCummulativeA</th>\n",
       "      <th>ordersCummulativeB</th>\n",
       "      <th>revenueCummulativeB</th>\n",
       "      <th>visitorsPerDateA</th>\n",
       "      <th>visitorsPerDateB</th>\n",
       "      <th>visitorsCummulativeA</th>\n",
       "      <th>visitorsCummulativeB</th>\n",
       "    </tr>\n",
       "  </thead>\n",
       "  <tbody>\n",
       "    <tr>\n",
       "      <th>0</th>\n",
       "      <td>2019-08-01</td>\n",
       "      <td>24</td>\n",
       "      <td>148579</td>\n",
       "      <td>21</td>\n",
       "      <td>101217</td>\n",
       "      <td>24</td>\n",
       "      <td>148579</td>\n",
       "      <td>21</td>\n",
       "      <td>101217</td>\n",
       "      <td>719</td>\n",
       "      <td>713</td>\n",
       "      <td>719</td>\n",
       "      <td>713</td>\n",
       "    </tr>\n",
       "    <tr>\n",
       "      <th>1</th>\n",
       "      <td>2019-08-02</td>\n",
       "      <td>20</td>\n",
       "      <td>93822</td>\n",
       "      <td>24</td>\n",
       "      <td>165531</td>\n",
       "      <td>44</td>\n",
       "      <td>242401</td>\n",
       "      <td>45</td>\n",
       "      <td>266748</td>\n",
       "      <td>619</td>\n",
       "      <td>581</td>\n",
       "      <td>1338</td>\n",
       "      <td>1294</td>\n",
       "    </tr>\n",
       "    <tr>\n",
       "      <th>2</th>\n",
       "      <td>2019-08-03</td>\n",
       "      <td>24</td>\n",
       "      <td>112473</td>\n",
       "      <td>16</td>\n",
       "      <td>114248</td>\n",
       "      <td>68</td>\n",
       "      <td>354874</td>\n",
       "      <td>61</td>\n",
       "      <td>380996</td>\n",
       "      <td>507</td>\n",
       "      <td>509</td>\n",
       "      <td>1845</td>\n",
       "      <td>1803</td>\n",
       "    </tr>\n",
       "    <tr>\n",
       "      <th>3</th>\n",
       "      <td>2019-08-04</td>\n",
       "      <td>16</td>\n",
       "      <td>70825</td>\n",
       "      <td>17</td>\n",
       "      <td>108571</td>\n",
       "      <td>84</td>\n",
       "      <td>425699</td>\n",
       "      <td>78</td>\n",
       "      <td>489567</td>\n",
       "      <td>717</td>\n",
       "      <td>770</td>\n",
       "      <td>2562</td>\n",
       "      <td>2573</td>\n",
       "    </tr>\n",
       "    <tr>\n",
       "      <th>4</th>\n",
       "      <td>2019-08-05</td>\n",
       "      <td>25</td>\n",
       "      <td>124218</td>\n",
       "      <td>23</td>\n",
       "      <td>92428</td>\n",
       "      <td>109</td>\n",
       "      <td>549917</td>\n",
       "      <td>101</td>\n",
       "      <td>581995</td>\n",
       "      <td>756</td>\n",
       "      <td>707</td>\n",
       "      <td>3318</td>\n",
       "      <td>3280</td>\n",
       "    </tr>\n",
       "  </tbody>\n",
       "</table>\n",
       "</div>"
      ],
      "text/plain": [
       "        date  ordersPerDateA  revenuePerDateA  ordersPerDateB  \\\n",
       "0 2019-08-01              24           148579              21   \n",
       "1 2019-08-02              20            93822              24   \n",
       "2 2019-08-03              24           112473              16   \n",
       "3 2019-08-04              16            70825              17   \n",
       "4 2019-08-05              25           124218              23   \n",
       "\n",
       "   revenuePerDateB  ordersCummulativeA  revenueCummulativeA  \\\n",
       "0           101217                  24               148579   \n",
       "1           165531                  44               242401   \n",
       "2           114248                  68               354874   \n",
       "3           108571                  84               425699   \n",
       "4            92428                 109               549917   \n",
       "\n",
       "   ordersCummulativeB  revenueCummulativeB  visitorsPerDateA  \\\n",
       "0                  21               101217               719   \n",
       "1                  45               266748               619   \n",
       "2                  61               380996               507   \n",
       "3                  78               489567               717   \n",
       "4                 101               581995               756   \n",
       "\n",
       "   visitorsPerDateB  visitorsCummulativeA  visitorsCummulativeB  \n",
       "0               713                   719                   713  \n",
       "1               581                  1338                  1294  \n",
       "2               509                  1845                  1803  \n",
       "3               770                  2562                  2573  \n",
       "4               707                  3318                  3280  "
      ]
     },
     "metadata": {},
     "output_type": "display_data"
    }
   ],
   "source": [
    "# начнём с подготовки данных\n",
    "visitorsADaily = visitors[visitors['group'] == 'A'][['date', 'visitors']]\n",
    "visitorsADaily.columns = ['date', 'visitorsPerDateA']\n",
    "\n",
    "visitorsACummulative = visitorsADaily.apply(\n",
    "    lambda x: visitorsADaily[visitorsADaily['date'] <= x['date']].agg(\n",
    "        {'date': 'max', 'visitorsPerDateA': 'sum'}\n",
    "    ),\n",
    "    axis=1,\n",
    ")\n",
    "visitorsACummulative.columns = ['date', 'visitorsCummulativeA']\n",
    "\n",
    "visitorsBDaily = visitors[visitors['group'] == 'B'][['date', 'visitors']]\n",
    "visitorsBDaily.columns = ['date', 'visitorsPerDateB']\n",
    "\n",
    "visitorsBCummulative = visitorsBDaily.apply(\n",
    "    lambda x: visitorsBDaily[visitorsBDaily['date'] <= x['date']].agg(\n",
    "        {'date': 'max', 'visitorsPerDateB': 'sum'}\n",
    "    ),\n",
    "    axis=1,\n",
    ")\n",
    "visitorsBCummulative.columns = ['date', 'visitorsCummulativeB']\n",
    "\n",
    "ordersADaily = (\n",
    "    orders[orders['group'] == 'A'][['date', 'transaction_id', 'visitor_id', 'revenue']]\n",
    "    .groupby('date', as_index=False)\n",
    "    .agg({'transaction_id': pd.Series.nunique, 'revenue': 'sum'})\n",
    ")\n",
    "ordersADaily.columns = ['date', 'ordersPerDateA', 'revenuePerDateA']\n",
    "\n",
    "ordersACummulative = ordersADaily.apply(\n",
    "    lambda x: ordersADaily[ordersADaily['date'] <= x['date']].agg(\n",
    "        {'date': 'max', 'ordersPerDateA': 'sum', 'revenuePerDateA': 'sum'}\n",
    "    ),\n",
    "    axis=1,\n",
    ").sort_values(by=['date'])\n",
    "ordersACummulative.columns = [\n",
    "    'date',\n",
    "    'ordersCummulativeA',\n",
    "    'revenueCummulativeA',\n",
    "]\n",
    "\n",
    "ordersBDaily = (\n",
    "    orders[orders['group'] == 'B'][['date', 'transaction_id', 'visitor_id', 'revenue']]\n",
    "    .groupby('date', as_index=False)\n",
    "    .agg({'transaction_id': pd.Series.nunique, 'revenue': 'sum'})\n",
    ")\n",
    "ordersBDaily.columns = ['date', 'ordersPerDateB', 'revenuePerDateB']\n",
    "\n",
    "ordersBCummulative = ordersBDaily.apply(\n",
    "    lambda x: ordersBDaily[ordersBDaily['date'] <= x['date']].agg(\n",
    "        {'date': 'max', 'ordersPerDateB': 'sum', 'revenuePerDateB': 'sum'}\n",
    "    ),\n",
    "    axis=1,\n",
    ").sort_values(by=['date'])\n",
    "ordersBCummulative.columns = [\n",
    "    'date',\n",
    "    'ordersCummulativeB',\n",
    "    'revenueCummulativeB',\n",
    "]\n",
    "\n",
    "data = (\n",
    "    ordersADaily.merge(\n",
    "        ordersBDaily, left_on='date', right_on='date', how='left'\n",
    "    )\n",
    "    .merge(ordersACummulative, left_on='date', right_on='date', how='left')\n",
    "    .merge(ordersBCummulative, left_on='date', right_on='date', how='left')\n",
    "    .merge(visitorsADaily, left_on='date', right_on='date', how='left')\n",
    "    .merge(visitorsBDaily, left_on='date', right_on='date', how='left')\n",
    "    .merge(visitorsACummulative, left_on='date', right_on='date', how='left')\n",
    "    .merge(visitorsBCummulative, left_on='date', right_on='date', how='left')\n",
    ")\n",
    "\n",
    "display(data.head(5))"
   ]
  },
  {
   "cell_type": "markdown",
   "metadata": {},
   "source": [
    "Для дельнейшего исследования будем работать с этой таблицей, которая содержит информацию:\\\n",
    "• date — дата;\\\n",
    "• ordersPerDateA — количество заказов в выбранную дату в группе A;\\\n",
    "• revenuePerDateA — суммарная выручка в выбранную дату в группе A;\\\n",
    "• ordersPerDateB — количество заказов в выбранную дату в группе B;\\\n",
    "• revenuePerDateB — суммарная выручка в выбранную дату в группе B;\\\n",
    "• ordersCummulativeA — суммарное число заказов до выбранной даты включительно в группе A;\\\n",
    "• revenueCummulativeA — суммарная выручка до выбранной даты включительно в группе A;\\\n",
    "• ordersCummulativeB — суммарное количество заказов до выбранной даты включительно в группе B;\\\n",
    "• revenueCummulativeB — суммарная выручка до выбранной даты включительно в группе B;\\\n",
    "• visitorsPerDateA — количество пользователей в выбранную дату в группе A;\\\n",
    "• visitorsPerDateB — количество пользователей в выбранную дату в группе B;\\\n",
    "• visitorsCummulativeA — количество пользователей до выбранной даты включительно в группе A;\\\n",
    "• visitorsCummulativeB — количество пользователей до выбранной даты включительно в группе B."
   ]
  },
  {
   "cell_type": "code",
   "execution_count": 30,
   "metadata": {},
   "outputs": [],
   "source": [
    "# cоздадим переменные ordersByUsersA и ordersByUsersB со столбцами ['userId', 'orders'],\n",
    "# в них для пользователей, которые заказывали хотя бы 1 раз, укажем число совершённых заказов \n",
    "ordersByUsersA = (\n",
    "    orders[orders['group'] == 'A']\n",
    "    .groupby('visitor_id', as_index=False)\n",
    "    .agg({'transaction_id': pd.Series.nunique})\n",
    ")\n",
    "ordersByUsersA.columns = ['visitor_id', 'orders']\n",
    "\n",
    "ordersByUsersB = (\n",
    "    orders[orders['group'] == 'B']\n",
    "    .groupby('visitor_id', as_index=False)\n",
    "    .agg({'transaction_id': pd.Series.nunique})\n",
    ")\n",
    "ordersByUsersB.columns = ['visitor_id', 'orders'] \n",
    "\n",
    "pd.Series(0, index=np.arange(data['visitorsPerDateA'].sum() - len(ordersByUsersA['orders'])), name='orders')\n",
    "\n",
    "[ordersByUsersA['orders'],pd.Series(0, index=np.arange(data['visitorsPerDateA'].sum() - len(ordersByUsersA['orders'])), name='orders')]\n",
    "\n",
    "# объявим переменные sampleA и sampleB, в которых пользователям из разных групп будет соответствовать количество заказов.\n",
    "# Тем, кто ничего не заказал, будут соответствовать нули. Это нужно, чтобы подготовить выборки к проверке критерием Манна-Уитни.\n",
    "sampleA = pd.concat([ordersByUsersA['orders'],pd.Series(0, index=np.arange(data['visitorsPerDateA'].sum() - len(ordersByUsersA['orders'])), name='orders')],axis=0)\n",
    "sampleB = pd.concat([ordersByUsersB['orders'],pd.Series(0, index=np.arange(data['visitorsPerDateB'].sum() - len(ordersByUsersB['orders'])), name='orders')],axis=0)\n",
    " \n",
    "    \n",
    "ordersByUsersA = (\n",
    "    orders[orders['group'] == 'A']\n",
    "    .groupby('visitor_id', as_index=False)\n",
    "    .agg({'transaction_id': pd.Series.nunique})\n",
    ")\n",
    "ordersByUsersA.columns = ['visitor_id', 'orders']\n",
    "\n",
    "ordersByUsersB = (\n",
    "    orders[orders['group'] == 'B']\n",
    "    .groupby('visitor_id', as_index=False)\n",
    "    .agg({'transaction_id': pd.Series.nunique})\n",
    ")\n",
    "ordersByUsersB.columns = ['visitor_id', 'orders']\n",
    "\n",
    "\n",
    "sampleA = pd.concat(\n",
    "    [\n",
    "        ordersByUsersA['orders'],\n",
    "        pd.Series(\n",
    "            0,\n",
    "            index=np.arange(\n",
    "                data['visitorsPerDateA'].sum() - len(ordersByUsersA['orders'])\n",
    "            ),\n",
    "            name='orders',\n",
    "        ),\n",
    "    ],\n",
    "    axis=0,\n",
    ")\n",
    "\n",
    "sampleB = pd.concat(\n",
    "    [\n",
    "        ordersByUsersB['orders'],\n",
    "        pd.Series(\n",
    "            0,\n",
    "            index=np.arange(\n",
    "                data['visitorsPerDateB'].sum() - len(ordersByUsersB['orders'])\n",
    "            ),\n",
    "            name='orders',\n",
    "        ),\n",
    "    ],\n",
    "    axis=0,\n",
    ")"
   ]
  },
  {
   "cell_type": "code",
   "execution_count": 31,
   "metadata": {},
   "outputs": [
    {
     "name": "stdout",
     "output_type": "stream",
     "text": [
      "p-value = 0.017\n",
      "Oтносительный выигрыш группы B = 0.138\n"
     ]
    }
   ],
   "source": [
    "# применим критерий и отформатируем p-value, округлив его до трёх знаков после запятой\n",
    "print('p-value =', \"{0:.3f}\".format(stats.mannwhitneyu(sampleA, sampleB)[1]))\n",
    "print('Oтносительный выигрыш группы B =', \"{0:.3f}\".format(sampleB.mean() / sampleA.mean() - 1))"
   ]
  },
  {
   "cell_type": "markdown",
   "metadata": {},
   "source": [
    "**Промежуточные выводы:** \\\n",
    "По «сырым» данным есть различия в среднем числе заказов групп A и B. \\\n",
    "Первое число — p-value = 0.017 меньше 0.05. Значит, нулевую гипотезу о том, что статистически значимых различий в среднем числе заказов между группами нет, отвергаем. И относительный выгрыш группы B равен 13,8% — второе число в выводе."
   ]
  },
  {
   "cell_type": "markdown",
   "metadata": {},
   "source": [
    "### 3.11. Посчитаем статистическую значимость различий в среднем чеке заказа между группами по «сырым» данным. Сделаем выводы и предположения"
   ]
  },
  {
   "cell_type": "markdown",
   "metadata": {},
   "source": [
    "Проверим статистическую значимость различий в среднем чеке между сегментами.\\\n",
    "Нулевая гипотеза: различий в среднем чеке между группами нет.\\\n",
    "Альтернативная гипотеза: различия в среднем чеке между группами есть. "
   ]
  },
  {
   "cell_type": "code",
   "execution_count": 32,
   "metadata": {},
   "outputs": [
    {
     "name": "stdout",
     "output_type": "stream",
     "text": [
      "p-value = 0.729\n",
      "Cредний чек группы B выше А на = 0.259\n"
     ]
    }
   ],
   "source": [
    "# применим критерий и передадим данные о выручке с заказов\n",
    "# найдём относительные различия в среднем чеке между группами\n",
    "print('p-value =', '{0:.3f}'.format(stats.mannwhitneyu(orders[orders['group']=='A']['revenue'], orders[orders['group']=='B']['revenue'])[1]))\n",
    "print('Cредний чек группы B выше А на =', '{0:.3f}'.format(orders[orders['group']=='B']['revenue'].mean()/orders[orders['group']=='A']['revenue'].mean()-1)) "
   ]
  },
  {
   "cell_type": "markdown",
   "metadata": {},
   "source": [
    "**Промежуточные выводы:** \\\n",
    "P-value значительно больше 0.05. Значит, причин отвергать нулевую гипотезу и считать, что в среднем чеке есть различия по \"сырым\" данным, нет. И средний чек группы B на 25,9% выше среднего чека группы A."
   ]
  },
  {
   "cell_type": "markdown",
   "metadata": {},
   "source": [
    "### 3.12. Посчитаем статистическую значимость различий в среднем количестве заказов на посетителя между группами по «очищенным» данным. Сделаем выводы и предположения"
   ]
  },
  {
   "cell_type": "markdown",
   "metadata": {},
   "source": [
    "Примем за аномальных пользователей тех, кто совершил от 4 заказов или совершил заказ дороже 28 000 у.е.\\\n",
    "Так мы уберём 1% пользователей с наибольшим числом заказов и от 1% до 5% пользователей с дорогими заказами.\\\n",
    "Сделаем срезы пользователей с числом заказов больше 4 — usersWithManyOrders и пользователей, совершивших заказы дороже 28 000 — usersWithExpensiveOrders. Объединим их в таблице abnormalUsers."
   ]
  },
  {
   "cell_type": "code",
   "execution_count": 33,
   "metadata": {},
   "outputs": [
    {
     "name": "stdout",
     "output_type": "stream",
     "text": [
      "1099    148427295\n",
      "928     204675465\n",
      "684     358944393\n",
      "648     382846391\n",
      "1189    393266494\n",
      "Name: visitor_id, dtype: int64\n",
      "\n",
      "Количество аномальных пользователей = 59\n"
     ]
    }
   ],
   "source": [
    "usersWithManyOrders = pd.concat(\n",
    "    [\n",
    "        ordersByUsersA[ordersByUsersA['orders'] > np.percentile(ordersByUsers['orders'], 99)]['visitor_id'],\n",
    "        ordersByUsersB[ordersByUsersB['orders'] > np.percentile(ordersByUsers['orders'], 99)]['visitor_id'],\n",
    "    ],\n",
    "    axis=0,\n",
    ")\n",
    "usersWithExpensiveOrders = orders[orders['revenue'] > np.percentile(orders['revenue'], 95)]['visitor_id']\n",
    "abnormalUsers = (\n",
    "    pd.concat([usersWithManyOrders, usersWithExpensiveOrders], axis=0)\n",
    "    .drop_duplicates()\n",
    "    .sort_values()\n",
    ")\n",
    "print(abnormalUsers.head(5))\n",
    "print()\n",
    "print('Количество аномальных пользователей =', abnormalUsers.shape[0])"
   ]
  },
  {
   "cell_type": "markdown",
   "metadata": {},
   "source": [
    "Посчитаем статистическую значимость различий в среднем количестве заказов между группами теста по очищенным данным.\n",
    "    \n",
    "    \n",
    "Сформулируем гипотезы.\\\n",
    "Нулевая: статистически значимых различий в среднем количестве заказов между группами по очищенным данным нет.\\\n",
    "Альтернативная: статистически значимые различия в среднем количестве заказов между группами по очищенным данным есть. \n",
    "    \n",
    "\n",
    "    \n",
    "Для уровеня значимости установим стандартный уровень статистической значимости, равный 0.05.\n",
    "\n",
    "    \n",
    "    \n",
    "Так как в данных о продажах и средних чеках есть (по сравнению с нормальным распределением) выбросы, то для проверки гипотез будем использовать непараметрический тест Уилкоксона-Манна-Уитни."
   ]
  },
  {
   "cell_type": "code",
   "execution_count": 34,
   "metadata": {},
   "outputs": [],
   "source": [
    "# подготовим выборки количества заказов по пользователям по группам теста\n",
    "sampleAFiltered = pd.concat(\n",
    "    [\n",
    "        ordersByUsersA[\n",
    "            np.logical_not(ordersByUsersA['visitor_id'].isin(abnormalUsers))\n",
    "        ]['orders'],\n",
    "        pd.Series(\n",
    "            0,\n",
    "            index=np.arange(\n",
    "                data['visitorsPerDateA'].sum() - len(ordersByUsersA['orders'])\n",
    "            ),\n",
    "            name='orders',\n",
    "        ),\n",
    "    ],\n",
    "    axis=0,\n",
    ")\n",
    "\n",
    "sampleBFiltered = pd.concat(\n",
    "    [\n",
    "        ordersByUsersB[\n",
    "            np.logical_not(ordersByUsersB['visitor_id'].isin(abnormalUsers))\n",
    "        ]['orders'],\n",
    "        pd.Series(\n",
    "            0,\n",
    "            index=np.arange(\n",
    "                data['visitorsPerDateB'].sum() - len(ordersByUsersB['orders'])\n",
    "            ),\n",
    "            name='orders',\n",
    "        ),\n",
    "    ],\n",
    "    axis=0,\n",
    ")"
   ]
  },
  {
   "cell_type": "code",
   "execution_count": 35,
   "metadata": {},
   "outputs": [
    {
     "name": "stdout",
     "output_type": "stream",
     "text": [
      "P-value = 0.018\n",
      "Oтносительный выгрыш группы B равен = 0.145\n"
     ]
    }
   ],
   "source": [
    "# применим статистический критерий Манна-Уитни к полученным выборкам\n",
    "print('P-value =', '{0:.3f}'.format(stats.mannwhitneyu(sampleAFiltered, sampleBFiltered)[1]))\n",
    "print('Oтносительный выгрыш группы B равен =', '{0:.3f}'.format(sampleBFiltered.mean()/sampleAFiltered.mean()-1)) "
   ]
  },
  {
   "cell_type": "markdown",
   "metadata": {},
   "source": [
    "**Промежуточные выводы:** \\\n",
    "     Результаты по среднему количеству заказов практически не изменились, т.е. и по очищенным данным есть различия в среднем числе заказов групп A и B.\\\n",
    "Первое число — p-value = 0.018 меньше 0.05. Значит, нулевую гипотезу о том, что статистически значимых различий в среднем числе заказов между группами нет, отвергаем. И относительный выгрыш группы B равен 14,8% — второе число в выводе.  "
   ]
  },
  {
   "cell_type": "markdown",
   "metadata": {},
   "source": [
    "### 3.13. Посчитаем статистическую значимость различий в среднем чеке заказа между группами по «очищенным» данным. Сделаем выводы и предположения"
   ]
  },
  {
   "cell_type": "markdown",
   "metadata": {},
   "source": [
    "Посчитаем статистическую значимость различий в среднем чеке заказа между группами по «очищенным» данным.\n",
    "\n",
    "Сформулируем гипотезы.\n",
    "Нулевая: статистически значимых различий в среднем чеке заказа между группами по очищенным данным нет.\n",
    "Альтернативная: статистически значимые различия в в среднем чеке заказа между группами по очищенным данным есть.\n",
    "\n",
    "Для уровеня значимости установим стандартный уровень статистической значимости, равный 0.05.\n",
    "\n",
    "Так как в данных о продажах и средних чеках есть (по сравнению с нормальным распределением) выбросы, то для проверки гипотез будем использовать непараметрический тест Уилкоксона-Манна-Уитни."
   ]
  },
  {
   "cell_type": "code",
   "execution_count": 36,
   "metadata": {},
   "outputs": [
    {
     "name": "stdout",
     "output_type": "stream",
     "text": [
      "p-value =  0.961\n",
      "Cредний чек группы B меньше А на =-0.014\n"
     ]
    }
   ],
   "source": [
    "print('p-value = ',\n",
    "    '{0:.3f}'.format(\n",
    "        stats.mannwhitneyu(\n",
    "            orders[\n",
    "                np.logical_and(\n",
    "                    orders['group'] == 'A',\n",
    "                    np.logical_not(orders['visitor_id'].isin(abnormalUsers)),\n",
    "                )\n",
    "            ]['revenue'],\n",
    "            orders[\n",
    "                np.logical_and(\n",
    "                    orders['group'] == 'B',\n",
    "                    np.logical_not(orders['visitor_id'].isin(abnormalUsers)),\n",
    "                )\n",
    "            ]['revenue'],\n",
    "        )[1]\n",
    "    )\n",
    ")\n",
    "\n",
    "print('Cредний чек группы B меньше А на ='\n",
    "    \"{0:.3f}\".format(\n",
    "        orders[\n",
    "            np.logical_and(\n",
    "                orders['group'] == 'B',\n",
    "                np.logical_not(orders['visitor_id'].isin(abnormalUsers)),\n",
    "            )\n",
    "        ]['revenue'].mean()\n",
    "        / orders[\n",
    "            np.logical_and(\n",
    "                orders['group'] == 'A',\n",
    "                np.logical_not(orders['visitor_id'].isin(abnormalUsers)),\n",
    "            )\n",
    "        ]['revenue'].mean()\n",
    "        - 1\n",
    "    )\n",
    ")"
   ]
  },
  {
   "cell_type": "markdown",
   "metadata": {},
   "source": [
    "**Промежуточные выводы:** \\\n",
    "P-value увеличился (с 72,9% до 97,7%), но и разница между сегментами иная - средний чек группы В стал меньше А на 1,7% (ранее чек был больше на 25,9%)."
   ]
  },
  {
   "cell_type": "markdown",
   "metadata": {},
   "source": [
    "### 3.14. Примим решение по результатам теста и объясним его. Варианты решений: 1. Остановить тест, зафиксировать победу одной из групп. 2. Остановить тест, зафиксировать отсутствие различий между группами. 3. Продолжить тест."
   ]
  },
  {
   "cell_type": "markdown",
   "metadata": {},
   "source": [
    "Имеющиеся факты:\\\n",
    "• Есть статистически значимое различие по среднему количеству заказов между группами и по «сырым», и по данным после фильтрации аномалий (относительный выгрыш группы B равен 13,8-14,8%);\\\n",
    "• Нет статистически значимого различия по среднему чеку между группами ни по «сырым», ни по данным после фильтрации аномалий (при этом средний чек группы В меньше на \"очищенных\" данных на 1,7%);\\\n",
    "• График различия среднего количества заказов между группами сообщает, что результаты группы B лучше группы A и  есть тенденции к улучшению ( прирост составил в районе 10% относительно группы A).\n",
    "\n",
    "Исходя из обнаруженных фактов, тест следует остановить и признать победу группы В."
   ]
  }
 ],
 "metadata": {
  "ExecuteTimeLog": [
   {
    "duration": 789,
    "start_time": "2024-01-06T15:38:10.132Z"
   },
   {
    "duration": 105,
    "start_time": "2024-01-06T15:43:53.688Z"
   },
   {
    "duration": 196,
    "start_time": "2024-01-06T15:44:23.837Z"
   },
   {
    "duration": 11,
    "start_time": "2024-01-06T15:47:08.781Z"
   },
   {
    "duration": 16,
    "start_time": "2024-01-06T15:47:17.350Z"
   },
   {
    "duration": 20,
    "start_time": "2024-01-06T15:47:22.207Z"
   },
   {
    "duration": 8,
    "start_time": "2024-01-06T15:48:31.150Z"
   },
   {
    "duration": 7,
    "start_time": "2024-01-06T15:48:40.815Z"
   },
   {
    "duration": 23,
    "start_time": "2024-01-06T15:49:10.422Z"
   },
   {
    "duration": 22,
    "start_time": "2024-01-06T15:49:23.038Z"
   },
   {
    "duration": 7,
    "start_time": "2024-01-06T15:51:44.983Z"
   },
   {
    "duration": 4,
    "start_time": "2024-01-06T15:56:18.361Z"
   },
   {
    "duration": 5,
    "start_time": "2024-01-06T15:59:24.241Z"
   },
   {
    "duration": 6,
    "start_time": "2024-01-06T16:00:50.777Z"
   },
   {
    "duration": 48,
    "start_time": "2024-01-06T19:26:53.284Z"
   },
   {
    "duration": 389,
    "start_time": "2024-01-06T19:27:01.771Z"
   },
   {
    "duration": 188,
    "start_time": "2024-01-06T19:27:02.162Z"
   },
   {
    "duration": 48,
    "start_time": "2024-01-06T19:27:02.351Z"
   },
   {
    "duration": 43,
    "start_time": "2024-01-06T19:27:02.402Z"
   },
   {
    "duration": 23,
    "start_time": "2024-01-06T19:27:02.447Z"
   },
   {
    "duration": 7,
    "start_time": "2024-01-06T19:27:02.472Z"
   },
   {
    "duration": 19,
    "start_time": "2024-01-06T19:27:02.480Z"
   },
   {
    "duration": 16,
    "start_time": "2024-01-06T19:27:02.501Z"
   },
   {
    "duration": 15,
    "start_time": "2024-01-06T19:27:02.519Z"
   },
   {
    "duration": 10,
    "start_time": "2024-01-06T19:32:43.703Z"
   },
   {
    "duration": 449,
    "start_time": "2024-01-06T19:56:02.924Z"
   },
   {
    "duration": 76,
    "start_time": "2024-01-06T19:56:03.375Z"
   },
   {
    "duration": 31,
    "start_time": "2024-01-06T19:56:03.452Z"
   },
   {
    "duration": 25,
    "start_time": "2024-01-06T19:56:03.485Z"
   },
   {
    "duration": 10,
    "start_time": "2024-01-06T19:56:03.512Z"
   },
   {
    "duration": 5,
    "start_time": "2024-01-06T19:56:03.543Z"
   },
   {
    "duration": 10,
    "start_time": "2024-01-06T19:56:03.549Z"
   },
   {
    "duration": 6,
    "start_time": "2024-01-06T19:56:03.561Z"
   },
   {
    "duration": 11,
    "start_time": "2024-01-06T19:56:03.569Z"
   },
   {
    "duration": 8,
    "start_time": "2024-01-06T19:56:03.583Z"
   },
   {
    "duration": 79,
    "start_time": "2024-01-06T20:15:24.459Z"
   },
   {
    "duration": 395,
    "start_time": "2024-01-06T20:15:58.092Z"
   },
   {
    "duration": 74,
    "start_time": "2024-01-06T20:15:58.489Z"
   },
   {
    "duration": 29,
    "start_time": "2024-01-06T20:15:58.564Z"
   },
   {
    "duration": 23,
    "start_time": "2024-01-06T20:15:58.595Z"
   },
   {
    "duration": 26,
    "start_time": "2024-01-06T20:15:58.619Z"
   },
   {
    "duration": 4,
    "start_time": "2024-01-06T20:15:58.647Z"
   },
   {
    "duration": 4,
    "start_time": "2024-01-06T20:15:58.653Z"
   },
   {
    "duration": 7,
    "start_time": "2024-01-06T20:15:58.659Z"
   },
   {
    "duration": 11,
    "start_time": "2024-01-06T20:15:58.667Z"
   },
   {
    "duration": 7,
    "start_time": "2024-01-06T20:15:58.680Z"
   },
   {
    "duration": 348,
    "start_time": "2024-01-06T20:15:58.689Z"
   },
   {
    "duration": 285,
    "start_time": "2024-01-06T20:17:38.178Z"
   },
   {
    "duration": 7,
    "start_time": "2024-01-06T20:19:53.340Z"
   },
   {
    "duration": 63,
    "start_time": "2024-01-06T20:20:28.707Z"
   },
   {
    "duration": 871,
    "start_time": "2024-01-06T20:20:57.522Z"
   },
   {
    "duration": 76,
    "start_time": "2024-01-06T20:20:58.395Z"
   },
   {
    "duration": 28,
    "start_time": "2024-01-06T20:20:58.473Z"
   },
   {
    "duration": 24,
    "start_time": "2024-01-06T20:20:58.503Z"
   },
   {
    "duration": 14,
    "start_time": "2024-01-06T20:20:58.529Z"
   },
   {
    "duration": 15,
    "start_time": "2024-01-06T20:20:58.545Z"
   },
   {
    "duration": 24,
    "start_time": "2024-01-06T20:20:58.562Z"
   },
   {
    "duration": 22,
    "start_time": "2024-01-06T20:20:58.587Z"
   },
   {
    "duration": 15,
    "start_time": "2024-01-06T20:20:58.610Z"
   },
   {
    "duration": 15,
    "start_time": "2024-01-06T20:20:58.627Z"
   },
   {
    "duration": 320,
    "start_time": "2024-01-06T20:20:58.644Z"
   },
   {
    "duration": 6,
    "start_time": "2024-01-06T20:20:58.966Z"
   },
   {
    "duration": 280,
    "start_time": "2024-01-06T20:20:58.973Z"
   },
   {
    "duration": 186,
    "start_time": "2024-01-06T20:22:34.891Z"
   },
   {
    "duration": 172,
    "start_time": "2024-01-06T20:23:07.493Z"
   },
   {
    "duration": 231,
    "start_time": "2024-01-06T20:23:28.387Z"
   },
   {
    "duration": 177,
    "start_time": "2024-01-06T20:24:28.835Z"
   },
   {
    "duration": 191,
    "start_time": "2024-01-06T20:24:32.811Z"
   },
   {
    "duration": 185,
    "start_time": "2024-01-06T20:24:42.555Z"
   },
   {
    "duration": 177,
    "start_time": "2024-01-06T20:27:04.568Z"
   },
   {
    "duration": 186,
    "start_time": "2024-01-06T20:27:15.972Z"
   },
   {
    "duration": 187,
    "start_time": "2024-01-06T20:34:45.071Z"
   },
   {
    "duration": 176,
    "start_time": "2024-01-06T20:34:53.023Z"
   },
   {
    "duration": 170,
    "start_time": "2024-01-06T20:36:57.112Z"
   },
   {
    "duration": 67,
    "start_time": "2024-01-06T20:37:03.478Z"
   },
   {
    "duration": 90,
    "start_time": "2024-01-06T20:37:59.536Z"
   },
   {
    "duration": 192,
    "start_time": "2024-01-06T20:38:08.424Z"
   },
   {
    "duration": 256,
    "start_time": "2024-01-06T20:38:47.922Z"
   },
   {
    "duration": 325,
    "start_time": "2024-01-06T20:38:55.863Z"
   },
   {
    "duration": 252,
    "start_time": "2024-01-06T20:39:11.655Z"
   },
   {
    "duration": 271,
    "start_time": "2024-01-06T20:41:07.328Z"
   },
   {
    "duration": 188,
    "start_time": "2024-01-06T20:41:16.368Z"
   },
   {
    "duration": 262,
    "start_time": "2024-01-06T20:41:24.471Z"
   },
   {
    "duration": 253,
    "start_time": "2024-01-06T20:41:44.399Z"
   },
   {
    "duration": 704,
    "start_time": "2024-01-06T20:41:55.022Z"
   },
   {
    "duration": 74,
    "start_time": "2024-01-06T20:41:55.728Z"
   },
   {
    "duration": 27,
    "start_time": "2024-01-06T20:41:55.803Z"
   },
   {
    "duration": 23,
    "start_time": "2024-01-06T20:41:55.833Z"
   },
   {
    "duration": 10,
    "start_time": "2024-01-06T20:41:55.858Z"
   },
   {
    "duration": 5,
    "start_time": "2024-01-06T20:41:55.870Z"
   },
   {
    "duration": 5,
    "start_time": "2024-01-06T20:41:55.876Z"
   },
   {
    "duration": 6,
    "start_time": "2024-01-06T20:41:55.882Z"
   },
   {
    "duration": 8,
    "start_time": "2024-01-06T20:41:55.890Z"
   },
   {
    "duration": 8,
    "start_time": "2024-01-06T20:41:55.899Z"
   },
   {
    "duration": 293,
    "start_time": "2024-01-06T20:41:55.943Z"
   },
   {
    "duration": 8,
    "start_time": "2024-01-06T20:41:56.238Z"
   },
   {
    "duration": 328,
    "start_time": "2024-01-06T20:41:56.248Z"
   },
   {
    "duration": 200,
    "start_time": "2024-01-06T20:42:20.601Z"
   },
   {
    "duration": 199,
    "start_time": "2024-01-06T20:45:07.065Z"
   },
   {
    "duration": 253,
    "start_time": "2024-01-06T20:45:40.305Z"
   },
   {
    "duration": 191,
    "start_time": "2024-01-06T20:46:26.489Z"
   },
   {
    "duration": 83,
    "start_time": "2024-01-06T21:13:37.896Z"
   },
   {
    "duration": 294,
    "start_time": "2024-01-06T21:14:48.833Z"
   },
   {
    "duration": 264,
    "start_time": "2024-01-06T21:15:31.387Z"
   },
   {
    "duration": 397,
    "start_time": "2024-01-06T21:15:52.249Z"
   },
   {
    "duration": 318,
    "start_time": "2024-01-06T21:16:22.267Z"
   },
   {
    "duration": 321,
    "start_time": "2024-01-06T21:16:33.404Z"
   },
   {
    "duration": 171,
    "start_time": "2024-01-06T21:16:59.027Z"
   },
   {
    "duration": 632,
    "start_time": "2024-01-06T21:17:29.742Z"
   },
   {
    "duration": 74,
    "start_time": "2024-01-06T21:17:30.375Z"
   },
   {
    "duration": 26,
    "start_time": "2024-01-06T21:17:30.451Z"
   },
   {
    "duration": 48,
    "start_time": "2024-01-06T21:17:30.479Z"
   },
   {
    "duration": 32,
    "start_time": "2024-01-06T21:17:30.528Z"
   },
   {
    "duration": 36,
    "start_time": "2024-01-06T21:17:30.561Z"
   },
   {
    "duration": 42,
    "start_time": "2024-01-06T21:17:30.599Z"
   },
   {
    "duration": 34,
    "start_time": "2024-01-06T21:17:30.643Z"
   },
   {
    "duration": 40,
    "start_time": "2024-01-06T21:17:30.678Z"
   },
   {
    "duration": 36,
    "start_time": "2024-01-06T21:17:30.721Z"
   },
   {
    "duration": 328,
    "start_time": "2024-01-06T21:17:30.760Z"
   },
   {
    "duration": 7,
    "start_time": "2024-01-06T21:17:31.090Z"
   },
   {
    "duration": 336,
    "start_time": "2024-01-06T21:17:31.098Z"
   },
   {
    "duration": 211,
    "start_time": "2024-01-06T21:17:31.435Z"
   },
   {
    "duration": 385,
    "start_time": "2024-01-06T21:17:31.648Z"
   },
   {
    "duration": 314,
    "start_time": "2024-01-06T21:18:59.117Z"
   },
   {
    "duration": 407,
    "start_time": "2024-01-06T21:20:06.571Z"
   },
   {
    "duration": 277,
    "start_time": "2024-01-06T21:20:20.075Z"
   },
   {
    "duration": 324,
    "start_time": "2024-01-06T21:20:25.731Z"
   },
   {
    "duration": 291,
    "start_time": "2024-01-06T21:20:35.011Z"
   },
   {
    "duration": 193,
    "start_time": "2024-01-06T21:23:06.301Z"
   },
   {
    "duration": 213,
    "start_time": "2024-01-06T21:23:34.803Z"
   },
   {
    "duration": 249,
    "start_time": "2024-01-06T21:36:23.169Z"
   },
   {
    "duration": 678,
    "start_time": "2024-01-06T21:37:59.548Z"
   },
   {
    "duration": 76,
    "start_time": "2024-01-06T21:38:00.228Z"
   },
   {
    "duration": 27,
    "start_time": "2024-01-06T21:38:00.305Z"
   },
   {
    "duration": 36,
    "start_time": "2024-01-06T21:38:00.334Z"
   },
   {
    "duration": 35,
    "start_time": "2024-01-06T21:38:00.372Z"
   },
   {
    "duration": 58,
    "start_time": "2024-01-06T21:38:00.408Z"
   },
   {
    "duration": 24,
    "start_time": "2024-01-06T21:38:00.468Z"
   },
   {
    "duration": 25,
    "start_time": "2024-01-06T21:38:00.494Z"
   },
   {
    "duration": 64,
    "start_time": "2024-01-06T21:38:00.521Z"
   },
   {
    "duration": 48,
    "start_time": "2024-01-06T21:38:00.588Z"
   },
   {
    "duration": 328,
    "start_time": "2024-01-06T21:38:00.638Z"
   },
   {
    "duration": 6,
    "start_time": "2024-01-06T21:38:00.968Z"
   },
   {
    "duration": 348,
    "start_time": "2024-01-06T21:38:00.976Z"
   },
   {
    "duration": 221,
    "start_time": "2024-01-06T21:38:01.326Z"
   },
   {
    "duration": 323,
    "start_time": "2024-01-06T21:38:01.549Z"
   },
   {
    "duration": 202,
    "start_time": "2024-01-06T21:38:01.874Z"
   },
   {
    "duration": 179,
    "start_time": "2024-01-06T21:38:40.585Z"
   },
   {
    "duration": 205,
    "start_time": "2024-01-06T21:41:20.642Z"
   },
   {
    "duration": 169,
    "start_time": "2024-01-06T21:47:11.946Z"
   },
   {
    "duration": 216,
    "start_time": "2024-01-06T21:47:28.781Z"
   },
   {
    "duration": 298,
    "start_time": "2024-01-06T21:51:35.580Z"
   },
   {
    "duration": 5,
    "start_time": "2024-01-06T21:52:18.684Z"
   },
   {
    "duration": 4,
    "start_time": "2024-01-06T21:52:33.291Z"
   },
   {
    "duration": 72,
    "start_time": "2024-01-06T21:52:37.675Z"
   },
   {
    "duration": 5,
    "start_time": "2024-01-06T21:53:01.547Z"
   },
   {
    "duration": 339,
    "start_time": "2024-01-06T21:53:30.253Z"
   },
   {
    "duration": 267,
    "start_time": "2024-01-06T21:53:57.189Z"
   },
   {
    "duration": 329,
    "start_time": "2024-01-06T21:54:00.205Z"
   },
   {
    "duration": 602,
    "start_time": "2024-01-06T21:54:06.298Z"
   },
   {
    "duration": 74,
    "start_time": "2024-01-06T21:54:06.902Z"
   },
   {
    "duration": 25,
    "start_time": "2024-01-06T21:54:06.978Z"
   },
   {
    "duration": 23,
    "start_time": "2024-01-06T21:54:07.005Z"
   },
   {
    "duration": 9,
    "start_time": "2024-01-06T21:54:07.029Z"
   },
   {
    "duration": 7,
    "start_time": "2024-01-06T21:54:07.040Z"
   },
   {
    "duration": 6,
    "start_time": "2024-01-06T21:54:07.048Z"
   },
   {
    "duration": 6,
    "start_time": "2024-01-06T21:54:07.055Z"
   },
   {
    "duration": 13,
    "start_time": "2024-01-06T21:54:07.062Z"
   },
   {
    "duration": 11,
    "start_time": "2024-01-06T21:54:07.077Z"
   },
   {
    "duration": 314,
    "start_time": "2024-01-06T21:54:07.090Z"
   },
   {
    "duration": 6,
    "start_time": "2024-01-06T21:54:07.406Z"
   },
   {
    "duration": 301,
    "start_time": "2024-01-06T21:54:07.414Z"
   },
   {
    "duration": 226,
    "start_time": "2024-01-06T21:54:07.717Z"
   },
   {
    "duration": 321,
    "start_time": "2024-01-06T21:54:07.944Z"
   },
   {
    "duration": 255,
    "start_time": "2024-01-06T21:54:08.267Z"
   },
   {
    "duration": 392,
    "start_time": "2024-01-06T21:54:08.524Z"
   },
   {
    "duration": 290,
    "start_time": "2024-01-06T21:55:49.087Z"
   },
   {
    "duration": 635,
    "start_time": "2024-01-06T21:58:05.357Z"
   },
   {
    "duration": 75,
    "start_time": "2024-01-06T21:58:05.993Z"
   },
   {
    "duration": 24,
    "start_time": "2024-01-06T21:58:06.070Z"
   },
   {
    "duration": 23,
    "start_time": "2024-01-06T21:58:06.096Z"
   },
   {
    "duration": 8,
    "start_time": "2024-01-06T21:58:06.120Z"
   },
   {
    "duration": 17,
    "start_time": "2024-01-06T21:58:06.129Z"
   },
   {
    "duration": 5,
    "start_time": "2024-01-06T21:58:06.148Z"
   },
   {
    "duration": 6,
    "start_time": "2024-01-06T21:58:06.154Z"
   },
   {
    "duration": 8,
    "start_time": "2024-01-06T21:58:06.162Z"
   },
   {
    "duration": 7,
    "start_time": "2024-01-06T21:58:06.173Z"
   },
   {
    "duration": 351,
    "start_time": "2024-01-06T21:58:06.182Z"
   },
   {
    "duration": 10,
    "start_time": "2024-01-06T21:58:06.535Z"
   },
   {
    "duration": 308,
    "start_time": "2024-01-06T21:58:06.546Z"
   },
   {
    "duration": 234,
    "start_time": "2024-01-06T21:58:06.855Z"
   },
   {
    "duration": 303,
    "start_time": "2024-01-06T21:58:07.091Z"
   },
   {
    "duration": 255,
    "start_time": "2024-01-06T21:58:07.395Z"
   },
   {
    "duration": 407,
    "start_time": "2024-01-06T21:58:07.652Z"
   },
   {
    "duration": 329,
    "start_time": "2024-01-06T21:58:37.350Z"
   },
   {
    "duration": 284,
    "start_time": "2024-01-06T21:58:46.486Z"
   },
   {
    "duration": 317,
    "start_time": "2024-01-06T21:59:02.551Z"
   },
   {
    "duration": 275,
    "start_time": "2024-01-06T22:00:58.543Z"
   },
   {
    "duration": 289,
    "start_time": "2024-01-06T22:01:42.998Z"
   },
   {
    "duration": 310,
    "start_time": "2024-01-06T22:01:54.623Z"
   },
   {
    "duration": 275,
    "start_time": "2024-01-06T22:02:11.383Z"
   },
   {
    "duration": 287,
    "start_time": "2024-01-06T22:04:54.799Z"
   },
   {
    "duration": 310,
    "start_time": "2024-01-06T22:06:34.911Z"
   },
   {
    "duration": 429,
    "start_time": "2024-01-06T22:12:03.337Z"
   },
   {
    "duration": 662,
    "start_time": "2024-01-06T22:14:42.628Z"
   },
   {
    "duration": 74,
    "start_time": "2024-01-06T22:14:43.291Z"
   },
   {
    "duration": 25,
    "start_time": "2024-01-06T22:14:43.366Z"
   },
   {
    "duration": 23,
    "start_time": "2024-01-06T22:14:43.393Z"
   },
   {
    "duration": 32,
    "start_time": "2024-01-06T22:14:43.418Z"
   },
   {
    "duration": 9,
    "start_time": "2024-01-06T22:14:43.452Z"
   },
   {
    "duration": 8,
    "start_time": "2024-01-06T22:14:43.462Z"
   },
   {
    "duration": 7,
    "start_time": "2024-01-06T22:14:43.472Z"
   },
   {
    "duration": 10,
    "start_time": "2024-01-06T22:14:43.480Z"
   },
   {
    "duration": 9,
    "start_time": "2024-01-06T22:14:43.493Z"
   },
   {
    "duration": 339,
    "start_time": "2024-01-06T22:14:43.503Z"
   },
   {
    "duration": 5,
    "start_time": "2024-01-06T22:14:43.844Z"
   },
   {
    "duration": 299,
    "start_time": "2024-01-06T22:14:43.850Z"
   },
   {
    "duration": 224,
    "start_time": "2024-01-06T22:14:44.151Z"
   },
   {
    "duration": 303,
    "start_time": "2024-01-06T22:14:44.376Z"
   },
   {
    "duration": 263,
    "start_time": "2024-01-06T22:14:44.681Z"
   },
   {
    "duration": 316,
    "start_time": "2024-01-06T22:14:44.946Z"
   },
   {
    "duration": 683,
    "start_time": "2024-01-06T22:25:51.924Z"
   },
   {
    "duration": 75,
    "start_time": "2024-01-06T22:25:52.609Z"
   },
   {
    "duration": 25,
    "start_time": "2024-01-06T22:25:52.685Z"
   },
   {
    "duration": 24,
    "start_time": "2024-01-06T22:25:52.713Z"
   },
   {
    "duration": 10,
    "start_time": "2024-01-06T22:25:52.739Z"
   },
   {
    "duration": 6,
    "start_time": "2024-01-06T22:25:52.751Z"
   },
   {
    "duration": 6,
    "start_time": "2024-01-06T22:25:52.759Z"
   },
   {
    "duration": 7,
    "start_time": "2024-01-06T22:25:52.767Z"
   },
   {
    "duration": 9,
    "start_time": "2024-01-06T22:25:52.776Z"
   },
   {
    "duration": 8,
    "start_time": "2024-01-06T22:25:52.787Z"
   },
   {
    "duration": 368,
    "start_time": "2024-01-06T22:25:52.797Z"
   },
   {
    "duration": 7,
    "start_time": "2024-01-06T22:25:53.167Z"
   },
   {
    "duration": 295,
    "start_time": "2024-01-06T22:25:53.176Z"
   },
   {
    "duration": 218,
    "start_time": "2024-01-06T22:25:53.473Z"
   },
   {
    "duration": 296,
    "start_time": "2024-01-06T22:25:53.692Z"
   },
   {
    "duration": 247,
    "start_time": "2024-01-06T22:25:53.990Z"
   },
   {
    "duration": 313,
    "start_time": "2024-01-06T22:25:54.239Z"
   },
   {
    "duration": 48,
    "start_time": "2024-01-07T17:35:36.493Z"
   },
   {
    "duration": 808,
    "start_time": "2024-01-07T17:35:41.309Z"
   },
   {
    "duration": 190,
    "start_time": "2024-01-07T17:35:42.119Z"
   },
   {
    "duration": 26,
    "start_time": "2024-01-07T17:35:42.311Z"
   },
   {
    "duration": 27,
    "start_time": "2024-01-07T17:35:42.339Z"
   },
   {
    "duration": 7,
    "start_time": "2024-01-07T17:35:42.367Z"
   },
   {
    "duration": 8,
    "start_time": "2024-01-07T17:35:42.375Z"
   },
   {
    "duration": 4,
    "start_time": "2024-01-07T17:35:42.384Z"
   },
   {
    "duration": 7,
    "start_time": "2024-01-07T17:35:42.390Z"
   },
   {
    "duration": 9,
    "start_time": "2024-01-07T17:35:42.398Z"
   },
   {
    "duration": 7,
    "start_time": "2024-01-07T17:35:42.409Z"
   },
   {
    "duration": 319,
    "start_time": "2024-01-07T17:35:42.417Z"
   },
   {
    "duration": 20,
    "start_time": "2024-01-07T17:35:42.738Z"
   },
   {
    "duration": 314,
    "start_time": "2024-01-07T17:35:42.759Z"
   },
   {
    "duration": 247,
    "start_time": "2024-01-07T17:35:43.075Z"
   },
   {
    "duration": 389,
    "start_time": "2024-01-07T17:35:43.324Z"
   },
   {
    "duration": 227,
    "start_time": "2024-01-07T17:35:43.715Z"
   },
   {
    "duration": 323,
    "start_time": "2024-01-07T17:35:43.950Z"
   },
   {
    "duration": 162,
    "start_time": "2024-01-07T17:35:44.275Z"
   },
   {
    "duration": 193,
    "start_time": "2024-01-07T17:42:01.899Z"
   },
   {
    "duration": 126,
    "start_time": "2024-01-07T17:43:06.080Z"
   },
   {
    "duration": 128,
    "start_time": "2024-01-07T17:43:31.343Z"
   },
   {
    "duration": 126,
    "start_time": "2024-01-07T17:43:36.120Z"
   },
   {
    "duration": 131,
    "start_time": "2024-01-07T17:43:45.016Z"
   },
   {
    "duration": 118,
    "start_time": "2024-01-07T17:44:15.032Z"
   },
   {
    "duration": 141,
    "start_time": "2024-01-07T17:44:32.545Z"
   },
   {
    "duration": 601,
    "start_time": "2024-01-07T17:49:22.579Z"
   },
   {
    "duration": 72,
    "start_time": "2024-01-07T17:49:23.182Z"
   },
   {
    "duration": 23,
    "start_time": "2024-01-07T17:49:23.255Z"
   },
   {
    "duration": 19,
    "start_time": "2024-01-07T17:49:23.280Z"
   },
   {
    "duration": 20,
    "start_time": "2024-01-07T17:49:23.301Z"
   },
   {
    "duration": 23,
    "start_time": "2024-01-07T17:49:23.322Z"
   },
   {
    "duration": 28,
    "start_time": "2024-01-07T17:49:23.346Z"
   },
   {
    "duration": 17,
    "start_time": "2024-01-07T17:49:23.375Z"
   },
   {
    "duration": 26,
    "start_time": "2024-01-07T17:49:23.393Z"
   },
   {
    "duration": 22,
    "start_time": "2024-01-07T17:49:23.422Z"
   },
   {
    "duration": 292,
    "start_time": "2024-01-07T17:49:23.445Z"
   },
   {
    "duration": 7,
    "start_time": "2024-01-07T17:49:23.738Z"
   },
   {
    "duration": 299,
    "start_time": "2024-01-07T17:49:23.747Z"
   },
   {
    "duration": 201,
    "start_time": "2024-01-07T17:49:24.047Z"
   },
   {
    "duration": 322,
    "start_time": "2024-01-07T17:49:24.249Z"
   },
   {
    "duration": 243,
    "start_time": "2024-01-07T17:49:24.573Z"
   },
   {
    "duration": 333,
    "start_time": "2024-01-07T17:49:24.818Z"
   },
   {
    "duration": 146,
    "start_time": "2024-01-07T17:49:25.153Z"
   },
   {
    "duration": 4,
    "start_time": "2024-01-07T17:51:07.132Z"
   },
   {
    "duration": 655,
    "start_time": "2024-01-07T18:01:05.147Z"
   },
   {
    "duration": 75,
    "start_time": "2024-01-07T18:01:05.804Z"
   },
   {
    "duration": 25,
    "start_time": "2024-01-07T18:01:05.881Z"
   },
   {
    "duration": 23,
    "start_time": "2024-01-07T18:01:05.908Z"
   },
   {
    "duration": 11,
    "start_time": "2024-01-07T18:01:05.933Z"
   },
   {
    "duration": 6,
    "start_time": "2024-01-07T18:01:05.946Z"
   },
   {
    "duration": 6,
    "start_time": "2024-01-07T18:01:05.954Z"
   },
   {
    "duration": 20,
    "start_time": "2024-01-07T18:01:05.962Z"
   },
   {
    "duration": 16,
    "start_time": "2024-01-07T18:01:05.984Z"
   },
   {
    "duration": 12,
    "start_time": "2024-01-07T18:01:06.003Z"
   },
   {
    "duration": 362,
    "start_time": "2024-01-07T18:01:06.017Z"
   },
   {
    "duration": 6,
    "start_time": "2024-01-07T18:01:06.380Z"
   },
   {
    "duration": 291,
    "start_time": "2024-01-07T18:01:06.388Z"
   },
   {
    "duration": 202,
    "start_time": "2024-01-07T18:01:06.681Z"
   },
   {
    "duration": 271,
    "start_time": "2024-01-07T18:01:06.884Z"
   },
   {
    "duration": 238,
    "start_time": "2024-01-07T18:01:07.157Z"
   },
   {
    "duration": 309,
    "start_time": "2024-01-07T18:01:07.396Z"
   },
   {
    "duration": 147,
    "start_time": "2024-01-07T18:01:07.706Z"
   },
   {
    "duration": 4,
    "start_time": "2024-01-07T18:01:07.854Z"
   },
   {
    "duration": 71,
    "start_time": "2024-01-07T18:04:11.962Z"
   },
   {
    "duration": 127,
    "start_time": "2024-01-07T18:04:21.210Z"
   },
   {
    "duration": 9,
    "start_time": "2024-01-07T18:07:37.516Z"
   },
   {
    "duration": 130,
    "start_time": "2024-01-07T18:07:52.628Z"
   },
   {
    "duration": 6,
    "start_time": "2024-01-07T18:08:44.132Z"
   },
   {
    "duration": 120,
    "start_time": "2024-01-07T18:10:23.468Z"
   },
   {
    "duration": 143,
    "start_time": "2024-01-07T18:10:40.413Z"
   },
   {
    "duration": 149,
    "start_time": "2024-01-07T18:11:55.782Z"
   },
   {
    "duration": 4,
    "start_time": "2024-01-07T18:19:44.055Z"
   },
   {
    "duration": 614,
    "start_time": "2024-01-07T18:22:44.360Z"
   },
   {
    "duration": 75,
    "start_time": "2024-01-07T18:22:44.976Z"
   },
   {
    "duration": 27,
    "start_time": "2024-01-07T18:22:45.052Z"
   },
   {
    "duration": 31,
    "start_time": "2024-01-07T18:22:45.081Z"
   },
   {
    "duration": 7,
    "start_time": "2024-01-07T18:22:45.113Z"
   },
   {
    "duration": 19,
    "start_time": "2024-01-07T18:22:45.122Z"
   },
   {
    "duration": 13,
    "start_time": "2024-01-07T18:22:45.142Z"
   },
   {
    "duration": 12,
    "start_time": "2024-01-07T18:22:45.156Z"
   },
   {
    "duration": 25,
    "start_time": "2024-01-07T18:22:45.169Z"
   },
   {
    "duration": 8,
    "start_time": "2024-01-07T18:22:45.196Z"
   },
   {
    "duration": 284,
    "start_time": "2024-01-07T18:22:45.206Z"
   },
   {
    "duration": 6,
    "start_time": "2024-01-07T18:22:45.491Z"
   },
   {
    "duration": 298,
    "start_time": "2024-01-07T18:22:45.498Z"
   },
   {
    "duration": 205,
    "start_time": "2024-01-07T18:22:45.798Z"
   },
   {
    "duration": 290,
    "start_time": "2024-01-07T18:22:46.005Z"
   },
   {
    "duration": 245,
    "start_time": "2024-01-07T18:22:46.297Z"
   },
   {
    "duration": 323,
    "start_time": "2024-01-07T18:22:46.544Z"
   },
   {
    "duration": 9,
    "start_time": "2024-01-07T18:22:46.868Z"
   },
   {
    "duration": 142,
    "start_time": "2024-01-07T18:22:46.878Z"
   },
   {
    "duration": 4,
    "start_time": "2024-01-07T18:22:47.021Z"
   },
   {
    "duration": 20,
    "start_time": "2024-01-07T18:22:47.026Z"
   },
   {
    "duration": 143,
    "start_time": "2024-01-07T18:22:47.047Z"
   },
   {
    "duration": 4,
    "start_time": "2024-01-07T18:22:47.191Z"
   },
   {
    "duration": 632,
    "start_time": "2024-01-07T20:24:27.353Z"
   },
   {
    "duration": 72,
    "start_time": "2024-01-07T20:24:27.987Z"
   },
   {
    "duration": 23,
    "start_time": "2024-01-07T20:24:28.061Z"
   },
   {
    "duration": 21,
    "start_time": "2024-01-07T20:24:28.086Z"
   },
   {
    "duration": 7,
    "start_time": "2024-01-07T20:24:28.108Z"
   },
   {
    "duration": 5,
    "start_time": "2024-01-07T20:24:28.116Z"
   },
   {
    "duration": 6,
    "start_time": "2024-01-07T20:24:28.141Z"
   },
   {
    "duration": 6,
    "start_time": "2024-01-07T20:24:28.148Z"
   },
   {
    "duration": 12,
    "start_time": "2024-01-07T20:24:28.156Z"
   },
   {
    "duration": 8,
    "start_time": "2024-01-07T20:24:28.170Z"
   },
   {
    "duration": 314,
    "start_time": "2024-01-07T20:24:28.180Z"
   },
   {
    "duration": 6,
    "start_time": "2024-01-07T20:24:28.495Z"
   },
   {
    "duration": 318,
    "start_time": "2024-01-07T20:24:28.502Z"
   },
   {
    "duration": 210,
    "start_time": "2024-01-07T20:24:28.822Z"
   },
   {
    "duration": 313,
    "start_time": "2024-01-07T20:24:29.033Z"
   },
   {
    "duration": 245,
    "start_time": "2024-01-07T20:24:29.347Z"
   },
   {
    "duration": 294,
    "start_time": "2024-01-07T20:24:29.593Z"
   },
   {
    "duration": 8,
    "start_time": "2024-01-07T20:24:29.889Z"
   },
   {
    "duration": 144,
    "start_time": "2024-01-07T20:24:29.899Z"
   },
   {
    "duration": 3,
    "start_time": "2024-01-07T20:24:30.045Z"
   },
   {
    "duration": 54,
    "start_time": "2024-01-07T20:24:30.050Z"
   },
   {
    "duration": 173,
    "start_time": "2024-01-07T20:24:30.105Z"
   },
   {
    "duration": 4,
    "start_time": "2024-01-07T20:24:30.279Z"
   },
   {
    "duration": 218,
    "start_time": "2024-01-07T20:24:30.284Z"
   },
   {
    "duration": 1299,
    "start_time": "2024-01-07T20:25:50.653Z"
   },
   {
    "duration": 114,
    "start_time": "2024-01-07T20:41:29.729Z"
   },
   {
    "duration": 120,
    "start_time": "2024-01-07T20:43:25.827Z"
   },
   {
    "duration": 100,
    "start_time": "2024-01-07T20:44:20.815Z"
   },
   {
    "duration": 447,
    "start_time": "2024-01-07T20:44:42.206Z"
   },
   {
    "duration": 1082,
    "start_time": "2024-01-07T20:45:18.628Z"
   },
   {
    "duration": 81,
    "start_time": "2024-01-07T20:45:19.712Z"
   },
   {
    "duration": 30,
    "start_time": "2024-01-07T20:45:19.795Z"
   },
   {
    "duration": 21,
    "start_time": "2024-01-07T20:45:19.827Z"
   },
   {
    "duration": 8,
    "start_time": "2024-01-07T20:45:19.849Z"
   },
   {
    "duration": 8,
    "start_time": "2024-01-07T20:45:19.858Z"
   },
   {
    "duration": 8,
    "start_time": "2024-01-07T20:45:19.867Z"
   },
   {
    "duration": 11,
    "start_time": "2024-01-07T20:45:19.876Z"
   },
   {
    "duration": 16,
    "start_time": "2024-01-07T20:45:19.888Z"
   },
   {
    "duration": 26,
    "start_time": "2024-01-07T20:45:19.907Z"
   },
   {
    "duration": 294,
    "start_time": "2024-01-07T20:45:19.934Z"
   },
   {
    "duration": 6,
    "start_time": "2024-01-07T20:45:20.229Z"
   },
   {
    "duration": 311,
    "start_time": "2024-01-07T20:45:20.236Z"
   },
   {
    "duration": 230,
    "start_time": "2024-01-07T20:45:20.548Z"
   },
   {
    "duration": 289,
    "start_time": "2024-01-07T20:45:20.779Z"
   },
   {
    "duration": 206,
    "start_time": "2024-01-07T20:45:21.070Z"
   },
   {
    "duration": 283,
    "start_time": "2024-01-07T20:45:21.278Z"
   },
   {
    "duration": 8,
    "start_time": "2024-01-07T20:45:21.562Z"
   },
   {
    "duration": 166,
    "start_time": "2024-01-07T20:45:21.572Z"
   },
   {
    "duration": 6,
    "start_time": "2024-01-07T20:45:21.741Z"
   },
   {
    "duration": 12,
    "start_time": "2024-01-07T20:45:21.749Z"
   },
   {
    "duration": 197,
    "start_time": "2024-01-07T20:45:21.763Z"
   },
   {
    "duration": 5,
    "start_time": "2024-01-07T20:45:21.961Z"
   },
   {
    "duration": 515,
    "start_time": "2024-01-07T20:45:21.967Z"
   },
   {
    "duration": 311,
    "start_time": "2024-01-07T20:45:50.867Z"
   },
   {
    "duration": 259,
    "start_time": "2024-01-07T20:45:54.699Z"
   },
   {
    "duration": 237,
    "start_time": "2024-01-07T21:04:12.968Z"
   },
   {
    "duration": 36,
    "start_time": "2024-01-07T21:04:41.158Z"
   },
   {
    "duration": 24,
    "start_time": "2024-01-07T21:04:51.624Z"
   },
   {
    "duration": 24,
    "start_time": "2024-01-07T21:06:36.103Z"
   },
   {
    "duration": 23,
    "start_time": "2024-01-07T21:07:03.054Z"
   },
   {
    "duration": 25,
    "start_time": "2024-01-07T21:08:24.199Z"
   },
   {
    "duration": 25,
    "start_time": "2024-01-07T21:22:09.035Z"
   },
   {
    "duration": 11,
    "start_time": "2024-01-07T21:36:40.234Z"
   },
   {
    "duration": 24,
    "start_time": "2024-01-07T21:42:32.670Z"
   },
   {
    "duration": 11,
    "start_time": "2024-01-07T21:50:17.259Z"
   },
   {
    "duration": 10,
    "start_time": "2024-01-07T21:52:30.794Z"
   },
   {
    "duration": 1267,
    "start_time": "2024-01-08T16:06:02.144Z"
   },
   {
    "duration": 184,
    "start_time": "2024-01-08T16:06:03.413Z"
   },
   {
    "duration": 24,
    "start_time": "2024-01-08T16:06:03.598Z"
   },
   {
    "duration": 44,
    "start_time": "2024-01-08T16:06:03.623Z"
   },
   {
    "duration": 6,
    "start_time": "2024-01-08T16:06:03.669Z"
   },
   {
    "duration": 8,
    "start_time": "2024-01-08T16:06:03.677Z"
   },
   {
    "duration": 13,
    "start_time": "2024-01-08T16:06:03.686Z"
   },
   {
    "duration": 22,
    "start_time": "2024-01-08T16:06:03.700Z"
   },
   {
    "duration": 26,
    "start_time": "2024-01-08T16:06:03.723Z"
   },
   {
    "duration": 39,
    "start_time": "2024-01-08T16:06:03.752Z"
   },
   {
    "duration": 279,
    "start_time": "2024-01-08T16:06:03.793Z"
   },
   {
    "duration": 6,
    "start_time": "2024-01-08T16:06:04.073Z"
   },
   {
    "duration": 269,
    "start_time": "2024-01-08T16:06:04.081Z"
   },
   {
    "duration": 200,
    "start_time": "2024-01-08T16:06:04.351Z"
   },
   {
    "duration": 361,
    "start_time": "2024-01-08T16:06:04.552Z"
   },
   {
    "duration": 206,
    "start_time": "2024-01-08T16:06:04.914Z"
   },
   {
    "duration": 296,
    "start_time": "2024-01-08T16:06:05.122Z"
   },
   {
    "duration": 9,
    "start_time": "2024-01-08T16:06:05.420Z"
   },
   {
    "duration": 194,
    "start_time": "2024-01-08T16:06:05.430Z"
   },
   {
    "duration": 4,
    "start_time": "2024-01-08T16:06:05.625Z"
   },
   {
    "duration": 60,
    "start_time": "2024-01-08T16:06:05.631Z"
   },
   {
    "duration": 167,
    "start_time": "2024-01-08T16:06:05.693Z"
   },
   {
    "duration": 6,
    "start_time": "2024-01-08T16:06:05.861Z"
   },
   {
    "duration": 211,
    "start_time": "2024-01-08T16:06:05.869Z"
   },
   {
    "duration": 259,
    "start_time": "2024-01-08T16:06:06.081Z"
   },
   {
    "duration": 31,
    "start_time": "2024-01-08T16:06:06.342Z"
   },
   {
    "duration": 11,
    "start_time": "2024-01-08T16:06:06.374Z"
   },
   {
    "duration": 1210,
    "start_time": "2024-01-08T16:15:09.506Z"
   },
   {
    "duration": 8,
    "start_time": "2024-01-08T16:16:36.607Z"
   },
   {
    "duration": 8,
    "start_time": "2024-01-08T16:19:25.750Z"
   },
   {
    "duration": 8,
    "start_time": "2024-01-08T16:19:34.461Z"
   },
   {
    "duration": 1119,
    "start_time": "2024-01-08T16:24:06.529Z"
   },
   {
    "duration": 0,
    "start_time": "2024-01-08T16:24:07.650Z"
   },
   {
    "duration": 7,
    "start_time": "2024-01-08T16:24:22.977Z"
   },
   {
    "duration": 23,
    "start_time": "2024-01-08T16:24:23.656Z"
   },
   {
    "duration": 24,
    "start_time": "2024-01-08T16:31:17.170Z"
   },
   {
    "duration": 15,
    "start_time": "2024-01-08T16:38:43.006Z"
   },
   {
    "duration": 12,
    "start_time": "2024-01-08T16:39:55.480Z"
   },
   {
    "duration": 12,
    "start_time": "2024-01-08T16:42:26.725Z"
   },
   {
    "duration": 13,
    "start_time": "2024-01-08T16:42:37.167Z"
   },
   {
    "duration": 1219,
    "start_time": "2024-01-09T06:16:18.449Z"
   },
   {
    "duration": 186,
    "start_time": "2024-01-09T06:16:19.672Z"
   },
   {
    "duration": 27,
    "start_time": "2024-01-09T06:16:19.862Z"
   },
   {
    "duration": 23,
    "start_time": "2024-01-09T06:16:19.890Z"
   },
   {
    "duration": 11,
    "start_time": "2024-01-09T06:16:19.914Z"
   },
   {
    "duration": 4,
    "start_time": "2024-01-09T06:16:19.926Z"
   },
   {
    "duration": 10,
    "start_time": "2024-01-09T06:16:19.932Z"
   },
   {
    "duration": 15,
    "start_time": "2024-01-09T06:16:19.944Z"
   },
   {
    "duration": 12,
    "start_time": "2024-01-09T06:16:19.961Z"
   },
   {
    "duration": 8,
    "start_time": "2024-01-09T06:16:19.975Z"
   },
   {
    "duration": 283,
    "start_time": "2024-01-09T06:16:19.985Z"
   },
   {
    "duration": 5,
    "start_time": "2024-01-09T06:16:20.270Z"
   },
   {
    "duration": 293,
    "start_time": "2024-01-09T06:16:20.276Z"
   },
   {
    "duration": 205,
    "start_time": "2024-01-09T06:16:20.571Z"
   },
   {
    "duration": 369,
    "start_time": "2024-01-09T06:16:20.778Z"
   },
   {
    "duration": 191,
    "start_time": "2024-01-09T06:16:21.148Z"
   },
   {
    "duration": 288,
    "start_time": "2024-01-09T06:16:21.342Z"
   },
   {
    "duration": 9,
    "start_time": "2024-01-09T06:16:21.632Z"
   },
   {
    "duration": 156,
    "start_time": "2024-01-09T06:16:21.643Z"
   },
   {
    "duration": 4,
    "start_time": "2024-01-09T06:16:21.800Z"
   },
   {
    "duration": 6,
    "start_time": "2024-01-09T06:16:21.806Z"
   },
   {
    "duration": 161,
    "start_time": "2024-01-09T06:16:21.814Z"
   },
   {
    "duration": 4,
    "start_time": "2024-01-09T06:16:21.978Z"
   },
   {
    "duration": 213,
    "start_time": "2024-01-09T06:16:21.984Z"
   },
   {
    "duration": 262,
    "start_time": "2024-01-09T06:16:22.199Z"
   },
   {
    "duration": 30,
    "start_time": "2024-01-09T06:16:22.462Z"
   },
   {
    "duration": 24,
    "start_time": "2024-01-09T06:16:22.495Z"
   },
   {
    "duration": 9,
    "start_time": "2024-01-09T06:16:22.521Z"
   },
   {
    "duration": 9,
    "start_time": "2024-01-09T06:16:22.532Z"
   },
   {
    "duration": 28,
    "start_time": "2024-01-09T06:16:22.543Z"
   },
   {
    "duration": 43,
    "start_time": "2024-01-09T06:16:22.573Z"
   },
   {
    "duration": 1336,
    "start_time": "2024-01-09T06:21:25.281Z"
   },
   {
    "duration": 197,
    "start_time": "2024-01-09T06:21:26.619Z"
   },
   {
    "duration": 29,
    "start_time": "2024-01-09T06:21:26.818Z"
   },
   {
    "duration": 25,
    "start_time": "2024-01-09T06:21:26.849Z"
   },
   {
    "duration": 10,
    "start_time": "2024-01-09T06:21:26.876Z"
   },
   {
    "duration": 6,
    "start_time": "2024-01-09T06:21:26.888Z"
   },
   {
    "duration": 10,
    "start_time": "2024-01-09T06:21:26.923Z"
   },
   {
    "duration": 18,
    "start_time": "2024-01-09T06:21:26.934Z"
   },
   {
    "duration": 10,
    "start_time": "2024-01-09T06:21:26.954Z"
   },
   {
    "duration": 9,
    "start_time": "2024-01-09T06:21:26.967Z"
   },
   {
    "duration": 322,
    "start_time": "2024-01-09T06:21:26.978Z"
   },
   {
    "duration": 6,
    "start_time": "2024-01-09T06:21:27.301Z"
   },
   {
    "duration": 322,
    "start_time": "2024-01-09T06:21:27.309Z"
   },
   {
    "duration": 222,
    "start_time": "2024-01-09T06:21:27.633Z"
   },
   {
    "duration": 344,
    "start_time": "2024-01-09T06:21:27.856Z"
   },
   {
    "duration": 217,
    "start_time": "2024-01-09T06:21:28.202Z"
   },
   {
    "duration": 351,
    "start_time": "2024-01-09T06:21:28.421Z"
   },
   {
    "duration": 9,
    "start_time": "2024-01-09T06:21:28.774Z"
   },
   {
    "duration": 165,
    "start_time": "2024-01-09T06:21:28.785Z"
   },
   {
    "duration": 5,
    "start_time": "2024-01-09T06:21:28.952Z"
   },
   {
    "duration": 14,
    "start_time": "2024-01-09T06:21:28.959Z"
   },
   {
    "duration": 176,
    "start_time": "2024-01-09T06:21:28.974Z"
   },
   {
    "duration": 5,
    "start_time": "2024-01-09T06:21:29.152Z"
   },
   {
    "duration": 254,
    "start_time": "2024-01-09T06:21:29.158Z"
   },
   {
    "duration": 277,
    "start_time": "2024-01-09T06:21:29.414Z"
   },
   {
    "duration": 33,
    "start_time": "2024-01-09T06:21:29.693Z"
   },
   {
    "duration": 12,
    "start_time": "2024-01-09T06:21:29.728Z"
   },
   {
    "duration": 10,
    "start_time": "2024-01-09T06:21:29.743Z"
   },
   {
    "duration": 8,
    "start_time": "2024-01-09T06:21:29.754Z"
   },
   {
    "duration": 37,
    "start_time": "2024-01-09T06:21:29.764Z"
   },
   {
    "duration": 14,
    "start_time": "2024-01-09T06:21:29.823Z"
   },
   {
    "duration": 1265,
    "start_time": "2024-01-09T13:13:07.414Z"
   },
   {
    "duration": 187,
    "start_time": "2024-01-09T13:13:08.681Z"
   },
   {
    "duration": 28,
    "start_time": "2024-01-09T13:13:08.870Z"
   },
   {
    "duration": 33,
    "start_time": "2024-01-09T13:13:08.900Z"
   },
   {
    "duration": 31,
    "start_time": "2024-01-09T13:13:08.936Z"
   },
   {
    "duration": 6,
    "start_time": "2024-01-09T13:13:08.970Z"
   },
   {
    "duration": 9,
    "start_time": "2024-01-09T13:13:08.978Z"
   },
   {
    "duration": 8,
    "start_time": "2024-01-09T13:13:08.989Z"
   },
   {
    "duration": 116,
    "start_time": "2024-01-09T13:13:08.999Z"
   },
   {
    "duration": 0,
    "start_time": "2024-01-09T13:13:09.118Z"
   },
   {
    "duration": 0,
    "start_time": "2024-01-09T13:13:09.119Z"
   },
   {
    "duration": 0,
    "start_time": "2024-01-09T13:13:09.120Z"
   },
   {
    "duration": 0,
    "start_time": "2024-01-09T13:13:09.121Z"
   },
   {
    "duration": 0,
    "start_time": "2024-01-09T13:13:09.122Z"
   },
   {
    "duration": 0,
    "start_time": "2024-01-09T13:13:09.123Z"
   },
   {
    "duration": 0,
    "start_time": "2024-01-09T13:13:09.125Z"
   },
   {
    "duration": 0,
    "start_time": "2024-01-09T13:13:09.125Z"
   },
   {
    "duration": 0,
    "start_time": "2024-01-09T13:13:09.127Z"
   },
   {
    "duration": 0,
    "start_time": "2024-01-09T13:13:09.128Z"
   },
   {
    "duration": 0,
    "start_time": "2024-01-09T13:13:09.129Z"
   },
   {
    "duration": 0,
    "start_time": "2024-01-09T13:13:09.131Z"
   },
   {
    "duration": 0,
    "start_time": "2024-01-09T13:13:09.133Z"
   },
   {
    "duration": 0,
    "start_time": "2024-01-09T13:13:09.134Z"
   },
   {
    "duration": 0,
    "start_time": "2024-01-09T13:13:09.165Z"
   },
   {
    "duration": 0,
    "start_time": "2024-01-09T13:13:09.167Z"
   },
   {
    "duration": 0,
    "start_time": "2024-01-09T13:13:09.168Z"
   },
   {
    "duration": 0,
    "start_time": "2024-01-09T13:13:09.169Z"
   },
   {
    "duration": 0,
    "start_time": "2024-01-09T13:13:09.170Z"
   },
   {
    "duration": 0,
    "start_time": "2024-01-09T13:13:09.171Z"
   },
   {
    "duration": 0,
    "start_time": "2024-01-09T13:13:09.172Z"
   },
   {
    "duration": 0,
    "start_time": "2024-01-09T13:13:09.173Z"
   },
   {
    "duration": 0,
    "start_time": "2024-01-09T13:13:09.175Z"
   },
   {
    "duration": 7,
    "start_time": "2024-01-09T13:16:49.455Z"
   },
   {
    "duration": 10,
    "start_time": "2024-01-09T13:17:15.885Z"
   },
   {
    "duration": 45,
    "start_time": "2024-01-09T13:20:31.664Z"
   },
   {
    "duration": 13,
    "start_time": "2024-01-09T13:20:52.915Z"
   },
   {
    "duration": 12,
    "start_time": "2024-01-09T13:21:24.353Z"
   },
   {
    "duration": 9,
    "start_time": "2024-01-09T13:27:34.170Z"
   },
   {
    "duration": 11,
    "start_time": "2024-01-09T13:27:51.873Z"
   },
   {
    "duration": 6,
    "start_time": "2024-01-09T13:28:02.391Z"
   },
   {
    "duration": 8,
    "start_time": "2024-01-09T13:31:11.895Z"
   },
   {
    "duration": 3,
    "start_time": "2024-01-09T13:31:29.864Z"
   },
   {
    "duration": 20,
    "start_time": "2024-01-09T13:31:48.242Z"
   },
   {
    "duration": 9,
    "start_time": "2024-01-09T13:33:40.024Z"
   },
   {
    "duration": 93,
    "start_time": "2024-01-09T13:36:02.003Z"
   },
   {
    "duration": 8,
    "start_time": "2024-01-09T13:36:37.593Z"
   },
   {
    "duration": 6,
    "start_time": "2024-01-09T13:37:03.289Z"
   },
   {
    "duration": 12,
    "start_time": "2024-01-09T13:37:17.856Z"
   },
   {
    "duration": 1109,
    "start_time": "2024-01-09T13:37:50.722Z"
   },
   {
    "duration": 73,
    "start_time": "2024-01-09T13:37:51.833Z"
   },
   {
    "duration": 27,
    "start_time": "2024-01-09T13:37:51.908Z"
   },
   {
    "duration": 25,
    "start_time": "2024-01-09T13:37:51.937Z"
   },
   {
    "duration": 8,
    "start_time": "2024-01-09T13:37:51.963Z"
   },
   {
    "duration": 5,
    "start_time": "2024-01-09T13:37:51.973Z"
   },
   {
    "duration": 8,
    "start_time": "2024-01-09T13:37:51.979Z"
   },
   {
    "duration": 10,
    "start_time": "2024-01-09T13:37:51.989Z"
   },
   {
    "duration": 9,
    "start_time": "2024-01-09T13:37:52.001Z"
   },
   {
    "duration": 10,
    "start_time": "2024-01-09T13:37:52.014Z"
   },
   {
    "duration": 140,
    "start_time": "2024-01-09T13:37:52.026Z"
   },
   {
    "duration": 0,
    "start_time": "2024-01-09T13:37:52.168Z"
   },
   {
    "duration": 0,
    "start_time": "2024-01-09T13:37:52.169Z"
   },
   {
    "duration": 0,
    "start_time": "2024-01-09T13:37:52.170Z"
   },
   {
    "duration": 0,
    "start_time": "2024-01-09T13:37:52.170Z"
   },
   {
    "duration": 0,
    "start_time": "2024-01-09T13:37:52.172Z"
   },
   {
    "duration": 0,
    "start_time": "2024-01-09T13:37:52.173Z"
   },
   {
    "duration": 0,
    "start_time": "2024-01-09T13:37:52.174Z"
   },
   {
    "duration": 0,
    "start_time": "2024-01-09T13:37:52.176Z"
   },
   {
    "duration": 0,
    "start_time": "2024-01-09T13:37:52.177Z"
   },
   {
    "duration": 0,
    "start_time": "2024-01-09T13:37:52.179Z"
   },
   {
    "duration": 0,
    "start_time": "2024-01-09T13:37:52.180Z"
   },
   {
    "duration": 1,
    "start_time": "2024-01-09T13:37:52.181Z"
   },
   {
    "duration": 0,
    "start_time": "2024-01-09T13:37:52.183Z"
   },
   {
    "duration": 0,
    "start_time": "2024-01-09T13:37:52.185Z"
   },
   {
    "duration": 0,
    "start_time": "2024-01-09T13:37:52.186Z"
   },
   {
    "duration": 0,
    "start_time": "2024-01-09T13:37:52.188Z"
   },
   {
    "duration": 0,
    "start_time": "2024-01-09T13:37:52.189Z"
   },
   {
    "duration": 0,
    "start_time": "2024-01-09T13:37:52.190Z"
   },
   {
    "duration": 0,
    "start_time": "2024-01-09T13:37:52.192Z"
   },
   {
    "duration": 0,
    "start_time": "2024-01-09T13:37:52.193Z"
   },
   {
    "duration": 0,
    "start_time": "2024-01-09T13:37:52.194Z"
   },
   {
    "duration": 0,
    "start_time": "2024-01-09T13:37:52.195Z"
   },
   {
    "duration": 11,
    "start_time": "2024-01-09T13:39:55.963Z"
   },
   {
    "duration": 3,
    "start_time": "2024-01-09T13:40:15.796Z"
   },
   {
    "duration": 72,
    "start_time": "2024-01-09T13:40:44.593Z"
   },
   {
    "duration": 11,
    "start_time": "2024-01-09T13:40:51.290Z"
   },
   {
    "duration": 4,
    "start_time": "2024-01-09T13:41:01.601Z"
   },
   {
    "duration": 8,
    "start_time": "2024-01-09T13:43:36.107Z"
   },
   {
    "duration": 10,
    "start_time": "2024-01-09T13:43:45.979Z"
   },
   {
    "duration": 1106,
    "start_time": "2024-01-09T13:43:56.214Z"
   },
   {
    "duration": 74,
    "start_time": "2024-01-09T13:43:57.322Z"
   },
   {
    "duration": 25,
    "start_time": "2024-01-09T13:43:57.398Z"
   },
   {
    "duration": 32,
    "start_time": "2024-01-09T13:43:57.426Z"
   },
   {
    "duration": 9,
    "start_time": "2024-01-09T13:43:57.460Z"
   },
   {
    "duration": 5,
    "start_time": "2024-01-09T13:43:57.472Z"
   },
   {
    "duration": 6,
    "start_time": "2024-01-09T13:43:57.480Z"
   },
   {
    "duration": 7,
    "start_time": "2024-01-09T13:43:57.488Z"
   },
   {
    "duration": 7,
    "start_time": "2024-01-09T13:43:57.496Z"
   },
   {
    "duration": 5,
    "start_time": "2024-01-09T13:43:57.505Z"
   },
   {
    "duration": 10,
    "start_time": "2024-01-09T13:43:57.511Z"
   },
   {
    "duration": 48,
    "start_time": "2024-01-09T13:43:57.522Z"
   },
   {
    "duration": 332,
    "start_time": "2024-01-09T13:43:57.571Z"
   },
   {
    "duration": 5,
    "start_time": "2024-01-09T13:43:57.905Z"
   },
   {
    "duration": 5,
    "start_time": "2024-01-09T13:43:57.912Z"
   },
   {
    "duration": 302,
    "start_time": "2024-01-09T13:43:57.918Z"
   },
   {
    "duration": 215,
    "start_time": "2024-01-09T13:43:58.222Z"
   },
   {
    "duration": 355,
    "start_time": "2024-01-09T13:43:58.439Z"
   },
   {
    "duration": 225,
    "start_time": "2024-01-09T13:43:58.795Z"
   },
   {
    "duration": 316,
    "start_time": "2024-01-09T13:43:59.022Z"
   },
   {
    "duration": 11,
    "start_time": "2024-01-09T13:43:59.339Z"
   },
   {
    "duration": 162,
    "start_time": "2024-01-09T13:43:59.351Z"
   },
   {
    "duration": 5,
    "start_time": "2024-01-09T13:43:59.514Z"
   },
   {
    "duration": 12,
    "start_time": "2024-01-09T13:43:59.520Z"
   },
   {
    "duration": 176,
    "start_time": "2024-01-09T13:43:59.534Z"
   },
   {
    "duration": 4,
    "start_time": "2024-01-09T13:43:59.711Z"
   },
   {
    "duration": 239,
    "start_time": "2024-01-09T13:43:59.716Z"
   },
   {
    "duration": 268,
    "start_time": "2024-01-09T13:43:59.964Z"
   },
   {
    "duration": 24,
    "start_time": "2024-01-09T13:44:00.234Z"
   },
   {
    "duration": 11,
    "start_time": "2024-01-09T13:44:00.266Z"
   },
   {
    "duration": 46,
    "start_time": "2024-01-09T13:44:00.279Z"
   },
   {
    "duration": 61,
    "start_time": "2024-01-09T13:44:00.326Z"
   },
   {
    "duration": 64,
    "start_time": "2024-01-09T13:44:00.388Z"
   },
   {
    "duration": 33,
    "start_time": "2024-01-09T13:44:00.454Z"
   },
   {
    "duration": 5,
    "start_time": "2024-01-09T13:46:52.309Z"
   },
   {
    "duration": 5,
    "start_time": "2024-01-09T13:47:04.100Z"
   },
   {
    "duration": 74,
    "start_time": "2024-01-09T13:47:41.628Z"
   },
   {
    "duration": 3474,
    "start_time": "2024-01-09T13:47:50.476Z"
   },
   {
    "duration": 4,
    "start_time": "2024-01-09T13:47:59.813Z"
   },
   {
    "duration": 4,
    "start_time": "2024-01-09T13:48:33.964Z"
   },
   {
    "duration": 377,
    "start_time": "2024-01-09T14:04:42.616Z"
   },
   {
    "duration": 85,
    "start_time": "2024-01-09T14:05:09.103Z"
   },
   {
    "duration": 340,
    "start_time": "2024-01-09T14:06:11.089Z"
   },
   {
    "duration": 355,
    "start_time": "2024-01-09T14:06:21.640Z"
   },
   {
    "duration": 280,
    "start_time": "2024-01-09T14:07:36.896Z"
   },
   {
    "duration": 277,
    "start_time": "2024-01-09T14:08:37.601Z"
   },
   {
    "duration": 11,
    "start_time": "2024-01-09T14:08:42.000Z"
   },
   {
    "duration": 11,
    "start_time": "2024-01-09T14:08:45.097Z"
   },
   {
    "duration": 123,
    "start_time": "2024-01-09T14:09:33.337Z"
   },
   {
    "duration": 1124,
    "start_time": "2024-01-09T14:10:11.489Z"
   },
   {
    "duration": 74,
    "start_time": "2024-01-09T14:10:12.615Z"
   },
   {
    "duration": 25,
    "start_time": "2024-01-09T14:10:12.690Z"
   },
   {
    "duration": 21,
    "start_time": "2024-01-09T14:10:12.717Z"
   },
   {
    "duration": 7,
    "start_time": "2024-01-09T14:10:12.739Z"
   },
   {
    "duration": 7,
    "start_time": "2024-01-09T14:10:12.747Z"
   },
   {
    "duration": 14,
    "start_time": "2024-01-09T14:10:12.756Z"
   },
   {
    "duration": 6,
    "start_time": "2024-01-09T14:10:12.772Z"
   },
   {
    "duration": 6,
    "start_time": "2024-01-09T14:10:12.780Z"
   },
   {
    "duration": 6,
    "start_time": "2024-01-09T14:10:12.788Z"
   },
   {
    "duration": 11,
    "start_time": "2024-01-09T14:10:12.795Z"
   },
   {
    "duration": 19,
    "start_time": "2024-01-09T14:10:12.808Z"
   },
   {
    "duration": 307,
    "start_time": "2024-01-09T14:10:12.829Z"
   },
   {
    "duration": 5,
    "start_time": "2024-01-09T14:10:13.137Z"
   },
   {
    "duration": 8,
    "start_time": "2024-01-09T14:10:13.143Z"
   },
   {
    "duration": 36,
    "start_time": "2024-01-09T14:10:13.152Z"
   },
   {
    "duration": 280,
    "start_time": "2024-01-09T14:10:13.189Z"
   },
   {
    "duration": 209,
    "start_time": "2024-01-09T14:10:13.471Z"
   },
   {
    "duration": 314,
    "start_time": "2024-01-09T14:10:13.682Z"
   },
   {
    "duration": 213,
    "start_time": "2024-01-09T14:10:13.998Z"
   },
   {
    "duration": 283,
    "start_time": "2024-01-09T14:10:14.212Z"
   },
   {
    "duration": 9,
    "start_time": "2024-01-09T14:10:14.496Z"
   },
   {
    "duration": 144,
    "start_time": "2024-01-09T14:10:14.506Z"
   },
   {
    "duration": 4,
    "start_time": "2024-01-09T14:10:14.651Z"
   },
   {
    "duration": 7,
    "start_time": "2024-01-09T14:10:14.665Z"
   },
   {
    "duration": 149,
    "start_time": "2024-01-09T14:10:14.674Z"
   },
   {
    "duration": 212,
    "start_time": "2024-01-09T14:10:14.825Z"
   },
   {
    "duration": 0,
    "start_time": "2024-01-09T14:10:15.039Z"
   },
   {
    "duration": 0,
    "start_time": "2024-01-09T14:10:15.040Z"
   },
   {
    "duration": 0,
    "start_time": "2024-01-09T14:10:15.041Z"
   },
   {
    "duration": 0,
    "start_time": "2024-01-09T14:10:15.042Z"
   },
   {
    "duration": 0,
    "start_time": "2024-01-09T14:10:15.042Z"
   },
   {
    "duration": 0,
    "start_time": "2024-01-09T14:10:15.044Z"
   },
   {
    "duration": 0,
    "start_time": "2024-01-09T14:10:15.045Z"
   },
   {
    "duration": 0,
    "start_time": "2024-01-09T14:10:15.045Z"
   },
   {
    "duration": 0,
    "start_time": "2024-01-09T14:10:15.046Z"
   },
   {
    "duration": 197,
    "start_time": "2024-01-09T14:10:52.442Z"
   },
   {
    "duration": 14,
    "start_time": "2024-01-09T14:12:05.993Z"
   },
   {
    "duration": 125,
    "start_time": "2024-01-09T14:13:45.042Z"
   },
   {
    "duration": 138,
    "start_time": "2024-01-09T14:14:26.826Z"
   },
   {
    "duration": 84,
    "start_time": "2024-01-09T14:16:51.001Z"
   },
   {
    "duration": 1257,
    "start_time": "2024-01-09T19:12:35.484Z"
   },
   {
    "duration": 191,
    "start_time": "2024-01-09T19:12:36.743Z"
   },
   {
    "duration": 25,
    "start_time": "2024-01-09T19:12:36.936Z"
   },
   {
    "duration": 23,
    "start_time": "2024-01-09T19:12:36.962Z"
   },
   {
    "duration": 15,
    "start_time": "2024-01-09T19:12:36.987Z"
   },
   {
    "duration": 17,
    "start_time": "2024-01-09T19:12:37.004Z"
   },
   {
    "duration": 20,
    "start_time": "2024-01-09T19:12:37.022Z"
   },
   {
    "duration": 16,
    "start_time": "2024-01-09T19:12:37.044Z"
   },
   {
    "duration": 6,
    "start_time": "2024-01-09T19:12:37.062Z"
   },
   {
    "duration": 4,
    "start_time": "2024-01-09T19:12:37.070Z"
   },
   {
    "duration": 11,
    "start_time": "2024-01-09T19:12:37.075Z"
   },
   {
    "duration": 14,
    "start_time": "2024-01-09T19:12:37.089Z"
   },
   {
    "duration": 309,
    "start_time": "2024-01-09T19:12:37.105Z"
   },
   {
    "duration": 4,
    "start_time": "2024-01-09T19:12:37.415Z"
   },
   {
    "duration": 9,
    "start_time": "2024-01-09T19:12:37.420Z"
   },
   {
    "duration": 5,
    "start_time": "2024-01-09T19:12:37.430Z"
   },
   {
    "duration": 312,
    "start_time": "2024-01-09T19:12:37.437Z"
   },
   {
    "duration": 215,
    "start_time": "2024-01-09T19:12:37.750Z"
   },
   {
    "duration": 373,
    "start_time": "2024-01-09T19:12:37.967Z"
   },
   {
    "duration": 215,
    "start_time": "2024-01-09T19:12:38.341Z"
   },
   {
    "duration": 348,
    "start_time": "2024-01-09T19:12:38.557Z"
   },
   {
    "duration": 9,
    "start_time": "2024-01-09T19:12:38.906Z"
   },
   {
    "duration": 159,
    "start_time": "2024-01-09T19:12:38.916Z"
   },
   {
    "duration": 8,
    "start_time": "2024-01-09T19:12:39.076Z"
   },
   {
    "duration": 8,
    "start_time": "2024-01-09T19:12:39.085Z"
   },
   {
    "duration": 174,
    "start_time": "2024-01-09T19:12:39.095Z"
   },
   {
    "duration": 187,
    "start_time": "2024-01-09T19:12:39.271Z"
   },
   {
    "duration": 3,
    "start_time": "2024-01-09T19:12:39.461Z"
   },
   {
    "duration": 289,
    "start_time": "2024-01-09T19:12:39.466Z"
   },
   {
    "duration": 295,
    "start_time": "2024-01-09T19:12:39.757Z"
   },
   {
    "duration": 33,
    "start_time": "2024-01-09T19:12:40.054Z"
   },
   {
    "duration": 12,
    "start_time": "2024-01-09T19:12:40.089Z"
   },
   {
    "duration": 8,
    "start_time": "2024-01-09T19:12:40.103Z"
   },
   {
    "duration": 8,
    "start_time": "2024-01-09T19:12:40.112Z"
   },
   {
    "duration": 23,
    "start_time": "2024-01-09T19:12:40.122Z"
   },
   {
    "duration": 41,
    "start_time": "2024-01-09T19:12:40.146Z"
   },
   {
    "duration": 189,
    "start_time": "2024-01-09T19:16:43.151Z"
   },
   {
    "duration": 167,
    "start_time": "2024-01-09T19:16:56.247Z"
   },
   {
    "duration": 116,
    "start_time": "2024-01-09T19:20:40.351Z"
   },
   {
    "duration": 81,
    "start_time": "2024-01-09T19:21:48.864Z"
   },
   {
    "duration": 88,
    "start_time": "2024-01-09T19:35:03.793Z"
   },
   {
    "duration": 106,
    "start_time": "2024-01-09T19:37:12.354Z"
   },
   {
    "duration": 9,
    "start_time": "2024-01-09T19:37:17.405Z"
   },
   {
    "duration": 5,
    "start_time": "2024-01-09T19:38:37.014Z"
   },
   {
    "duration": 12,
    "start_time": "2024-01-09T19:38:44.373Z"
   },
   {
    "duration": 83,
    "start_time": "2024-01-09T19:42:35.854Z"
   },
   {
    "duration": 76,
    "start_time": "2024-01-09T19:42:37.918Z"
   },
   {
    "duration": 93,
    "start_time": "2024-01-09T19:53:48.292Z"
   },
   {
    "duration": 1081,
    "start_time": "2024-01-09T20:01:40.032Z"
   },
   {
    "duration": 74,
    "start_time": "2024-01-09T20:01:41.115Z"
   },
   {
    "duration": 38,
    "start_time": "2024-01-09T20:01:41.190Z"
   },
   {
    "duration": 21,
    "start_time": "2024-01-09T20:01:41.230Z"
   },
   {
    "duration": 7,
    "start_time": "2024-01-09T20:01:41.253Z"
   },
   {
    "duration": 24,
    "start_time": "2024-01-09T20:01:41.262Z"
   },
   {
    "duration": 5,
    "start_time": "2024-01-09T20:01:41.287Z"
   },
   {
    "duration": 5,
    "start_time": "2024-01-09T20:01:41.294Z"
   },
   {
    "duration": 6,
    "start_time": "2024-01-09T20:01:41.301Z"
   },
   {
    "duration": 10,
    "start_time": "2024-01-09T20:01:41.309Z"
   },
   {
    "duration": 11,
    "start_time": "2024-01-09T20:01:41.320Z"
   },
   {
    "duration": 8,
    "start_time": "2024-01-09T20:01:41.332Z"
   },
   {
    "duration": 327,
    "start_time": "2024-01-09T20:01:41.342Z"
   },
   {
    "duration": 5,
    "start_time": "2024-01-09T20:01:41.671Z"
   },
   {
    "duration": 5,
    "start_time": "2024-01-09T20:01:41.682Z"
   },
   {
    "duration": 17,
    "start_time": "2024-01-09T20:01:41.689Z"
   },
   {
    "duration": 308,
    "start_time": "2024-01-09T20:01:41.707Z"
   },
   {
    "duration": 210,
    "start_time": "2024-01-09T20:01:42.017Z"
   },
   {
    "duration": 293,
    "start_time": "2024-01-09T20:01:42.229Z"
   },
   {
    "duration": 211,
    "start_time": "2024-01-09T20:01:42.524Z"
   },
   {
    "duration": 295,
    "start_time": "2024-01-09T20:01:42.736Z"
   },
   {
    "duration": 9,
    "start_time": "2024-01-09T20:01:43.032Z"
   },
   {
    "duration": 183,
    "start_time": "2024-01-09T20:01:43.042Z"
   },
   {
    "duration": 4,
    "start_time": "2024-01-09T20:01:43.227Z"
   },
   {
    "duration": 10,
    "start_time": "2024-01-09T20:01:43.233Z"
   },
   {
    "duration": 169,
    "start_time": "2024-01-09T20:01:43.244Z"
   },
   {
    "duration": 162,
    "start_time": "2024-01-09T20:01:43.415Z"
   },
   {
    "duration": 4,
    "start_time": "2024-01-09T20:01:43.580Z"
   },
   {
    "duration": 278,
    "start_time": "2024-01-09T20:01:43.585Z"
   },
   {
    "duration": 274,
    "start_time": "2024-01-09T20:01:43.865Z"
   },
   {
    "duration": 24,
    "start_time": "2024-01-09T20:01:44.141Z"
   },
   {
    "duration": 22,
    "start_time": "2024-01-09T20:01:44.166Z"
   },
   {
    "duration": 11,
    "start_time": "2024-01-09T20:01:44.190Z"
   },
   {
    "duration": 7,
    "start_time": "2024-01-09T20:01:44.203Z"
   },
   {
    "duration": 25,
    "start_time": "2024-01-09T20:01:44.211Z"
   },
   {
    "duration": 44,
    "start_time": "2024-01-09T20:01:44.238Z"
   },
   {
    "duration": 1026,
    "start_time": "2024-01-09T20:10:20.233Z"
   },
   {
    "duration": 75,
    "start_time": "2024-01-09T20:10:21.261Z"
   },
   {
    "duration": 25,
    "start_time": "2024-01-09T20:10:21.337Z"
   },
   {
    "duration": 33,
    "start_time": "2024-01-09T20:10:21.364Z"
   },
   {
    "duration": 7,
    "start_time": "2024-01-09T20:10:21.399Z"
   },
   {
    "duration": 9,
    "start_time": "2024-01-09T20:10:21.407Z"
   },
   {
    "duration": 6,
    "start_time": "2024-01-09T20:10:21.417Z"
   },
   {
    "duration": 18,
    "start_time": "2024-01-09T20:10:21.424Z"
   },
   {
    "duration": 6,
    "start_time": "2024-01-09T20:10:21.444Z"
   },
   {
    "duration": 13,
    "start_time": "2024-01-09T20:10:21.452Z"
   },
   {
    "duration": 37,
    "start_time": "2024-01-09T20:10:21.466Z"
   },
   {
    "duration": 8,
    "start_time": "2024-01-09T20:10:21.505Z"
   },
   {
    "duration": 290,
    "start_time": "2024-01-09T20:10:21.515Z"
   },
   {
    "duration": 4,
    "start_time": "2024-01-09T20:10:21.807Z"
   },
   {
    "duration": 15,
    "start_time": "2024-01-09T20:10:21.813Z"
   },
   {
    "duration": 29,
    "start_time": "2024-01-09T20:10:21.829Z"
   },
   {
    "duration": 302,
    "start_time": "2024-01-09T20:10:21.865Z"
   },
   {
    "duration": 201,
    "start_time": "2024-01-09T20:10:22.169Z"
   },
   {
    "duration": 342,
    "start_time": "2024-01-09T20:10:22.372Z"
   },
   {
    "duration": 199,
    "start_time": "2024-01-09T20:10:22.716Z"
   },
   {
    "duration": 328,
    "start_time": "2024-01-09T20:10:22.916Z"
   },
   {
    "duration": 10,
    "start_time": "2024-01-09T20:10:23.246Z"
   },
   {
    "duration": 152,
    "start_time": "2024-01-09T20:10:23.258Z"
   },
   {
    "duration": 4,
    "start_time": "2024-01-09T20:10:23.412Z"
   },
   {
    "duration": 7,
    "start_time": "2024-01-09T20:10:23.417Z"
   },
   {
    "duration": 173,
    "start_time": "2024-01-09T20:10:23.425Z"
   },
   {
    "duration": 166,
    "start_time": "2024-01-09T20:10:23.599Z"
   },
   {
    "duration": 3,
    "start_time": "2024-01-09T20:10:23.768Z"
   },
   {
    "duration": 284,
    "start_time": "2024-01-09T20:10:23.773Z"
   },
   {
    "duration": 254,
    "start_time": "2024-01-09T20:10:24.059Z"
   },
   {
    "duration": 25,
    "start_time": "2024-01-09T20:10:24.314Z"
   },
   {
    "duration": 11,
    "start_time": "2024-01-09T20:10:24.341Z"
   },
   {
    "duration": 30,
    "start_time": "2024-01-09T20:10:24.353Z"
   },
   {
    "duration": 9,
    "start_time": "2024-01-09T20:10:24.384Z"
   },
   {
    "duration": 39,
    "start_time": "2024-01-09T20:10:24.394Z"
   },
   {
    "duration": 14,
    "start_time": "2024-01-09T20:10:24.434Z"
   },
   {
    "duration": 936,
    "start_time": "2024-01-09T20:10:24.450Z"
   },
   {
    "duration": 1212,
    "start_time": "2024-01-10T04:48:22.307Z"
   },
   {
    "duration": 201,
    "start_time": "2024-01-10T04:48:23.522Z"
   },
   {
    "duration": 27,
    "start_time": "2024-01-10T04:48:23.724Z"
   },
   {
    "duration": 22,
    "start_time": "2024-01-10T04:48:23.753Z"
   },
   {
    "duration": 7,
    "start_time": "2024-01-10T04:48:23.776Z"
   },
   {
    "duration": 5,
    "start_time": "2024-01-10T04:48:23.784Z"
   },
   {
    "duration": 5,
    "start_time": "2024-01-10T04:48:23.790Z"
   },
   {
    "duration": 5,
    "start_time": "2024-01-10T04:48:23.796Z"
   },
   {
    "duration": 7,
    "start_time": "2024-01-10T04:48:23.803Z"
   },
   {
    "duration": 11,
    "start_time": "2024-01-10T04:48:23.812Z"
   },
   {
    "duration": 9,
    "start_time": "2024-01-10T04:48:23.824Z"
   },
   {
    "duration": 35,
    "start_time": "2024-01-10T04:48:23.834Z"
   },
   {
    "duration": 282,
    "start_time": "2024-01-10T04:48:23.871Z"
   },
   {
    "duration": 11,
    "start_time": "2024-01-10T04:48:24.155Z"
   },
   {
    "duration": 5,
    "start_time": "2024-01-10T04:48:24.167Z"
   },
   {
    "duration": 6,
    "start_time": "2024-01-10T04:48:24.173Z"
   },
   {
    "duration": 302,
    "start_time": "2024-01-10T04:48:24.180Z"
   },
   {
    "duration": 197,
    "start_time": "2024-01-10T04:48:24.484Z"
   },
   {
    "duration": 332,
    "start_time": "2024-01-10T04:48:24.684Z"
   },
   {
    "duration": 189,
    "start_time": "2024-01-10T04:48:25.018Z"
   },
   {
    "duration": 294,
    "start_time": "2024-01-10T04:48:25.209Z"
   },
   {
    "duration": 12,
    "start_time": "2024-01-10T04:48:25.505Z"
   },
   {
    "duration": 164,
    "start_time": "2024-01-10T04:48:25.519Z"
   },
   {
    "duration": 4,
    "start_time": "2024-01-10T04:48:25.685Z"
   },
   {
    "duration": 19,
    "start_time": "2024-01-10T04:48:25.691Z"
   },
   {
    "duration": 161,
    "start_time": "2024-01-10T04:48:25.711Z"
   },
   {
    "duration": 179,
    "start_time": "2024-01-10T04:48:25.874Z"
   },
   {
    "duration": 4,
    "start_time": "2024-01-10T04:48:26.064Z"
   },
   {
    "duration": 270,
    "start_time": "2024-01-10T04:48:26.070Z"
   },
   {
    "duration": 252,
    "start_time": "2024-01-10T04:48:26.341Z"
   },
   {
    "duration": 24,
    "start_time": "2024-01-10T04:48:26.594Z"
   },
   {
    "duration": 10,
    "start_time": "2024-01-10T04:48:26.619Z"
   },
   {
    "duration": 24,
    "start_time": "2024-01-10T04:48:26.631Z"
   },
   {
    "duration": 8,
    "start_time": "2024-01-10T04:48:26.664Z"
   },
   {
    "duration": 44,
    "start_time": "2024-01-10T04:48:26.674Z"
   },
   {
    "duration": 17,
    "start_time": "2024-01-10T04:48:26.720Z"
   },
   {
    "duration": 5,
    "start_time": "2024-01-10T04:49:43.039Z"
   },
   {
    "duration": 11,
    "start_time": "2024-01-10T04:49:50.417Z"
   },
   {
    "duration": 9,
    "start_time": "2024-01-10T04:51:13.328Z"
   }
  ],
  "kernelspec": {
   "display_name": "Python 3 (ipykernel)",
   "language": "python",
   "name": "python3"
  },
  "language_info": {
   "codemirror_mode": {
    "name": "ipython",
    "version": 3
   },
   "file_extension": ".py",
   "mimetype": "text/x-python",
   "name": "python",
   "nbconvert_exporter": "python",
   "pygments_lexer": "ipython3",
   "version": "3.11.5"
  },
  "toc": {
   "base_numbering": 1,
   "nav_menu": {},
   "number_sections": true,
   "sideBar": true,
   "skip_h1_title": true,
   "title_cell": "Table of Contents",
   "title_sidebar": "Contents",
   "toc_cell": false,
   "toc_position": {},
   "toc_section_display": true,
   "toc_window_display": false
  }
 },
 "nbformat": 4,
 "nbformat_minor": 2
}
