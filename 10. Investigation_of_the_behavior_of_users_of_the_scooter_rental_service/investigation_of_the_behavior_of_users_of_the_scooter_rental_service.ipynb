{
 "cells": [
  {
   "cell_type": "markdown",
   "id": "74daa059",
   "metadata": {},
   "source": [
    "# Исследование поведения пользователей сервиса аренды самокатов"
   ]
  },
  {
   "cell_type": "markdown",
   "id": "da134117",
   "metadata": {},
   "source": [
    "**Заказчик**\n",
    "\n",
    "Cервис аренды самокатов GoFast\n",
    "\n",
    "**Цель проекта**\n",
    "\n",
    "Проанализировать данные и проверить некоторые гипотезы, которые могут помочь бизнесу вырасти.\n",
    "\n",
    "\n",
    "**Входные данные**\n",
    "\n",
    "В основных данных есть информация о пользователях, их поездках и подписках, а именно:\n",
    "\n",
    "o Пользователи — users_go.csv:\\\n",
    "  user_id - уникальный идентификатор пользователя\\\n",
    "  name - имя пользователя\\\n",
    "  age - возраст\\\n",
    "  city - город\\\n",
    "  subscription_type - тип подписки (free, ultra)\n",
    "  \n",
    "o Поездки — rides_go.csv:\\\n",
    "  user_id - уникальный идентификатор пользователя\\\n",
    "  distance - расстояние, которое пользователь проехал в текущей сессии (в метрах)\\\n",
    "  duration - продолжительность сессии (в минутах) — время с того момента, как пользователь нажал кнопку «Начать поездку» до    момента, как он нажал кнопку «Завершить поездку»\\\n",
    "  date - дата совершения поездки\n",
    "\n",
    "o Подписки — subscriptions_go.csv:\\\n",
    "  subscription_type - тип подписки\\\n",
    "  minute_price - стоимость одной минуты поездки по данной подписке\\\n",
    "  start_ride_price - стоимость начала поездки\\\n",
    "  subscription_fee - стоимость ежемесячного платежа\n",
    "\n",
    "\n",
    "Чтобы совершать поездки по городу, пользователи сервиса GoFast пользуются мобильным приложением. \n",
    "Сервисом можно пользоваться:\\\n",
    "•\tбез подписки\\\n",
    "   o\tабонентская плата отсутствует;\\\n",
    "   o\tстоимость одной минуты поездки — 88 рублей;\\\n",
    "   o\tстоимость старта (начала поездки) — 5050 рублей;\\\n",
    "•\tс подпиской Ultra\\\n",
    "   o\tабонентская плата — 199199 рублей в месяц;\\\n",
    "   o\tстоимость одной минуты поездки — 66 рублей;\\\n",
    "   o\tстоимость старта — бесплатно.\n",
    "\n",
    "\n",
    "\n",
    "**Ход исследования**\n",
    "\n",
    "Исследование пройдёт в несколько этапов:\\\n",
    ". обзор данных;\\\n",
    ". предобработка данных;\\\n",
    ". исследовательский анализ данных;\\\n",
    ". расчеты;\\\n",
    ". проверка гипотез."
   ]
  },
  {
   "cell_type": "code",
   "execution_count": 1,
   "id": "f663a3a0",
   "metadata": {},
   "outputs": [],
   "source": [
    "# импортируем библиотеку pandas\n",
    "import pandas as pd\n",
    "from IPython.display import display\n",
    "import matplotlib.pyplot as plt \n",
    "import numpy as np\n",
    "from scipy import stats as st\n",
    "import seaborn"
   ]
  },
  {
   "cell_type": "markdown",
   "id": "0eff2953",
   "metadata": {},
   "source": [
    "### Шаг 1. Загрузка данных"
   ]
  },
  {
   "cell_type": "code",
   "execution_count": 2,
   "id": "eaf01f08",
   "metadata": {},
   "outputs": [],
   "source": [
    "# cчитаваем данные из csv-файла в датафреймы и сохраняем в переменные\n",
    "users_go = pd.read_csv('C:/Users/nata/Downloads/users_go.csv')\n",
    "rides_go = pd.read_csv('C:/Users/nata/Downloads/rides_go.csv')\n",
    "subscriptions_go = pd.read_csv('C:/Users/nata/Downloads/subscriptions_go.csv')"
   ]
  },
  {
   "cell_type": "code",
   "execution_count": 3,
   "id": "c2afa2d9",
   "metadata": {
    "scrolled": true
   },
   "outputs": [
    {
     "data": {
      "text/html": [
       "<div>\n",
       "<style scoped>\n",
       "    .dataframe tbody tr th:only-of-type {\n",
       "        vertical-align: middle;\n",
       "    }\n",
       "\n",
       "    .dataframe tbody tr th {\n",
       "        vertical-align: top;\n",
       "    }\n",
       "\n",
       "    .dataframe thead th {\n",
       "        text-align: right;\n",
       "    }\n",
       "</style>\n",
       "<table border=\"1\" class=\"dataframe\">\n",
       "  <thead>\n",
       "    <tr style=\"text-align: right;\">\n",
       "      <th></th>\n",
       "      <th>user_id</th>\n",
       "      <th>name</th>\n",
       "      <th>age</th>\n",
       "      <th>city</th>\n",
       "      <th>subscription_type</th>\n",
       "    </tr>\n",
       "  </thead>\n",
       "  <tbody>\n",
       "    <tr>\n",
       "      <th>0</th>\n",
       "      <td>1</td>\n",
       "      <td>Кира</td>\n",
       "      <td>22</td>\n",
       "      <td>Тюмень</td>\n",
       "      <td>ultra</td>\n",
       "    </tr>\n",
       "    <tr>\n",
       "      <th>1</th>\n",
       "      <td>2</td>\n",
       "      <td>Станислав</td>\n",
       "      <td>31</td>\n",
       "      <td>Омск</td>\n",
       "      <td>ultra</td>\n",
       "    </tr>\n",
       "    <tr>\n",
       "      <th>2</th>\n",
       "      <td>3</td>\n",
       "      <td>Алексей</td>\n",
       "      <td>20</td>\n",
       "      <td>Москва</td>\n",
       "      <td>ultra</td>\n",
       "    </tr>\n",
       "    <tr>\n",
       "      <th>3</th>\n",
       "      <td>4</td>\n",
       "      <td>Константин</td>\n",
       "      <td>26</td>\n",
       "      <td>Ростов-на-Дону</td>\n",
       "      <td>ultra</td>\n",
       "    </tr>\n",
       "    <tr>\n",
       "      <th>4</th>\n",
       "      <td>5</td>\n",
       "      <td>Адель</td>\n",
       "      <td>28</td>\n",
       "      <td>Омск</td>\n",
       "      <td>ultra</td>\n",
       "    </tr>\n",
       "    <tr>\n",
       "      <th>...</th>\n",
       "      <td>...</td>\n",
       "      <td>...</td>\n",
       "      <td>...</td>\n",
       "      <td>...</td>\n",
       "      <td>...</td>\n",
       "    </tr>\n",
       "    <tr>\n",
       "      <th>1560</th>\n",
       "      <td>829</td>\n",
       "      <td>Федор</td>\n",
       "      <td>29</td>\n",
       "      <td>Пятигорск</td>\n",
       "      <td>free</td>\n",
       "    </tr>\n",
       "    <tr>\n",
       "      <th>1561</th>\n",
       "      <td>809</td>\n",
       "      <td>Юрий</td>\n",
       "      <td>26</td>\n",
       "      <td>Сочи</td>\n",
       "      <td>free</td>\n",
       "    </tr>\n",
       "    <tr>\n",
       "      <th>1562</th>\n",
       "      <td>307</td>\n",
       "      <td>Ясмина</td>\n",
       "      <td>19</td>\n",
       "      <td>Краснодар</td>\n",
       "      <td>ultra</td>\n",
       "    </tr>\n",
       "    <tr>\n",
       "      <th>1563</th>\n",
       "      <td>47</td>\n",
       "      <td>Юрий</td>\n",
       "      <td>28</td>\n",
       "      <td>Тюмень</td>\n",
       "      <td>ultra</td>\n",
       "    </tr>\n",
       "    <tr>\n",
       "      <th>1564</th>\n",
       "      <td>1045</td>\n",
       "      <td>Артемий</td>\n",
       "      <td>28</td>\n",
       "      <td>Ростов-на-Дону</td>\n",
       "      <td>free</td>\n",
       "    </tr>\n",
       "  </tbody>\n",
       "</table>\n",
       "<p>1565 rows × 5 columns</p>\n",
       "</div>"
      ],
      "text/plain": [
       "      user_id        name  age            city subscription_type\n",
       "0           1        Кира   22          Тюмень             ultra\n",
       "1           2   Станислав   31            Омск             ultra\n",
       "2           3     Алексей   20          Москва             ultra\n",
       "3           4  Константин   26  Ростов-на-Дону             ultra\n",
       "4           5       Адель   28            Омск             ultra\n",
       "...       ...         ...  ...             ...               ...\n",
       "1560      829       Федор   29       Пятигорск              free\n",
       "1561      809        Юрий   26            Сочи              free\n",
       "1562      307      Ясмина   19       Краснодар             ultra\n",
       "1563       47        Юрий   28          Тюмень             ultra\n",
       "1564     1045     Артемий   28  Ростов-на-Дону              free\n",
       "\n",
       "[1565 rows x 5 columns]"
      ]
     },
     "metadata": {},
     "output_type": "display_data"
    },
    {
     "data": {
      "text/html": [
       "<div>\n",
       "<style scoped>\n",
       "    .dataframe tbody tr th:only-of-type {\n",
       "        vertical-align: middle;\n",
       "    }\n",
       "\n",
       "    .dataframe tbody tr th {\n",
       "        vertical-align: top;\n",
       "    }\n",
       "\n",
       "    .dataframe thead th {\n",
       "        text-align: right;\n",
       "    }\n",
       "</style>\n",
       "<table border=\"1\" class=\"dataframe\">\n",
       "  <thead>\n",
       "    <tr style=\"text-align: right;\">\n",
       "      <th></th>\n",
       "      <th>user_id</th>\n",
       "      <th>distance</th>\n",
       "      <th>duration</th>\n",
       "      <th>date</th>\n",
       "    </tr>\n",
       "  </thead>\n",
       "  <tbody>\n",
       "    <tr>\n",
       "      <th>0</th>\n",
       "      <td>1</td>\n",
       "      <td>4409.919140</td>\n",
       "      <td>25.599769</td>\n",
       "      <td>2021-01-01</td>\n",
       "    </tr>\n",
       "    <tr>\n",
       "      <th>1</th>\n",
       "      <td>1</td>\n",
       "      <td>2617.592153</td>\n",
       "      <td>15.816871</td>\n",
       "      <td>2021-01-18</td>\n",
       "    </tr>\n",
       "    <tr>\n",
       "      <th>2</th>\n",
       "      <td>1</td>\n",
       "      <td>754.159807</td>\n",
       "      <td>6.232113</td>\n",
       "      <td>2021-04-20</td>\n",
       "    </tr>\n",
       "    <tr>\n",
       "      <th>3</th>\n",
       "      <td>1</td>\n",
       "      <td>2694.783254</td>\n",
       "      <td>18.511000</td>\n",
       "      <td>2021-08-11</td>\n",
       "    </tr>\n",
       "    <tr>\n",
       "      <th>4</th>\n",
       "      <td>1</td>\n",
       "      <td>4028.687306</td>\n",
       "      <td>26.265803</td>\n",
       "      <td>2021-08-28</td>\n",
       "    </tr>\n",
       "    <tr>\n",
       "      <th>...</th>\n",
       "      <td>...</td>\n",
       "      <td>...</td>\n",
       "      <td>...</td>\n",
       "      <td>...</td>\n",
       "    </tr>\n",
       "    <tr>\n",
       "      <th>18063</th>\n",
       "      <td>1534</td>\n",
       "      <td>3781.098080</td>\n",
       "      <td>19.822962</td>\n",
       "      <td>2021-11-04</td>\n",
       "    </tr>\n",
       "    <tr>\n",
       "      <th>18064</th>\n",
       "      <td>1534</td>\n",
       "      <td>2840.423057</td>\n",
       "      <td>21.409799</td>\n",
       "      <td>2021-11-16</td>\n",
       "    </tr>\n",
       "    <tr>\n",
       "      <th>18065</th>\n",
       "      <td>1534</td>\n",
       "      <td>3826.185507</td>\n",
       "      <td>18.435051</td>\n",
       "      <td>2021-11-18</td>\n",
       "    </tr>\n",
       "    <tr>\n",
       "      <th>18066</th>\n",
       "      <td>1534</td>\n",
       "      <td>2902.308661</td>\n",
       "      <td>16.674362</td>\n",
       "      <td>2021-11-27</td>\n",
       "    </tr>\n",
       "    <tr>\n",
       "      <th>18067</th>\n",
       "      <td>1534</td>\n",
       "      <td>2371.711192</td>\n",
       "      <td>15.893917</td>\n",
       "      <td>2021-12-29</td>\n",
       "    </tr>\n",
       "  </tbody>\n",
       "</table>\n",
       "<p>18068 rows × 4 columns</p>\n",
       "</div>"
      ],
      "text/plain": [
       "       user_id     distance   duration        date\n",
       "0            1  4409.919140  25.599769  2021-01-01\n",
       "1            1  2617.592153  15.816871  2021-01-18\n",
       "2            1   754.159807   6.232113  2021-04-20\n",
       "3            1  2694.783254  18.511000  2021-08-11\n",
       "4            1  4028.687306  26.265803  2021-08-28\n",
       "...        ...          ...        ...         ...\n",
       "18063     1534  3781.098080  19.822962  2021-11-04\n",
       "18064     1534  2840.423057  21.409799  2021-11-16\n",
       "18065     1534  3826.185507  18.435051  2021-11-18\n",
       "18066     1534  2902.308661  16.674362  2021-11-27\n",
       "18067     1534  2371.711192  15.893917  2021-12-29\n",
       "\n",
       "[18068 rows x 4 columns]"
      ]
     },
     "metadata": {},
     "output_type": "display_data"
    },
    {
     "data": {
      "text/html": [
       "<div>\n",
       "<style scoped>\n",
       "    .dataframe tbody tr th:only-of-type {\n",
       "        vertical-align: middle;\n",
       "    }\n",
       "\n",
       "    .dataframe tbody tr th {\n",
       "        vertical-align: top;\n",
       "    }\n",
       "\n",
       "    .dataframe thead th {\n",
       "        text-align: right;\n",
       "    }\n",
       "</style>\n",
       "<table border=\"1\" class=\"dataframe\">\n",
       "  <thead>\n",
       "    <tr style=\"text-align: right;\">\n",
       "      <th></th>\n",
       "      <th>subscription_type</th>\n",
       "      <th>minute_price</th>\n",
       "      <th>start_ride_price</th>\n",
       "      <th>subscription_fee</th>\n",
       "    </tr>\n",
       "  </thead>\n",
       "  <tbody>\n",
       "    <tr>\n",
       "      <th>0</th>\n",
       "      <td>free</td>\n",
       "      <td>8</td>\n",
       "      <td>50</td>\n",
       "      <td>0</td>\n",
       "    </tr>\n",
       "    <tr>\n",
       "      <th>1</th>\n",
       "      <td>ultra</td>\n",
       "      <td>6</td>\n",
       "      <td>0</td>\n",
       "      <td>199</td>\n",
       "    </tr>\n",
       "  </tbody>\n",
       "</table>\n",
       "</div>"
      ],
      "text/plain": [
       "  subscription_type  minute_price  start_ride_price  subscription_fee\n",
       "0              free             8                50                 0\n",
       "1             ultra             6                 0               199"
      ]
     },
     "metadata": {},
     "output_type": "display_data"
    }
   ],
   "source": [
    "# выводим таблицы с помощью функции display\n",
    "display(users_go)\n",
    "display(rides_go)\n",
    "display(subscriptions_go)"
   ]
  },
  {
   "cell_type": "code",
   "execution_count": 4,
   "id": "f53b703a",
   "metadata": {},
   "outputs": [
    {
     "name": "stdout",
     "output_type": "stream",
     "text": [
      "<class 'pandas.core.frame.DataFrame'>\n",
      "RangeIndex: 1565 entries, 0 to 1564\n",
      "Data columns (total 5 columns):\n",
      " #   Column             Non-Null Count  Dtype \n",
      "---  ------             --------------  ----- \n",
      " 0   user_id            1565 non-null   int64 \n",
      " 1   name               1565 non-null   object\n",
      " 2   age                1565 non-null   int64 \n",
      " 3   city               1565 non-null   object\n",
      " 4   subscription_type  1565 non-null   object\n",
      "dtypes: int64(2), object(3)\n",
      "memory usage: 61.3+ KB\n",
      "\n",
      "<class 'pandas.core.frame.DataFrame'>\n",
      "RangeIndex: 18068 entries, 0 to 18067\n",
      "Data columns (total 4 columns):\n",
      " #   Column    Non-Null Count  Dtype  \n",
      "---  ------    --------------  -----  \n",
      " 0   user_id   18068 non-null  int64  \n",
      " 1   distance  18068 non-null  float64\n",
      " 2   duration  18068 non-null  float64\n",
      " 3   date      18068 non-null  object \n",
      "dtypes: float64(2), int64(1), object(1)\n",
      "memory usage: 564.8+ KB\n",
      "\n",
      "<class 'pandas.core.frame.DataFrame'>\n",
      "RangeIndex: 2 entries, 0 to 1\n",
      "Data columns (total 4 columns):\n",
      " #   Column             Non-Null Count  Dtype \n",
      "---  ------             --------------  ----- \n",
      " 0   subscription_type  2 non-null      object\n",
      " 1   minute_price       2 non-null      int64 \n",
      " 2   start_ride_price   2 non-null      int64 \n",
      " 3   subscription_fee   2 non-null      int64 \n",
      "dtypes: int64(3), object(1)\n",
      "memory usage: 196.0+ bytes\n"
     ]
    }
   ],
   "source": [
    "# выведем основную информацию о датафреймах с помощью метода info()\n",
    "users_go.info()\n",
    "print()\n",
    "rides_go.info()\n",
    "print()\n",
    "subscriptions_go.info()"
   ]
  },
  {
   "cell_type": "markdown",
   "id": "2c8097de",
   "metadata": {},
   "source": [
    "**Промежуточные итоги:** \\\n",
    "После изучения общей информации данных (данные сервиса аренды самокатов GoFast) выяснили:\\\n",
    ". данные представлены тремя таблицами (информация о пользователях, их поездках и подписках);\\\n",
    ". все данные заполнены (т.е. в столбцах нет пропущенных значений);\n",
    ". у части данных некорретный тип данных."
   ]
  },
  {
   "cell_type": "markdown",
   "id": "3f0bf612",
   "metadata": {},
   "source": [
    "### Шаг 2. Предобработка данных"
   ]
  },
  {
   "cell_type": "code",
   "execution_count": 5,
   "id": "500a5228",
   "metadata": {},
   "outputs": [],
   "source": [
    "# преобразуем типы данных столбца 'date' у датафрейма rides_go\n",
    "rides_go['date'] = pd.to_datetime(rides_go['date'])"
   ]
  },
  {
   "cell_type": "code",
   "execution_count": 6,
   "id": "5962b502",
   "metadata": {},
   "outputs": [],
   "source": [
    "# cоздадим новый столбец с номером месяца на основе столбца 'date' у датафрейма rides_go\n",
    "rides_go['month'] = rides_go['date'].dt.month"
   ]
  },
  {
   "cell_type": "code",
   "execution_count": 7,
   "id": "e5d1de33",
   "metadata": {},
   "outputs": [
    {
     "data": {
      "text/plain": [
       "array([2021])"
      ]
     },
     "execution_count": 7,
     "metadata": {},
     "output_type": "execute_result"
    }
   ],
   "source": [
    "# дополнительно проверим за какие года представлены данные\n",
    "rides_go['year'] = rides_go['date'].dt.year\n",
    "rides_go['year'].unique()"
   ]
  },
  {
   "cell_type": "code",
   "execution_count": 8,
   "id": "0e626deb",
   "metadata": {},
   "outputs": [
    {
     "data": {
      "text/plain": [
       "user_id              0\n",
       "name                 0\n",
       "age                  0\n",
       "city                 0\n",
       "subscription_type    0\n",
       "dtype: int64"
      ]
     },
     "execution_count": 8,
     "metadata": {},
     "output_type": "execute_result"
    }
   ],
   "source": [
    "# выведем количество пропущенных значений для каждого столбца датафрейма users_go\n",
    "users_go.isna().sum()"
   ]
  },
  {
   "cell_type": "code",
   "execution_count": 9,
   "id": "3c852f91",
   "metadata": {},
   "outputs": [
    {
     "data": {
      "text/plain": [
       "user_id     0\n",
       "distance    0\n",
       "duration    0\n",
       "date        0\n",
       "month       0\n",
       "year        0\n",
       "dtype: int64"
      ]
     },
     "execution_count": 9,
     "metadata": {},
     "output_type": "execute_result"
    }
   ],
   "source": [
    "# выведем количество пропущенных значений для каждого столбца датафрейма rides_go\n",
    "rides_go.isna().sum()"
   ]
  },
  {
   "cell_type": "code",
   "execution_count": 10,
   "id": "0ab07486",
   "metadata": {},
   "outputs": [
    {
     "data": {
      "text/plain": [
       "subscription_type    0\n",
       "minute_price         0\n",
       "start_ride_price     0\n",
       "subscription_fee     0\n",
       "dtype: int64"
      ]
     },
     "execution_count": 10,
     "metadata": {},
     "output_type": "execute_result"
    }
   ],
   "source": [
    "# выведем количество пропущенных значений для каждого столбца датафрейма subscriptions_go\n",
    "subscriptions_go.isna().sum()"
   ]
  },
  {
   "cell_type": "code",
   "execution_count": 11,
   "id": "852182ea",
   "metadata": {},
   "outputs": [
    {
     "data": {
      "text/plain": [
       "31"
      ]
     },
     "execution_count": 11,
     "metadata": {},
     "output_type": "execute_result"
    }
   ],
   "source": [
    "# выведем количество строк-дубликатов в данных users_go\n",
    "users_go.duplicated().sum()"
   ]
  },
  {
   "cell_type": "code",
   "execution_count": 12,
   "id": "60b1105d",
   "metadata": {},
   "outputs": [],
   "source": [
    "# удалим строки-дублиаты \n",
    "users_go = users_go.drop_duplicates()"
   ]
  },
  {
   "cell_type": "code",
   "execution_count": 13,
   "id": "94fa1695",
   "metadata": {},
   "outputs": [
    {
     "data": {
      "text/plain": [
       "0"
      ]
     },
     "execution_count": 13,
     "metadata": {},
     "output_type": "execute_result"
    }
   ],
   "source": [
    "# выведем количество строк-дубликатов в данных rides_go\n",
    "rides_go.duplicated().sum()"
   ]
  },
  {
   "cell_type": "code",
   "execution_count": 14,
   "id": "c7999d9b",
   "metadata": {},
   "outputs": [],
   "source": [
    "# каждое значение из столбца округляем с помощью «потолка» \n",
    "rides_go[['distance', 'duration']] = (\n",
    "    np.ceil(rides_go[['distance', 'duration']])) "
   ]
  },
  {
   "cell_type": "markdown",
   "id": "263c1670",
   "metadata": {},
   "source": [
    "**Промежуточные итоги:** \\\n",
    ". преобразовали тип данных у столбца 'data' датафрейма rides_go, т.е. заменили строковой тип данных на более удобный тип для даты;\\\n",
    ". в исходный датасет добавили новый столбц - месяц совершения поездки;\\\n",
    ". проверили на наличие пропущенных значений и дубликатов в датафреймах, обработали их."
   ]
  },
  {
   "cell_type": "markdown",
   "id": "d91f8a92",
   "metadata": {},
   "source": [
    "### Шаг 3. Исследовательский анализ данных\n",
    "\n",
    "Визуализируем общую информацию о пользователях и поездках:"
   ]
  },
  {
   "cell_type": "code",
   "execution_count": 15,
   "id": "3b0c9e63",
   "metadata": {},
   "outputs": [
    {
     "data": {
      "text/plain": [
       "Text(0, 0.5, 'Название города')"
      ]
     },
     "execution_count": 15,
     "metadata": {},
     "output_type": "execute_result"
    },
    {
     "data": {
      "image/png": "[encoded data removed]",
      "text/plain": [
       "<Figure size 640x480 with 1 Axes>"
      ]
     },
     "metadata": {},
     "output_type": "display_data"
    }
   ],
   "source": [
    "# частота встречаемости городов\n",
    "users_go['city'].value_counts(ascending=True).plot(kind='barh')\n",
    "plt.title(\"Частота встречаемости городов\", fontsize=14, pad=20)\n",
    "plt.xlabel(\"Количество поездок\")\n",
    "plt.ylabel(\"Название города\")"
   ]
  },
  {
   "cell_type": "code",
   "execution_count": 16,
   "id": "8c374410",
   "metadata": {},
   "outputs": [
    {
     "data": {
      "text/plain": [
       "city\n",
       "Пятигорск         219\n",
       "Екатеринбург      204\n",
       "Ростов-на-Дону    198\n",
       "Краснодар         193\n",
       "Сочи              189\n",
       "Омск              183\n",
       "Тюмень            180\n",
       "Москва            168\n",
       "Name: count, dtype: int64"
      ]
     },
     "execution_count": 16,
     "metadata": {},
     "output_type": "execute_result"
    }
   ],
   "source": [
    "users_go['city'].value_counts(ascending=False)"
   ]
  },
  {
   "cell_type": "code",
   "execution_count": 17,
   "id": "402f67d5",
   "metadata": {},
   "outputs": [
    {
     "data": {
      "text/plain": [
       "Text(0, 0.5, 'тип подписки')"
      ]
     },
     "execution_count": 17,
     "metadata": {},
     "output_type": "execute_result"
    },
    {
     "data": {
      "image/png": "[encoded data removed]",
      "text/plain": [
       "<Figure size 640x480 with 1 Axes>"
      ]
     },
     "metadata": {},
     "output_type": "display_data"
    }
   ],
   "source": [
    "# соотношение пользователей с подпиской и без подписки\n",
    "users_go['subscription_type'].value_counts().plot(kind='pie', autopct='%1.1f%%')\n",
    "plt.title(\"Соотношение пользователей с подпиской и без подписки\", fontsize=14, pad=20)\n",
    "plt.ylabel(\"тип подписки\")"
   ]
  },
  {
   "cell_type": "code",
   "execution_count": 18,
   "id": "32c6b6c6",
   "metadata": {},
   "outputs": [
    {
     "data": {
      "text/plain": [
       "count    1534.000000\n",
       "mean       24.903520\n",
       "std         4.572367\n",
       "min        12.000000\n",
       "25%        22.000000\n",
       "50%        25.000000\n",
       "75%        28.000000\n",
       "max        43.000000\n",
       "Name: age, dtype: float64"
      ]
     },
     "execution_count": 18,
     "metadata": {},
     "output_type": "execute_result"
    },
    {
     "data": {
      "image/png": "[encoded data removed]",
      "text/plain": [
       "<Figure size 640x480 with 1 Axes>"
      ]
     },
     "metadata": {},
     "output_type": "display_data"
    }
   ],
   "source": [
    "# возраст пользователей\n",
    "# построим гистограмму\n",
    "users_go['age'].hist(bins=30, range = (0, 43))\n",
    "plt.title(\"Возраст пользователей\", fontsize=14, pad=20)\n",
    "plt.xlabel(\"возраст\")\n",
    "plt.ylabel(\"количество\")\n",
    "users_go['age'].describe()"
   ]
  },
  {
   "cell_type": "code",
   "execution_count": 19,
   "id": "0491a04a",
   "metadata": {},
   "outputs": [
    {
     "data": {
      "text/plain": [
       "count    18068.000000\n",
       "mean      3071.159841\n",
       "std       1116.831548\n",
       "min          1.000000\n",
       "25%       2543.750000\n",
       "50%       3134.000000\n",
       "75%       3777.000000\n",
       "max       7212.000000\n",
       "Name: distance, dtype: float64"
      ]
     },
     "execution_count": 19,
     "metadata": {},
     "output_type": "execute_result"
    },
    {
     "data": {
      "image/png": "[encoded data removed]",
      "text/plain": [
       "<Figure size 640x480 with 1 Axes>"
      ]
     },
     "metadata": {},
     "output_type": "display_data"
    }
   ],
   "source": [
    "# расстояние, которое пользователь преодолел за одну поездку\n",
    "# построим гистограмму\n",
    "rides_go['distance'].hist(bins=100, range = (0, 7211))\n",
    "plt.title(\"Расстояние, которое пользователь преодолел за одну поездку\", fontsize=14, pad=20)\n",
    "plt.xlabel(\"расстояние за одну поездку, м\")\n",
    "plt.ylabel(\"количество поездок\")\n",
    "rides_go['distance'].describe()"
   ]
  },
  {
   "cell_type": "code",
   "execution_count": 20,
   "id": "f528f3ef",
   "metadata": {
    "scrolled": true
   },
   "outputs": [
    {
     "data": {
      "text/plain": [
       "count    18068.000000\n",
       "mean        18.303520\n",
       "std          6.094928\n",
       "min          1.000000\n",
       "25%         14.000000\n",
       "50%         18.000000\n",
       "75%         22.000000\n",
       "max         41.000000\n",
       "Name: duration, dtype: float64"
      ]
     },
     "execution_count": 20,
     "metadata": {},
     "output_type": "execute_result"
    },
    {
     "data": {
      "image/png": "[encoded data removed]",
      "text/plain": [
       "<Figure size 640x480 with 1 Axes>"
      ]
     },
     "metadata": {},
     "output_type": "display_data"
    }
   ],
   "source": [
    "# продолжительность поездок\n",
    "# построим гистограмму\n",
    "rides_go['duration'].hist(bins=30, range = (0, 60))\n",
    "plt.title(\"Продолжительность поездок\", fontsize=14, pad=20)\n",
    "plt.xlabel(\"время одной поездки, мин\")\n",
    "plt.ylabel(\"количество поездок\")\n",
    "rides_go['duration'].describe()"
   ]
  },
  {
   "cell_type": "markdown",
   "id": "6112439c",
   "metadata": {},
   "source": [
    "**Промежуточные итоги:** \\\n",
    "После визуализации общей информации о пользователях и поездках выделим следующее:\\\n",
    ". данные сервиса представлены по восьми городам. И город Пятгорск, в котором чаще всего пользуются этим сервисом;\\\n",
    ". пользователей без подписки больше, чем с подпиской (это 54,4% от обещго числа);\\\n",
    ". возраст пользователей - это подростки от 12 лет и люди до 43 (высоким спросом этот сервис пользуется у молодых людей возрастом 25 лет);\\\n",
    ". самые большие расстояния, которое пользователи преодолевают за одну поездку, на этом виде транспорта в районе 7 км, а чаще всего это поездки исчисляются 3 км.\\\n",
    ". продолжительность поездок в среднем занимает 17 миут, но есть поездки по 40 минут, но их гораздо меньше."
   ]
  },
  {
   "cell_type": "markdown",
   "id": "b4aab587",
   "metadata": {},
   "source": [
    "### Шаг 4. Объединение данных"
   ]
  },
  {
   "cell_type": "code",
   "execution_count": 21,
   "id": "86f0c0e3",
   "metadata": {},
   "outputs": [],
   "source": [
    "# объединим данные о пользователях, поездках и подписках в один датафрейм\n",
    "general_go_fast = (users_go\n",
    "                   .merge(rides_go, on='user_id', how='left') \n",
    "                   .merge(subscriptions_go, on='subscription_type', how='left') \n",
    "                  )                "
   ]
  },
  {
   "cell_type": "code",
   "execution_count": 22,
   "id": "79f864d5",
   "metadata": {},
   "outputs": [
    {
     "name": "stdout",
     "output_type": "stream",
     "text": [
      "Количество строк у объединенной таблицы general_go_fast равно 18068\n",
      "Количество строк у изначальных таблиц users_go, rides_go, соответственно 18068 и 18068\n"
     ]
    }
   ],
   "source": [
    "print('Количество строк у объединенной таблицы general_go_fast равно', len(general_go_fast))\n",
    "print('Количество строк у изначальных таблиц users_go, rides_go, соответственно', len(general_go_fast), 'и', len(rides_go))\n"
   ]
  },
  {
   "cell_type": "code",
   "execution_count": 23,
   "id": "f0fe5f9f",
   "metadata": {},
   "outputs": [],
   "source": [
    "# создадим датафрейм c данными о пользователях без подписки из датафрейма general_go_fast\n",
    "general_go_fast_free =  general_go_fast[general_go_fast['subscription_type'] == 'free']"
   ]
  },
  {
   "cell_type": "code",
   "execution_count": 24,
   "id": "f47a5708",
   "metadata": {},
   "outputs": [],
   "source": [
    "# создадим датафрейм c данными о пользователях с подпиской из датафрейма general_go_fast\n",
    "general_go_fast_ultra =  general_go_fast[general_go_fast['subscription_type'] == 'ultra']"
   ]
  },
  {
   "cell_type": "code",
   "execution_count": 25,
   "id": "ae8aae8d",
   "metadata": {},
   "outputs": [
    {
     "data": {
      "image/png": "[encoded data removed]",
      "text/plain": [
       "<Figure size 640x480 with 1 Axes>"
      ]
     },
     "metadata": {},
     "output_type": "display_data"
    }
   ],
   "source": [
    "# построим гистограммы (визуализируем информацию о расстоянии поездок для пользователей без подписки и с подпиской)\n",
    "general_go_fast_free['distance'].hist(bins=100, range = (0, 7211), label='без подписки')\n",
    "general_go_fast_ultra['distance'].hist(bins=100, range = (0, 7211), label='с подпиской')\n",
    "plt.title(\"Расстоянии поездок для пользователей без подписки и с подпиской\", fontsize=14, pad=20)\n",
    "plt.xlabel(\"Расстояние одной поездки, м\")\n",
    "plt.ylabel(\"количество поездок\")\n",
    "plt.legend()\n",
    "plt.show()"
   ]
  },
  {
   "cell_type": "code",
   "execution_count": 26,
   "id": "97866e5a",
   "metadata": {},
   "outputs": [
    {
     "name": "stdout",
     "output_type": "stream",
     "text": [
      "Числовое описание данных о расстоянии поездок для пользователей с подпиской\n",
      "count    6500.000000\n",
      "mean     3115.949231\n",
      "std       836.894838\n",
      "min       245.000000\n",
      "25%      2786.000000\n",
      "50%      3149.000000\n",
      "75%      3561.000000\n",
      "max      5700.000000\n",
      "Name: distance, dtype: float64\n",
      "\n",
      "Числовое описание данных о расстоянии поездок для пользователей без подписки\n",
      "count    11568.000000\n",
      "mean      3045.992911\n",
      "std       1246.174341\n",
      "min          1.000000\n",
      "25%       2367.000000\n",
      "50%       3115.000000\n",
      "75%       3906.000000\n",
      "max       7212.000000\n",
      "Name: distance, dtype: float64\n"
     ]
    }
   ],
   "source": [
    "print('Числовое описание данных о расстоянии поездок для пользователей с подпиской')\n",
    "print(general_go_fast_ultra['distance'].describe())\n",
    "print()\n",
    "print('Числовое описание данных о расстоянии поездок для пользователей без подписки')\n",
    "print(general_go_fast_free['distance'].describe())"
   ]
  },
  {
   "cell_type": "code",
   "execution_count": 27,
   "id": "98c4447f",
   "metadata": {},
   "outputs": [
    {
     "data": {
      "image/png": "[encoded data removed]",
      "text/plain": [
       "<Figure size 640x480 with 1 Axes>"
      ]
     },
     "metadata": {},
     "output_type": "display_data"
    }
   ],
   "source": [
    "# построим гистограмму (визуализируем информацию о времени поездок для пользователей без подписки и с подпиской)\n",
    "\n",
    "general_go_fast_free['duration'].hist(bins=30, range = (0, 60), label='без подписки')\n",
    "general_go_fast_ultra['duration'].hist(bins=30, range = (0, 60), label='с подпиской')\n",
    "plt.title(\"Время поездок для пользователей без подписки и с подпиской\", fontsize=14, pad=20)\n",
    "plt.xlabel(\"Время одной поездки, мин\")\n",
    "plt.ylabel(\"количество поездок\")\n",
    "plt.legend()\n",
    "plt.show()\n"
   ]
  },
  {
   "cell_type": "code",
   "execution_count": 28,
   "id": "9210fe82",
   "metadata": {},
   "outputs": [
    {
     "name": "stdout",
     "output_type": "stream",
     "text": [
      "Числовое описание данных о времени поездок для пользователей с подпиской\n",
      "count    6500.000000\n",
      "mean       19.037692\n",
      "std         5.577439\n",
      "min         4.000000\n",
      "25%        15.000000\n",
      "50%        19.000000\n",
      "75%        22.000000\n",
      "max        41.000000\n",
      "Name: duration, dtype: float64\n",
      "\n",
      "Числовое описание данных о времени поездок для пользователей без подписки\n",
      "count    11568.000000\n",
      "mean        17.890992\n",
      "std          6.330250\n",
      "min          1.000000\n",
      "25%         13.000000\n",
      "50%         18.000000\n",
      "75%         22.000000\n",
      "max         35.000000\n",
      "Name: duration, dtype: float64\n"
     ]
    }
   ],
   "source": [
    "print('Числовое описание данных о времени поездок для пользователей с подпиской')\n",
    "print(general_go_fast_ultra['duration'].describe())\n",
    "print()\n",
    "print('Числовое описание данных о времени поездок для пользователей без подписки')\n",
    "print(general_go_fast_free['duration'].describe())"
   ]
  },
  {
   "cell_type": "markdown",
   "id": "21c6f593",
   "metadata": {},
   "source": [
    "**Промежуточные итоги:** \\\n",
    "Мы создали дополнительно два датафрейма c данными о пользователях без подписки и с подпиской, в которых отобржена текущая инфрмация о пользователях, их поездках. И выяснили, что пользователи без подписки гораздо чаще пользуются сервисом (т.е. у них гораздо больше поездок - больше преодолевают расстояний и гораздо дольше дляться их поездки)."
   ]
  },
  {
   "cell_type": "markdown",
   "id": "2777577c",
   "metadata": {},
   "source": [
    "### Шаг 5. Подсчёт выручки"
   ]
  },
  {
   "cell_type": "code",
   "execution_count": 29,
   "id": "81dba086",
   "metadata": {},
   "outputs": [
    {
     "data": {
      "text/html": [
       "<div>\n",
       "<style scoped>\n",
       "    .dataframe tbody tr th:only-of-type {\n",
       "        vertical-align: middle;\n",
       "    }\n",
       "\n",
       "    .dataframe tbody tr th {\n",
       "        vertical-align: top;\n",
       "    }\n",
       "\n",
       "    .dataframe thead th {\n",
       "        text-align: right;\n",
       "    }\n",
       "</style>\n",
       "<table border=\"1\" class=\"dataframe\">\n",
       "  <thead>\n",
       "    <tr style=\"text-align: right;\">\n",
       "      <th></th>\n",
       "      <th>user_id</th>\n",
       "      <th>month</th>\n",
       "      <th>sum_distance</th>\n",
       "      <th>sum_duration</th>\n",
       "      <th>count_drive</th>\n",
       "    </tr>\n",
       "  </thead>\n",
       "  <tbody>\n",
       "    <tr>\n",
       "      <th>0</th>\n",
       "      <td>1</td>\n",
       "      <td>1</td>\n",
       "      <td>7028.0</td>\n",
       "      <td>42.0</td>\n",
       "      <td>2</td>\n",
       "    </tr>\n",
       "    <tr>\n",
       "      <th>1</th>\n",
       "      <td>1</td>\n",
       "      <td>4</td>\n",
       "      <td>755.0</td>\n",
       "      <td>7.0</td>\n",
       "      <td>1</td>\n",
       "    </tr>\n",
       "    <tr>\n",
       "      <th>2</th>\n",
       "      <td>1</td>\n",
       "      <td>8</td>\n",
       "      <td>6724.0</td>\n",
       "      <td>46.0</td>\n",
       "      <td>2</td>\n",
       "    </tr>\n",
       "    <tr>\n",
       "      <th>3</th>\n",
       "      <td>1</td>\n",
       "      <td>10</td>\n",
       "      <td>5811.0</td>\n",
       "      <td>32.0</td>\n",
       "      <td>2</td>\n",
       "    </tr>\n",
       "    <tr>\n",
       "      <th>4</th>\n",
       "      <td>1</td>\n",
       "      <td>11</td>\n",
       "      <td>7005.0</td>\n",
       "      <td>56.0</td>\n",
       "      <td>3</td>\n",
       "    </tr>\n",
       "    <tr>\n",
       "      <th>...</th>\n",
       "      <td>...</td>\n",
       "      <td>...</td>\n",
       "      <td>...</td>\n",
       "      <td>...</td>\n",
       "      <td>...</td>\n",
       "    </tr>\n",
       "    <tr>\n",
       "      <th>11326</th>\n",
       "      <td>1534</td>\n",
       "      <td>6</td>\n",
       "      <td>3411.0</td>\n",
       "      <td>26.0</td>\n",
       "      <td>2</td>\n",
       "    </tr>\n",
       "    <tr>\n",
       "      <th>11327</th>\n",
       "      <td>1534</td>\n",
       "      <td>8</td>\n",
       "      <td>7623.0</td>\n",
       "      <td>48.0</td>\n",
       "      <td>2</td>\n",
       "    </tr>\n",
       "    <tr>\n",
       "      <th>11328</th>\n",
       "      <td>1534</td>\n",
       "      <td>9</td>\n",
       "      <td>4929.0</td>\n",
       "      <td>23.0</td>\n",
       "      <td>1</td>\n",
       "    </tr>\n",
       "    <tr>\n",
       "      <th>11329</th>\n",
       "      <td>1534</td>\n",
       "      <td>11</td>\n",
       "      <td>13353.0</td>\n",
       "      <td>78.0</td>\n",
       "      <td>4</td>\n",
       "    </tr>\n",
       "    <tr>\n",
       "      <th>11330</th>\n",
       "      <td>1534</td>\n",
       "      <td>12</td>\n",
       "      <td>2372.0</td>\n",
       "      <td>16.0</td>\n",
       "      <td>1</td>\n",
       "    </tr>\n",
       "  </tbody>\n",
       "</table>\n",
       "<p>11331 rows × 5 columns</p>\n",
       "</div>"
      ],
      "text/plain": [
       "       user_id  month  sum_distance  sum_duration  count_drive\n",
       "0            1      1        7028.0          42.0            2\n",
       "1            1      4         755.0           7.0            1\n",
       "2            1      8        6724.0          46.0            2\n",
       "3            1     10        5811.0          32.0            2\n",
       "4            1     11        7005.0          56.0            3\n",
       "...        ...    ...           ...           ...          ...\n",
       "11326     1534      6        3411.0          26.0            2\n",
       "11327     1534      8        7623.0          48.0            2\n",
       "11328     1534      9        4929.0          23.0            1\n",
       "11329     1534     11       13353.0          78.0            4\n",
       "11330     1534     12        2372.0          16.0            1\n",
       "\n",
       "[11331 rows x 5 columns]"
      ]
     },
     "metadata": {},
     "output_type": "display_data"
    }
   ],
   "source": [
    "# найдем суммарное расстояние, количество поездок, суммарное время для каждого пользователя за каждый месяц\n",
    "aggregated_general_go_fast = (\n",
    "    general_go_fast.pivot_table(index=['user_id', 'month'], values=['distance', 'duration'] , \n",
    "                                aggfunc=['sum', 'count']))\n",
    "\n",
    "#сбросим индексы у сводной таблице\n",
    "aggregated_general_go_fast = aggregated_general_go_fast.reset_index()\n",
    "\n",
    "#удалим двухуровневые колонки у сводной таблицы\n",
    "aggregated_general_go_fast.columns = aggregated_general_go_fast.columns.droplevel(0)\n",
    "\n",
    "#присвоим новые названия столбцам сводной таблицы\n",
    "aggregated_general_go_fast.columns = ['user_id', 'month', 'sum_distance', 'sum_duration', 'count_drive', 'count_drive1']\n",
    "\n",
    "# удалим задвоенный столбец у сводной таблицы\n",
    "del aggregated_general_go_fast['count_drive1']\n",
    "\n",
    "# выведем получившуюся таблицу\n",
    "display(aggregated_general_go_fast)"
   ]
  },
  {
   "cell_type": "code",
   "execution_count": 30,
   "id": "3643d67c",
   "metadata": {},
   "outputs": [
    {
     "data": {
      "text/html": [
       "<div>\n",
       "<style scoped>\n",
       "    .dataframe tbody tr th:only-of-type {\n",
       "        vertical-align: middle;\n",
       "    }\n",
       "\n",
       "    .dataframe tbody tr th {\n",
       "        vertical-align: top;\n",
       "    }\n",
       "\n",
       "    .dataframe thead th {\n",
       "        text-align: right;\n",
       "    }\n",
       "</style>\n",
       "<table border=\"1\" class=\"dataframe\">\n",
       "  <thead>\n",
       "    <tr style=\"text-align: right;\">\n",
       "      <th></th>\n",
       "      <th>user_id</th>\n",
       "      <th>month</th>\n",
       "      <th>sum_distance</th>\n",
       "      <th>sum_duration</th>\n",
       "      <th>count_drive</th>\n",
       "      <th>name</th>\n",
       "      <th>age</th>\n",
       "      <th>city</th>\n",
       "      <th>subscription_type</th>\n",
       "      <th>minute_price</th>\n",
       "      <th>start_ride_price</th>\n",
       "      <th>subscription_fee</th>\n",
       "    </tr>\n",
       "  </thead>\n",
       "  <tbody>\n",
       "    <tr>\n",
       "      <th>0</th>\n",
       "      <td>1</td>\n",
       "      <td>1</td>\n",
       "      <td>7028.0</td>\n",
       "      <td>42.0</td>\n",
       "      <td>2</td>\n",
       "      <td>Кира</td>\n",
       "      <td>22</td>\n",
       "      <td>Тюмень</td>\n",
       "      <td>ultra</td>\n",
       "      <td>6</td>\n",
       "      <td>0</td>\n",
       "      <td>199</td>\n",
       "    </tr>\n",
       "    <tr>\n",
       "      <th>1</th>\n",
       "      <td>1</td>\n",
       "      <td>4</td>\n",
       "      <td>755.0</td>\n",
       "      <td>7.0</td>\n",
       "      <td>1</td>\n",
       "      <td>Кира</td>\n",
       "      <td>22</td>\n",
       "      <td>Тюмень</td>\n",
       "      <td>ultra</td>\n",
       "      <td>6</td>\n",
       "      <td>0</td>\n",
       "      <td>199</td>\n",
       "    </tr>\n",
       "    <tr>\n",
       "      <th>2</th>\n",
       "      <td>1</td>\n",
       "      <td>8</td>\n",
       "      <td>6724.0</td>\n",
       "      <td>46.0</td>\n",
       "      <td>2</td>\n",
       "      <td>Кира</td>\n",
       "      <td>22</td>\n",
       "      <td>Тюмень</td>\n",
       "      <td>ultra</td>\n",
       "      <td>6</td>\n",
       "      <td>0</td>\n",
       "      <td>199</td>\n",
       "    </tr>\n",
       "    <tr>\n",
       "      <th>3</th>\n",
       "      <td>1</td>\n",
       "      <td>10</td>\n",
       "      <td>5811.0</td>\n",
       "      <td>32.0</td>\n",
       "      <td>2</td>\n",
       "      <td>Кира</td>\n",
       "      <td>22</td>\n",
       "      <td>Тюмень</td>\n",
       "      <td>ultra</td>\n",
       "      <td>6</td>\n",
       "      <td>0</td>\n",
       "      <td>199</td>\n",
       "    </tr>\n",
       "    <tr>\n",
       "      <th>4</th>\n",
       "      <td>1</td>\n",
       "      <td>11</td>\n",
       "      <td>7005.0</td>\n",
       "      <td>56.0</td>\n",
       "      <td>3</td>\n",
       "      <td>Кира</td>\n",
       "      <td>22</td>\n",
       "      <td>Тюмень</td>\n",
       "      <td>ultra</td>\n",
       "      <td>6</td>\n",
       "      <td>0</td>\n",
       "      <td>199</td>\n",
       "    </tr>\n",
       "    <tr>\n",
       "      <th>...</th>\n",
       "      <td>...</td>\n",
       "      <td>...</td>\n",
       "      <td>...</td>\n",
       "      <td>...</td>\n",
       "      <td>...</td>\n",
       "      <td>...</td>\n",
       "      <td>...</td>\n",
       "      <td>...</td>\n",
       "      <td>...</td>\n",
       "      <td>...</td>\n",
       "      <td>...</td>\n",
       "      <td>...</td>\n",
       "    </tr>\n",
       "    <tr>\n",
       "      <th>11326</th>\n",
       "      <td>1534</td>\n",
       "      <td>6</td>\n",
       "      <td>3411.0</td>\n",
       "      <td>26.0</td>\n",
       "      <td>2</td>\n",
       "      <td>Альберт</td>\n",
       "      <td>25</td>\n",
       "      <td>Краснодар</td>\n",
       "      <td>free</td>\n",
       "      <td>8</td>\n",
       "      <td>50</td>\n",
       "      <td>0</td>\n",
       "    </tr>\n",
       "    <tr>\n",
       "      <th>11327</th>\n",
       "      <td>1534</td>\n",
       "      <td>8</td>\n",
       "      <td>7623.0</td>\n",
       "      <td>48.0</td>\n",
       "      <td>2</td>\n",
       "      <td>Альберт</td>\n",
       "      <td>25</td>\n",
       "      <td>Краснодар</td>\n",
       "      <td>free</td>\n",
       "      <td>8</td>\n",
       "      <td>50</td>\n",
       "      <td>0</td>\n",
       "    </tr>\n",
       "    <tr>\n",
       "      <th>11328</th>\n",
       "      <td>1534</td>\n",
       "      <td>9</td>\n",
       "      <td>4929.0</td>\n",
       "      <td>23.0</td>\n",
       "      <td>1</td>\n",
       "      <td>Альберт</td>\n",
       "      <td>25</td>\n",
       "      <td>Краснодар</td>\n",
       "      <td>free</td>\n",
       "      <td>8</td>\n",
       "      <td>50</td>\n",
       "      <td>0</td>\n",
       "    </tr>\n",
       "    <tr>\n",
       "      <th>11329</th>\n",
       "      <td>1534</td>\n",
       "      <td>11</td>\n",
       "      <td>13353.0</td>\n",
       "      <td>78.0</td>\n",
       "      <td>4</td>\n",
       "      <td>Альберт</td>\n",
       "      <td>25</td>\n",
       "      <td>Краснодар</td>\n",
       "      <td>free</td>\n",
       "      <td>8</td>\n",
       "      <td>50</td>\n",
       "      <td>0</td>\n",
       "    </tr>\n",
       "    <tr>\n",
       "      <th>11330</th>\n",
       "      <td>1534</td>\n",
       "      <td>12</td>\n",
       "      <td>2372.0</td>\n",
       "      <td>16.0</td>\n",
       "      <td>1</td>\n",
       "      <td>Альберт</td>\n",
       "      <td>25</td>\n",
       "      <td>Краснодар</td>\n",
       "      <td>free</td>\n",
       "      <td>8</td>\n",
       "      <td>50</td>\n",
       "      <td>0</td>\n",
       "    </tr>\n",
       "  </tbody>\n",
       "</table>\n",
       "<p>11331 rows × 12 columns</p>\n",
       "</div>"
      ],
      "text/plain": [
       "       user_id  month  sum_distance  sum_duration  count_drive     name  age  \\\n",
       "0            1      1        7028.0          42.0            2     Кира   22   \n",
       "1            1      4         755.0           7.0            1     Кира   22   \n",
       "2            1      8        6724.0          46.0            2     Кира   22   \n",
       "3            1     10        5811.0          32.0            2     Кира   22   \n",
       "4            1     11        7005.0          56.0            3     Кира   22   \n",
       "...        ...    ...           ...           ...          ...      ...  ...   \n",
       "11326     1534      6        3411.0          26.0            2  Альберт   25   \n",
       "11327     1534      8        7623.0          48.0            2  Альберт   25   \n",
       "11328     1534      9        4929.0          23.0            1  Альберт   25   \n",
       "11329     1534     11       13353.0          78.0            4  Альберт   25   \n",
       "11330     1534     12        2372.0          16.0            1  Альберт   25   \n",
       "\n",
       "            city subscription_type  minute_price  start_ride_price  \\\n",
       "0         Тюмень             ultra             6                 0   \n",
       "1         Тюмень             ultra             6                 0   \n",
       "2         Тюмень             ultra             6                 0   \n",
       "3         Тюмень             ultra             6                 0   \n",
       "4         Тюмень             ultra             6                 0   \n",
       "...          ...               ...           ...               ...   \n",
       "11326  Краснодар              free             8                50   \n",
       "11327  Краснодар              free             8                50   \n",
       "11328  Краснодар              free             8                50   \n",
       "11329  Краснодар              free             8                50   \n",
       "11330  Краснодар              free             8                50   \n",
       "\n",
       "       subscription_fee  \n",
       "0                   199  \n",
       "1                   199  \n",
       "2                   199  \n",
       "3                   199  \n",
       "4                   199  \n",
       "...                 ...  \n",
       "11326                 0  \n",
       "11327                 0  \n",
       "11328                 0  \n",
       "11329                 0  \n",
       "11330                 0  \n",
       "\n",
       "[11331 rows x 12 columns]"
      ]
     },
     "metadata": {},
     "output_type": "display_data"
    }
   ],
   "source": [
    "# в сводную таблицу aggregated_general_go_fast добавим данные о пользователе из users_go, subscriptions_go\n",
    "aggregated_general_go_fast_type = (aggregated_general_go_fast\n",
    "                   .merge(users_go, on='user_id', how='left')\n",
    "                   .merge(subscriptions_go, on='subscription_type', how='left')\n",
    "                         )                          \n",
    "\n",
    "# выведем получившуюся таблицу\n",
    "display(aggregated_general_go_fast_type)\n",
    "             "
   ]
  },
  {
   "cell_type": "code",
   "execution_count": 31,
   "id": "006b7bae",
   "metadata": {},
   "outputs": [],
   "source": [
    "# функция расчета помесячной выручкой, которую принёс каждый пользователь\n",
    "def revenue_calculation(row):\n",
    "    count = row['count_drive']\n",
    "    summ = row['sum_duration']\n",
    "    minute = row['minute_price']\n",
    "    start = row['start_ride_price']\n",
    "    subscription = row['subscription_fee']\n",
    "    return((start * count + minute * summ + subscription))\n"
   ]
  },
  {
   "cell_type": "code",
   "execution_count": 32,
   "id": "3bec0ef3",
   "metadata": {},
   "outputs": [],
   "source": [
    "# добавим столбец с помесячной выручкой, которую принёс каждый пользователь в aggregated_general_go_fast_type\n",
    "aggregated_general_go_fast_type['revenue'] = aggregated_general_go_fast_type.apply(revenue_calculation, axis=1)"
   ]
  },
  {
   "cell_type": "code",
   "execution_count": 33,
   "id": "de162abf",
   "metadata": {},
   "outputs": [
    {
     "data": {
      "text/html": [
       "<div>\n",
       "<style scoped>\n",
       "    .dataframe tbody tr th:only-of-type {\n",
       "        vertical-align: middle;\n",
       "    }\n",
       "\n",
       "    .dataframe tbody tr th {\n",
       "        vertical-align: top;\n",
       "    }\n",
       "\n",
       "    .dataframe thead th {\n",
       "        text-align: right;\n",
       "    }\n",
       "</style>\n",
       "<table border=\"1\" class=\"dataframe\">\n",
       "  <thead>\n",
       "    <tr style=\"text-align: right;\">\n",
       "      <th></th>\n",
       "      <th>user_id</th>\n",
       "      <th>month</th>\n",
       "      <th>sum_distance</th>\n",
       "      <th>sum_duration</th>\n",
       "      <th>count_drive</th>\n",
       "      <th>name</th>\n",
       "      <th>age</th>\n",
       "      <th>city</th>\n",
       "      <th>subscription_type</th>\n",
       "      <th>minute_price</th>\n",
       "      <th>start_ride_price</th>\n",
       "      <th>subscription_fee</th>\n",
       "      <th>revenue</th>\n",
       "    </tr>\n",
       "  </thead>\n",
       "  <tbody>\n",
       "    <tr>\n",
       "      <th>0</th>\n",
       "      <td>1</td>\n",
       "      <td>1</td>\n",
       "      <td>7028.0</td>\n",
       "      <td>42.0</td>\n",
       "      <td>2</td>\n",
       "      <td>Кира</td>\n",
       "      <td>22</td>\n",
       "      <td>Тюмень</td>\n",
       "      <td>ultra</td>\n",
       "      <td>6</td>\n",
       "      <td>0</td>\n",
       "      <td>199</td>\n",
       "      <td>451.0</td>\n",
       "    </tr>\n",
       "    <tr>\n",
       "      <th>1</th>\n",
       "      <td>1</td>\n",
       "      <td>4</td>\n",
       "      <td>755.0</td>\n",
       "      <td>7.0</td>\n",
       "      <td>1</td>\n",
       "      <td>Кира</td>\n",
       "      <td>22</td>\n",
       "      <td>Тюмень</td>\n",
       "      <td>ultra</td>\n",
       "      <td>6</td>\n",
       "      <td>0</td>\n",
       "      <td>199</td>\n",
       "      <td>241.0</td>\n",
       "    </tr>\n",
       "    <tr>\n",
       "      <th>2</th>\n",
       "      <td>1</td>\n",
       "      <td>8</td>\n",
       "      <td>6724.0</td>\n",
       "      <td>46.0</td>\n",
       "      <td>2</td>\n",
       "      <td>Кира</td>\n",
       "      <td>22</td>\n",
       "      <td>Тюмень</td>\n",
       "      <td>ultra</td>\n",
       "      <td>6</td>\n",
       "      <td>0</td>\n",
       "      <td>199</td>\n",
       "      <td>475.0</td>\n",
       "    </tr>\n",
       "    <tr>\n",
       "      <th>3</th>\n",
       "      <td>1</td>\n",
       "      <td>10</td>\n",
       "      <td>5811.0</td>\n",
       "      <td>32.0</td>\n",
       "      <td>2</td>\n",
       "      <td>Кира</td>\n",
       "      <td>22</td>\n",
       "      <td>Тюмень</td>\n",
       "      <td>ultra</td>\n",
       "      <td>6</td>\n",
       "      <td>0</td>\n",
       "      <td>199</td>\n",
       "      <td>391.0</td>\n",
       "    </tr>\n",
       "    <tr>\n",
       "      <th>4</th>\n",
       "      <td>1</td>\n",
       "      <td>11</td>\n",
       "      <td>7005.0</td>\n",
       "      <td>56.0</td>\n",
       "      <td>3</td>\n",
       "      <td>Кира</td>\n",
       "      <td>22</td>\n",
       "      <td>Тюмень</td>\n",
       "      <td>ultra</td>\n",
       "      <td>6</td>\n",
       "      <td>0</td>\n",
       "      <td>199</td>\n",
       "      <td>535.0</td>\n",
       "    </tr>\n",
       "    <tr>\n",
       "      <th>...</th>\n",
       "      <td>...</td>\n",
       "      <td>...</td>\n",
       "      <td>...</td>\n",
       "      <td>...</td>\n",
       "      <td>...</td>\n",
       "      <td>...</td>\n",
       "      <td>...</td>\n",
       "      <td>...</td>\n",
       "      <td>...</td>\n",
       "      <td>...</td>\n",
       "      <td>...</td>\n",
       "      <td>...</td>\n",
       "      <td>...</td>\n",
       "    </tr>\n",
       "    <tr>\n",
       "      <th>11326</th>\n",
       "      <td>1534</td>\n",
       "      <td>6</td>\n",
       "      <td>3411.0</td>\n",
       "      <td>26.0</td>\n",
       "      <td>2</td>\n",
       "      <td>Альберт</td>\n",
       "      <td>25</td>\n",
       "      <td>Краснодар</td>\n",
       "      <td>free</td>\n",
       "      <td>8</td>\n",
       "      <td>50</td>\n",
       "      <td>0</td>\n",
       "      <td>308.0</td>\n",
       "    </tr>\n",
       "    <tr>\n",
       "      <th>11327</th>\n",
       "      <td>1534</td>\n",
       "      <td>8</td>\n",
       "      <td>7623.0</td>\n",
       "      <td>48.0</td>\n",
       "      <td>2</td>\n",
       "      <td>Альберт</td>\n",
       "      <td>25</td>\n",
       "      <td>Краснодар</td>\n",
       "      <td>free</td>\n",
       "      <td>8</td>\n",
       "      <td>50</td>\n",
       "      <td>0</td>\n",
       "      <td>484.0</td>\n",
       "    </tr>\n",
       "    <tr>\n",
       "      <th>11328</th>\n",
       "      <td>1534</td>\n",
       "      <td>9</td>\n",
       "      <td>4929.0</td>\n",
       "      <td>23.0</td>\n",
       "      <td>1</td>\n",
       "      <td>Альберт</td>\n",
       "      <td>25</td>\n",
       "      <td>Краснодар</td>\n",
       "      <td>free</td>\n",
       "      <td>8</td>\n",
       "      <td>50</td>\n",
       "      <td>0</td>\n",
       "      <td>234.0</td>\n",
       "    </tr>\n",
       "    <tr>\n",
       "      <th>11329</th>\n",
       "      <td>1534</td>\n",
       "      <td>11</td>\n",
       "      <td>13353.0</td>\n",
       "      <td>78.0</td>\n",
       "      <td>4</td>\n",
       "      <td>Альберт</td>\n",
       "      <td>25</td>\n",
       "      <td>Краснодар</td>\n",
       "      <td>free</td>\n",
       "      <td>8</td>\n",
       "      <td>50</td>\n",
       "      <td>0</td>\n",
       "      <td>824.0</td>\n",
       "    </tr>\n",
       "    <tr>\n",
       "      <th>11330</th>\n",
       "      <td>1534</td>\n",
       "      <td>12</td>\n",
       "      <td>2372.0</td>\n",
       "      <td>16.0</td>\n",
       "      <td>1</td>\n",
       "      <td>Альберт</td>\n",
       "      <td>25</td>\n",
       "      <td>Краснодар</td>\n",
       "      <td>free</td>\n",
       "      <td>8</td>\n",
       "      <td>50</td>\n",
       "      <td>0</td>\n",
       "      <td>178.0</td>\n",
       "    </tr>\n",
       "  </tbody>\n",
       "</table>\n",
       "<p>11331 rows × 13 columns</p>\n",
       "</div>"
      ],
      "text/plain": [
       "       user_id  month  sum_distance  sum_duration  count_drive     name  age  \\\n",
       "0            1      1        7028.0          42.0            2     Кира   22   \n",
       "1            1      4         755.0           7.0            1     Кира   22   \n",
       "2            1      8        6724.0          46.0            2     Кира   22   \n",
       "3            1     10        5811.0          32.0            2     Кира   22   \n",
       "4            1     11        7005.0          56.0            3     Кира   22   \n",
       "...        ...    ...           ...           ...          ...      ...  ...   \n",
       "11326     1534      6        3411.0          26.0            2  Альберт   25   \n",
       "11327     1534      8        7623.0          48.0            2  Альберт   25   \n",
       "11328     1534      9        4929.0          23.0            1  Альберт   25   \n",
       "11329     1534     11       13353.0          78.0            4  Альберт   25   \n",
       "11330     1534     12        2372.0          16.0            1  Альберт   25   \n",
       "\n",
       "            city subscription_type  minute_price  start_ride_price  \\\n",
       "0         Тюмень             ultra             6                 0   \n",
       "1         Тюмень             ultra             6                 0   \n",
       "2         Тюмень             ultra             6                 0   \n",
       "3         Тюмень             ultra             6                 0   \n",
       "4         Тюмень             ultra             6                 0   \n",
       "...          ...               ...           ...               ...   \n",
       "11326  Краснодар              free             8                50   \n",
       "11327  Краснодар              free             8                50   \n",
       "11328  Краснодар              free             8                50   \n",
       "11329  Краснодар              free             8                50   \n",
       "11330  Краснодар              free             8                50   \n",
       "\n",
       "       subscription_fee  revenue  \n",
       "0                   199    451.0  \n",
       "1                   199    241.0  \n",
       "2                   199    475.0  \n",
       "3                   199    391.0  \n",
       "4                   199    535.0  \n",
       "...                 ...      ...  \n",
       "11326                 0    308.0  \n",
       "11327                 0    484.0  \n",
       "11328                 0    234.0  \n",
       "11329                 0    824.0  \n",
       "11330                 0    178.0  \n",
       "\n",
       "[11331 rows x 13 columns]"
      ]
     },
     "metadata": {},
     "output_type": "display_data"
    }
   ],
   "source": [
    "# выведем получившуюся таблицу\n",
    "display(aggregated_general_go_fast_type)"
   ]
  },
  {
   "cell_type": "markdown",
   "id": "87cfa86e",
   "metadata": {},
   "source": [
    "**Промежуточные итоги:** \\\n",
    "Получили сводную таблицу с суммарными расстояниями, количеством поездок, суммарным временем, суммарной выручкой для каждого пользователя за каждый месяц."
   ]
  },
  {
   "cell_type": "markdown",
   "id": "e7c5793f",
   "metadata": {},
   "source": [
    "### Шаг 6. Проверка гипотез"
   ]
  },
  {
   "cell_type": "markdown",
   "id": "63a183dd",
   "metadata": {},
   "source": [
    "**6.1. Тратят ли пользователи с подпиской больше времени на поездки?**\n",
    "\n",
    "Гипотеза H0: Пользователи с подпиской и без подписки тратят в среднем одинаковое время на поездки. \n",
    "\n",
    "Гипотеза H1: Пользователи с подпиской тратят в среднем больше времени на поезки, чем без подписки.\n",
    "Будем использовать исходные данные о продолжительности каждой сессии — отдельно для подписчиков (general_go_fast_ultra) и тех, у кого нет подписки (general_go_fast_free)."
   ]
  },
  {
   "cell_type": "code",
   "execution_count": 34,
   "id": "2523de41",
   "metadata": {},
   "outputs": [
    {
     "name": "stdout",
     "output_type": "stream",
     "text": [
      "p-значение: 1.1814679253701353e-36\n",
      "Отвергаем нулевую гипотезу о равенстве среднего времени поезки\n",
      "\n",
      "Средние значения продолжительности поездок для пользователей с подпиской = 19.0\n",
      "Средние значения продолжительности поездок для пользователей без пдпиской = 18.0\n"
     ]
    }
   ],
   "source": [
    "# задаем уровень статистической значимости\n",
    "alpha = 0.05 \n",
    "\n",
    "# проведем тест и посчитаем p-значение\n",
    "results = st.ttest_ind(general_go_fast_ultra['duration'], general_go_fast_free['duration'], equal_var = False, alternative='greater')\n",
    "\n",
    "# выведем на экран полученное p-значение\n",
    "print('p-значение:', results.pvalue)\n",
    "\n",
    "if results.pvalue < alpha:# сравним p-значение с заданным уровнем значимости alpha\n",
    "    print('Отвергаем нулевую гипотезу о равенстве среднего времени поезки')\n",
    "else:\n",
    "    print('Не получилось отвергнуть нулевую гипотезу о равенстве среднего времени поездки')\n",
    "    \n",
    "print()    \n",
    "print('Средние значения продолжительности поездок для пользователей с подпиской =', general_go_fast_ultra['duration'].mean().round()) \n",
    "print('Средние значения продолжительности поездок для пользователей без пдпиской =', general_go_fast_free['duration'].mean().round())"
   ]
  },
  {
   "cell_type": "markdown",
   "id": "b6676833",
   "metadata": {},
   "source": [
    "**Промежуточные выводы:** \\\n",
    "Полученное значение p-value намного меньше заданного уровня значимости, поэтому можно отвергнуть нулевую гипотезу. Есть основания говорить, что пользователи с подпиской тратят больше времени на поездки."
   ]
  },
  {
   "cell_type": "markdown",
   "id": "3af81533",
   "metadata": {},
   "source": [
    "**6.2. Можно ли сказать, что среднее расстояние, которое проезжают пользователи с подпиской за одну поездку, не превышает 3 130 метров?**\n",
    "\n",
    "Гипотеза H0: Cреднее расстояние за одну поездку, которое проезжают пользователи с подпиской равно 3 130 м. \n",
    "\n",
    "Гипотеза H1: Пользователи с подпиской проезжают за одну поездку в среднем расстояние больше 3 130 м."
   ]
  },
  {
   "cell_type": "code",
   "execution_count": 35,
   "id": "69f4176c",
   "metadata": {},
   "outputs": [
    {
     "name": "stdout",
     "output_type": "stream",
     "text": [
      "p-значение: 0.9120422337080507\n",
      "Не получилось отвергнуть нулевую гипотезу\n"
     ]
    }
   ],
   "source": [
    "# расстояние одной поездки, которое оптимальное с точки зрения износа самоката\n",
    "interested_value = 3130\n",
    "\n",
    "# уровень статистической значимости\n",
    "alpha = 0.05 \n",
    "  \n",
    "# проведем тест и посчитаем p-значение\n",
    "results = st.ttest_1samp(\n",
    "    general_go_fast_ultra['distance'],\n",
    "    interested_value,  alternative='greater')\n",
    "\n",
    "print('p-значение:', results.pvalue)\n",
    "\n",
    "if results.pvalue < alpha:\n",
    "    print('Отвергаем нулевую гипотезу')\n",
    "else:\n",
    "    print('Не получилось отвергнуть нулевую гипотезу')"
   ]
  },
  {
   "cell_type": "markdown",
   "id": "fec54709",
   "metadata": {},
   "source": [
    "**Промежуточные выводы:** \\\n",
    "Получается, что по всей видимости, пользователи с подпиской действительно проезжают расстояние не превышающее 3 130 м."
   ]
  },
  {
   "cell_type": "markdown",
   "id": "65b3a8d1",
   "metadata": {},
   "source": [
    "**6.3. Будет ли помесячная выручка от пользователей с подпиской по месяцам выше, чем выручка от пользователей без подписки?**"
   ]
  },
  {
   "cell_type": "markdown",
   "id": "01c8134e",
   "metadata": {},
   "source": [
    "Гипотеза H0: Cредняя помесячная выручка пользователей с подпиской равна средней выручки пользователей без подписки. \n",
    "\n",
    "Гипотеза H1: Cредняя помесячная выручка пользователей с подпиской выше, чем средняя выручка пользователей без подписки. "
   ]
  },
  {
   "cell_type": "code",
   "execution_count": 36,
   "id": "709f42cc",
   "metadata": {},
   "outputs": [],
   "source": [
    "# сделаем срезы по типу подписки\n",
    "ultra = aggregated_general_go_fast_type.query('subscription_type == \"ultra\"') \n",
    "free = aggregated_general_go_fast_type.query('subscription_type == \"free\"') "
   ]
  },
  {
   "cell_type": "code",
   "execution_count": 37,
   "id": "40cf06d4",
   "metadata": {},
   "outputs": [
    {
     "name": "stdout",
     "output_type": "stream",
     "text": [
      "p-значение: 8.874140893976874e-40\n",
      "Отвергаем нулевую гипотезу о равенстве средней помесячной выручки для пользователей с подпиской или без\n",
      "\n",
      "Средние значения помесячной выручки для категории пользователей с подпиской = 363.0\n",
      "Средние значения помесячной выручки для пользователей без подпиской = 329.0\n"
     ]
    }
   ],
   "source": [
    "# задаем уровень статистической значимости\n",
    "alpha = 0.05 \n",
    "\n",
    "# проведем тест и посчитаем p-значение\n",
    "results = st.ttest_ind(ultra['revenue'], free['revenue'], equal_var = False, alternative='greater')\n",
    "\n",
    "# выведем на экран полученное p-значение\n",
    "print('p-значение:', results.pvalue)\n",
    "\n",
    "if results.pvalue < alpha:# сравним p-значение с заданным уровнем значимости alpha\n",
    "    print('Отвергаем нулевую гипотезу о равенстве средней помесячной выручки для пользователей с подпиской или без')\n",
    "else:\n",
    "    print('Не получилось отвергнуть нулевую гипотезу о равенстве средней помесячной выручки для пользователей с подпиской или без')\n",
    "    \n",
    "print()    \n",
    "print('Средние значения помесячной выручки для категории пользователей с подпиской =', ultra['revenue'].mean().round()) \n",
    "print('Средние значения помесячной выручки для пользователей без подпиской =', free['revenue'].mean().round())    "
   ]
  },
  {
   "cell_type": "markdown",
   "id": "7541012d",
   "metadata": {},
   "source": [
    "**Промежуточные выводы:** \\\n",
    "Полученное значение p-value намного меньше заданного уровня значимости, поэтому можно отвергнуть нулевую гипотезу. Есть основания говорить, что помесячная выручка от пользователей с подпиской по месяцам выше, чем выручка от пользователей без подписки."
   ]
  },
  {
   "cell_type": "markdown",
   "id": "d396d57d",
   "metadata": {},
   "source": [
    "**6.4. Вопрос**\n",
    "\n",
    "Представьте такую ситуацию: техническая команда сервиса обновила сервера, с которыми взаимодействует мобильное приложение. \n",
    "Она надеется, что из-за этого количество обращений в техподдержку значимо снизилось. \n",
    "Некоторый файл содержит для каждого пользователя данные о количестве обращений до обновления и после него. \n",
    "Какой тест вам понадобился бы для проверки этой гипотезы?\n",
    "\n",
    "Ответ: Для проведения теста нужно использовать метод scipy.stats.ttest_rel(). "
   ]
  },
  {
   "cell_type": "markdown",
   "id": "0a5af7d2",
   "metadata": {},
   "source": [
    "### ШАГ 7. ИТОГИ\n",
    "\n",
    "Мы провели работу с данными сервиса аренды самокатов GoFast - данные о некоторых пользователях из нескольких городов, а также об их поездках. На этапе предобработки данных мы преобразовали тип данных, проверили на наличие пропущенных значений, устранили дубликаты. На этапе исследовательского анализа данных мы строили графики, определяли и интерпретировали взаимосвязи данных о пользователях и их поездках. Рассчитали суммарное расстояние, количество поездок, суммарное время, помесячную выручку для каждого пользователя за каждый месяц. Проверили ряд гипотез.\n",
    "\n",
    "И пришли к следующим выводам после проделанной работы:\\\n",
    ". пользователи с подпиской являются более выгодными для компании, так как помесячная выручка от этих пользователей выше (в т.ч. они больше времени тратят на поездки);\\\n",
    ". пользователей без подписки больше, чем с подпиской. И эти пользователи охотнее пользуются сервисом.\n",
    "\n",
    "Мы рекомендуем обратить внимание:\\\n",
    ". часть данных было задвоенно;\\\n",
    ". возможно данные о расстоянии, которое пользователь преодолел за одну поездку, не в порядке;\\\n",
    ". и конечно обратить на то, что большинство гораздо чаще пользуются сервисом и по какой-то причине не оформляют подписку."
   ]
  }
 ],
 "metadata": {
  "ExecuteTimeLog": [
   {
    "duration": 401,
    "start_time": "2023-11-17T06:43:07.310Z"
   },
   {
    "duration": 187,
    "start_time": "2023-11-17T06:43:07.713Z"
   },
   {
    "duration": 30,
    "start_time": "2023-11-17T06:43:07.901Z"
   },
   {
    "duration": 24,
    "start_time": "2023-11-17T06:44:26.474Z"
   },
   {
    "duration": 23,
    "start_time": "2023-11-17T06:44:35.809Z"
   },
   {
    "duration": 23,
    "start_time": "2023-11-17T06:44:41.873Z"
   },
   {
    "duration": 64,
    "start_time": "2023-11-17T06:56:58.081Z"
   },
   {
    "duration": 7,
    "start_time": "2023-11-17T06:57:06.281Z"
   },
   {
    "duration": 10,
    "start_time": "2023-11-17T06:57:24.854Z"
   },
   {
    "duration": 11,
    "start_time": "2023-11-17T06:57:30.606Z"
   },
   {
    "duration": 13,
    "start_time": "2023-11-17T06:57:52.310Z"
   },
   {
    "duration": 52,
    "start_time": "2023-11-17T06:58:16.815Z"
   },
   {
    "duration": 65,
    "start_time": "2023-11-17T06:58:36.127Z"
   },
   {
    "duration": 6,
    "start_time": "2023-11-17T06:59:11.791Z"
   },
   {
    "duration": 355,
    "start_time": "2023-11-17T06:59:24.191Z"
   },
   {
    "duration": 65,
    "start_time": "2023-11-17T06:59:24.548Z"
   },
   {
    "duration": 28,
    "start_time": "2023-11-17T06:59:24.615Z"
   },
   {
    "duration": 22,
    "start_time": "2023-11-17T06:59:24.645Z"
   },
   {
    "duration": 20,
    "start_time": "2023-11-17T06:59:24.668Z"
   },
   {
    "duration": 5,
    "start_time": "2023-11-17T07:01:41.352Z"
   },
   {
    "duration": 15,
    "start_time": "2023-11-17T07:02:02.607Z"
   },
   {
    "duration": 2,
    "start_time": "2023-11-17T07:03:42.499Z"
   },
   {
    "duration": 9,
    "start_time": "2023-11-17T07:04:27.032Z"
   },
   {
    "duration": 387,
    "start_time": "2023-11-17T07:04:39.254Z"
   },
   {
    "duration": 68,
    "start_time": "2023-11-17T07:04:39.643Z"
   },
   {
    "duration": 29,
    "start_time": "2023-11-17T07:04:39.713Z"
   },
   {
    "duration": 29,
    "start_time": "2023-11-17T07:04:39.745Z"
   },
   {
    "duration": 7,
    "start_time": "2023-11-17T07:04:39.776Z"
   },
   {
    "duration": 5,
    "start_time": "2023-11-17T07:04:39.784Z"
   },
   {
    "duration": 9,
    "start_time": "2023-11-17T07:04:39.790Z"
   },
   {
    "duration": 404,
    "start_time": "2023-11-17T07:04:58.051Z"
   },
   {
    "duration": 65,
    "start_time": "2023-11-17T07:04:58.457Z"
   },
   {
    "duration": 31,
    "start_time": "2023-11-17T07:04:58.524Z"
   },
   {
    "duration": 25,
    "start_time": "2023-11-17T07:04:58.557Z"
   },
   {
    "duration": 6,
    "start_time": "2023-11-17T07:04:58.584Z"
   },
   {
    "duration": 19,
    "start_time": "2023-11-17T07:04:58.592Z"
   },
   {
    "duration": 8,
    "start_time": "2023-11-17T07:04:58.612Z"
   },
   {
    "duration": 7,
    "start_time": "2023-11-17T07:04:58.642Z"
   },
   {
    "duration": 22,
    "start_time": "2023-11-17T07:04:58.650Z"
   },
   {
    "duration": 6,
    "start_time": "2023-11-17T07:07:42.156Z"
   },
   {
    "duration": 6,
    "start_time": "2023-11-17T07:08:28.154Z"
   },
   {
    "duration": 7,
    "start_time": "2023-11-17T07:08:32.258Z"
   },
   {
    "duration": 6,
    "start_time": "2023-11-17T07:09:11.530Z"
   },
   {
    "duration": 9,
    "start_time": "2023-11-17T07:09:34.538Z"
   },
   {
    "duration": 7,
    "start_time": "2023-11-17T07:09:38.714Z"
   },
   {
    "duration": 5,
    "start_time": "2023-11-17T07:09:57.851Z"
   },
   {
    "duration": 421,
    "start_time": "2023-11-17T07:17:04.228Z"
   },
   {
    "duration": 71,
    "start_time": "2023-11-17T07:17:04.651Z"
   },
   {
    "duration": 31,
    "start_time": "2023-11-17T07:17:04.723Z"
   },
   {
    "duration": 57,
    "start_time": "2023-11-17T07:17:04.756Z"
   },
   {
    "duration": 35,
    "start_time": "2023-11-17T07:17:04.815Z"
   },
   {
    "duration": 42,
    "start_time": "2023-11-17T07:17:04.852Z"
   },
   {
    "duration": 60,
    "start_time": "2023-11-17T07:17:04.895Z"
   },
   {
    "duration": 67,
    "start_time": "2023-11-17T07:17:04.956Z"
   },
   {
    "duration": 39,
    "start_time": "2023-11-17T07:17:05.024Z"
   },
   {
    "duration": 34,
    "start_time": "2023-11-17T07:17:05.065Z"
   },
   {
    "duration": 48,
    "start_time": "2023-11-17T07:17:05.101Z"
   },
   {
    "duration": 29,
    "start_time": "2023-11-17T07:17:05.151Z"
   },
   {
    "duration": 3003,
    "start_time": "2023-11-17T07:33:39.132Z"
   },
   {
    "duration": 1444,
    "start_time": "2023-11-17T07:33:56.515Z"
   },
   {
    "duration": 2429,
    "start_time": "2023-11-17T07:34:19.554Z"
   },
   {
    "duration": 137,
    "start_time": "2023-11-17T07:34:38.027Z"
   },
   {
    "duration": 141,
    "start_time": "2023-11-17T07:34:45.810Z"
   },
   {
    "duration": 134,
    "start_time": "2023-11-17T07:35:01.675Z"
   },
   {
    "duration": 215,
    "start_time": "2023-11-17T07:35:06.986Z"
   },
   {
    "duration": 121,
    "start_time": "2023-11-17T07:35:11.554Z"
   },
   {
    "duration": 129,
    "start_time": "2023-11-17T07:35:17.618Z"
   },
   {
    "duration": 140,
    "start_time": "2023-11-17T07:35:34.442Z"
   },
   {
    "duration": 132,
    "start_time": "2023-11-17T07:35:43.058Z"
   },
   {
    "duration": 119,
    "start_time": "2023-11-17T07:35:46.762Z"
   },
   {
    "duration": 130,
    "start_time": "2023-11-17T07:35:51.492Z"
   },
   {
    "duration": 142,
    "start_time": "2023-11-17T07:36:02.202Z"
   },
   {
    "duration": 164,
    "start_time": "2023-11-17T07:36:15.586Z"
   },
   {
    "duration": 133,
    "start_time": "2023-11-17T07:37:44.803Z"
   },
   {
    "duration": 122,
    "start_time": "2023-11-17T07:37:50.883Z"
   },
   {
    "duration": 227,
    "start_time": "2023-11-17T07:38:30.484Z"
   },
   {
    "duration": 153,
    "start_time": "2023-11-17T07:38:42.644Z"
   },
   {
    "duration": 148,
    "start_time": "2023-11-17T07:40:23.662Z"
   },
   {
    "duration": 247,
    "start_time": "2023-11-17T07:40:43.157Z"
   },
   {
    "duration": 239,
    "start_time": "2023-11-17T07:41:33.125Z"
   },
   {
    "duration": 124,
    "start_time": "2023-11-17T07:41:41.876Z"
   },
   {
    "duration": 134,
    "start_time": "2023-11-17T10:15:04.683Z"
   },
   {
    "duration": 392,
    "start_time": "2023-11-17T10:29:06.362Z"
   },
   {
    "duration": 67,
    "start_time": "2023-11-17T10:29:06.756Z"
   },
   {
    "duration": 30,
    "start_time": "2023-11-17T10:29:06.824Z"
   },
   {
    "duration": 22,
    "start_time": "2023-11-17T10:29:06.856Z"
   },
   {
    "duration": 7,
    "start_time": "2023-11-17T10:29:06.879Z"
   },
   {
    "duration": 20,
    "start_time": "2023-11-17T10:29:06.887Z"
   },
   {
    "duration": 21,
    "start_time": "2023-11-17T10:29:06.908Z"
   },
   {
    "duration": 23,
    "start_time": "2023-11-17T10:29:06.931Z"
   },
   {
    "duration": 26,
    "start_time": "2023-11-17T10:29:06.955Z"
   },
   {
    "duration": 25,
    "start_time": "2023-11-17T10:29:06.983Z"
   },
   {
    "duration": 23,
    "start_time": "2023-11-17T10:29:07.010Z"
   },
   {
    "duration": 22,
    "start_time": "2023-11-17T10:29:07.035Z"
   },
   {
    "duration": 428,
    "start_time": "2023-11-17T10:29:07.059Z"
   },
   {
    "duration": 145,
    "start_time": "2023-11-17T10:29:07.489Z"
   },
   {
    "duration": 160,
    "start_time": "2023-11-17T10:29:07.636Z"
   },
   {
    "duration": 316,
    "start_time": "2023-11-17T10:29:07.798Z"
   },
   {
    "duration": 145,
    "start_time": "2023-11-17T10:29:08.115Z"
   },
   {
    "duration": 16,
    "start_time": "2023-11-17T10:29:08.262Z"
   },
   {
    "duration": 15,
    "start_time": "2023-11-17T10:29:24.141Z"
   },
   {
    "duration": 18,
    "start_time": "2023-11-17T10:30:28.886Z"
   },
   {
    "duration": 72,
    "start_time": "2023-11-17T10:34:30.265Z"
   },
   {
    "duration": 4,
    "start_time": "2023-11-17T10:34:37.518Z"
   },
   {
    "duration": 7,
    "start_time": "2023-11-17T10:35:27.691Z"
   },
   {
    "duration": 19,
    "start_time": "2023-11-17T10:35:43.550Z"
   },
   {
    "duration": 6,
    "start_time": "2023-11-17T10:37:34.858Z"
   },
   {
    "duration": 77,
    "start_time": "2023-11-17T10:37:53.647Z"
   },
   {
    "duration": 4,
    "start_time": "2023-11-17T10:37:58.047Z"
   },
   {
    "duration": 5,
    "start_time": "2023-11-17T10:38:11.630Z"
   },
   {
    "duration": 400,
    "start_time": "2023-11-17T10:38:30.753Z"
   },
   {
    "duration": 69,
    "start_time": "2023-11-17T10:38:31.155Z"
   },
   {
    "duration": 30,
    "start_time": "2023-11-17T10:38:31.226Z"
   },
   {
    "duration": 32,
    "start_time": "2023-11-17T10:38:31.258Z"
   },
   {
    "duration": 17,
    "start_time": "2023-11-17T10:38:31.291Z"
   },
   {
    "duration": 75,
    "start_time": "2023-11-17T10:38:31.309Z"
   },
   {
    "duration": 223,
    "start_time": "2023-11-17T10:38:31.386Z"
   },
   {
    "duration": 67,
    "start_time": "2023-11-17T10:38:31.610Z"
   },
   {
    "duration": 29,
    "start_time": "2023-11-17T10:38:31.678Z"
   },
   {
    "duration": 72,
    "start_time": "2023-11-17T10:38:31.710Z"
   },
   {
    "duration": 90,
    "start_time": "2023-11-17T10:38:31.784Z"
   },
   {
    "duration": 73,
    "start_time": "2023-11-17T10:38:31.875Z"
   },
   {
    "duration": 453,
    "start_time": "2023-11-17T10:38:31.949Z"
   },
   {
    "duration": 146,
    "start_time": "2023-11-17T10:38:32.403Z"
   },
   {
    "duration": 147,
    "start_time": "2023-11-17T10:38:32.551Z"
   },
   {
    "duration": 329,
    "start_time": "2023-11-17T10:38:32.699Z"
   },
   {
    "duration": 140,
    "start_time": "2023-11-17T10:38:33.030Z"
   },
   {
    "duration": 16,
    "start_time": "2023-11-17T10:38:33.171Z"
   },
   {
    "duration": 7,
    "start_time": "2023-11-17T10:38:33.189Z"
   },
   {
    "duration": 9,
    "start_time": "2023-11-17T10:38:33.198Z"
   },
   {
    "duration": 8,
    "start_time": "2023-11-17T10:39:06.487Z"
   },
   {
    "duration": 6,
    "start_time": "2023-11-17T10:39:13.759Z"
   },
   {
    "duration": 249,
    "start_time": "2023-11-17T10:41:19.584Z"
   },
   {
    "duration": 245,
    "start_time": "2023-11-17T10:42:13.239Z"
   },
   {
    "duration": 797,
    "start_time": "2023-11-17T10:48:32.409Z"
   },
   {
    "duration": 74,
    "start_time": "2023-11-17T10:49:20.954Z"
   },
   {
    "duration": 586,
    "start_time": "2023-11-17T10:49:31.042Z"
   },
   {
    "duration": 84,
    "start_time": "2023-11-17T10:50:00.529Z"
   },
   {
    "duration": 229,
    "start_time": "2023-11-17T10:50:18.866Z"
   },
   {
    "duration": 147,
    "start_time": "2023-11-17T10:50:43.435Z"
   },
   {
    "duration": 130,
    "start_time": "2023-11-17T10:50:47.987Z"
   },
   {
    "duration": 121,
    "start_time": "2023-11-17T10:54:15.866Z"
   },
   {
    "duration": 149,
    "start_time": "2023-11-17T10:54:21.106Z"
   },
   {
    "duration": 244,
    "start_time": "2023-11-17T10:58:17.989Z"
   },
   {
    "duration": 346,
    "start_time": "2023-11-17T10:58:32.380Z"
   },
   {
    "duration": 153,
    "start_time": "2023-11-17T10:59:23.951Z"
   },
   {
    "duration": 365,
    "start_time": "2023-11-17T10:59:29.180Z"
   },
   {
    "duration": 67,
    "start_time": "2023-11-17T10:59:29.549Z"
   },
   {
    "duration": 32,
    "start_time": "2023-11-17T10:59:29.617Z"
   },
   {
    "duration": 28,
    "start_time": "2023-11-17T10:59:29.652Z"
   },
   {
    "duration": 41,
    "start_time": "2023-11-17T10:59:29.681Z"
   },
   {
    "duration": 11,
    "start_time": "2023-11-17T10:59:29.724Z"
   },
   {
    "duration": 27,
    "start_time": "2023-11-17T10:59:29.736Z"
   },
   {
    "duration": 9,
    "start_time": "2023-11-17T10:59:29.765Z"
   },
   {
    "duration": 7,
    "start_time": "2023-11-17T10:59:29.776Z"
   },
   {
    "duration": 14,
    "start_time": "2023-11-17T10:59:29.787Z"
   },
   {
    "duration": 19,
    "start_time": "2023-11-17T10:59:29.802Z"
   },
   {
    "duration": 8,
    "start_time": "2023-11-17T10:59:29.823Z"
   },
   {
    "duration": 607,
    "start_time": "2023-11-17T10:59:29.832Z"
   },
   {
    "duration": 154,
    "start_time": "2023-11-17T10:59:30.443Z"
   },
   {
    "duration": 154,
    "start_time": "2023-11-17T10:59:30.598Z"
   },
   {
    "duration": 310,
    "start_time": "2023-11-17T10:59:30.754Z"
   },
   {
    "duration": 153,
    "start_time": "2023-11-17T10:59:31.066Z"
   },
   {
    "duration": 31,
    "start_time": "2023-11-17T10:59:31.220Z"
   },
   {
    "duration": 12,
    "start_time": "2023-11-17T10:59:31.254Z"
   },
   {
    "duration": 9,
    "start_time": "2023-11-17T10:59:31.267Z"
   },
   {
    "duration": 314,
    "start_time": "2023-11-17T10:59:31.277Z"
   },
   {
    "duration": 257,
    "start_time": "2023-11-17T10:59:31.593Z"
   },
   {
    "duration": 175,
    "start_time": "2023-11-17T10:59:31.852Z"
   },
   {
    "duration": 149,
    "start_time": "2023-11-17T10:59:32.029Z"
   },
   {
    "duration": 161,
    "start_time": "2023-11-17T11:00:12.987Z"
   },
   {
    "duration": 79,
    "start_time": "2023-11-17T11:13:16.705Z"
   },
   {
    "duration": 19,
    "start_time": "2023-11-17T11:13:23.087Z"
   },
   {
    "duration": 107,
    "start_time": "2023-11-17T11:24:57.218Z"
   },
   {
    "duration": 28,
    "start_time": "2023-11-17T11:25:15.042Z"
   },
   {
    "duration": 28,
    "start_time": "2023-11-17T11:25:27.281Z"
   },
   {
    "duration": 14,
    "start_time": "2023-11-17T11:25:59.882Z"
   },
   {
    "duration": 45,
    "start_time": "2023-11-17T11:30:01.853Z"
   },
   {
    "duration": 30,
    "start_time": "2023-11-17T11:30:31.245Z"
   },
   {
    "duration": 43,
    "start_time": "2023-11-17T11:30:45.148Z"
   },
   {
    "duration": 14,
    "start_time": "2023-11-17T11:31:20.316Z"
   },
   {
    "duration": 22,
    "start_time": "2023-11-17T11:38:01.102Z"
   },
   {
    "duration": 23,
    "start_time": "2023-11-17T11:38:59.342Z"
   },
   {
    "duration": 83,
    "start_time": "2023-11-17T11:39:16.277Z"
   },
   {
    "duration": 22,
    "start_time": "2023-11-17T11:39:20.766Z"
   },
   {
    "duration": 15,
    "start_time": "2023-11-17T11:39:49.885Z"
   },
   {
    "duration": 14,
    "start_time": "2023-11-17T11:44:32.101Z"
   },
   {
    "duration": 429,
    "start_time": "2023-11-17T11:48:28.237Z"
   },
   {
    "duration": 66,
    "start_time": "2023-11-17T11:48:28.668Z"
   },
   {
    "duration": 40,
    "start_time": "2023-11-17T11:48:28.735Z"
   },
   {
    "duration": 23,
    "start_time": "2023-11-17T11:48:28.776Z"
   },
   {
    "duration": 7,
    "start_time": "2023-11-17T11:48:28.800Z"
   },
   {
    "duration": 10,
    "start_time": "2023-11-17T11:48:28.808Z"
   },
   {
    "duration": 46,
    "start_time": "2023-11-17T11:48:28.819Z"
   },
   {
    "duration": 7,
    "start_time": "2023-11-17T11:48:28.870Z"
   },
   {
    "duration": 23,
    "start_time": "2023-11-17T11:48:28.878Z"
   },
   {
    "duration": 16,
    "start_time": "2023-11-17T11:48:28.904Z"
   },
   {
    "duration": 14,
    "start_time": "2023-11-17T11:48:28.922Z"
   },
   {
    "duration": 32,
    "start_time": "2023-11-17T11:48:28.937Z"
   },
   {
    "duration": 419,
    "start_time": "2023-11-17T11:48:28.972Z"
   },
   {
    "duration": 154,
    "start_time": "2023-11-17T11:48:29.393Z"
   },
   {
    "duration": 153,
    "start_time": "2023-11-17T11:48:29.550Z"
   },
   {
    "duration": 331,
    "start_time": "2023-11-17T11:48:29.704Z"
   },
   {
    "duration": 163,
    "start_time": "2023-11-17T11:48:30.037Z"
   },
   {
    "duration": 16,
    "start_time": "2023-11-17T11:48:30.201Z"
   },
   {
    "duration": 17,
    "start_time": "2023-11-17T11:48:30.218Z"
   },
   {
    "duration": 25,
    "start_time": "2023-11-17T11:48:30.237Z"
   },
   {
    "duration": 265,
    "start_time": "2023-11-17T11:48:30.264Z"
   },
   {
    "duration": 173,
    "start_time": "2023-11-17T11:48:30.531Z"
   },
   {
    "duration": 275,
    "start_time": "2023-11-17T11:48:30.706Z"
   },
   {
    "duration": 170,
    "start_time": "2023-11-17T11:48:30.983Z"
   },
   {
    "duration": 17,
    "start_time": "2023-11-17T11:48:31.156Z"
   },
   {
    "duration": 59,
    "start_time": "2023-11-17T11:48:31.175Z"
   },
   {
    "duration": 66,
    "start_time": "2023-11-17T11:48:31.236Z"
   },
   {
    "duration": 101,
    "start_time": "2023-11-17T11:48:47.400Z"
   },
   {
    "duration": 27,
    "start_time": "2023-11-17T11:48:51.775Z"
   },
   {
    "duration": 20,
    "start_time": "2023-11-17T11:55:48.611Z"
   },
   {
    "duration": 27,
    "start_time": "2023-11-17T11:55:55.857Z"
   },
   {
    "duration": 34,
    "start_time": "2023-11-17T11:56:10.049Z"
   },
   {
    "duration": 402,
    "start_time": "2023-11-17T11:56:47.568Z"
   },
   {
    "duration": 66,
    "start_time": "2023-11-17T11:56:47.973Z"
   },
   {
    "duration": 48,
    "start_time": "2023-11-17T11:56:48.041Z"
   },
   {
    "duration": 22,
    "start_time": "2023-11-17T11:56:48.091Z"
   },
   {
    "duration": 6,
    "start_time": "2023-11-17T11:56:48.115Z"
   },
   {
    "duration": 15,
    "start_time": "2023-11-17T11:56:48.123Z"
   },
   {
    "duration": 30,
    "start_time": "2023-11-17T11:56:48.140Z"
   },
   {
    "duration": 8,
    "start_time": "2023-11-17T11:56:48.172Z"
   },
   {
    "duration": 6,
    "start_time": "2023-11-17T11:56:48.182Z"
   },
   {
    "duration": 6,
    "start_time": "2023-11-17T11:56:48.190Z"
   },
   {
    "duration": 4,
    "start_time": "2023-11-17T11:56:48.198Z"
   },
   {
    "duration": 8,
    "start_time": "2023-11-17T11:56:48.204Z"
   },
   {
    "duration": 468,
    "start_time": "2023-11-17T11:56:48.213Z"
   },
   {
    "duration": 149,
    "start_time": "2023-11-17T11:56:48.682Z"
   },
   {
    "duration": 171,
    "start_time": "2023-11-17T11:56:48.832Z"
   },
   {
    "duration": 314,
    "start_time": "2023-11-17T11:56:49.005Z"
   },
   {
    "duration": 152,
    "start_time": "2023-11-17T11:56:49.321Z"
   },
   {
    "duration": 16,
    "start_time": "2023-11-17T11:56:49.475Z"
   },
   {
    "duration": 7,
    "start_time": "2023-11-17T11:56:49.492Z"
   },
   {
    "duration": 10,
    "start_time": "2023-11-17T11:56:49.500Z"
   },
   {
    "duration": 273,
    "start_time": "2023-11-17T11:56:49.511Z"
   },
   {
    "duration": 179,
    "start_time": "2023-11-17T11:56:49.786Z"
   },
   {
    "duration": 269,
    "start_time": "2023-11-17T11:56:49.969Z"
   },
   {
    "duration": 154,
    "start_time": "2023-11-17T11:56:50.239Z"
   },
   {
    "duration": 29,
    "start_time": "2023-11-17T11:56:50.395Z"
   },
   {
    "duration": 28,
    "start_time": "2023-11-17T12:00:38.691Z"
   },
   {
    "duration": 618,
    "start_time": "2023-11-17T12:01:58.187Z"
   },
   {
    "duration": 77,
    "start_time": "2023-11-17T12:01:58.806Z"
   },
   {
    "duration": 26,
    "start_time": "2023-11-17T12:01:58.884Z"
   },
   {
    "duration": 22,
    "start_time": "2023-11-17T12:01:58.912Z"
   },
   {
    "duration": 21,
    "start_time": "2023-11-17T12:01:58.935Z"
   },
   {
    "duration": 53,
    "start_time": "2023-11-17T12:01:58.958Z"
   },
   {
    "duration": 21,
    "start_time": "2023-11-17T12:01:59.012Z"
   },
   {
    "duration": 27,
    "start_time": "2023-11-17T12:01:59.035Z"
   },
   {
    "duration": 22,
    "start_time": "2023-11-17T12:01:59.065Z"
   },
   {
    "duration": 31,
    "start_time": "2023-11-17T12:01:59.089Z"
   },
   {
    "duration": 22,
    "start_time": "2023-11-17T12:01:59.121Z"
   },
   {
    "duration": 28,
    "start_time": "2023-11-17T12:01:59.145Z"
   },
   {
    "duration": 177,
    "start_time": "2023-11-17T12:01:59.174Z"
   },
   {
    "duration": 156,
    "start_time": "2023-11-17T12:01:59.354Z"
   },
   {
    "duration": 154,
    "start_time": "2023-11-17T12:01:59.512Z"
   },
   {
    "duration": 322,
    "start_time": "2023-11-17T12:01:59.667Z"
   },
   {
    "duration": 143,
    "start_time": "2023-11-17T12:01:59.991Z"
   },
   {
    "duration": 23,
    "start_time": "2023-11-17T12:02:00.141Z"
   },
   {
    "duration": 7,
    "start_time": "2023-11-17T12:02:00.166Z"
   },
   {
    "duration": 18,
    "start_time": "2023-11-17T12:02:00.175Z"
   },
   {
    "duration": 280,
    "start_time": "2023-11-17T12:02:00.195Z"
   },
   {
    "duration": 168,
    "start_time": "2023-11-17T12:02:00.477Z"
   },
   {
    "duration": 290,
    "start_time": "2023-11-17T12:02:00.647Z"
   },
   {
    "duration": 163,
    "start_time": "2023-11-17T12:02:00.941Z"
   },
   {
    "duration": 45,
    "start_time": "2023-11-17T12:02:01.106Z"
   },
   {
    "duration": 1335,
    "start_time": "2023-11-17T12:04:18.460Z"
   },
   {
    "duration": 38,
    "start_time": "2023-11-17T12:04:42.227Z"
   },
   {
    "duration": 2171,
    "start_time": "2023-11-17T12:05:12.844Z"
   },
   {
    "duration": 1821,
    "start_time": "2023-11-17T12:05:40.610Z"
   },
   {
    "duration": 33,
    "start_time": "2023-11-17T12:06:04.314Z"
   },
   {
    "duration": 39,
    "start_time": "2023-11-17T12:06:22.428Z"
   },
   {
    "duration": 19,
    "start_time": "2023-11-17T12:16:37.999Z"
   },
   {
    "duration": 5,
    "start_time": "2023-11-17T12:19:37.512Z"
   },
   {
    "duration": 18,
    "start_time": "2023-11-17T12:19:48.214Z"
   },
   {
    "duration": 4,
    "start_time": "2023-11-17T12:25:10.623Z"
   },
   {
    "duration": 678,
    "start_time": "2023-11-17T12:28:20.037Z"
   },
   {
    "duration": 72,
    "start_time": "2023-11-17T12:28:20.718Z"
   },
   {
    "duration": 27,
    "start_time": "2023-11-17T12:28:20.792Z"
   },
   {
    "duration": 25,
    "start_time": "2023-11-17T12:28:20.821Z"
   },
   {
    "duration": 7,
    "start_time": "2023-11-17T12:28:20.847Z"
   },
   {
    "duration": 29,
    "start_time": "2023-11-17T12:28:20.856Z"
   },
   {
    "duration": 6,
    "start_time": "2023-11-17T12:28:20.887Z"
   },
   {
    "duration": 13,
    "start_time": "2023-11-17T12:28:20.894Z"
   },
   {
    "duration": 7,
    "start_time": "2023-11-17T12:28:20.908Z"
   },
   {
    "duration": 19,
    "start_time": "2023-11-17T12:28:20.917Z"
   },
   {
    "duration": 5,
    "start_time": "2023-11-17T12:28:20.938Z"
   },
   {
    "duration": 11,
    "start_time": "2023-11-17T12:28:20.945Z"
   },
   {
    "duration": 178,
    "start_time": "2023-11-17T12:28:20.958Z"
   },
   {
    "duration": 178,
    "start_time": "2023-11-17T12:28:21.142Z"
   },
   {
    "duration": 154,
    "start_time": "2023-11-17T12:28:21.321Z"
   },
   {
    "duration": 304,
    "start_time": "2023-11-17T12:28:21.476Z"
   },
   {
    "duration": 135,
    "start_time": "2023-11-17T12:28:21.782Z"
   },
   {
    "duration": 23,
    "start_time": "2023-11-17T12:28:21.919Z"
   },
   {
    "duration": 10,
    "start_time": "2023-11-17T12:28:21.944Z"
   },
   {
    "duration": 6,
    "start_time": "2023-11-17T12:28:21.956Z"
   },
   {
    "duration": 250,
    "start_time": "2023-11-17T12:28:21.965Z"
   },
   {
    "duration": 157,
    "start_time": "2023-11-17T12:28:22.217Z"
   },
   {
    "duration": 266,
    "start_time": "2023-11-17T12:28:22.376Z"
   },
   {
    "duration": 144,
    "start_time": "2023-11-17T12:28:22.644Z"
   },
   {
    "duration": 4,
    "start_time": "2023-11-17T12:28:22.790Z"
   },
   {
    "duration": 97,
    "start_time": "2023-11-17T12:28:22.796Z"
   },
   {
    "duration": 0,
    "start_time": "2023-11-17T12:28:22.894Z"
   },
   {
    "duration": 627,
    "start_time": "2023-11-17T12:28:52.106Z"
   },
   {
    "duration": 68,
    "start_time": "2023-11-17T12:28:52.735Z"
   },
   {
    "duration": 29,
    "start_time": "2023-11-17T12:28:52.805Z"
   },
   {
    "duration": 32,
    "start_time": "2023-11-17T12:28:52.836Z"
   },
   {
    "duration": 6,
    "start_time": "2023-11-17T12:28:52.870Z"
   },
   {
    "duration": 26,
    "start_time": "2023-11-17T12:28:52.878Z"
   },
   {
    "duration": 6,
    "start_time": "2023-11-17T12:28:52.906Z"
   },
   {
    "duration": 7,
    "start_time": "2023-11-17T12:28:52.914Z"
   },
   {
    "duration": 6,
    "start_time": "2023-11-17T12:28:52.922Z"
   },
   {
    "duration": 7,
    "start_time": "2023-11-17T12:28:52.942Z"
   },
   {
    "duration": 24,
    "start_time": "2023-11-17T12:28:52.951Z"
   },
   {
    "duration": 9,
    "start_time": "2023-11-17T12:28:52.977Z"
   },
   {
    "duration": 157,
    "start_time": "2023-11-17T12:28:52.987Z"
   },
   {
    "duration": 157,
    "start_time": "2023-11-17T12:28:53.146Z"
   },
   {
    "duration": 165,
    "start_time": "2023-11-17T12:28:53.305Z"
   },
   {
    "duration": 325,
    "start_time": "2023-11-17T12:28:53.472Z"
   },
   {
    "duration": 152,
    "start_time": "2023-11-17T12:28:53.798Z"
   },
   {
    "duration": 23,
    "start_time": "2023-11-17T12:28:53.952Z"
   },
   {
    "duration": 34,
    "start_time": "2023-11-17T12:28:53.977Z"
   },
   {
    "duration": 23,
    "start_time": "2023-11-17T12:28:54.013Z"
   },
   {
    "duration": 292,
    "start_time": "2023-11-17T12:28:54.038Z"
   },
   {
    "duration": 181,
    "start_time": "2023-11-17T12:28:54.331Z"
   },
   {
    "duration": 241,
    "start_time": "2023-11-17T12:28:54.514Z"
   },
   {
    "duration": 155,
    "start_time": "2023-11-17T12:28:54.757Z"
   },
   {
    "duration": 5,
    "start_time": "2023-11-17T12:28:54.914Z"
   },
   {
    "duration": 11,
    "start_time": "2023-11-17T12:28:54.920Z"
   },
   {
    "duration": 491,
    "start_time": "2023-11-17T12:28:54.932Z"
   },
   {
    "duration": 606,
    "start_time": "2023-11-17T12:29:21.977Z"
   },
   {
    "duration": 24,
    "start_time": "2023-11-17T12:29:30.793Z"
   },
   {
    "duration": 387,
    "start_time": "2023-11-17T12:31:51.393Z"
   },
   {
    "duration": 44,
    "start_time": "2023-11-17T12:31:57.032Z"
   },
   {
    "duration": 35,
    "start_time": "2023-11-17T12:45:03.842Z"
   },
   {
    "duration": 32,
    "start_time": "2023-11-17T12:48:14.484Z"
   },
   {
    "duration": 1915,
    "start_time": "2023-11-17T12:48:59.699Z"
   },
   {
    "duration": 656,
    "start_time": "2023-11-17T12:49:38.515Z"
   },
   {
    "duration": 70,
    "start_time": "2023-11-17T12:49:39.172Z"
   },
   {
    "duration": 30,
    "start_time": "2023-11-17T12:49:39.244Z"
   },
   {
    "duration": 24,
    "start_time": "2023-11-17T12:49:39.285Z"
   },
   {
    "duration": 7,
    "start_time": "2023-11-17T12:49:39.311Z"
   },
   {
    "duration": 29,
    "start_time": "2023-11-17T12:49:39.320Z"
   },
   {
    "duration": 19,
    "start_time": "2023-11-17T12:49:39.350Z"
   },
   {
    "duration": 35,
    "start_time": "2023-11-17T12:49:39.370Z"
   },
   {
    "duration": 30,
    "start_time": "2023-11-17T12:49:39.406Z"
   },
   {
    "duration": 19,
    "start_time": "2023-11-17T12:49:39.438Z"
   },
   {
    "duration": 22,
    "start_time": "2023-11-17T12:49:39.458Z"
   },
   {
    "duration": 21,
    "start_time": "2023-11-17T12:49:39.481Z"
   },
   {
    "duration": 175,
    "start_time": "2023-11-17T12:49:39.504Z"
   },
   {
    "duration": 141,
    "start_time": "2023-11-17T12:49:39.681Z"
   },
   {
    "duration": 149,
    "start_time": "2023-11-17T12:49:39.823Z"
   },
   {
    "duration": 293,
    "start_time": "2023-11-17T12:49:39.973Z"
   },
   {
    "duration": 134,
    "start_time": "2023-11-17T12:49:40.267Z"
   },
   {
    "duration": 16,
    "start_time": "2023-11-17T12:49:40.403Z"
   },
   {
    "duration": 22,
    "start_time": "2023-11-17T12:49:40.420Z"
   },
   {
    "duration": 5,
    "start_time": "2023-11-17T12:49:40.444Z"
   },
   {
    "duration": 243,
    "start_time": "2023-11-17T12:49:40.450Z"
   },
   {
    "duration": 151,
    "start_time": "2023-11-17T12:49:40.695Z"
   },
   {
    "duration": 230,
    "start_time": "2023-11-17T12:49:40.847Z"
   },
   {
    "duration": 145,
    "start_time": "2023-11-17T12:49:41.078Z"
   },
   {
    "duration": 5,
    "start_time": "2023-11-17T12:49:41.225Z"
   },
   {
    "duration": 12,
    "start_time": "2023-11-17T12:49:41.232Z"
   },
   {
    "duration": 1222,
    "start_time": "2023-11-17T12:49:41.246Z"
   },
   {
    "duration": 1118,
    "start_time": "2023-11-17T12:49:54.517Z"
   },
   {
    "duration": 602,
    "start_time": "2023-11-17T12:51:04.273Z"
   },
   {
    "duration": 66,
    "start_time": "2023-11-17T12:51:04.877Z"
   },
   {
    "duration": 75,
    "start_time": "2023-11-17T12:51:04.944Z"
   },
   {
    "duration": 135,
    "start_time": "2023-11-17T12:51:05.020Z"
   },
   {
    "duration": 41,
    "start_time": "2023-11-17T12:51:05.157Z"
   },
   {
    "duration": 24,
    "start_time": "2023-11-17T12:51:05.200Z"
   },
   {
    "duration": 16,
    "start_time": "2023-11-17T12:51:05.225Z"
   },
   {
    "duration": 11,
    "start_time": "2023-11-17T12:51:05.242Z"
   },
   {
    "duration": 38,
    "start_time": "2023-11-17T12:51:05.254Z"
   },
   {
    "duration": 43,
    "start_time": "2023-11-17T12:51:05.294Z"
   },
   {
    "duration": 9,
    "start_time": "2023-11-17T12:51:05.338Z"
   },
   {
    "duration": 19,
    "start_time": "2023-11-17T12:51:05.348Z"
   },
   {
    "duration": 164,
    "start_time": "2023-11-17T12:51:05.368Z"
   },
   {
    "duration": 141,
    "start_time": "2023-11-17T12:51:05.533Z"
   },
   {
    "duration": 160,
    "start_time": "2023-11-17T12:51:05.676Z"
   },
   {
    "duration": 295,
    "start_time": "2023-11-17T12:51:05.841Z"
   },
   {
    "duration": 133,
    "start_time": "2023-11-17T12:51:06.137Z"
   },
   {
    "duration": 15,
    "start_time": "2023-11-17T12:51:06.271Z"
   },
   {
    "duration": 6,
    "start_time": "2023-11-17T12:51:06.287Z"
   },
   {
    "duration": 4,
    "start_time": "2023-11-17T12:51:06.295Z"
   },
   {
    "duration": 242,
    "start_time": "2023-11-17T12:51:06.300Z"
   },
   {
    "duration": 144,
    "start_time": "2023-11-17T12:51:06.543Z"
   },
   {
    "duration": 247,
    "start_time": "2023-11-17T12:51:06.689Z"
   },
   {
    "duration": 132,
    "start_time": "2023-11-17T12:51:06.937Z"
   },
   {
    "duration": 4,
    "start_time": "2023-11-17T12:51:07.071Z"
   },
   {
    "duration": 32,
    "start_time": "2023-11-17T12:51:07.077Z"
   },
   {
    "duration": 1750,
    "start_time": "2023-11-17T12:51:07.110Z"
   },
   {
    "duration": 604,
    "start_time": "2023-11-17T12:51:35.681Z"
   },
   {
    "duration": 67,
    "start_time": "2023-11-17T12:51:36.286Z"
   },
   {
    "duration": 26,
    "start_time": "2023-11-17T12:51:36.354Z"
   },
   {
    "duration": 23,
    "start_time": "2023-11-17T12:51:36.382Z"
   },
   {
    "duration": 6,
    "start_time": "2023-11-17T12:51:36.406Z"
   },
   {
    "duration": 29,
    "start_time": "2023-11-17T12:51:36.414Z"
   },
   {
    "duration": 6,
    "start_time": "2023-11-17T12:51:36.444Z"
   },
   {
    "duration": 7,
    "start_time": "2023-11-17T12:51:36.452Z"
   },
   {
    "duration": 6,
    "start_time": "2023-11-17T12:51:36.460Z"
   },
   {
    "duration": 5,
    "start_time": "2023-11-17T12:51:36.470Z"
   },
   {
    "duration": 5,
    "start_time": "2023-11-17T12:51:36.477Z"
   },
   {
    "duration": 9,
    "start_time": "2023-11-17T12:51:36.483Z"
   },
   {
    "duration": 203,
    "start_time": "2023-11-17T12:51:36.493Z"
   },
   {
    "duration": 146,
    "start_time": "2023-11-17T12:51:36.698Z"
   },
   {
    "duration": 147,
    "start_time": "2023-11-17T12:51:36.845Z"
   },
   {
    "duration": 293,
    "start_time": "2023-11-17T12:51:36.994Z"
   },
   {
    "duration": 133,
    "start_time": "2023-11-17T12:51:37.289Z"
   },
   {
    "duration": 19,
    "start_time": "2023-11-17T12:51:37.423Z"
   },
   {
    "duration": 7,
    "start_time": "2023-11-17T12:51:37.444Z"
   },
   {
    "duration": 5,
    "start_time": "2023-11-17T12:51:37.452Z"
   },
   {
    "duration": 238,
    "start_time": "2023-11-17T12:51:37.458Z"
   },
   {
    "duration": 157,
    "start_time": "2023-11-17T12:51:37.698Z"
   },
   {
    "duration": 257,
    "start_time": "2023-11-17T12:51:37.856Z"
   },
   {
    "duration": 141,
    "start_time": "2023-11-17T12:51:38.115Z"
   },
   {
    "duration": 6,
    "start_time": "2023-11-17T12:51:38.258Z"
   },
   {
    "duration": 7,
    "start_time": "2023-11-17T12:51:38.265Z"
   },
   {
    "duration": 34,
    "start_time": "2023-11-17T12:51:38.274Z"
   },
   {
    "duration": 718,
    "start_time": "2023-11-17T12:57:05.828Z"
   },
   {
    "duration": 68,
    "start_time": "2023-11-17T12:57:06.550Z"
   },
   {
    "duration": 29,
    "start_time": "2023-11-17T12:57:06.619Z"
   },
   {
    "duration": 26,
    "start_time": "2023-11-17T12:57:06.651Z"
   },
   {
    "duration": 6,
    "start_time": "2023-11-17T12:57:06.678Z"
   },
   {
    "duration": 6,
    "start_time": "2023-11-17T12:57:06.686Z"
   },
   {
    "duration": 6,
    "start_time": "2023-11-17T12:57:06.693Z"
   },
   {
    "duration": 11,
    "start_time": "2023-11-17T12:57:06.700Z"
   },
   {
    "duration": 35,
    "start_time": "2023-11-17T12:57:06.713Z"
   },
   {
    "duration": 9,
    "start_time": "2023-11-17T12:57:06.751Z"
   },
   {
    "duration": 6,
    "start_time": "2023-11-17T12:57:06.762Z"
   },
   {
    "duration": 8,
    "start_time": "2023-11-17T12:57:06.770Z"
   },
   {
    "duration": 206,
    "start_time": "2023-11-17T12:57:06.780Z"
   },
   {
    "duration": 144,
    "start_time": "2023-11-17T12:57:06.987Z"
   },
   {
    "duration": 160,
    "start_time": "2023-11-17T12:57:07.132Z"
   },
   {
    "duration": 290,
    "start_time": "2023-11-17T12:57:07.293Z"
   },
   {
    "duration": 130,
    "start_time": "2023-11-17T12:57:07.584Z"
   },
   {
    "duration": 15,
    "start_time": "2023-11-17T12:57:07.715Z"
   },
   {
    "duration": 16,
    "start_time": "2023-11-17T12:57:07.732Z"
   },
   {
    "duration": 17,
    "start_time": "2023-11-17T12:57:07.750Z"
   },
   {
    "duration": 262,
    "start_time": "2023-11-17T12:57:07.769Z"
   },
   {
    "duration": 151,
    "start_time": "2023-11-17T12:57:08.033Z"
   },
   {
    "duration": 275,
    "start_time": "2023-11-17T12:57:08.186Z"
   },
   {
    "duration": 130,
    "start_time": "2023-11-17T12:57:08.463Z"
   },
   {
    "duration": 5,
    "start_time": "2023-11-17T12:57:08.594Z"
   },
   {
    "duration": 6,
    "start_time": "2023-11-17T12:57:08.600Z"
   },
   {
    "duration": 46,
    "start_time": "2023-11-17T12:57:08.608Z"
   },
   {
    "duration": 44,
    "start_time": "2023-11-17T12:57:08.658Z"
   },
   {
    "duration": 693,
    "start_time": "2023-11-17T13:00:07.702Z"
   },
   {
    "duration": 83,
    "start_time": "2023-11-17T13:00:08.397Z"
   },
   {
    "duration": 31,
    "start_time": "2023-11-17T13:00:08.482Z"
   },
   {
    "duration": 27,
    "start_time": "2023-11-17T13:00:08.515Z"
   },
   {
    "duration": 13,
    "start_time": "2023-11-17T13:00:08.545Z"
   },
   {
    "duration": 13,
    "start_time": "2023-11-17T13:00:08.560Z"
   },
   {
    "duration": 6,
    "start_time": "2023-11-17T13:00:08.576Z"
   },
   {
    "duration": 7,
    "start_time": "2023-11-17T13:00:08.583Z"
   },
   {
    "duration": 7,
    "start_time": "2023-11-17T13:00:08.592Z"
   },
   {
    "duration": 10,
    "start_time": "2023-11-17T13:00:08.602Z"
   },
   {
    "duration": 35,
    "start_time": "2023-11-17T13:00:08.614Z"
   },
   {
    "duration": 16,
    "start_time": "2023-11-17T13:00:08.651Z"
   },
   {
    "duration": 183,
    "start_time": "2023-11-17T13:00:08.669Z"
   },
   {
    "duration": 148,
    "start_time": "2023-11-17T13:00:08.855Z"
   },
   {
    "duration": 163,
    "start_time": "2023-11-17T13:00:09.005Z"
   },
   {
    "duration": 340,
    "start_time": "2023-11-17T13:00:09.170Z"
   },
   {
    "duration": 141,
    "start_time": "2023-11-17T13:00:09.512Z"
   },
   {
    "duration": 17,
    "start_time": "2023-11-17T13:00:09.656Z"
   },
   {
    "duration": 37,
    "start_time": "2023-11-17T13:00:09.675Z"
   },
   {
    "duration": 12,
    "start_time": "2023-11-17T13:00:09.714Z"
   },
   {
    "duration": 276,
    "start_time": "2023-11-17T13:00:09.728Z"
   },
   {
    "duration": 173,
    "start_time": "2023-11-17T13:00:10.006Z"
   },
   {
    "duration": 276,
    "start_time": "2023-11-17T13:00:10.180Z"
   },
   {
    "duration": 148,
    "start_time": "2023-11-17T13:00:10.459Z"
   },
   {
    "duration": 5,
    "start_time": "2023-11-17T13:00:10.609Z"
   },
   {
    "duration": 8,
    "start_time": "2023-11-17T13:00:10.616Z"
   },
   {
    "duration": 95,
    "start_time": "2023-11-17T13:00:10.625Z"
   },
   {
    "duration": 649,
    "start_time": "2023-11-17T13:00:53.602Z"
   },
   {
    "duration": 74,
    "start_time": "2023-11-17T13:00:54.257Z"
   },
   {
    "duration": 38,
    "start_time": "2023-11-17T13:00:54.332Z"
   },
   {
    "duration": 24,
    "start_time": "2023-11-17T13:00:54.373Z"
   },
   {
    "duration": 11,
    "start_time": "2023-11-17T13:00:54.398Z"
   },
   {
    "duration": 16,
    "start_time": "2023-11-17T13:00:54.411Z"
   },
   {
    "duration": 27,
    "start_time": "2023-11-17T13:00:54.428Z"
   },
   {
    "duration": 31,
    "start_time": "2023-11-17T13:00:54.456Z"
   },
   {
    "duration": 23,
    "start_time": "2023-11-17T13:00:54.488Z"
   },
   {
    "duration": 13,
    "start_time": "2023-11-17T13:00:54.514Z"
   },
   {
    "duration": 21,
    "start_time": "2023-11-17T13:00:54.529Z"
   },
   {
    "duration": 26,
    "start_time": "2023-11-17T13:00:54.552Z"
   },
   {
    "duration": 173,
    "start_time": "2023-11-17T13:00:54.580Z"
   },
   {
    "duration": 159,
    "start_time": "2023-11-17T13:00:54.756Z"
   },
   {
    "duration": 166,
    "start_time": "2023-11-17T13:00:54.917Z"
   },
   {
    "duration": 304,
    "start_time": "2023-11-17T13:00:55.085Z"
   },
   {
    "duration": 154,
    "start_time": "2023-11-17T13:00:55.391Z"
   },
   {
    "duration": 18,
    "start_time": "2023-11-17T13:00:55.547Z"
   },
   {
    "duration": 13,
    "start_time": "2023-11-17T13:00:55.567Z"
   },
   {
    "duration": 22,
    "start_time": "2023-11-17T13:00:55.581Z"
   },
   {
    "duration": 277,
    "start_time": "2023-11-17T13:00:55.605Z"
   },
   {
    "duration": 145,
    "start_time": "2023-11-17T13:00:55.884Z"
   },
   {
    "duration": 254,
    "start_time": "2023-11-17T13:00:56.030Z"
   },
   {
    "duration": 133,
    "start_time": "2023-11-17T13:00:56.286Z"
   },
   {
    "duration": 5,
    "start_time": "2023-11-17T13:00:56.421Z"
   },
   {
    "duration": 21,
    "start_time": "2023-11-17T13:00:56.427Z"
   },
   {
    "duration": 45,
    "start_time": "2023-11-17T13:00:56.451Z"
   },
   {
    "duration": 693,
    "start_time": "2023-11-17T13:01:32.638Z"
   },
   {
    "duration": 71,
    "start_time": "2023-11-17T13:01:33.332Z"
   },
   {
    "duration": 26,
    "start_time": "2023-11-17T13:01:33.405Z"
   },
   {
    "duration": 30,
    "start_time": "2023-11-17T13:01:33.434Z"
   },
   {
    "duration": 8,
    "start_time": "2023-11-17T13:01:33.465Z"
   },
   {
    "duration": 34,
    "start_time": "2023-11-17T13:01:33.475Z"
   },
   {
    "duration": 11,
    "start_time": "2023-11-17T13:01:33.511Z"
   },
   {
    "duration": 34,
    "start_time": "2023-11-17T13:01:33.523Z"
   },
   {
    "duration": 26,
    "start_time": "2023-11-17T13:01:33.559Z"
   },
   {
    "duration": 17,
    "start_time": "2023-11-17T13:01:33.588Z"
   },
   {
    "duration": 15,
    "start_time": "2023-11-17T13:01:33.606Z"
   },
   {
    "duration": 13,
    "start_time": "2023-11-17T13:01:33.622Z"
   },
   {
    "duration": 195,
    "start_time": "2023-11-17T13:01:33.636Z"
   },
   {
    "duration": 153,
    "start_time": "2023-11-17T13:01:33.832Z"
   },
   {
    "duration": 156,
    "start_time": "2023-11-17T13:01:33.986Z"
   },
   {
    "duration": 329,
    "start_time": "2023-11-17T13:01:34.144Z"
   },
   {
    "duration": 154,
    "start_time": "2023-11-17T13:01:34.474Z"
   },
   {
    "duration": 17,
    "start_time": "2023-11-17T13:01:34.630Z"
   },
   {
    "duration": 8,
    "start_time": "2023-11-17T13:01:34.649Z"
   },
   {
    "duration": 10,
    "start_time": "2023-11-17T13:01:34.659Z"
   },
   {
    "duration": 294,
    "start_time": "2023-11-17T13:01:34.670Z"
   },
   {
    "duration": 159,
    "start_time": "2023-11-17T13:01:34.967Z"
   },
   {
    "duration": 261,
    "start_time": "2023-11-17T13:01:35.128Z"
   },
   {
    "duration": 139,
    "start_time": "2023-11-17T13:01:35.391Z"
   },
   {
    "duration": 13,
    "start_time": "2023-11-17T13:01:35.532Z"
   },
   {
    "duration": 6,
    "start_time": "2023-11-17T13:01:35.548Z"
   },
   {
    "duration": 44,
    "start_time": "2023-11-17T13:01:35.556Z"
   },
   {
    "duration": 1290,
    "start_time": "2023-11-17T13:33:20.046Z"
   },
   {
    "duration": 70,
    "start_time": "2023-11-17T13:33:21.338Z"
   },
   {
    "duration": 27,
    "start_time": "2023-11-17T13:33:21.409Z"
   },
   {
    "duration": 36,
    "start_time": "2023-11-17T13:33:21.439Z"
   },
   {
    "duration": 8,
    "start_time": "2023-11-17T13:33:21.477Z"
   },
   {
    "duration": 17,
    "start_time": "2023-11-17T13:33:21.486Z"
   },
   {
    "duration": 9,
    "start_time": "2023-11-17T13:33:21.505Z"
   },
   {
    "duration": 18,
    "start_time": "2023-11-17T13:33:21.516Z"
   },
   {
    "duration": 14,
    "start_time": "2023-11-17T13:33:21.535Z"
   },
   {
    "duration": 15,
    "start_time": "2023-11-17T13:33:21.553Z"
   },
   {
    "duration": 13,
    "start_time": "2023-11-17T13:33:21.570Z"
   },
   {
    "duration": 21,
    "start_time": "2023-11-17T13:33:21.585Z"
   },
   {
    "duration": 226,
    "start_time": "2023-11-17T13:33:21.608Z"
   },
   {
    "duration": 168,
    "start_time": "2023-11-17T13:33:21.835Z"
   },
   {
    "duration": 179,
    "start_time": "2023-11-17T13:33:22.005Z"
   },
   {
    "duration": 303,
    "start_time": "2023-11-17T13:33:22.186Z"
   },
   {
    "duration": 179,
    "start_time": "2023-11-17T13:33:22.490Z"
   },
   {
    "duration": 17,
    "start_time": "2023-11-17T13:33:22.671Z"
   },
   {
    "duration": 7,
    "start_time": "2023-11-17T13:33:22.690Z"
   },
   {
    "duration": 10,
    "start_time": "2023-11-17T13:33:22.698Z"
   },
   {
    "duration": 317,
    "start_time": "2023-11-17T13:33:22.709Z"
   },
   {
    "duration": 171,
    "start_time": "2023-11-17T13:33:23.028Z"
   },
   {
    "duration": 378,
    "start_time": "2023-11-17T13:33:23.201Z"
   },
   {
    "duration": 151,
    "start_time": "2023-11-17T13:33:23.581Z"
   },
   {
    "duration": 23,
    "start_time": "2023-11-17T13:33:23.733Z"
   },
   {
    "duration": 8,
    "start_time": "2023-11-17T13:33:23.758Z"
   },
   {
    "duration": 34,
    "start_time": "2023-11-17T13:33:23.768Z"
   },
   {
    "duration": 95,
    "start_time": "2023-11-17T13:33:23.806Z"
   },
   {
    "duration": 0,
    "start_time": "2023-11-17T13:33:23.902Z"
   },
   {
    "duration": 1148,
    "start_time": "2023-11-17T13:33:41.991Z"
   },
   {
    "duration": 70,
    "start_time": "2023-11-17T13:33:43.140Z"
   },
   {
    "duration": 45,
    "start_time": "2023-11-17T13:33:43.212Z"
   },
   {
    "duration": 26,
    "start_time": "2023-11-17T13:33:43.261Z"
   },
   {
    "duration": 7,
    "start_time": "2023-11-17T13:33:43.288Z"
   },
   {
    "duration": 15,
    "start_time": "2023-11-17T13:33:43.297Z"
   },
   {
    "duration": 7,
    "start_time": "2023-11-17T13:33:43.314Z"
   },
   {
    "duration": 25,
    "start_time": "2023-11-17T13:33:43.323Z"
   },
   {
    "duration": 12,
    "start_time": "2023-11-17T13:33:43.351Z"
   },
   {
    "duration": 6,
    "start_time": "2023-11-17T13:33:43.367Z"
   },
   {
    "duration": 7,
    "start_time": "2023-11-17T13:33:43.374Z"
   },
   {
    "duration": 8,
    "start_time": "2023-11-17T13:33:43.383Z"
   },
   {
    "duration": 235,
    "start_time": "2023-11-17T13:33:43.393Z"
   },
   {
    "duration": 191,
    "start_time": "2023-11-17T13:33:43.630Z"
   },
   {
    "duration": 161,
    "start_time": "2023-11-17T13:33:43.822Z"
   },
   {
    "duration": 276,
    "start_time": "2023-11-17T13:33:43.984Z"
   },
   {
    "duration": 152,
    "start_time": "2023-11-17T13:33:44.262Z"
   },
   {
    "duration": 16,
    "start_time": "2023-11-17T13:33:44.416Z"
   },
   {
    "duration": 9,
    "start_time": "2023-11-17T13:33:44.443Z"
   },
   {
    "duration": 25,
    "start_time": "2023-11-17T13:33:44.454Z"
   },
   {
    "duration": 286,
    "start_time": "2023-11-17T13:33:44.481Z"
   },
   {
    "duration": 167,
    "start_time": "2023-11-17T13:33:44.770Z"
   },
   {
    "duration": 386,
    "start_time": "2023-11-17T13:33:44.938Z"
   },
   {
    "duration": 166,
    "start_time": "2023-11-17T13:33:45.327Z"
   },
   {
    "duration": 5,
    "start_time": "2023-11-17T13:33:45.495Z"
   },
   {
    "duration": 49,
    "start_time": "2023-11-17T13:33:45.501Z"
   },
   {
    "duration": 67,
    "start_time": "2023-11-17T13:33:45.552Z"
   },
   {
    "duration": 2,
    "start_time": "2023-11-17T13:33:45.623Z"
   },
   {
    "duration": 171,
    "start_time": "2023-11-17T13:33:45.627Z"
   },
   {
    "duration": 1216,
    "start_time": "2023-11-17T13:35:41.412Z"
   },
   {
    "duration": 71,
    "start_time": "2023-11-17T13:35:42.630Z"
   },
   {
    "duration": 28,
    "start_time": "2023-11-17T13:35:42.702Z"
   },
   {
    "duration": 35,
    "start_time": "2023-11-17T13:35:42.732Z"
   },
   {
    "duration": 6,
    "start_time": "2023-11-17T13:35:42.769Z"
   },
   {
    "duration": 12,
    "start_time": "2023-11-17T13:35:42.777Z"
   },
   {
    "duration": 6,
    "start_time": "2023-11-17T13:35:42.790Z"
   },
   {
    "duration": 16,
    "start_time": "2023-11-17T13:35:42.797Z"
   },
   {
    "duration": 5,
    "start_time": "2023-11-17T13:35:42.815Z"
   },
   {
    "duration": 8,
    "start_time": "2023-11-17T13:35:42.843Z"
   },
   {
    "duration": 14,
    "start_time": "2023-11-17T13:35:42.854Z"
   },
   {
    "duration": 11,
    "start_time": "2023-11-17T13:35:42.870Z"
   },
   {
    "duration": 189,
    "start_time": "2023-11-17T13:35:42.883Z"
   },
   {
    "duration": 151,
    "start_time": "2023-11-17T13:35:43.073Z"
   },
   {
    "duration": 184,
    "start_time": "2023-11-17T13:35:43.226Z"
   },
   {
    "duration": 284,
    "start_time": "2023-11-17T13:35:43.412Z"
   },
   {
    "duration": 158,
    "start_time": "2023-11-17T13:35:43.698Z"
   },
   {
    "duration": 19,
    "start_time": "2023-11-17T13:35:43.859Z"
   },
   {
    "duration": 8,
    "start_time": "2023-11-17T13:35:43.880Z"
   },
   {
    "duration": 7,
    "start_time": "2023-11-17T13:35:43.889Z"
   },
   {
    "duration": 321,
    "start_time": "2023-11-17T13:35:43.898Z"
   },
   {
    "duration": 182,
    "start_time": "2023-11-17T13:35:44.221Z"
   },
   {
    "duration": 352,
    "start_time": "2023-11-17T13:35:44.405Z"
   },
   {
    "duration": 158,
    "start_time": "2023-11-17T13:35:44.759Z"
   },
   {
    "duration": 6,
    "start_time": "2023-11-17T13:35:44.918Z"
   },
   {
    "duration": 17,
    "start_time": "2023-11-17T13:35:44.925Z"
   },
   {
    "duration": 37,
    "start_time": "2023-11-17T13:35:44.945Z"
   },
   {
    "duration": 3,
    "start_time": "2023-11-17T13:35:44.985Z"
   },
   {
    "duration": 128,
    "start_time": "2023-11-17T13:35:44.990Z"
   },
   {
    "duration": 5,
    "start_time": "2023-11-17T13:37:09.518Z"
   },
   {
    "duration": 6,
    "start_time": "2023-11-17T13:40:26.782Z"
   },
   {
    "duration": 1191,
    "start_time": "2023-11-17T13:41:11.235Z"
   },
   {
    "duration": 78,
    "start_time": "2023-11-17T13:41:12.429Z"
   },
   {
    "duration": 28,
    "start_time": "2023-11-17T13:41:12.509Z"
   },
   {
    "duration": 31,
    "start_time": "2023-11-17T13:41:12.539Z"
   },
   {
    "duration": 15,
    "start_time": "2023-11-17T13:41:12.572Z"
   },
   {
    "duration": 7,
    "start_time": "2023-11-17T13:41:12.588Z"
   },
   {
    "duration": 11,
    "start_time": "2023-11-17T13:41:12.597Z"
   },
   {
    "duration": 11,
    "start_time": "2023-11-17T13:41:12.609Z"
   },
   {
    "duration": 26,
    "start_time": "2023-11-17T13:41:12.622Z"
   },
   {
    "duration": 23,
    "start_time": "2023-11-17T13:41:12.657Z"
   },
   {
    "duration": 8,
    "start_time": "2023-11-17T13:41:12.682Z"
   },
   {
    "duration": 18,
    "start_time": "2023-11-17T13:41:12.691Z"
   },
   {
    "duration": 197,
    "start_time": "2023-11-17T13:41:12.711Z"
   },
   {
    "duration": 182,
    "start_time": "2023-11-17T13:41:12.909Z"
   },
   {
    "duration": 176,
    "start_time": "2023-11-17T13:41:13.092Z"
   },
   {
    "duration": 302,
    "start_time": "2023-11-17T13:41:13.270Z"
   },
   {
    "duration": 170,
    "start_time": "2023-11-17T13:41:13.573Z"
   },
   {
    "duration": 24,
    "start_time": "2023-11-17T13:41:13.745Z"
   },
   {
    "duration": 10,
    "start_time": "2023-11-17T13:41:13.770Z"
   },
   {
    "duration": 8,
    "start_time": "2023-11-17T13:41:13.782Z"
   },
   {
    "duration": 326,
    "start_time": "2023-11-17T13:41:13.792Z"
   },
   {
    "duration": 172,
    "start_time": "2023-11-17T13:41:14.120Z"
   },
   {
    "duration": 376,
    "start_time": "2023-11-17T13:41:14.294Z"
   },
   {
    "duration": 166,
    "start_time": "2023-11-17T13:41:14.672Z"
   },
   {
    "duration": 11,
    "start_time": "2023-11-17T13:41:14.840Z"
   },
   {
    "duration": 14,
    "start_time": "2023-11-17T13:41:14.854Z"
   },
   {
    "duration": 45,
    "start_time": "2023-11-17T13:41:14.871Z"
   },
   {
    "duration": 3,
    "start_time": "2023-11-17T13:41:14.919Z"
   },
   {
    "duration": 11,
    "start_time": "2023-11-17T13:41:14.923Z"
   },
   {
    "duration": 1259,
    "start_time": "2023-11-17T13:44:26.127Z"
   },
   {
    "duration": 71,
    "start_time": "2023-11-17T13:44:27.388Z"
   },
   {
    "duration": 32,
    "start_time": "2023-11-17T13:44:27.461Z"
   },
   {
    "duration": 26,
    "start_time": "2023-11-17T13:44:27.495Z"
   },
   {
    "duration": 22,
    "start_time": "2023-11-17T13:44:27.522Z"
   },
   {
    "duration": 27,
    "start_time": "2023-11-17T13:44:27.546Z"
   },
   {
    "duration": 8,
    "start_time": "2023-11-17T13:44:27.575Z"
   },
   {
    "duration": 18,
    "start_time": "2023-11-17T13:44:27.585Z"
   },
   {
    "duration": 16,
    "start_time": "2023-11-17T13:44:27.605Z"
   },
   {
    "duration": 7,
    "start_time": "2023-11-17T13:44:27.623Z"
   },
   {
    "duration": 5,
    "start_time": "2023-11-17T13:44:27.631Z"
   },
   {
    "duration": 18,
    "start_time": "2023-11-17T13:44:27.638Z"
   },
   {
    "duration": 206,
    "start_time": "2023-11-17T13:44:27.658Z"
   },
   {
    "duration": 207,
    "start_time": "2023-11-17T13:44:27.871Z"
   },
   {
    "duration": 156,
    "start_time": "2023-11-17T13:44:28.080Z"
   },
   {
    "duration": 291,
    "start_time": "2023-11-17T13:44:28.237Z"
   },
   {
    "duration": 167,
    "start_time": "2023-11-17T13:44:28.530Z"
   },
   {
    "duration": 17,
    "start_time": "2023-11-17T13:44:28.699Z"
   },
   {
    "duration": 7,
    "start_time": "2023-11-17T13:44:28.717Z"
   },
   {
    "duration": 21,
    "start_time": "2023-11-17T13:44:28.726Z"
   },
   {
    "duration": 275,
    "start_time": "2023-11-17T13:44:28.749Z"
   },
   {
    "duration": 176,
    "start_time": "2023-11-17T13:44:29.026Z"
   },
   {
    "duration": 372,
    "start_time": "2023-11-17T13:44:29.203Z"
   },
   {
    "duration": 142,
    "start_time": "2023-11-17T13:44:29.577Z"
   },
   {
    "duration": 5,
    "start_time": "2023-11-17T13:44:29.722Z"
   },
   {
    "duration": 18,
    "start_time": "2023-11-17T13:44:29.729Z"
   },
   {
    "duration": 43,
    "start_time": "2023-11-17T13:44:29.750Z"
   },
   {
    "duration": 2,
    "start_time": "2023-11-17T13:44:29.797Z"
   },
   {
    "duration": 6,
    "start_time": "2023-11-17T13:44:29.801Z"
   },
   {
    "duration": 65,
    "start_time": "2023-11-17T16:48:51.902Z"
   },
   {
    "duration": 1438,
    "start_time": "2023-11-17T16:48:59.575Z"
   },
   {
    "duration": 307,
    "start_time": "2023-11-17T16:49:01.015Z"
   },
   {
    "duration": 35,
    "start_time": "2023-11-17T16:49:01.324Z"
   },
   {
    "duration": 54,
    "start_time": "2023-11-17T16:49:01.361Z"
   },
   {
    "duration": 201,
    "start_time": "2023-11-17T16:49:01.417Z"
   },
   {
    "duration": 60,
    "start_time": "2023-11-17T16:49:01.619Z"
   },
   {
    "duration": 41,
    "start_time": "2023-11-17T16:49:01.681Z"
   },
   {
    "duration": 38,
    "start_time": "2023-11-17T16:49:01.724Z"
   },
   {
    "duration": 30,
    "start_time": "2023-11-17T16:49:01.764Z"
   },
   {
    "duration": 35,
    "start_time": "2023-11-17T16:49:01.797Z"
   },
   {
    "duration": 36,
    "start_time": "2023-11-17T16:49:01.834Z"
   },
   {
    "duration": 64,
    "start_time": "2023-11-17T16:49:01.872Z"
   },
   {
    "duration": 264,
    "start_time": "2023-11-17T16:49:01.938Z"
   },
   {
    "duration": 169,
    "start_time": "2023-11-17T16:49:02.204Z"
   },
   {
    "duration": 225,
    "start_time": "2023-11-17T16:49:02.375Z"
   },
   {
    "duration": 337,
    "start_time": "2023-11-17T16:49:02.601Z"
   },
   {
    "duration": 162,
    "start_time": "2023-11-17T16:49:02.940Z"
   },
   {
    "duration": 61,
    "start_time": "2023-11-17T16:49:03.103Z"
   },
   {
    "duration": 31,
    "start_time": "2023-11-17T16:49:03.166Z"
   },
   {
    "duration": 62,
    "start_time": "2023-11-17T16:49:03.199Z"
   },
   {
    "duration": 313,
    "start_time": "2023-11-17T16:49:03.262Z"
   },
   {
    "duration": 161,
    "start_time": "2023-11-17T16:49:03.577Z"
   },
   {
    "duration": 365,
    "start_time": "2023-11-17T16:49:03.740Z"
   },
   {
    "duration": 145,
    "start_time": "2023-11-17T16:49:04.107Z"
   },
   {
    "duration": 5,
    "start_time": "2023-11-17T16:49:04.253Z"
   },
   {
    "duration": 8,
    "start_time": "2023-11-17T16:49:04.260Z"
   },
   {
    "duration": 50,
    "start_time": "2023-11-17T16:49:04.269Z"
   },
   {
    "duration": 5,
    "start_time": "2023-11-17T16:49:04.322Z"
   },
   {
    "duration": 8,
    "start_time": "2023-11-17T16:53:12.088Z"
   },
   {
    "duration": 1254,
    "start_time": "2023-11-17T19:07:42.865Z"
   },
   {
    "duration": 279,
    "start_time": "2023-11-17T19:07:44.123Z"
   },
   {
    "duration": 28,
    "start_time": "2023-11-17T19:07:44.403Z"
   },
   {
    "duration": 23,
    "start_time": "2023-11-17T19:07:44.432Z"
   },
   {
    "duration": 6,
    "start_time": "2023-11-17T19:07:44.456Z"
   },
   {
    "duration": 9,
    "start_time": "2023-11-17T19:07:44.464Z"
   },
   {
    "duration": 7,
    "start_time": "2023-11-17T19:07:44.474Z"
   },
   {
    "duration": 8,
    "start_time": "2023-11-17T19:07:44.482Z"
   },
   {
    "duration": 7,
    "start_time": "2023-11-17T19:07:44.491Z"
   },
   {
    "duration": 6,
    "start_time": "2023-11-17T19:07:44.500Z"
   },
   {
    "duration": 3,
    "start_time": "2023-11-17T19:07:44.508Z"
   },
   {
    "duration": 7,
    "start_time": "2023-11-17T19:07:44.513Z"
   },
   {
    "duration": 174,
    "start_time": "2023-11-17T19:07:44.521Z"
   },
   {
    "duration": 136,
    "start_time": "2023-11-17T19:07:44.697Z"
   },
   {
    "duration": 139,
    "start_time": "2023-11-17T19:07:44.835Z"
   },
   {
    "duration": 240,
    "start_time": "2023-11-17T19:07:44.975Z"
   },
   {
    "duration": 134,
    "start_time": "2023-11-17T19:07:45.217Z"
   },
   {
    "duration": 24,
    "start_time": "2023-11-17T19:07:45.352Z"
   },
   {
    "duration": 7,
    "start_time": "2023-11-17T19:07:45.377Z"
   },
   {
    "duration": 13,
    "start_time": "2023-11-17T19:07:45.385Z"
   },
   {
    "duration": 239,
    "start_time": "2023-11-17T19:07:45.400Z"
   },
   {
    "duration": 151,
    "start_time": "2023-11-17T19:07:45.640Z"
   },
   {
    "duration": 301,
    "start_time": "2023-11-17T19:07:45.792Z"
   },
   {
    "duration": 127,
    "start_time": "2023-11-17T19:07:46.095Z"
   },
   {
    "duration": 4,
    "start_time": "2023-11-17T19:07:46.224Z"
   },
   {
    "duration": 7,
    "start_time": "2023-11-17T19:07:46.229Z"
   },
   {
    "duration": 52,
    "start_time": "2023-11-17T19:07:46.238Z"
   },
   {
    "duration": 6,
    "start_time": "2023-11-17T19:07:46.293Z"
   },
   {
    "duration": 128,
    "start_time": "2023-11-17T19:07:46.300Z"
   },
   {
    "duration": 5,
    "start_time": "2023-11-17T19:08:06.244Z"
   },
   {
    "duration": 93,
    "start_time": "2023-11-17T19:11:12.261Z"
   },
   {
    "duration": 1035,
    "start_time": "2023-11-17T19:11:32.878Z"
   },
   {
    "duration": 64,
    "start_time": "2023-11-17T19:11:33.915Z"
   },
   {
    "duration": 26,
    "start_time": "2023-11-17T19:11:33.980Z"
   },
   {
    "duration": 33,
    "start_time": "2023-11-17T19:11:34.008Z"
   },
   {
    "duration": 6,
    "start_time": "2023-11-17T19:11:34.042Z"
   },
   {
    "duration": 9,
    "start_time": "2023-11-17T19:11:34.049Z"
   },
   {
    "duration": 11,
    "start_time": "2023-11-17T19:11:34.059Z"
   },
   {
    "duration": 15,
    "start_time": "2023-11-17T19:11:34.071Z"
   },
   {
    "duration": 5,
    "start_time": "2023-11-17T19:11:34.090Z"
   },
   {
    "duration": 6,
    "start_time": "2023-11-17T19:11:34.097Z"
   },
   {
    "duration": 6,
    "start_time": "2023-11-17T19:11:34.104Z"
   },
   {
    "duration": 8,
    "start_time": "2023-11-17T19:11:34.111Z"
   },
   {
    "duration": 162,
    "start_time": "2023-11-17T19:11:34.120Z"
   },
   {
    "duration": 134,
    "start_time": "2023-11-17T19:11:34.284Z"
   },
   {
    "duration": 137,
    "start_time": "2023-11-17T19:11:34.420Z"
   },
   {
    "duration": 237,
    "start_time": "2023-11-17T19:11:34.559Z"
   },
   {
    "duration": 138,
    "start_time": "2023-11-17T19:11:34.798Z"
   },
   {
    "duration": 16,
    "start_time": "2023-11-17T19:11:34.938Z"
   },
   {
    "duration": 21,
    "start_time": "2023-11-17T19:11:34.955Z"
   },
   {
    "duration": 5,
    "start_time": "2023-11-17T19:11:34.978Z"
   },
   {
    "duration": 242,
    "start_time": "2023-11-17T19:11:34.984Z"
   },
   {
    "duration": 142,
    "start_time": "2023-11-17T19:11:35.228Z"
   },
   {
    "duration": 305,
    "start_time": "2023-11-17T19:11:35.373Z"
   },
   {
    "duration": 129,
    "start_time": "2023-11-17T19:11:35.679Z"
   },
   {
    "duration": 5,
    "start_time": "2023-11-17T19:11:35.810Z"
   },
   {
    "duration": 6,
    "start_time": "2023-11-17T19:11:35.816Z"
   },
   {
    "duration": 43,
    "start_time": "2023-11-17T19:11:35.823Z"
   },
   {
    "duration": 5,
    "start_time": "2023-11-17T19:11:35.874Z"
   },
   {
    "duration": 99,
    "start_time": "2023-11-17T19:11:35.880Z"
   },
   {
    "duration": 978,
    "start_time": "2023-11-17T19:11:55.432Z"
   },
   {
    "duration": 66,
    "start_time": "2023-11-17T19:11:56.412Z"
   },
   {
    "duration": 27,
    "start_time": "2023-11-17T19:11:56.480Z"
   },
   {
    "duration": 22,
    "start_time": "2023-11-17T19:11:56.510Z"
   },
   {
    "duration": 7,
    "start_time": "2023-11-17T19:11:56.534Z"
   },
   {
    "duration": 31,
    "start_time": "2023-11-17T19:11:56.542Z"
   },
   {
    "duration": 6,
    "start_time": "2023-11-17T19:11:56.574Z"
   },
   {
    "duration": 11,
    "start_time": "2023-11-17T19:11:56.582Z"
   },
   {
    "duration": 6,
    "start_time": "2023-11-17T19:11:56.594Z"
   },
   {
    "duration": 6,
    "start_time": "2023-11-17T19:11:56.603Z"
   },
   {
    "duration": 5,
    "start_time": "2023-11-17T19:11:56.611Z"
   },
   {
    "duration": 8,
    "start_time": "2023-11-17T19:11:56.617Z"
   },
   {
    "duration": 186,
    "start_time": "2023-11-17T19:11:56.626Z"
   },
   {
    "duration": 138,
    "start_time": "2023-11-17T19:11:56.814Z"
   },
   {
    "duration": 152,
    "start_time": "2023-11-17T19:11:56.954Z"
   },
   {
    "duration": 243,
    "start_time": "2023-11-17T19:11:57.107Z"
   },
   {
    "duration": 129,
    "start_time": "2023-11-17T19:11:57.352Z"
   },
   {
    "duration": 14,
    "start_time": "2023-11-17T19:11:57.482Z"
   },
   {
    "duration": 19,
    "start_time": "2023-11-17T19:11:57.497Z"
   },
   {
    "duration": 4,
    "start_time": "2023-11-17T19:11:57.517Z"
   },
   {
    "duration": 229,
    "start_time": "2023-11-17T19:11:57.522Z"
   },
   {
    "duration": 136,
    "start_time": "2023-11-17T19:11:57.753Z"
   },
   {
    "duration": 297,
    "start_time": "2023-11-17T19:11:57.890Z"
   },
   {
    "duration": 129,
    "start_time": "2023-11-17T19:11:58.189Z"
   },
   {
    "duration": 5,
    "start_time": "2023-11-17T19:11:58.319Z"
   },
   {
    "duration": 8,
    "start_time": "2023-11-17T19:11:58.325Z"
   },
   {
    "duration": 40,
    "start_time": "2023-11-17T19:11:58.334Z"
   },
   {
    "duration": 5,
    "start_time": "2023-11-17T19:11:58.376Z"
   },
   {
    "duration": 15,
    "start_time": "2023-11-17T19:11:58.382Z"
   },
   {
    "duration": 5,
    "start_time": "2023-11-17T19:12:47.480Z"
   },
   {
    "duration": 15,
    "start_time": "2023-11-17T19:55:24.418Z"
   },
   {
    "duration": 18,
    "start_time": "2023-11-17T20:02:21.228Z"
   },
   {
    "duration": 1337,
    "start_time": "2023-11-20T08:02:20.007Z"
   },
   {
    "duration": 282,
    "start_time": "2023-11-20T08:02:21.346Z"
   },
   {
    "duration": 42,
    "start_time": "2023-11-20T08:02:21.630Z"
   },
   {
    "duration": 28,
    "start_time": "2023-11-20T08:02:21.674Z"
   },
   {
    "duration": 7,
    "start_time": "2023-11-20T08:02:21.704Z"
   },
   {
    "duration": 16,
    "start_time": "2023-11-20T08:02:21.713Z"
   },
   {
    "duration": 16,
    "start_time": "2023-11-20T08:02:21.730Z"
   },
   {
    "duration": 38,
    "start_time": "2023-11-20T08:02:21.748Z"
   },
   {
    "duration": 42,
    "start_time": "2023-11-20T08:02:21.788Z"
   },
   {
    "duration": 44,
    "start_time": "2023-11-20T08:02:21.833Z"
   },
   {
    "duration": 24,
    "start_time": "2023-11-20T08:02:21.879Z"
   },
   {
    "duration": 22,
    "start_time": "2023-11-20T08:02:21.905Z"
   },
   {
    "duration": 185,
    "start_time": "2023-11-20T08:02:21.929Z"
   },
   {
    "duration": 150,
    "start_time": "2023-11-20T08:02:22.115Z"
   },
   {
    "duration": 157,
    "start_time": "2023-11-20T08:02:22.266Z"
   },
   {
    "duration": 262,
    "start_time": "2023-11-20T08:02:22.425Z"
   },
   {
    "duration": 138,
    "start_time": "2023-11-20T08:02:22.688Z"
   },
   {
    "duration": 16,
    "start_time": "2023-11-20T08:02:22.827Z"
   },
   {
    "duration": 28,
    "start_time": "2023-11-20T08:02:22.845Z"
   },
   {
    "duration": 7,
    "start_time": "2023-11-20T08:02:22.874Z"
   },
   {
    "duration": 245,
    "start_time": "2023-11-20T08:02:22.883Z"
   },
   {
    "duration": 145,
    "start_time": "2023-11-20T08:02:23.130Z"
   },
   {
    "duration": 324,
    "start_time": "2023-11-20T08:02:23.277Z"
   },
   {
    "duration": 128,
    "start_time": "2023-11-20T08:02:23.602Z"
   },
   {
    "duration": 110,
    "start_time": "2023-11-20T08:02:23.731Z"
   },
   {
    "duration": 0,
    "start_time": "2023-11-20T08:02:23.842Z"
   },
   {
    "duration": 0,
    "start_time": "2023-11-20T08:02:23.843Z"
   },
   {
    "duration": 0,
    "start_time": "2023-11-20T08:02:23.844Z"
   },
   {
    "duration": 1009,
    "start_time": "2023-11-20T08:02:55.904Z"
   },
   {
    "duration": 67,
    "start_time": "2023-11-20T08:02:56.914Z"
   },
   {
    "duration": 26,
    "start_time": "2023-11-20T08:02:56.983Z"
   },
   {
    "duration": 23,
    "start_time": "2023-11-20T08:02:57.011Z"
   },
   {
    "duration": 7,
    "start_time": "2023-11-20T08:02:57.036Z"
   },
   {
    "duration": 5,
    "start_time": "2023-11-20T08:02:57.045Z"
   },
   {
    "duration": 25,
    "start_time": "2023-11-20T08:02:57.051Z"
   },
   {
    "duration": 7,
    "start_time": "2023-11-20T08:02:57.078Z"
   },
   {
    "duration": 11,
    "start_time": "2023-11-20T08:02:57.086Z"
   },
   {
    "duration": 5,
    "start_time": "2023-11-20T08:02:57.099Z"
   },
   {
    "duration": 4,
    "start_time": "2023-11-20T08:02:57.106Z"
   },
   {
    "duration": 11,
    "start_time": "2023-11-20T08:02:57.111Z"
   },
   {
    "duration": 180,
    "start_time": "2023-11-20T08:02:57.124Z"
   },
   {
    "duration": 141,
    "start_time": "2023-11-20T08:02:57.306Z"
   },
   {
    "duration": 147,
    "start_time": "2023-11-20T08:02:57.449Z"
   },
   {
    "duration": 235,
    "start_time": "2023-11-20T08:02:57.597Z"
   },
   {
    "duration": 133,
    "start_time": "2023-11-20T08:02:57.834Z"
   },
   {
    "duration": 15,
    "start_time": "2023-11-20T08:02:57.971Z"
   },
   {
    "duration": 6,
    "start_time": "2023-11-20T08:02:57.988Z"
   },
   {
    "duration": 5,
    "start_time": "2023-11-20T08:02:57.996Z"
   },
   {
    "duration": 246,
    "start_time": "2023-11-20T08:02:58.002Z"
   },
   {
    "duration": 144,
    "start_time": "2023-11-20T08:02:58.249Z"
   },
   {
    "duration": 310,
    "start_time": "2023-11-20T08:02:58.395Z"
   },
   {
    "duration": 129,
    "start_time": "2023-11-20T08:02:58.707Z"
   },
   {
    "duration": 43,
    "start_time": "2023-11-20T08:02:58.838Z"
   },
   {
    "duration": 2,
    "start_time": "2023-11-20T08:02:58.882Z"
   },
   {
    "duration": 12,
    "start_time": "2023-11-20T08:02:58.885Z"
   },
   {
    "duration": 5,
    "start_time": "2023-11-20T08:02:58.898Z"
   },
   {
    "duration": 1030,
    "start_time": "2023-11-20T08:03:53.498Z"
   },
   {
    "duration": 66,
    "start_time": "2023-11-20T08:03:54.529Z"
   },
   {
    "duration": 28,
    "start_time": "2023-11-20T08:03:54.597Z"
   },
   {
    "duration": 25,
    "start_time": "2023-11-20T08:03:54.627Z"
   },
   {
    "duration": 19,
    "start_time": "2023-11-20T08:03:54.654Z"
   },
   {
    "duration": 4,
    "start_time": "2023-11-20T08:03:54.675Z"
   },
   {
    "duration": 6,
    "start_time": "2023-11-20T08:03:54.681Z"
   },
   {
    "duration": 9,
    "start_time": "2023-11-20T08:03:54.689Z"
   },
   {
    "duration": 28,
    "start_time": "2023-11-20T08:03:54.700Z"
   },
   {
    "duration": 5,
    "start_time": "2023-11-20T08:03:54.732Z"
   },
   {
    "duration": 8,
    "start_time": "2023-11-20T08:03:54.739Z"
   },
   {
    "duration": 11,
    "start_time": "2023-11-20T08:03:54.748Z"
   },
   {
    "duration": 171,
    "start_time": "2023-11-20T08:03:54.761Z"
   },
   {
    "duration": 140,
    "start_time": "2023-11-20T08:03:54.934Z"
   },
   {
    "duration": 142,
    "start_time": "2023-11-20T08:03:55.075Z"
   },
   {
    "duration": 257,
    "start_time": "2023-11-20T08:03:55.219Z"
   },
   {
    "duration": 142,
    "start_time": "2023-11-20T08:03:55.477Z"
   },
   {
    "duration": 15,
    "start_time": "2023-11-20T08:03:55.620Z"
   },
   {
    "duration": 23,
    "start_time": "2023-11-20T08:03:55.637Z"
   },
   {
    "duration": 15,
    "start_time": "2023-11-20T08:03:55.661Z"
   },
   {
    "duration": 242,
    "start_time": "2023-11-20T08:03:55.677Z"
   },
   {
    "duration": 148,
    "start_time": "2023-11-20T08:03:55.920Z"
   },
   {
    "duration": 304,
    "start_time": "2023-11-20T08:03:56.071Z"
   },
   {
    "duration": 132,
    "start_time": "2023-11-20T08:03:56.376Z"
   },
   {
    "duration": 34,
    "start_time": "2023-11-20T08:03:56.510Z"
   },
   {
    "duration": 3,
    "start_time": "2023-11-20T08:03:56.545Z"
   },
   {
    "duration": 24,
    "start_time": "2023-11-20T08:03:56.549Z"
   },
   {
    "duration": 12,
    "start_time": "2023-11-20T08:03:56.575Z"
   },
   {
    "duration": 1082,
    "start_time": "2023-11-20T08:04:48.646Z"
   },
   {
    "duration": 66,
    "start_time": "2023-11-20T08:04:49.730Z"
   },
   {
    "duration": 29,
    "start_time": "2023-11-20T08:04:49.798Z"
   },
   {
    "duration": 24,
    "start_time": "2023-11-20T08:04:49.829Z"
   },
   {
    "duration": 18,
    "start_time": "2023-11-20T08:04:49.854Z"
   },
   {
    "duration": 10,
    "start_time": "2023-11-20T08:04:49.874Z"
   },
   {
    "duration": 13,
    "start_time": "2023-11-20T08:04:49.885Z"
   },
   {
    "duration": 12,
    "start_time": "2023-11-20T08:04:49.899Z"
   },
   {
    "duration": 5,
    "start_time": "2023-11-20T08:04:49.912Z"
   },
   {
    "duration": 13,
    "start_time": "2023-11-20T08:04:49.920Z"
   },
   {
    "duration": 16,
    "start_time": "2023-11-20T08:04:49.935Z"
   },
   {
    "duration": 8,
    "start_time": "2023-11-20T08:04:49.953Z"
   },
   {
    "duration": 172,
    "start_time": "2023-11-20T08:04:49.963Z"
   },
   {
    "duration": 136,
    "start_time": "2023-11-20T08:04:50.137Z"
   },
   {
    "duration": 146,
    "start_time": "2023-11-20T08:04:50.275Z"
   },
   {
    "duration": 246,
    "start_time": "2023-11-20T08:04:50.423Z"
   },
   {
    "duration": 144,
    "start_time": "2023-11-20T08:04:50.671Z"
   },
   {
    "duration": 16,
    "start_time": "2023-11-20T08:04:50.817Z"
   },
   {
    "duration": 7,
    "start_time": "2023-11-20T08:04:50.835Z"
   },
   {
    "duration": 5,
    "start_time": "2023-11-20T08:04:50.843Z"
   },
   {
    "duration": 270,
    "start_time": "2023-11-20T08:04:50.850Z"
   },
   {
    "duration": 150,
    "start_time": "2023-11-20T08:04:51.122Z"
   },
   {
    "duration": 324,
    "start_time": "2023-11-20T08:04:51.274Z"
   },
   {
    "duration": 141,
    "start_time": "2023-11-20T08:04:51.600Z"
   },
   {
    "duration": 40,
    "start_time": "2023-11-20T08:04:51.743Z"
   },
   {
    "duration": 12,
    "start_time": "2023-11-20T08:04:51.785Z"
   },
   {
    "duration": 18,
    "start_time": "2023-11-20T08:04:51.799Z"
   },
   {
    "duration": 20,
    "start_time": "2023-11-20T08:04:51.821Z"
   },
   {
    "duration": 1031,
    "start_time": "2023-11-20T08:07:19.901Z"
   },
   {
    "duration": 66,
    "start_time": "2023-11-20T08:07:20.933Z"
   },
   {
    "duration": 33,
    "start_time": "2023-11-20T08:07:21.000Z"
   },
   {
    "duration": 27,
    "start_time": "2023-11-20T08:07:21.036Z"
   },
   {
    "duration": 9,
    "start_time": "2023-11-20T08:07:21.072Z"
   },
   {
    "duration": 37,
    "start_time": "2023-11-20T08:07:21.083Z"
   },
   {
    "duration": 39,
    "start_time": "2023-11-20T08:07:21.122Z"
   },
   {
    "duration": 10,
    "start_time": "2023-11-20T08:07:21.163Z"
   },
   {
    "duration": 14,
    "start_time": "2023-11-20T08:07:21.175Z"
   },
   {
    "duration": 11,
    "start_time": "2023-11-20T08:07:21.192Z"
   },
   {
    "duration": 13,
    "start_time": "2023-11-20T08:07:21.204Z"
   },
   {
    "duration": 13,
    "start_time": "2023-11-20T08:07:21.218Z"
   },
   {
    "duration": 165,
    "start_time": "2023-11-20T08:07:21.232Z"
   },
   {
    "duration": 143,
    "start_time": "2023-11-20T08:07:21.399Z"
   },
   {
    "duration": 162,
    "start_time": "2023-11-20T08:07:21.544Z"
   },
   {
    "duration": 242,
    "start_time": "2023-11-20T08:07:21.707Z"
   },
   {
    "duration": 141,
    "start_time": "2023-11-20T08:07:21.950Z"
   },
   {
    "duration": 16,
    "start_time": "2023-11-20T08:07:22.092Z"
   },
   {
    "duration": 12,
    "start_time": "2023-11-20T08:07:22.109Z"
   },
   {
    "duration": 16,
    "start_time": "2023-11-20T08:07:22.123Z"
   },
   {
    "duration": 238,
    "start_time": "2023-11-20T08:07:22.140Z"
   },
   {
    "duration": 142,
    "start_time": "2023-11-20T08:07:22.380Z"
   },
   {
    "duration": 317,
    "start_time": "2023-11-20T08:07:22.523Z"
   },
   {
    "duration": 133,
    "start_time": "2023-11-20T08:07:22.841Z"
   },
   {
    "duration": 115,
    "start_time": "2023-11-20T08:07:22.975Z"
   },
   {
    "duration": 0,
    "start_time": "2023-11-20T08:07:23.091Z"
   },
   {
    "duration": 0,
    "start_time": "2023-11-20T08:07:23.093Z"
   },
   {
    "duration": 0,
    "start_time": "2023-11-20T08:07:23.094Z"
   },
   {
    "duration": 1075,
    "start_time": "2023-11-20T08:07:37.448Z"
   },
   {
    "duration": 67,
    "start_time": "2023-11-20T08:07:38.525Z"
   },
   {
    "duration": 28,
    "start_time": "2023-11-20T08:07:38.593Z"
   },
   {
    "duration": 24,
    "start_time": "2023-11-20T08:07:38.623Z"
   },
   {
    "duration": 6,
    "start_time": "2023-11-20T08:07:38.649Z"
   },
   {
    "duration": 18,
    "start_time": "2023-11-20T08:07:38.656Z"
   },
   {
    "duration": 17,
    "start_time": "2023-11-20T08:07:38.676Z"
   },
   {
    "duration": 13,
    "start_time": "2023-11-20T08:07:38.694Z"
   },
   {
    "duration": 7,
    "start_time": "2023-11-20T08:07:38.708Z"
   },
   {
    "duration": 8,
    "start_time": "2023-11-20T08:07:38.717Z"
   },
   {
    "duration": 5,
    "start_time": "2023-11-20T08:07:38.726Z"
   },
   {
    "duration": 12,
    "start_time": "2023-11-20T08:07:38.732Z"
   },
   {
    "duration": 174,
    "start_time": "2023-11-20T08:07:38.746Z"
   },
   {
    "duration": 140,
    "start_time": "2023-11-20T08:07:38.921Z"
   },
   {
    "duration": 147,
    "start_time": "2023-11-20T08:07:39.062Z"
   },
   {
    "duration": 254,
    "start_time": "2023-11-20T08:07:39.210Z"
   },
   {
    "duration": 148,
    "start_time": "2023-11-20T08:07:39.465Z"
   },
   {
    "duration": 16,
    "start_time": "2023-11-20T08:07:39.614Z"
   },
   {
    "duration": 11,
    "start_time": "2023-11-20T08:07:39.631Z"
   },
   {
    "duration": 5,
    "start_time": "2023-11-20T08:07:39.644Z"
   },
   {
    "duration": 253,
    "start_time": "2023-11-20T08:07:39.651Z"
   },
   {
    "duration": 154,
    "start_time": "2023-11-20T08:07:39.905Z"
   },
   {
    "duration": 329,
    "start_time": "2023-11-20T08:07:40.061Z"
   },
   {
    "duration": 135,
    "start_time": "2023-11-20T08:07:40.392Z"
   },
   {
    "duration": 32,
    "start_time": "2023-11-20T08:07:40.528Z"
   },
   {
    "duration": 11,
    "start_time": "2023-11-20T08:07:40.562Z"
   },
   {
    "duration": 9,
    "start_time": "2023-11-20T08:07:40.574Z"
   },
   {
    "duration": 7,
    "start_time": "2023-11-20T08:07:40.585Z"
   },
   {
    "duration": 1138,
    "start_time": "2023-11-20T08:47:57.016Z"
   },
   {
    "duration": 68,
    "start_time": "2023-11-20T08:47:58.156Z"
   },
   {
    "duration": 30,
    "start_time": "2023-11-20T08:47:58.225Z"
   },
   {
    "duration": 24,
    "start_time": "2023-11-20T08:47:58.258Z"
   },
   {
    "duration": 8,
    "start_time": "2023-11-20T08:47:58.284Z"
   },
   {
    "duration": 7,
    "start_time": "2023-11-20T08:47:58.294Z"
   },
   {
    "duration": 7,
    "start_time": "2023-11-20T08:47:58.303Z"
   },
   {
    "duration": 7,
    "start_time": "2023-11-20T08:47:58.311Z"
   },
   {
    "duration": 6,
    "start_time": "2023-11-20T08:47:58.320Z"
   },
   {
    "duration": 42,
    "start_time": "2023-11-20T08:47:58.330Z"
   },
   {
    "duration": 6,
    "start_time": "2023-11-20T08:47:58.373Z"
   },
   {
    "duration": 9,
    "start_time": "2023-11-20T08:47:58.381Z"
   },
   {
    "duration": 200,
    "start_time": "2023-11-20T08:47:58.392Z"
   },
   {
    "duration": 162,
    "start_time": "2023-11-20T08:47:58.594Z"
   },
   {
    "duration": 164,
    "start_time": "2023-11-20T08:47:58.758Z"
   },
   {
    "duration": 281,
    "start_time": "2023-11-20T08:47:58.924Z"
   },
   {
    "duration": 159,
    "start_time": "2023-11-20T08:47:59.207Z"
   },
   {
    "duration": 19,
    "start_time": "2023-11-20T08:47:59.368Z"
   },
   {
    "duration": 10,
    "start_time": "2023-11-20T08:47:59.389Z"
   },
   {
    "duration": 17,
    "start_time": "2023-11-20T08:47:59.401Z"
   },
   {
    "duration": 276,
    "start_time": "2023-11-20T08:47:59.420Z"
   },
   {
    "duration": 165,
    "start_time": "2023-11-20T08:47:59.698Z"
   },
   {
    "duration": 355,
    "start_time": "2023-11-20T08:47:59.865Z"
   },
   {
    "duration": 152,
    "start_time": "2023-11-20T08:48:00.222Z"
   },
   {
    "duration": 37,
    "start_time": "2023-11-20T08:48:00.376Z"
   },
   {
    "duration": 8,
    "start_time": "2023-11-20T08:48:00.415Z"
   },
   {
    "duration": 38,
    "start_time": "2023-11-20T08:48:00.425Z"
   },
   {
    "duration": 45,
    "start_time": "2023-11-20T08:48:00.467Z"
   },
   {
    "duration": 8,
    "start_time": "2023-11-20T08:50:00.537Z"
   },
   {
    "duration": 26,
    "start_time": "2023-11-20T08:50:10.313Z"
   },
   {
    "duration": 1079,
    "start_time": "2023-11-20T08:53:42.548Z"
   },
   {
    "duration": 65,
    "start_time": "2023-11-20T08:53:43.629Z"
   },
   {
    "duration": 27,
    "start_time": "2023-11-20T08:53:43.696Z"
   },
   {
    "duration": 23,
    "start_time": "2023-11-20T08:53:43.725Z"
   },
   {
    "duration": 12,
    "start_time": "2023-11-20T08:53:43.750Z"
   },
   {
    "duration": 9,
    "start_time": "2023-11-20T08:53:43.764Z"
   },
   {
    "duration": 6,
    "start_time": "2023-11-20T08:53:43.774Z"
   },
   {
    "duration": 7,
    "start_time": "2023-11-20T08:53:43.781Z"
   },
   {
    "duration": 5,
    "start_time": "2023-11-20T08:53:43.789Z"
   },
   {
    "duration": 5,
    "start_time": "2023-11-20T08:53:43.797Z"
   },
   {
    "duration": 7,
    "start_time": "2023-11-20T08:53:43.803Z"
   },
   {
    "duration": 8,
    "start_time": "2023-11-20T08:53:43.812Z"
   },
   {
    "duration": 190,
    "start_time": "2023-11-20T08:53:43.822Z"
   },
   {
    "duration": 139,
    "start_time": "2023-11-20T08:53:44.013Z"
   },
   {
    "duration": 148,
    "start_time": "2023-11-20T08:53:44.154Z"
   },
   {
    "duration": 250,
    "start_time": "2023-11-20T08:53:44.304Z"
   },
   {
    "duration": 147,
    "start_time": "2023-11-20T08:53:44.556Z"
   },
   {
    "duration": 16,
    "start_time": "2023-11-20T08:53:44.704Z"
   },
   {
    "duration": 16,
    "start_time": "2023-11-20T08:53:44.722Z"
   },
   {
    "duration": 12,
    "start_time": "2023-11-20T08:53:44.739Z"
   },
   {
    "duration": 253,
    "start_time": "2023-11-20T08:53:44.752Z"
   },
   {
    "duration": 158,
    "start_time": "2023-11-20T08:53:45.006Z"
   },
   {
    "duration": 353,
    "start_time": "2023-11-20T08:53:45.166Z"
   },
   {
    "duration": 152,
    "start_time": "2023-11-20T08:53:45.521Z"
   },
   {
    "duration": 33,
    "start_time": "2023-11-20T08:53:45.675Z"
   },
   {
    "duration": 7,
    "start_time": "2023-11-20T08:53:45.709Z"
   },
   {
    "duration": 7,
    "start_time": "2023-11-20T08:53:45.718Z"
   },
   {
    "duration": 14,
    "start_time": "2023-11-20T08:53:45.728Z"
   },
   {
    "duration": 9,
    "start_time": "2023-11-20T08:53:45.744Z"
   },
   {
    "duration": 5,
    "start_time": "2023-11-20T08:53:45.754Z"
   },
   {
    "duration": 20,
    "start_time": "2023-11-20T08:54:16.914Z"
   },
   {
    "duration": 1073,
    "start_time": "2023-11-20T08:56:24.045Z"
   },
   {
    "duration": 66,
    "start_time": "2023-11-20T08:56:25.120Z"
   },
   {
    "duration": 27,
    "start_time": "2023-11-20T08:56:25.187Z"
   },
   {
    "duration": 22,
    "start_time": "2023-11-20T08:56:25.216Z"
   },
   {
    "duration": 8,
    "start_time": "2023-11-20T08:56:25.239Z"
   },
   {
    "duration": 30,
    "start_time": "2023-11-20T08:56:25.248Z"
   },
   {
    "duration": 39,
    "start_time": "2023-11-20T08:56:25.280Z"
   },
   {
    "duration": 92,
    "start_time": "2023-11-20T08:56:25.321Z"
   },
   {
    "duration": 132,
    "start_time": "2023-11-20T08:56:25.414Z"
   },
   {
    "duration": 32,
    "start_time": "2023-11-20T08:56:25.549Z"
   },
   {
    "duration": 15,
    "start_time": "2023-11-20T08:56:25.583Z"
   },
   {
    "duration": 15,
    "start_time": "2023-11-20T08:56:25.600Z"
   },
   {
    "duration": 156,
    "start_time": "2023-11-20T08:56:25.616Z"
   },
   {
    "duration": 142,
    "start_time": "2023-11-20T08:56:25.773Z"
   },
   {
    "duration": 141,
    "start_time": "2023-11-20T08:56:25.916Z"
   },
   {
    "duration": 236,
    "start_time": "2023-11-20T08:56:26.059Z"
   },
   {
    "duration": 143,
    "start_time": "2023-11-20T08:56:26.297Z"
   },
   {
    "duration": 15,
    "start_time": "2023-11-20T08:56:26.441Z"
   },
   {
    "duration": 14,
    "start_time": "2023-11-20T08:56:26.458Z"
   },
   {
    "duration": 23,
    "start_time": "2023-11-20T08:56:26.473Z"
   },
   {
    "duration": 276,
    "start_time": "2023-11-20T08:56:26.498Z"
   },
   {
    "duration": 144,
    "start_time": "2023-11-20T08:56:26.775Z"
   },
   {
    "duration": 312,
    "start_time": "2023-11-20T08:56:26.921Z"
   },
   {
    "duration": 128,
    "start_time": "2023-11-20T08:56:27.234Z"
   },
   {
    "duration": 115,
    "start_time": "2023-11-20T08:56:27.363Z"
   },
   {
    "duration": 0,
    "start_time": "2023-11-20T08:56:27.480Z"
   },
   {
    "duration": 0,
    "start_time": "2023-11-20T08:56:27.481Z"
   },
   {
    "duration": 0,
    "start_time": "2023-11-20T08:56:27.482Z"
   },
   {
    "duration": 0,
    "start_time": "2023-11-20T08:56:27.482Z"
   },
   {
    "duration": 0,
    "start_time": "2023-11-20T08:56:27.483Z"
   },
   {
    "duration": 1001,
    "start_time": "2023-11-20T08:57:09.517Z"
   },
   {
    "duration": 67,
    "start_time": "2023-11-20T08:57:10.520Z"
   },
   {
    "duration": 26,
    "start_time": "2023-11-20T08:57:10.588Z"
   },
   {
    "duration": 25,
    "start_time": "2023-11-20T08:57:10.616Z"
   },
   {
    "duration": 12,
    "start_time": "2023-11-20T08:57:10.643Z"
   },
   {
    "duration": 25,
    "start_time": "2023-11-20T08:57:10.656Z"
   },
   {
    "duration": 31,
    "start_time": "2023-11-20T08:57:10.682Z"
   },
   {
    "duration": 18,
    "start_time": "2023-11-20T08:57:10.714Z"
   },
   {
    "duration": 29,
    "start_time": "2023-11-20T08:57:10.733Z"
   },
   {
    "duration": 15,
    "start_time": "2023-11-20T08:57:10.765Z"
   },
   {
    "duration": 23,
    "start_time": "2023-11-20T08:57:10.781Z"
   },
   {
    "duration": 35,
    "start_time": "2023-11-20T08:57:10.806Z"
   },
   {
    "duration": 171,
    "start_time": "2023-11-20T08:57:10.842Z"
   },
   {
    "duration": 145,
    "start_time": "2023-11-20T08:57:11.015Z"
   },
   {
    "duration": 162,
    "start_time": "2023-11-20T08:57:11.161Z"
   },
   {
    "duration": 260,
    "start_time": "2023-11-20T08:57:11.325Z"
   },
   {
    "duration": 154,
    "start_time": "2023-11-20T08:57:11.587Z"
   },
   {
    "duration": 15,
    "start_time": "2023-11-20T08:57:11.742Z"
   },
   {
    "duration": 16,
    "start_time": "2023-11-20T08:57:11.759Z"
   },
   {
    "duration": 24,
    "start_time": "2023-11-20T08:57:11.777Z"
   },
   {
    "duration": 272,
    "start_time": "2023-11-20T08:57:11.803Z"
   },
   {
    "duration": 154,
    "start_time": "2023-11-20T08:57:12.077Z"
   },
   {
    "duration": 312,
    "start_time": "2023-11-20T08:57:12.232Z"
   },
   {
    "duration": 130,
    "start_time": "2023-11-20T08:57:12.545Z"
   },
   {
    "duration": 117,
    "start_time": "2023-11-20T08:57:12.676Z"
   },
   {
    "duration": 0,
    "start_time": "2023-11-20T08:57:12.795Z"
   },
   {
    "duration": 0,
    "start_time": "2023-11-20T08:57:12.796Z"
   },
   {
    "duration": 0,
    "start_time": "2023-11-20T08:57:12.797Z"
   },
   {
    "duration": 0,
    "start_time": "2023-11-20T08:57:12.798Z"
   },
   {
    "duration": 0,
    "start_time": "2023-11-20T08:57:12.799Z"
   },
   {
    "duration": 1130,
    "start_time": "2023-11-20T08:57:28.112Z"
   },
   {
    "duration": 68,
    "start_time": "2023-11-20T08:57:29.244Z"
   },
   {
    "duration": 30,
    "start_time": "2023-11-20T08:57:29.314Z"
   },
   {
    "duration": 26,
    "start_time": "2023-11-20T08:57:29.346Z"
   },
   {
    "duration": 6,
    "start_time": "2023-11-20T08:57:29.374Z"
   },
   {
    "duration": 9,
    "start_time": "2023-11-20T08:57:29.382Z"
   },
   {
    "duration": 28,
    "start_time": "2023-11-20T08:57:29.393Z"
   },
   {
    "duration": 30,
    "start_time": "2023-11-20T08:57:29.423Z"
   },
   {
    "duration": 14,
    "start_time": "2023-11-20T08:57:29.454Z"
   },
   {
    "duration": 30,
    "start_time": "2023-11-20T08:57:29.471Z"
   },
   {
    "duration": 8,
    "start_time": "2023-11-20T08:57:29.503Z"
   },
   {
    "duration": 40,
    "start_time": "2023-11-20T08:57:29.513Z"
   },
   {
    "duration": 195,
    "start_time": "2023-11-20T08:57:29.555Z"
   },
   {
    "duration": 145,
    "start_time": "2023-11-20T08:57:29.751Z"
   },
   {
    "duration": 152,
    "start_time": "2023-11-20T08:57:29.897Z"
   },
   {
    "duration": 245,
    "start_time": "2023-11-20T08:57:30.050Z"
   },
   {
    "duration": 146,
    "start_time": "2023-11-20T08:57:30.297Z"
   },
   {
    "duration": 16,
    "start_time": "2023-11-20T08:57:30.444Z"
   },
   {
    "duration": 45,
    "start_time": "2023-11-20T08:57:30.462Z"
   },
   {
    "duration": 93,
    "start_time": "2023-11-20T08:57:30.509Z"
   },
   {
    "duration": 294,
    "start_time": "2023-11-20T08:57:30.603Z"
   },
   {
    "duration": 149,
    "start_time": "2023-11-20T08:57:30.899Z"
   },
   {
    "duration": 328,
    "start_time": "2023-11-20T08:57:31.049Z"
   },
   {
    "duration": 139,
    "start_time": "2023-11-20T08:57:31.378Z"
   },
   {
    "duration": 31,
    "start_time": "2023-11-20T08:57:31.519Z"
   },
   {
    "duration": 3,
    "start_time": "2023-11-20T08:57:31.551Z"
   },
   {
    "duration": 46,
    "start_time": "2023-11-20T08:57:31.555Z"
   },
   {
    "duration": 2,
    "start_time": "2023-11-20T08:57:31.605Z"
   },
   {
    "duration": 22,
    "start_time": "2023-11-20T08:57:31.609Z"
   },
   {
    "duration": 12,
    "start_time": "2023-11-20T08:57:31.632Z"
   },
   {
    "duration": 2086,
    "start_time": "2023-11-20T08:57:59.044Z"
   },
   {
    "duration": 35,
    "start_time": "2023-11-20T08:58:17.045Z"
   },
   {
    "duration": 28,
    "start_time": "2023-11-20T08:59:38.503Z"
   },
   {
    "duration": 27,
    "start_time": "2023-11-20T08:59:52.382Z"
   },
   {
    "duration": 30,
    "start_time": "2023-11-20T08:59:59.013Z"
   },
   {
    "duration": 1133,
    "start_time": "2023-11-20T09:00:05.755Z"
   },
   {
    "duration": 67,
    "start_time": "2023-11-20T09:00:06.890Z"
   },
   {
    "duration": 28,
    "start_time": "2023-11-20T09:00:06.959Z"
   },
   {
    "duration": 25,
    "start_time": "2023-11-20T09:00:06.989Z"
   },
   {
    "duration": 8,
    "start_time": "2023-11-20T09:00:07.015Z"
   },
   {
    "duration": 11,
    "start_time": "2023-11-20T09:00:07.024Z"
   },
   {
    "duration": 10,
    "start_time": "2023-11-20T09:00:07.036Z"
   },
   {
    "duration": 29,
    "start_time": "2023-11-20T09:00:07.047Z"
   },
   {
    "duration": 42,
    "start_time": "2023-11-20T09:00:07.077Z"
   },
   {
    "duration": 8,
    "start_time": "2023-11-20T09:00:07.121Z"
   },
   {
    "duration": 20,
    "start_time": "2023-11-20T09:00:07.130Z"
   },
   {
    "duration": 36,
    "start_time": "2023-11-20T09:00:07.151Z"
   },
   {
    "duration": 158,
    "start_time": "2023-11-20T09:00:07.189Z"
   },
   {
    "duration": 139,
    "start_time": "2023-11-20T09:00:07.349Z"
   },
   {
    "duration": 150,
    "start_time": "2023-11-20T09:00:07.489Z"
   },
   {
    "duration": 246,
    "start_time": "2023-11-20T09:00:07.641Z"
   },
   {
    "duration": 137,
    "start_time": "2023-11-20T09:00:07.888Z"
   },
   {
    "duration": 15,
    "start_time": "2023-11-20T09:00:08.026Z"
   },
   {
    "duration": 7,
    "start_time": "2023-11-20T09:00:08.043Z"
   },
   {
    "duration": 26,
    "start_time": "2023-11-20T09:00:08.051Z"
   },
   {
    "duration": 243,
    "start_time": "2023-11-20T09:00:08.079Z"
   },
   {
    "duration": 148,
    "start_time": "2023-11-20T09:00:08.324Z"
   },
   {
    "duration": 315,
    "start_time": "2023-11-20T09:00:08.473Z"
   },
   {
    "duration": 125,
    "start_time": "2023-11-20T09:00:08.790Z"
   },
   {
    "duration": 115,
    "start_time": "2023-11-20T09:00:08.917Z"
   },
   {
    "duration": 0,
    "start_time": "2023-11-20T09:00:09.033Z"
   },
   {
    "duration": 0,
    "start_time": "2023-11-20T09:00:09.034Z"
   },
   {
    "duration": 0,
    "start_time": "2023-11-20T09:00:09.035Z"
   },
   {
    "duration": 0,
    "start_time": "2023-11-20T09:00:09.036Z"
   },
   {
    "duration": 0,
    "start_time": "2023-11-20T09:00:09.037Z"
   },
   {
    "duration": 30,
    "start_time": "2023-11-20T09:00:21.381Z"
   },
   {
    "duration": 39,
    "start_time": "2023-11-20T09:01:31.559Z"
   },
   {
    "duration": 31,
    "start_time": "2023-11-20T09:01:52.990Z"
   },
   {
    "duration": 31,
    "start_time": "2023-11-20T09:03:34.154Z"
   },
   {
    "duration": 34,
    "start_time": "2023-11-20T09:04:06.015Z"
   },
   {
    "duration": 5,
    "start_time": "2023-11-20T09:07:18.848Z"
   },
   {
    "duration": 31,
    "start_time": "2023-11-20T09:07:22.207Z"
   },
   {
    "duration": 45,
    "start_time": "2023-11-20T09:08:11.584Z"
   },
   {
    "duration": 21,
    "start_time": "2023-11-20T09:09:36.424Z"
   },
   {
    "duration": 27,
    "start_time": "2023-11-20T09:10:23.016Z"
   },
   {
    "duration": 1454,
    "start_time": "2023-11-20T09:32:00.250Z"
   },
   {
    "duration": 92,
    "start_time": "2023-11-20T09:32:11.041Z"
   },
   {
    "duration": 1050,
    "start_time": "2023-11-20T09:32:23.799Z"
   },
   {
    "duration": 65,
    "start_time": "2023-11-20T09:32:24.851Z"
   },
   {
    "duration": 27,
    "start_time": "2023-11-20T09:32:24.918Z"
   },
   {
    "duration": 24,
    "start_time": "2023-11-20T09:32:24.947Z"
   },
   {
    "duration": 19,
    "start_time": "2023-11-20T09:32:24.972Z"
   },
   {
    "duration": 21,
    "start_time": "2023-11-20T09:32:24.993Z"
   },
   {
    "duration": 12,
    "start_time": "2023-11-20T09:32:25.015Z"
   },
   {
    "duration": 24,
    "start_time": "2023-11-20T09:32:25.029Z"
   },
   {
    "duration": 16,
    "start_time": "2023-11-20T09:32:25.054Z"
   },
   {
    "duration": 16,
    "start_time": "2023-11-20T09:32:25.072Z"
   },
   {
    "duration": 20,
    "start_time": "2023-11-20T09:32:25.090Z"
   },
   {
    "duration": 10,
    "start_time": "2023-11-20T09:32:25.112Z"
   },
   {
    "duration": 179,
    "start_time": "2023-11-20T09:32:25.123Z"
   },
   {
    "duration": 160,
    "start_time": "2023-11-20T09:32:25.303Z"
   },
   {
    "duration": 168,
    "start_time": "2023-11-20T09:32:25.465Z"
   },
   {
    "duration": 247,
    "start_time": "2023-11-20T09:32:25.635Z"
   },
   {
    "duration": 144,
    "start_time": "2023-11-20T09:32:25.884Z"
   },
   {
    "duration": 15,
    "start_time": "2023-11-20T09:32:26.030Z"
   },
   {
    "duration": 23,
    "start_time": "2023-11-20T09:32:26.046Z"
   },
   {
    "duration": 11,
    "start_time": "2023-11-20T09:32:26.071Z"
   },
   {
    "duration": 253,
    "start_time": "2023-11-20T09:32:26.083Z"
   },
   {
    "duration": 160,
    "start_time": "2023-11-20T09:32:26.338Z"
   },
   {
    "duration": 331,
    "start_time": "2023-11-20T09:32:26.499Z"
   },
   {
    "duration": 141,
    "start_time": "2023-11-20T09:32:26.831Z"
   },
   {
    "duration": 32,
    "start_time": "2023-11-20T09:32:26.973Z"
   },
   {
    "duration": 94,
    "start_time": "2023-11-20T09:32:27.007Z"
   },
   {
    "duration": 0,
    "start_time": "2023-11-20T09:32:27.103Z"
   },
   {
    "duration": 0,
    "start_time": "2023-11-20T09:32:27.104Z"
   },
   {
    "duration": 0,
    "start_time": "2023-11-20T09:32:27.105Z"
   },
   {
    "duration": 0,
    "start_time": "2023-11-20T09:32:27.106Z"
   },
   {
    "duration": 99,
    "start_time": "2023-11-20T09:32:32.791Z"
   },
   {
    "duration": 1455,
    "start_time": "2023-11-20T09:32:42.511Z"
   },
   {
    "duration": 743,
    "start_time": "2023-11-20T09:33:17.552Z"
   },
   {
    "duration": 1510,
    "start_time": "2023-11-20T09:33:27.832Z"
   },
   {
    "duration": 50,
    "start_time": "2023-11-20T09:33:35.033Z"
   },
   {
    "duration": 1624,
    "start_time": "2023-11-20T09:35:05.475Z"
   },
   {
    "duration": 102,
    "start_time": "2023-11-20T09:35:28.570Z"
   },
   {
    "duration": 1531,
    "start_time": "2023-11-20T09:35:41.730Z"
   },
   {
    "duration": 61,
    "start_time": "2023-11-20T09:39:15.567Z"
   },
   {
    "duration": 1132,
    "start_time": "2023-11-20T09:45:00.701Z"
   },
   {
    "duration": 69,
    "start_time": "2023-11-20T09:45:01.835Z"
   },
   {
    "duration": 137,
    "start_time": "2023-11-20T09:45:01.906Z"
   },
   {
    "duration": 34,
    "start_time": "2023-11-20T09:45:02.045Z"
   },
   {
    "duration": 11,
    "start_time": "2023-11-20T09:45:02.081Z"
   },
   {
    "duration": 51,
    "start_time": "2023-11-20T09:45:02.094Z"
   },
   {
    "duration": 80,
    "start_time": "2023-11-20T09:45:02.146Z"
   },
   {
    "duration": 67,
    "start_time": "2023-11-20T09:45:02.228Z"
   },
   {
    "duration": 41,
    "start_time": "2023-11-20T09:45:02.297Z"
   },
   {
    "duration": 27,
    "start_time": "2023-11-20T09:45:02.340Z"
   },
   {
    "duration": 23,
    "start_time": "2023-11-20T09:45:02.368Z"
   },
   {
    "duration": 58,
    "start_time": "2023-11-20T09:45:02.392Z"
   },
   {
    "duration": 167,
    "start_time": "2023-11-20T09:45:02.451Z"
   },
   {
    "duration": 144,
    "start_time": "2023-11-20T09:45:02.619Z"
   },
   {
    "duration": 159,
    "start_time": "2023-11-20T09:45:02.765Z"
   },
   {
    "duration": 243,
    "start_time": "2023-11-20T09:45:02.925Z"
   },
   {
    "duration": 134,
    "start_time": "2023-11-20T09:45:03.171Z"
   },
   {
    "duration": 15,
    "start_time": "2023-11-20T09:45:03.306Z"
   },
   {
    "duration": 9,
    "start_time": "2023-11-20T09:45:03.323Z"
   },
   {
    "duration": 5,
    "start_time": "2023-11-20T09:45:03.333Z"
   },
   {
    "duration": 252,
    "start_time": "2023-11-20T09:45:03.340Z"
   },
   {
    "duration": 140,
    "start_time": "2023-11-20T09:45:03.593Z"
   },
   {
    "duration": 310,
    "start_time": "2023-11-20T09:45:03.734Z"
   },
   {
    "duration": 126,
    "start_time": "2023-11-20T09:45:04.046Z"
   },
   {
    "duration": 30,
    "start_time": "2023-11-20T09:45:04.174Z"
   },
   {
    "duration": 21,
    "start_time": "2023-11-20T09:45:04.206Z"
   },
   {
    "duration": 2,
    "start_time": "2023-11-20T09:45:04.229Z"
   },
   {
    "duration": 0,
    "start_time": "2023-11-20T09:45:04.233Z"
   },
   {
    "duration": 0,
    "start_time": "2023-11-20T09:45:04.234Z"
   },
   {
    "duration": 0,
    "start_time": "2023-11-20T09:45:04.235Z"
   },
   {
    "duration": 104,
    "start_time": "2023-11-20T09:47:49.008Z"
   },
   {
    "duration": 105,
    "start_time": "2023-11-20T09:47:55.237Z"
   },
   {
    "duration": 83,
    "start_time": "2023-11-20T09:48:10.063Z"
   },
   {
    "duration": 29,
    "start_time": "2023-11-20T09:48:18.126Z"
   },
   {
    "duration": 4,
    "start_time": "2023-11-20T09:52:23.674Z"
   },
   {
    "duration": 1408,
    "start_time": "2023-11-20T09:52:33.255Z"
   },
   {
    "duration": 3,
    "start_time": "2023-11-20T09:53:20.567Z"
   },
   {
    "duration": 1028,
    "start_time": "2023-11-20T09:53:48.201Z"
   },
   {
    "duration": 66,
    "start_time": "2023-11-20T09:53:49.231Z"
   },
   {
    "duration": 27,
    "start_time": "2023-11-20T09:53:49.298Z"
   },
   {
    "duration": 23,
    "start_time": "2023-11-20T09:53:49.327Z"
   },
   {
    "duration": 6,
    "start_time": "2023-11-20T09:53:49.352Z"
   },
   {
    "duration": 5,
    "start_time": "2023-11-20T09:53:49.372Z"
   },
   {
    "duration": 6,
    "start_time": "2023-11-20T09:53:49.378Z"
   },
   {
    "duration": 13,
    "start_time": "2023-11-20T09:53:49.385Z"
   },
   {
    "duration": 5,
    "start_time": "2023-11-20T09:53:49.400Z"
   },
   {
    "duration": 5,
    "start_time": "2023-11-20T09:53:49.409Z"
   },
   {
    "duration": 4,
    "start_time": "2023-11-20T09:53:49.416Z"
   },
   {
    "duration": 8,
    "start_time": "2023-11-20T09:53:49.421Z"
   },
   {
    "duration": 202,
    "start_time": "2023-11-20T09:53:49.430Z"
   },
   {
    "duration": 142,
    "start_time": "2023-11-20T09:53:49.634Z"
   },
   {
    "duration": 148,
    "start_time": "2023-11-20T09:53:49.778Z"
   },
   {
    "duration": 247,
    "start_time": "2023-11-20T09:53:49.927Z"
   },
   {
    "duration": 140,
    "start_time": "2023-11-20T09:53:50.175Z"
   },
   {
    "duration": 17,
    "start_time": "2023-11-20T09:53:50.317Z"
   },
   {
    "duration": 8,
    "start_time": "2023-11-20T09:53:50.336Z"
   },
   {
    "duration": 25,
    "start_time": "2023-11-20T09:53:50.345Z"
   },
   {
    "duration": 235,
    "start_time": "2023-11-20T09:53:50.372Z"
   },
   {
    "duration": 149,
    "start_time": "2023-11-20T09:53:50.608Z"
   },
   {
    "duration": 343,
    "start_time": "2023-11-20T09:53:50.759Z"
   },
   {
    "duration": 134,
    "start_time": "2023-11-20T09:53:51.104Z"
   },
   {
    "duration": 39,
    "start_time": "2023-11-20T09:53:51.240Z"
   },
   {
    "duration": 27,
    "start_time": "2023-11-20T09:53:51.281Z"
   },
   {
    "duration": 3,
    "start_time": "2023-11-20T09:53:51.309Z"
   },
   {
    "duration": 1597,
    "start_time": "2023-11-20T09:53:51.315Z"
   },
   {
    "duration": 0,
    "start_time": "2023-11-20T09:53:52.914Z"
   },
   {
    "duration": 0,
    "start_time": "2023-11-20T09:53:52.915Z"
   },
   {
    "duration": 3,
    "start_time": "2023-11-20T09:55:16.777Z"
   },
   {
    "duration": 176,
    "start_time": "2023-11-20T09:56:06.491Z"
   },
   {
    "duration": 1083,
    "start_time": "2023-11-20T09:56:14.148Z"
   },
   {
    "duration": 69,
    "start_time": "2023-11-20T09:56:15.233Z"
   },
   {
    "duration": 88,
    "start_time": "2023-11-20T09:56:15.303Z"
   },
   {
    "duration": 41,
    "start_time": "2023-11-20T09:56:15.393Z"
   },
   {
    "duration": 28,
    "start_time": "2023-11-20T09:56:15.436Z"
   },
   {
    "duration": 81,
    "start_time": "2023-11-20T09:56:15.466Z"
   },
   {
    "duration": 160,
    "start_time": "2023-11-20T09:56:15.548Z"
   },
   {
    "duration": 115,
    "start_time": "2023-11-20T09:56:15.710Z"
   },
   {
    "duration": 41,
    "start_time": "2023-11-20T09:56:15.827Z"
   },
   {
    "duration": 80,
    "start_time": "2023-11-20T09:56:15.872Z"
   },
   {
    "duration": 433,
    "start_time": "2023-11-20T09:56:15.953Z"
   },
   {
    "duration": 171,
    "start_time": "2023-11-20T09:56:16.388Z"
   },
   {
    "duration": 223,
    "start_time": "2023-11-20T09:56:16.561Z"
   },
   {
    "duration": 137,
    "start_time": "2023-11-20T09:56:16.785Z"
   },
   {
    "duration": 150,
    "start_time": "2023-11-20T09:56:16.924Z"
   },
   {
    "duration": 243,
    "start_time": "2023-11-20T09:56:17.075Z"
   },
   {
    "duration": 135,
    "start_time": "2023-11-20T09:56:17.320Z"
   },
   {
    "duration": 24,
    "start_time": "2023-11-20T09:56:17.457Z"
   },
   {
    "duration": 15,
    "start_time": "2023-11-20T09:56:17.482Z"
   },
   {
    "duration": 45,
    "start_time": "2023-11-20T09:56:17.498Z"
   },
   {
    "duration": 255,
    "start_time": "2023-11-20T09:56:17.544Z"
   },
   {
    "duration": 144,
    "start_time": "2023-11-20T09:56:17.801Z"
   },
   {
    "duration": 328,
    "start_time": "2023-11-20T09:56:17.946Z"
   },
   {
    "duration": 132,
    "start_time": "2023-11-20T09:56:18.275Z"
   },
   {
    "duration": 31,
    "start_time": "2023-11-20T09:56:18.409Z"
   },
   {
    "duration": 46,
    "start_time": "2023-11-20T09:56:18.442Z"
   },
   {
    "duration": 34,
    "start_time": "2023-11-20T09:56:18.490Z"
   },
   {
    "duration": 207,
    "start_time": "2023-11-20T09:56:18.527Z"
   },
   {
    "duration": 5,
    "start_time": "2023-11-20T09:56:18.736Z"
   },
   {
    "duration": 35,
    "start_time": "2023-11-20T09:56:18.743Z"
   },
   {
    "duration": 23,
    "start_time": "2023-11-20T09:56:31.064Z"
   },
   {
    "duration": 144,
    "start_time": "2023-11-20T10:37:34.501Z"
   },
   {
    "duration": 25,
    "start_time": "2023-11-20T10:40:33.846Z"
   },
   {
    "duration": 13,
    "start_time": "2023-11-20T10:42:05.113Z"
   },
   {
    "duration": 10,
    "start_time": "2023-11-20T10:47:17.863Z"
   },
   {
    "duration": 9,
    "start_time": "2023-11-20T10:47:28.264Z"
   },
   {
    "duration": 8,
    "start_time": "2023-11-20T10:47:37.449Z"
   },
   {
    "duration": 1086,
    "start_time": "2023-11-20T10:49:43.910Z"
   },
   {
    "duration": 70,
    "start_time": "2023-11-20T10:49:44.998Z"
   },
   {
    "duration": 32,
    "start_time": "2023-11-20T10:49:45.069Z"
   },
   {
    "duration": 33,
    "start_time": "2023-11-20T10:49:45.104Z"
   },
   {
    "duration": 14,
    "start_time": "2023-11-20T10:49:45.138Z"
   },
   {
    "duration": 33,
    "start_time": "2023-11-20T10:49:45.154Z"
   },
   {
    "duration": 21,
    "start_time": "2023-11-20T10:49:45.189Z"
   },
   {
    "duration": 32,
    "start_time": "2023-11-20T10:49:45.211Z"
   },
   {
    "duration": 19,
    "start_time": "2023-11-20T10:49:45.244Z"
   },
   {
    "duration": 25,
    "start_time": "2023-11-20T10:49:45.266Z"
   },
   {
    "duration": 7,
    "start_time": "2023-11-20T10:49:45.293Z"
   },
   {
    "duration": 22,
    "start_time": "2023-11-20T10:49:45.301Z"
   },
   {
    "duration": 211,
    "start_time": "2023-11-20T10:49:45.325Z"
   },
   {
    "duration": 168,
    "start_time": "2023-11-20T10:49:45.538Z"
   },
   {
    "duration": 170,
    "start_time": "2023-11-20T10:49:45.708Z"
   },
   {
    "duration": 272,
    "start_time": "2023-11-20T10:49:45.879Z"
   },
   {
    "duration": 163,
    "start_time": "2023-11-20T10:49:46.153Z"
   },
   {
    "duration": 18,
    "start_time": "2023-11-20T10:49:46.318Z"
   },
   {
    "duration": 8,
    "start_time": "2023-11-20T10:49:46.338Z"
   },
   {
    "duration": 24,
    "start_time": "2023-11-20T10:49:46.348Z"
   },
   {
    "duration": 268,
    "start_time": "2023-11-20T10:49:46.374Z"
   },
   {
    "duration": 165,
    "start_time": "2023-11-20T10:49:46.644Z"
   },
   {
    "duration": 356,
    "start_time": "2023-11-20T10:49:46.811Z"
   },
   {
    "duration": 144,
    "start_time": "2023-11-20T10:49:47.169Z"
   },
   {
    "duration": 34,
    "start_time": "2023-11-20T10:49:47.315Z"
   },
   {
    "duration": 51,
    "start_time": "2023-11-20T10:49:47.350Z"
   },
   {
    "duration": 3,
    "start_time": "2023-11-20T10:49:47.403Z"
   },
   {
    "duration": 215,
    "start_time": "2023-11-20T10:49:47.409Z"
   },
   {
    "duration": 21,
    "start_time": "2023-11-20T10:49:47.626Z"
   },
   {
    "duration": 5,
    "start_time": "2023-11-20T10:49:47.649Z"
   },
   {
    "duration": 5,
    "start_time": "2023-11-20T10:49:47.672Z"
   },
   {
    "duration": 17,
    "start_time": "2023-11-20T10:49:47.678Z"
   },
   {
    "duration": 13,
    "start_time": "2023-11-20T10:49:47.696Z"
   },
   {
    "duration": 1003,
    "start_time": "2023-11-20T11:25:53.511Z"
   },
   {
    "duration": 67,
    "start_time": "2023-11-20T11:25:54.516Z"
   },
   {
    "duration": 27,
    "start_time": "2023-11-20T11:25:54.584Z"
   },
   {
    "duration": 21,
    "start_time": "2023-11-20T11:25:54.613Z"
   },
   {
    "duration": 6,
    "start_time": "2023-11-20T11:25:54.636Z"
   },
   {
    "duration": 8,
    "start_time": "2023-11-20T11:25:54.643Z"
   },
   {
    "duration": 20,
    "start_time": "2023-11-20T11:25:54.653Z"
   },
   {
    "duration": 6,
    "start_time": "2023-11-20T11:25:54.674Z"
   },
   {
    "duration": 21,
    "start_time": "2023-11-20T11:25:54.681Z"
   },
   {
    "duration": 31,
    "start_time": "2023-11-20T11:25:54.704Z"
   },
   {
    "duration": 6,
    "start_time": "2023-11-20T11:25:54.736Z"
   },
   {
    "duration": 25,
    "start_time": "2023-11-20T11:25:54.744Z"
   },
   {
    "duration": 159,
    "start_time": "2023-11-20T11:25:54.770Z"
   },
   {
    "duration": 133,
    "start_time": "2023-11-20T11:25:54.930Z"
   },
   {
    "duration": 143,
    "start_time": "2023-11-20T11:25:55.064Z"
   },
   {
    "duration": 238,
    "start_time": "2023-11-20T11:25:55.208Z"
   },
   {
    "duration": 137,
    "start_time": "2023-11-20T11:25:55.447Z"
   },
   {
    "duration": 16,
    "start_time": "2023-11-20T11:25:55.586Z"
   },
   {
    "duration": 7,
    "start_time": "2023-11-20T11:25:55.603Z"
   },
   {
    "duration": 7,
    "start_time": "2023-11-20T11:25:55.611Z"
   },
   {
    "duration": 242,
    "start_time": "2023-11-20T11:25:55.620Z"
   },
   {
    "duration": 139,
    "start_time": "2023-11-20T11:25:55.864Z"
   },
   {
    "duration": 303,
    "start_time": "2023-11-20T11:25:56.005Z"
   },
   {
    "duration": 133,
    "start_time": "2023-11-20T11:25:56.310Z"
   },
   {
    "duration": 39,
    "start_time": "2023-11-20T11:25:56.444Z"
   },
   {
    "duration": 27,
    "start_time": "2023-11-20T11:25:56.484Z"
   },
   {
    "duration": 3,
    "start_time": "2023-11-20T11:25:56.513Z"
   },
   {
    "duration": 192,
    "start_time": "2023-11-20T11:25:56.518Z"
   },
   {
    "duration": 19,
    "start_time": "2023-11-20T11:25:56.712Z"
   },
   {
    "duration": 11,
    "start_time": "2023-11-20T11:25:56.732Z"
   },
   {
    "duration": 21,
    "start_time": "2023-11-20T11:25:56.745Z"
   },
   {
    "duration": 25,
    "start_time": "2023-11-20T11:25:56.767Z"
   },
   {
    "duration": 22,
    "start_time": "2023-11-20T11:25:56.794Z"
   },
   {
    "duration": 1078,
    "start_time": "2023-11-20T11:28:15.785Z"
   },
   {
    "duration": 68,
    "start_time": "2023-11-20T11:28:16.864Z"
   },
   {
    "duration": 30,
    "start_time": "2023-11-20T11:28:16.933Z"
   },
   {
    "duration": 23,
    "start_time": "2023-11-20T11:28:16.965Z"
   },
   {
    "duration": 8,
    "start_time": "2023-11-20T11:28:16.990Z"
   },
   {
    "duration": 7,
    "start_time": "2023-11-20T11:28:16.999Z"
   },
   {
    "duration": 6,
    "start_time": "2023-11-20T11:28:17.008Z"
   },
   {
    "duration": 7,
    "start_time": "2023-11-20T11:28:17.015Z"
   },
   {
    "duration": 6,
    "start_time": "2023-11-20T11:28:17.023Z"
   },
   {
    "duration": 10,
    "start_time": "2023-11-20T11:28:17.031Z"
   },
   {
    "duration": 6,
    "start_time": "2023-11-20T11:28:17.072Z"
   },
   {
    "duration": 8,
    "start_time": "2023-11-20T11:28:17.080Z"
   },
   {
    "duration": 186,
    "start_time": "2023-11-20T11:28:17.090Z"
   },
   {
    "duration": 145,
    "start_time": "2023-11-20T11:28:17.277Z"
   },
   {
    "duration": 148,
    "start_time": "2023-11-20T11:28:17.424Z"
   },
   {
    "duration": 241,
    "start_time": "2023-11-20T11:28:17.573Z"
   },
   {
    "duration": 138,
    "start_time": "2023-11-20T11:28:17.816Z"
   },
   {
    "duration": 25,
    "start_time": "2023-11-20T11:28:17.956Z"
   },
   {
    "duration": 8,
    "start_time": "2023-11-20T11:28:17.982Z"
   },
   {
    "duration": 6,
    "start_time": "2023-11-20T11:28:17.992Z"
   },
   {
    "duration": 255,
    "start_time": "2023-11-20T11:28:17.999Z"
   },
   {
    "duration": 143,
    "start_time": "2023-11-20T11:28:18.256Z"
   },
   {
    "duration": 314,
    "start_time": "2023-11-20T11:28:18.401Z"
   },
   {
    "duration": 133,
    "start_time": "2023-11-20T11:28:18.716Z"
   },
   {
    "duration": 38,
    "start_time": "2023-11-20T11:28:18.851Z"
   },
   {
    "duration": 28,
    "start_time": "2023-11-20T11:28:18.891Z"
   },
   {
    "duration": 3,
    "start_time": "2023-11-20T11:28:18.920Z"
   },
   {
    "duration": 187,
    "start_time": "2023-11-20T11:28:18.926Z"
   },
   {
    "duration": 20,
    "start_time": "2023-11-20T11:28:19.115Z"
   },
   {
    "duration": 5,
    "start_time": "2023-11-20T11:28:19.137Z"
   },
   {
    "duration": 19,
    "start_time": "2023-11-20T11:28:19.143Z"
   },
   {
    "duration": 13,
    "start_time": "2023-11-20T11:28:19.171Z"
   },
   {
    "duration": 19,
    "start_time": "2023-11-20T11:28:19.185Z"
   },
   {
    "duration": 1080,
    "start_time": "2023-11-20T13:22:32.790Z"
   },
   {
    "duration": 69,
    "start_time": "2023-11-20T13:22:33.873Z"
   },
   {
    "duration": 28,
    "start_time": "2023-11-20T13:22:33.943Z"
   },
   {
    "duration": 22,
    "start_time": "2023-11-20T13:22:33.973Z"
   },
   {
    "duration": 6,
    "start_time": "2023-11-20T13:22:33.997Z"
   },
   {
    "duration": 8,
    "start_time": "2023-11-20T13:22:34.005Z"
   },
   {
    "duration": 7,
    "start_time": "2023-11-20T13:22:34.015Z"
   },
   {
    "duration": 14,
    "start_time": "2023-11-20T13:22:34.023Z"
   },
   {
    "duration": 8,
    "start_time": "2023-11-20T13:22:34.039Z"
   },
   {
    "duration": 26,
    "start_time": "2023-11-20T13:22:34.049Z"
   },
   {
    "duration": 11,
    "start_time": "2023-11-20T13:22:34.077Z"
   },
   {
    "duration": 10,
    "start_time": "2023-11-20T13:22:34.090Z"
   },
   {
    "duration": 173,
    "start_time": "2023-11-20T13:22:34.101Z"
   },
   {
    "duration": 150,
    "start_time": "2023-11-20T13:22:34.277Z"
   },
   {
    "duration": 153,
    "start_time": "2023-11-20T13:22:34.429Z"
   },
   {
    "duration": 242,
    "start_time": "2023-11-20T13:22:34.584Z"
   },
   {
    "duration": 132,
    "start_time": "2023-11-20T13:22:34.827Z"
   },
   {
    "duration": 24,
    "start_time": "2023-11-20T13:22:34.960Z"
   },
   {
    "duration": 8,
    "start_time": "2023-11-20T13:22:34.986Z"
   },
   {
    "duration": 7,
    "start_time": "2023-11-20T13:22:34.995Z"
   },
   {
    "duration": 244,
    "start_time": "2023-11-20T13:22:35.003Z"
   },
   {
    "duration": 150,
    "start_time": "2023-11-20T13:22:35.249Z"
   },
   {
    "duration": 308,
    "start_time": "2023-11-20T13:22:35.401Z"
   },
   {
    "duration": 127,
    "start_time": "2023-11-20T13:22:35.710Z"
   },
   {
    "duration": 39,
    "start_time": "2023-11-20T13:22:35.838Z"
   },
   {
    "duration": 28,
    "start_time": "2023-11-20T13:22:35.878Z"
   },
   {
    "duration": 3,
    "start_time": "2023-11-20T13:22:35.907Z"
   },
   {
    "duration": 212,
    "start_time": "2023-11-20T13:22:35.911Z"
   },
   {
    "duration": 20,
    "start_time": "2023-11-20T13:22:36.125Z"
   },
   {
    "duration": 10,
    "start_time": "2023-11-20T13:22:36.146Z"
   },
   {
    "duration": 16,
    "start_time": "2023-11-20T13:22:36.157Z"
   },
   {
    "duration": 10,
    "start_time": "2023-11-20T13:22:36.175Z"
   },
   {
    "duration": 9,
    "start_time": "2023-11-20T13:22:36.186Z"
   },
   {
    "duration": 7,
    "start_time": "2023-11-20T13:30:54.084Z"
   },
   {
    "duration": 1105,
    "start_time": "2023-11-20T13:33:26.044Z"
   },
   {
    "duration": 67,
    "start_time": "2023-11-20T13:33:27.151Z"
   },
   {
    "duration": 26,
    "start_time": "2023-11-20T13:33:27.219Z"
   },
   {
    "duration": 22,
    "start_time": "2023-11-20T13:33:27.247Z"
   },
   {
    "duration": 9,
    "start_time": "2023-11-20T13:33:27.271Z"
   },
   {
    "duration": 37,
    "start_time": "2023-11-20T13:33:27.282Z"
   },
   {
    "duration": 18,
    "start_time": "2023-11-20T13:33:27.321Z"
   },
   {
    "duration": 19,
    "start_time": "2023-11-20T13:33:27.341Z"
   },
   {
    "duration": 11,
    "start_time": "2023-11-20T13:33:27.361Z"
   },
   {
    "duration": 18,
    "start_time": "2023-11-20T13:33:27.374Z"
   },
   {
    "duration": 5,
    "start_time": "2023-11-20T13:33:27.394Z"
   },
   {
    "duration": 16,
    "start_time": "2023-11-20T13:33:27.400Z"
   },
   {
    "duration": 161,
    "start_time": "2023-11-20T13:33:27.418Z"
   },
   {
    "duration": 146,
    "start_time": "2023-11-20T13:33:27.582Z"
   },
   {
    "duration": 146,
    "start_time": "2023-11-20T13:33:27.729Z"
   },
   {
    "duration": 251,
    "start_time": "2023-11-20T13:33:27.877Z"
   },
   {
    "duration": 135,
    "start_time": "2023-11-20T13:33:28.129Z"
   },
   {
    "duration": 20,
    "start_time": "2023-11-20T13:33:28.265Z"
   },
   {
    "duration": 7,
    "start_time": "2023-11-20T13:33:28.286Z"
   },
   {
    "duration": 5,
    "start_time": "2023-11-20T13:33:28.294Z"
   },
   {
    "duration": 246,
    "start_time": "2023-11-20T13:33:28.300Z"
   },
   {
    "duration": 146,
    "start_time": "2023-11-20T13:33:28.547Z"
   },
   {
    "duration": 312,
    "start_time": "2023-11-20T13:33:28.695Z"
   },
   {
    "duration": 136,
    "start_time": "2023-11-20T13:33:29.008Z"
   },
   {
    "duration": 41,
    "start_time": "2023-11-20T13:33:29.146Z"
   },
   {
    "duration": 29,
    "start_time": "2023-11-20T13:33:29.189Z"
   },
   {
    "duration": 4,
    "start_time": "2023-11-20T13:33:29.219Z"
   },
   {
    "duration": 216,
    "start_time": "2023-11-20T13:33:29.225Z"
   },
   {
    "duration": 31,
    "start_time": "2023-11-20T13:33:29.442Z"
   },
   {
    "duration": 6,
    "start_time": "2023-11-20T13:33:29.474Z"
   },
   {
    "duration": 13,
    "start_time": "2023-11-20T13:33:29.482Z"
   },
   {
    "duration": 21,
    "start_time": "2023-11-20T13:33:29.497Z"
   },
   {
    "duration": 6,
    "start_time": "2023-11-20T13:33:29.519Z"
   },
   {
    "duration": 103,
    "start_time": "2023-11-20T17:19:04.678Z"
   },
   {
    "duration": 43,
    "start_time": "2023-11-20T17:23:06.302Z"
   },
   {
    "duration": 1262,
    "start_time": "2023-11-20T17:23:14.475Z"
   },
   {
    "duration": 306,
    "start_time": "2023-11-20T17:23:15.739Z"
   },
   {
    "duration": 27,
    "start_time": "2023-11-20T17:23:16.047Z"
   },
   {
    "duration": 24,
    "start_time": "2023-11-20T17:23:16.076Z"
   },
   {
    "duration": 7,
    "start_time": "2023-11-20T17:23:16.101Z"
   },
   {
    "duration": 8,
    "start_time": "2023-11-20T17:23:16.109Z"
   },
   {
    "duration": 7,
    "start_time": "2023-11-20T17:23:16.118Z"
   },
   {
    "duration": 5,
    "start_time": "2023-11-20T17:23:16.127Z"
   },
   {
    "duration": 7,
    "start_time": "2023-11-20T17:23:16.133Z"
   },
   {
    "duration": 11,
    "start_time": "2023-11-20T17:23:16.142Z"
   },
   {
    "duration": 24,
    "start_time": "2023-11-20T17:23:16.154Z"
   },
   {
    "duration": 4,
    "start_time": "2023-11-20T17:23:16.180Z"
   },
   {
    "duration": 8,
    "start_time": "2023-11-20T17:23:16.186Z"
   },
   {
    "duration": 178,
    "start_time": "2023-11-20T17:23:16.196Z"
   },
   {
    "duration": 149,
    "start_time": "2023-11-20T17:23:16.375Z"
   },
   {
    "duration": 151,
    "start_time": "2023-11-20T17:23:16.525Z"
   },
   {
    "duration": 248,
    "start_time": "2023-11-20T17:23:16.677Z"
   },
   {
    "duration": 140,
    "start_time": "2023-11-20T17:23:16.926Z"
   },
   {
    "duration": 16,
    "start_time": "2023-11-20T17:23:17.068Z"
   },
   {
    "duration": 6,
    "start_time": "2023-11-20T17:23:17.086Z"
   },
   {
    "duration": 22,
    "start_time": "2023-11-20T17:23:17.094Z"
   },
   {
    "duration": 247,
    "start_time": "2023-11-20T17:23:17.117Z"
   },
   {
    "duration": 143,
    "start_time": "2023-11-20T17:23:17.365Z"
   },
   {
    "duration": 316,
    "start_time": "2023-11-20T17:23:17.514Z"
   },
   {
    "duration": 123,
    "start_time": "2023-11-20T17:23:17.831Z"
   },
   {
    "duration": 34,
    "start_time": "2023-11-20T17:23:17.955Z"
   },
   {
    "duration": 40,
    "start_time": "2023-11-20T17:23:17.990Z"
   },
   {
    "duration": 5,
    "start_time": "2023-11-20T17:23:18.033Z"
   },
   {
    "duration": 191,
    "start_time": "2023-11-20T17:23:18.040Z"
   },
   {
    "duration": 19,
    "start_time": "2023-11-20T17:23:18.232Z"
   },
   {
    "duration": 7,
    "start_time": "2023-11-20T17:23:18.252Z"
   },
   {
    "duration": 6,
    "start_time": "2023-11-20T17:23:18.261Z"
   },
   {
    "duration": 13,
    "start_time": "2023-11-20T17:23:18.269Z"
   },
   {
    "duration": 4,
    "start_time": "2023-11-20T17:23:18.284Z"
   },
   {
    "duration": 6,
    "start_time": "2023-11-20T17:23:42.657Z"
   },
   {
    "duration": 7,
    "start_time": "2023-11-20T17:31:32.043Z"
   },
   {
    "duration": 91,
    "start_time": "2023-11-20T17:33:25.469Z"
   },
   {
    "duration": 1078,
    "start_time": "2023-11-20T17:33:49.747Z"
   },
   {
    "duration": 69,
    "start_time": "2023-11-20T17:33:50.827Z"
   },
   {
    "duration": 27,
    "start_time": "2023-11-20T17:33:50.897Z"
   },
   {
    "duration": 22,
    "start_time": "2023-11-20T17:33:50.926Z"
   },
   {
    "duration": 7,
    "start_time": "2023-11-20T17:33:50.949Z"
   },
   {
    "duration": 7,
    "start_time": "2023-11-20T17:33:50.957Z"
   },
   {
    "duration": 116,
    "start_time": "2023-11-20T17:33:50.966Z"
   },
   {
    "duration": 0,
    "start_time": "2023-11-20T17:33:51.084Z"
   },
   {
    "duration": 0,
    "start_time": "2023-11-20T17:33:51.086Z"
   },
   {
    "duration": 0,
    "start_time": "2023-11-20T17:33:51.087Z"
   },
   {
    "duration": 0,
    "start_time": "2023-11-20T17:33:51.088Z"
   },
   {
    "duration": 0,
    "start_time": "2023-11-20T17:33:51.089Z"
   },
   {
    "duration": 0,
    "start_time": "2023-11-20T17:33:51.090Z"
   },
   {
    "duration": 0,
    "start_time": "2023-11-20T17:33:51.091Z"
   },
   {
    "duration": 0,
    "start_time": "2023-11-20T17:33:51.092Z"
   },
   {
    "duration": 0,
    "start_time": "2023-11-20T17:33:51.093Z"
   },
   {
    "duration": 0,
    "start_time": "2023-11-20T17:33:51.094Z"
   },
   {
    "duration": 19,
    "start_time": "2023-11-20T17:33:51.095Z"
   },
   {
    "duration": 0,
    "start_time": "2023-11-20T17:33:51.115Z"
   },
   {
    "duration": 0,
    "start_time": "2023-11-20T17:33:51.116Z"
   },
   {
    "duration": 0,
    "start_time": "2023-11-20T17:33:51.117Z"
   },
   {
    "duration": 0,
    "start_time": "2023-11-20T17:33:51.118Z"
   },
   {
    "duration": 0,
    "start_time": "2023-11-20T17:33:51.119Z"
   },
   {
    "duration": 0,
    "start_time": "2023-11-20T17:33:51.120Z"
   },
   {
    "duration": 0,
    "start_time": "2023-11-20T17:33:51.121Z"
   },
   {
    "duration": 0,
    "start_time": "2023-11-20T17:33:51.122Z"
   },
   {
    "duration": 0,
    "start_time": "2023-11-20T17:33:51.122Z"
   },
   {
    "duration": 0,
    "start_time": "2023-11-20T17:33:51.124Z"
   },
   {
    "duration": 0,
    "start_time": "2023-11-20T17:33:51.125Z"
   },
   {
    "duration": 0,
    "start_time": "2023-11-20T17:33:51.126Z"
   },
   {
    "duration": 0,
    "start_time": "2023-11-20T17:33:51.126Z"
   },
   {
    "duration": 0,
    "start_time": "2023-11-20T17:33:51.128Z"
   },
   {
    "duration": 0,
    "start_time": "2023-11-20T17:33:51.128Z"
   },
   {
    "duration": 0,
    "start_time": "2023-11-20T17:33:51.129Z"
   },
   {
    "duration": 0,
    "start_time": "2023-11-20T17:33:51.130Z"
   },
   {
    "duration": 8,
    "start_time": "2023-11-20T17:33:58.996Z"
   },
   {
    "duration": 12,
    "start_time": "2023-11-20T17:34:06.565Z"
   },
   {
    "duration": 14,
    "start_time": "2023-11-20T17:34:26.598Z"
   },
   {
    "duration": 2,
    "start_time": "2023-11-20T17:58:13.764Z"
   },
   {
    "duration": 1082,
    "start_time": "2023-11-20T18:06:52.037Z"
   },
   {
    "duration": 69,
    "start_time": "2023-11-20T18:06:53.120Z"
   },
   {
    "duration": 28,
    "start_time": "2023-11-20T18:06:53.191Z"
   },
   {
    "duration": 23,
    "start_time": "2023-11-20T18:06:53.221Z"
   },
   {
    "duration": 7,
    "start_time": "2023-11-20T18:06:53.245Z"
   },
   {
    "duration": 7,
    "start_time": "2023-11-20T18:06:53.253Z"
   },
   {
    "duration": 116,
    "start_time": "2023-11-20T18:06:53.261Z"
   },
   {
    "duration": 0,
    "start_time": "2023-11-20T18:06:53.379Z"
   },
   {
    "duration": 0,
    "start_time": "2023-11-20T18:06:53.380Z"
   },
   {
    "duration": 0,
    "start_time": "2023-11-20T18:06:53.381Z"
   },
   {
    "duration": 0,
    "start_time": "2023-11-20T18:06:53.382Z"
   },
   {
    "duration": 0,
    "start_time": "2023-11-20T18:06:53.383Z"
   },
   {
    "duration": 0,
    "start_time": "2023-11-20T18:06:53.384Z"
   },
   {
    "duration": 0,
    "start_time": "2023-11-20T18:06:53.385Z"
   },
   {
    "duration": 0,
    "start_time": "2023-11-20T18:06:53.386Z"
   },
   {
    "duration": 0,
    "start_time": "2023-11-20T18:06:53.387Z"
   },
   {
    "duration": 0,
    "start_time": "2023-11-20T18:06:53.388Z"
   },
   {
    "duration": 0,
    "start_time": "2023-11-20T18:06:53.389Z"
   },
   {
    "duration": 0,
    "start_time": "2023-11-20T18:06:53.390Z"
   },
   {
    "duration": 0,
    "start_time": "2023-11-20T18:06:53.391Z"
   },
   {
    "duration": 0,
    "start_time": "2023-11-20T18:06:53.392Z"
   },
   {
    "duration": 0,
    "start_time": "2023-11-20T18:06:53.393Z"
   },
   {
    "duration": 0,
    "start_time": "2023-11-20T18:06:53.415Z"
   },
   {
    "duration": 0,
    "start_time": "2023-11-20T18:06:53.416Z"
   },
   {
    "duration": 0,
    "start_time": "2023-11-20T18:06:53.417Z"
   },
   {
    "duration": 0,
    "start_time": "2023-11-20T18:06:53.418Z"
   },
   {
    "duration": 1,
    "start_time": "2023-11-20T18:06:53.419Z"
   },
   {
    "duration": 0,
    "start_time": "2023-11-20T18:06:53.421Z"
   },
   {
    "duration": 0,
    "start_time": "2023-11-20T18:06:53.422Z"
   },
   {
    "duration": 0,
    "start_time": "2023-11-20T18:06:53.423Z"
   },
   {
    "duration": 0,
    "start_time": "2023-11-20T18:06:53.424Z"
   },
   {
    "duration": 0,
    "start_time": "2023-11-20T18:06:53.425Z"
   },
   {
    "duration": 0,
    "start_time": "2023-11-20T18:06:53.426Z"
   },
   {
    "duration": 0,
    "start_time": "2023-11-20T18:06:53.427Z"
   },
   {
    "duration": 0,
    "start_time": "2023-11-20T18:06:53.428Z"
   },
   {
    "duration": 7,
    "start_time": "2023-11-20T18:07:37.758Z"
   },
   {
    "duration": 1124,
    "start_time": "2023-11-20T18:07:45.690Z"
   },
   {
    "duration": 69,
    "start_time": "2023-11-20T18:07:46.816Z"
   },
   {
    "duration": 27,
    "start_time": "2023-11-20T18:07:46.886Z"
   },
   {
    "duration": 23,
    "start_time": "2023-11-20T18:07:46.916Z"
   },
   {
    "duration": 8,
    "start_time": "2023-11-20T18:07:46.941Z"
   },
   {
    "duration": 5,
    "start_time": "2023-11-20T18:07:46.950Z"
   },
   {
    "duration": 6,
    "start_time": "2023-11-20T18:07:46.956Z"
   },
   {
    "duration": 4,
    "start_time": "2023-11-20T18:07:46.964Z"
   },
   {
    "duration": 18,
    "start_time": "2023-11-20T18:07:46.970Z"
   },
   {
    "duration": 6,
    "start_time": "2023-11-20T18:07:47.014Z"
   },
   {
    "duration": 10,
    "start_time": "2023-11-20T18:07:47.021Z"
   },
   {
    "duration": 5,
    "start_time": "2023-11-20T18:07:47.032Z"
   },
   {
    "duration": 10,
    "start_time": "2023-11-20T18:07:47.038Z"
   },
   {
    "duration": 8,
    "start_time": "2023-11-20T18:07:47.050Z"
   },
   {
    "duration": 2,
    "start_time": "2023-11-20T18:07:47.060Z"
   },
   {
    "duration": 173,
    "start_time": "2023-11-20T18:07:47.063Z"
   },
   {
    "duration": 145,
    "start_time": "2023-11-20T18:07:47.238Z"
   },
   {
    "duration": 255,
    "start_time": "2023-11-20T18:07:47.385Z"
   },
   {
    "duration": 142,
    "start_time": "2023-11-20T18:07:47.641Z"
   },
   {
    "duration": 16,
    "start_time": "2023-11-20T18:07:47.785Z"
   },
   {
    "duration": 16,
    "start_time": "2023-11-20T18:07:47.802Z"
   },
   {
    "duration": 7,
    "start_time": "2023-11-20T18:07:47.819Z"
   },
   {
    "duration": 255,
    "start_time": "2023-11-20T18:07:47.827Z"
   },
   {
    "duration": 149,
    "start_time": "2023-11-20T18:07:48.084Z"
   },
   {
    "duration": 338,
    "start_time": "2023-11-20T18:07:48.235Z"
   },
   {
    "duration": 132,
    "start_time": "2023-11-20T18:07:48.575Z"
   },
   {
    "duration": 38,
    "start_time": "2023-11-20T18:07:48.709Z"
   },
   {
    "duration": 28,
    "start_time": "2023-11-20T18:07:48.750Z"
   },
   {
    "duration": 3,
    "start_time": "2023-11-20T18:07:48.779Z"
   },
   {
    "duration": 219,
    "start_time": "2023-11-20T18:07:48.786Z"
   },
   {
    "duration": 23,
    "start_time": "2023-11-20T18:07:49.006Z"
   },
   {
    "duration": 12,
    "start_time": "2023-11-20T18:07:49.031Z"
   },
   {
    "duration": 34,
    "start_time": "2023-11-20T18:07:49.045Z"
   },
   {
    "duration": 29,
    "start_time": "2023-11-20T18:07:49.080Z"
   },
   {
    "duration": 15,
    "start_time": "2023-11-20T18:07:49.111Z"
   },
   {
    "duration": 1542,
    "start_time": "2023-11-20T18:58:02.264Z"
   },
   {
    "duration": 10,
    "start_time": "2023-11-20T18:58:23.334Z"
   },
   {
    "duration": 355,
    "start_time": "2023-11-20T18:59:23.015Z"
   },
   {
    "duration": 348,
    "start_time": "2023-11-20T18:59:49.680Z"
   },
   {
    "duration": 357,
    "start_time": "2023-11-20T19:00:32.696Z"
   },
   {
    "duration": 1188,
    "start_time": "2023-11-20T19:00:39.189Z"
   },
   {
    "duration": 71,
    "start_time": "2023-11-20T19:00:40.379Z"
   },
   {
    "duration": 29,
    "start_time": "2023-11-20T19:00:40.452Z"
   },
   {
    "duration": 26,
    "start_time": "2023-11-20T19:00:40.484Z"
   },
   {
    "duration": 7,
    "start_time": "2023-11-20T19:00:40.515Z"
   },
   {
    "duration": 10,
    "start_time": "2023-11-20T19:00:40.524Z"
   },
   {
    "duration": 6,
    "start_time": "2023-11-20T19:00:40.536Z"
   },
   {
    "duration": 5,
    "start_time": "2023-11-20T19:00:40.544Z"
   },
   {
    "duration": 6,
    "start_time": "2023-11-20T19:00:40.551Z"
   },
   {
    "duration": 5,
    "start_time": "2023-11-20T19:00:40.559Z"
   },
   {
    "duration": 9,
    "start_time": "2023-11-20T19:00:40.566Z"
   },
   {
    "duration": 6,
    "start_time": "2023-11-20T19:00:40.576Z"
   },
   {
    "duration": 39,
    "start_time": "2023-11-20T19:00:40.583Z"
   },
   {
    "duration": 8,
    "start_time": "2023-11-20T19:00:40.623Z"
   },
   {
    "duration": 2,
    "start_time": "2023-11-20T19:00:40.633Z"
   },
   {
    "duration": 505,
    "start_time": "2023-11-20T19:00:40.636Z"
   },
   {
    "duration": 0,
    "start_time": "2023-11-20T19:00:41.143Z"
   },
   {
    "duration": 0,
    "start_time": "2023-11-20T19:00:41.145Z"
   },
   {
    "duration": 1,
    "start_time": "2023-11-20T19:00:41.145Z"
   },
   {
    "duration": 1,
    "start_time": "2023-11-20T19:00:41.146Z"
   },
   {
    "duration": 0,
    "start_time": "2023-11-20T19:00:41.148Z"
   },
   {
    "duration": 0,
    "start_time": "2023-11-20T19:00:41.148Z"
   },
   {
    "duration": 0,
    "start_time": "2023-11-20T19:00:41.150Z"
   },
   {
    "duration": 0,
    "start_time": "2023-11-20T19:00:41.151Z"
   },
   {
    "duration": 0,
    "start_time": "2023-11-20T19:00:41.152Z"
   },
   {
    "duration": 0,
    "start_time": "2023-11-20T19:00:41.153Z"
   },
   {
    "duration": 0,
    "start_time": "2023-11-20T19:00:41.154Z"
   },
   {
    "duration": 0,
    "start_time": "2023-11-20T19:00:41.155Z"
   },
   {
    "duration": 0,
    "start_time": "2023-11-20T19:00:41.156Z"
   },
   {
    "duration": 0,
    "start_time": "2023-11-20T19:00:41.157Z"
   },
   {
    "duration": 0,
    "start_time": "2023-11-20T19:00:41.157Z"
   },
   {
    "duration": 0,
    "start_time": "2023-11-20T19:00:41.158Z"
   },
   {
    "duration": 0,
    "start_time": "2023-11-20T19:00:41.160Z"
   },
   {
    "duration": 0,
    "start_time": "2023-11-20T19:00:41.161Z"
   },
   {
    "duration": 0,
    "start_time": "2023-11-20T19:00:41.162Z"
   },
   {
    "duration": 5,
    "start_time": "2023-11-20T19:04:39.946Z"
   },
   {
    "duration": 5,
    "start_time": "2023-11-20T19:05:04.103Z"
   },
   {
    "duration": 5,
    "start_time": "2023-11-20T19:06:29.953Z"
   },
   {
    "duration": 1132,
    "start_time": "2023-11-20T19:12:50.090Z"
   },
   {
    "duration": 70,
    "start_time": "2023-11-20T19:12:51.224Z"
   },
   {
    "duration": 28,
    "start_time": "2023-11-20T19:12:51.295Z"
   },
   {
    "duration": 24,
    "start_time": "2023-11-20T19:12:51.324Z"
   },
   {
    "duration": 7,
    "start_time": "2023-11-20T19:12:51.349Z"
   },
   {
    "duration": 6,
    "start_time": "2023-11-20T19:12:51.357Z"
   },
   {
    "duration": 6,
    "start_time": "2023-11-20T19:12:51.364Z"
   },
   {
    "duration": 5,
    "start_time": "2023-11-20T19:12:51.372Z"
   },
   {
    "duration": 41,
    "start_time": "2023-11-20T19:12:51.378Z"
   },
   {
    "duration": 5,
    "start_time": "2023-11-20T19:12:51.422Z"
   },
   {
    "duration": 7,
    "start_time": "2023-11-20T19:12:51.428Z"
   },
   {
    "duration": 4,
    "start_time": "2023-11-20T19:12:51.436Z"
   },
   {
    "duration": 8,
    "start_time": "2023-11-20T19:12:51.442Z"
   },
   {
    "duration": 4,
    "start_time": "2023-11-20T19:12:51.452Z"
   },
   {
    "duration": 486,
    "start_time": "2023-11-20T19:12:51.458Z"
   },
   {
    "duration": 0,
    "start_time": "2023-11-20T19:12:51.945Z"
   },
   {
    "duration": 0,
    "start_time": "2023-11-20T19:12:51.947Z"
   },
   {
    "duration": 0,
    "start_time": "2023-11-20T19:12:51.948Z"
   },
   {
    "duration": 0,
    "start_time": "2023-11-20T19:12:51.949Z"
   },
   {
    "duration": 0,
    "start_time": "2023-11-20T19:12:51.951Z"
   },
   {
    "duration": 0,
    "start_time": "2023-11-20T19:12:51.952Z"
   },
   {
    "duration": 0,
    "start_time": "2023-11-20T19:12:51.953Z"
   },
   {
    "duration": 0,
    "start_time": "2023-11-20T19:12:51.954Z"
   },
   {
    "duration": 0,
    "start_time": "2023-11-20T19:12:51.955Z"
   },
   {
    "duration": 0,
    "start_time": "2023-11-20T19:12:51.956Z"
   },
   {
    "duration": 0,
    "start_time": "2023-11-20T19:12:51.957Z"
   },
   {
    "duration": 0,
    "start_time": "2023-11-20T19:12:51.958Z"
   },
   {
    "duration": 0,
    "start_time": "2023-11-20T19:12:51.959Z"
   },
   {
    "duration": 0,
    "start_time": "2023-11-20T19:12:51.960Z"
   },
   {
    "duration": 0,
    "start_time": "2023-11-20T19:12:51.961Z"
   },
   {
    "duration": 0,
    "start_time": "2023-11-20T19:12:51.962Z"
   },
   {
    "duration": 0,
    "start_time": "2023-11-20T19:12:51.963Z"
   },
   {
    "duration": 0,
    "start_time": "2023-11-20T19:12:51.964Z"
   },
   {
    "duration": 0,
    "start_time": "2023-11-20T19:12:51.965Z"
   },
   {
    "duration": 1152,
    "start_time": "2023-11-20T19:13:12.908Z"
   },
   {
    "duration": 68,
    "start_time": "2023-11-20T19:13:14.062Z"
   },
   {
    "duration": 25,
    "start_time": "2023-11-20T19:13:14.132Z"
   },
   {
    "duration": 22,
    "start_time": "2023-11-20T19:13:14.159Z"
   },
   {
    "duration": 7,
    "start_time": "2023-11-20T19:13:14.182Z"
   },
   {
    "duration": 7,
    "start_time": "2023-11-20T19:13:14.190Z"
   },
   {
    "duration": 17,
    "start_time": "2023-11-20T19:13:14.198Z"
   },
   {
    "duration": 5,
    "start_time": "2023-11-20T19:13:14.217Z"
   },
   {
    "duration": 7,
    "start_time": "2023-11-20T19:13:14.224Z"
   },
   {
    "duration": 5,
    "start_time": "2023-11-20T19:13:14.234Z"
   },
   {
    "duration": 6,
    "start_time": "2023-11-20T19:13:14.240Z"
   },
   {
    "duration": 5,
    "start_time": "2023-11-20T19:13:14.247Z"
   },
   {
    "duration": 8,
    "start_time": "2023-11-20T19:13:14.253Z"
   },
   {
    "duration": 5,
    "start_time": "2023-11-20T19:13:14.262Z"
   },
   {
    "duration": 13,
    "start_time": "2023-11-20T19:13:14.268Z"
   },
   {
    "duration": 189,
    "start_time": "2023-11-20T19:13:14.283Z"
   },
   {
    "duration": 258,
    "start_time": "2023-11-20T19:13:14.473Z"
   },
   {
    "duration": 137,
    "start_time": "2023-11-20T19:13:14.732Z"
   },
   {
    "duration": 17,
    "start_time": "2023-11-20T19:13:14.871Z"
   },
   {
    "duration": 7,
    "start_time": "2023-11-20T19:13:14.889Z"
   },
   {
    "duration": 18,
    "start_time": "2023-11-20T19:13:14.898Z"
   },
   {
    "duration": 276,
    "start_time": "2023-11-20T19:13:14.918Z"
   },
   {
    "duration": 157,
    "start_time": "2023-11-20T19:13:15.196Z"
   },
   {
    "duration": 321,
    "start_time": "2023-11-20T19:13:15.355Z"
   },
   {
    "duration": 142,
    "start_time": "2023-11-20T19:13:15.678Z"
   },
   {
    "duration": 37,
    "start_time": "2023-11-20T19:13:15.821Z"
   },
   {
    "duration": 26,
    "start_time": "2023-11-20T19:13:15.859Z"
   },
   {
    "duration": 3,
    "start_time": "2023-11-20T19:13:15.888Z"
   },
   {
    "duration": 210,
    "start_time": "2023-11-20T19:13:15.914Z"
   },
   {
    "duration": 19,
    "start_time": "2023-11-20T19:13:16.125Z"
   },
   {
    "duration": 5,
    "start_time": "2023-11-20T19:13:16.146Z"
   },
   {
    "duration": 7,
    "start_time": "2023-11-20T19:13:16.152Z"
   },
   {
    "duration": 11,
    "start_time": "2023-11-20T19:13:16.160Z"
   },
   {
    "duration": 5,
    "start_time": "2023-11-20T19:13:16.173Z"
   },
   {
    "duration": 102,
    "start_time": "2023-11-20T19:19:35.697Z"
   },
   {
    "duration": 9,
    "start_time": "2023-11-20T19:19:42.373Z"
   },
   {
    "duration": 11,
    "start_time": "2023-11-20T19:19:56.478Z"
   },
   {
    "duration": 6,
    "start_time": "2023-11-20T19:20:28.283Z"
   },
   {
    "duration": 4,
    "start_time": "2023-11-20T19:20:43.228Z"
   },
   {
    "duration": 112,
    "start_time": "2023-11-20T19:21:11.045Z"
   },
   {
    "duration": 125,
    "start_time": "2023-11-20T19:22:57.822Z"
   },
   {
    "duration": 4,
    "start_time": "2023-11-20T19:23:30.645Z"
   },
   {
    "duration": 7,
    "start_time": "2023-11-20T19:23:37.045Z"
   },
   {
    "duration": 15,
    "start_time": "2023-11-20T19:23:49.334Z"
   },
   {
    "duration": 84,
    "start_time": "2023-11-20T19:47:25.179Z"
   },
   {
    "duration": 184,
    "start_time": "2023-11-20T19:48:52.395Z"
   },
   {
    "duration": 157,
    "start_time": "2023-11-20T19:49:16.802Z"
   },
   {
    "duration": 83,
    "start_time": "2023-11-20T19:59:41.940Z"
   },
   {
    "duration": 4,
    "start_time": "2023-11-20T20:01:33.830Z"
   },
   {
    "duration": 4,
    "start_time": "2023-11-20T20:02:29.742Z"
   },
   {
    "duration": 4,
    "start_time": "2023-11-20T20:02:43.644Z"
   },
   {
    "duration": 4,
    "start_time": "2023-11-20T20:04:19.135Z"
   },
   {
    "duration": 91,
    "start_time": "2023-11-20T20:05:53.344Z"
   },
   {
    "duration": 11,
    "start_time": "2023-11-20T20:05:58.734Z"
   },
   {
    "duration": 4,
    "start_time": "2023-11-20T20:06:03.917Z"
   },
   {
    "duration": 4,
    "start_time": "2023-11-20T20:08:43.561Z"
   },
   {
    "duration": 88,
    "start_time": "2023-11-20T20:10:24.639Z"
   },
   {
    "duration": 103,
    "start_time": "2023-11-20T20:10:44.567Z"
   },
   {
    "duration": 103,
    "start_time": "2023-11-20T20:10:54.936Z"
   },
   {
    "duration": 3,
    "start_time": "2023-11-20T20:11:03.337Z"
   },
   {
    "duration": 89,
    "start_time": "2023-11-20T20:11:53.697Z"
   },
   {
    "duration": 6,
    "start_time": "2023-11-20T20:12:15.161Z"
   },
   {
    "duration": 386,
    "start_time": "2023-11-20T20:28:16.086Z"
   },
   {
    "duration": 9,
    "start_time": "2023-11-20T20:28:47.429Z"
   },
   {
    "duration": 9,
    "start_time": "2023-11-20T20:29:18.004Z"
   },
   {
    "duration": 126,
    "start_time": "2023-11-20T20:35:54.221Z"
   },
   {
    "duration": 123,
    "start_time": "2023-11-20T20:37:34.312Z"
   },
   {
    "duration": 9,
    "start_time": "2023-11-20T20:38:08.062Z"
   },
   {
    "duration": 70,
    "start_time": "2023-11-20T20:38:23.839Z"
   },
   {
    "duration": 68,
    "start_time": "2023-11-20T20:39:10.953Z"
   },
   {
    "duration": 7,
    "start_time": "2023-11-20T20:48:08.440Z"
   },
   {
    "duration": 223,
    "start_time": "2023-11-20T20:51:43.384Z"
   },
   {
    "duration": 134,
    "start_time": "2023-11-20T20:52:06.576Z"
   },
   {
    "duration": 140,
    "start_time": "2023-11-20T20:53:02.176Z"
   },
   {
    "duration": 139,
    "start_time": "2023-11-20T20:54:37.641Z"
   },
   {
    "duration": 138,
    "start_time": "2023-11-20T20:57:07.733Z"
   },
   {
    "duration": 140,
    "start_time": "2023-11-20T20:57:12.088Z"
   },
   {
    "duration": 138,
    "start_time": "2023-11-20T20:57:17.088Z"
   },
   {
    "duration": 139,
    "start_time": "2023-11-20T20:58:10.298Z"
   },
   {
    "duration": 268,
    "start_time": "2023-11-20T20:58:42.162Z"
   },
   {
    "duration": 138,
    "start_time": "2023-11-20T20:58:45.842Z"
   },
   {
    "duration": 143,
    "start_time": "2023-11-20T20:58:49.745Z"
   },
   {
    "duration": 85,
    "start_time": "2023-11-20T21:01:50.186Z"
   },
   {
    "duration": 154,
    "start_time": "2023-11-20T21:02:33.121Z"
   },
   {
    "duration": 82,
    "start_time": "2023-11-20T21:03:12.339Z"
   },
   {
    "duration": 90,
    "start_time": "2023-11-20T21:09:18.270Z"
   },
   {
    "duration": 81,
    "start_time": "2023-11-20T21:10:50.285Z"
   },
   {
    "duration": 117,
    "start_time": "2023-11-20T21:13:09.028Z"
   },
   {
    "duration": 80,
    "start_time": "2023-11-20T21:13:15.237Z"
   },
   {
    "duration": 80,
    "start_time": "2023-11-20T21:14:11.619Z"
   },
   {
    "duration": 154,
    "start_time": "2023-11-20T21:15:54.190Z"
   },
   {
    "duration": 161,
    "start_time": "2023-11-20T21:18:03.981Z"
   },
   {
    "duration": 158,
    "start_time": "2023-11-20T21:18:15.924Z"
   },
   {
    "duration": 253,
    "start_time": "2023-11-20T21:20:28.527Z"
   },
   {
    "duration": 362,
    "start_time": "2023-11-20T21:21:05.133Z"
   },
   {
    "duration": 270,
    "start_time": "2023-11-20T21:21:18.279Z"
   },
   {
    "duration": 156,
    "start_time": "2023-11-20T21:22:34.503Z"
   },
   {
    "duration": 159,
    "start_time": "2023-11-20T21:22:49.439Z"
   },
   {
    "duration": 6,
    "start_time": "2023-11-20T21:27:14.889Z"
   },
   {
    "duration": 1129,
    "start_time": "2023-11-20T21:27:20.811Z"
   },
   {
    "duration": 69,
    "start_time": "2023-11-20T21:27:21.942Z"
   },
   {
    "duration": 27,
    "start_time": "2023-11-20T21:27:22.013Z"
   },
   {
    "duration": 24,
    "start_time": "2023-11-20T21:27:22.042Z"
   },
   {
    "duration": 6,
    "start_time": "2023-11-20T21:27:22.067Z"
   },
   {
    "duration": 8,
    "start_time": "2023-11-20T21:27:22.075Z"
   },
   {
    "duration": 32,
    "start_time": "2023-11-20T21:27:22.084Z"
   },
   {
    "duration": 6,
    "start_time": "2023-11-20T21:27:22.118Z"
   },
   {
    "duration": 11,
    "start_time": "2023-11-20T21:27:22.125Z"
   },
   {
    "duration": 5,
    "start_time": "2023-11-20T21:27:22.139Z"
   },
   {
    "duration": 7,
    "start_time": "2023-11-20T21:27:22.145Z"
   },
   {
    "duration": 10,
    "start_time": "2023-11-20T21:27:22.153Z"
   },
   {
    "duration": 15,
    "start_time": "2023-11-20T21:27:22.165Z"
   },
   {
    "duration": 5,
    "start_time": "2023-11-20T21:27:22.181Z"
   },
   {
    "duration": 187,
    "start_time": "2023-11-20T21:27:22.187Z"
   },
   {
    "duration": 6,
    "start_time": "2023-11-20T21:27:22.375Z"
   },
   {
    "duration": 106,
    "start_time": "2023-11-20T21:27:22.383Z"
   },
   {
    "duration": 167,
    "start_time": "2023-11-20T21:27:22.490Z"
   },
   {
    "duration": 285,
    "start_time": "2023-11-20T21:27:22.659Z"
   },
   {
    "duration": 194,
    "start_time": "2023-11-20T21:27:22.946Z"
   },
   {
    "duration": 16,
    "start_time": "2023-11-20T21:27:23.141Z"
   },
   {
    "duration": 17,
    "start_time": "2023-11-20T21:27:23.159Z"
   },
   {
    "duration": 14,
    "start_time": "2023-11-20T21:27:23.178Z"
   },
   {
    "duration": 10,
    "start_time": "2023-11-20T21:27:23.193Z"
   },
   {
    "duration": 251,
    "start_time": "2023-11-20T21:27:23.205Z"
   },
   {
    "duration": 230,
    "start_time": "2023-11-20T21:27:23.457Z"
   },
   {
    "duration": 265,
    "start_time": "2023-11-20T21:27:23.689Z"
   },
   {
    "duration": 138,
    "start_time": "2023-11-20T21:27:23.957Z"
   },
   {
    "duration": 40,
    "start_time": "2023-11-20T21:27:24.097Z"
   },
   {
    "duration": 25,
    "start_time": "2023-11-20T21:27:24.139Z"
   },
   {
    "duration": 3,
    "start_time": "2023-11-20T21:27:24.165Z"
   },
   {
    "duration": 202,
    "start_time": "2023-11-20T21:27:24.170Z"
   },
   {
    "duration": 19,
    "start_time": "2023-11-20T21:27:24.373Z"
   },
   {
    "duration": 5,
    "start_time": "2023-11-20T21:27:24.393Z"
   },
   {
    "duration": 20,
    "start_time": "2023-11-20T21:27:24.399Z"
   },
   {
    "duration": 19,
    "start_time": "2023-11-20T21:27:24.420Z"
   },
   {
    "duration": 5,
    "start_time": "2023-11-20T21:27:24.441Z"
   },
   {
    "duration": 46,
    "start_time": "2023-11-21T07:50:47.257Z"
   },
   {
    "duration": 1284,
    "start_time": "2023-11-21T07:50:53.049Z"
   },
   {
    "duration": 303,
    "start_time": "2023-11-21T07:50:54.335Z"
   },
   {
    "duration": 29,
    "start_time": "2023-11-21T07:50:54.639Z"
   },
   {
    "duration": 24,
    "start_time": "2023-11-21T07:50:54.670Z"
   },
   {
    "duration": 11,
    "start_time": "2023-11-21T07:50:54.695Z"
   },
   {
    "duration": 21,
    "start_time": "2023-11-21T07:50:54.707Z"
   },
   {
    "duration": 11,
    "start_time": "2023-11-21T07:50:54.730Z"
   },
   {
    "duration": 11,
    "start_time": "2023-11-21T07:50:54.742Z"
   },
   {
    "duration": 20,
    "start_time": "2023-11-21T07:50:54.755Z"
   },
   {
    "duration": 20,
    "start_time": "2023-11-21T07:50:54.777Z"
   },
   {
    "duration": 16,
    "start_time": "2023-11-21T07:50:54.799Z"
   },
   {
    "duration": 18,
    "start_time": "2023-11-21T07:50:54.817Z"
   },
   {
    "duration": 10,
    "start_time": "2023-11-21T07:50:54.837Z"
   },
   {
    "duration": 5,
    "start_time": "2023-11-21T07:50:54.848Z"
   },
   {
    "duration": 162,
    "start_time": "2023-11-21T07:50:54.855Z"
   },
   {
    "duration": 6,
    "start_time": "2023-11-21T07:50:55.019Z"
   },
   {
    "duration": 101,
    "start_time": "2023-11-21T07:50:55.027Z"
   },
   {
    "duration": 168,
    "start_time": "2023-11-21T07:50:55.130Z"
   },
   {
    "duration": 298,
    "start_time": "2023-11-21T07:50:55.299Z"
   },
   {
    "duration": 182,
    "start_time": "2023-11-21T07:50:55.598Z"
   },
   {
    "duration": 15,
    "start_time": "2023-11-21T07:50:55.782Z"
   },
   {
    "duration": 16,
    "start_time": "2023-11-21T07:50:55.799Z"
   },
   {
    "duration": 31,
    "start_time": "2023-11-21T07:50:55.817Z"
   },
   {
    "duration": 5,
    "start_time": "2023-11-21T07:50:55.849Z"
   },
   {
    "duration": 237,
    "start_time": "2023-11-21T07:50:55.855Z"
   },
   {
    "duration": 221,
    "start_time": "2023-11-21T07:50:56.094Z"
   },
   {
    "duration": 251,
    "start_time": "2023-11-21T07:50:56.316Z"
   },
   {
    "duration": 132,
    "start_time": "2023-11-21T07:50:56.571Z"
   },
   {
    "duration": 38,
    "start_time": "2023-11-21T07:50:56.705Z"
   },
   {
    "duration": 27,
    "start_time": "2023-11-21T07:50:56.744Z"
   },
   {
    "duration": 4,
    "start_time": "2023-11-21T07:50:56.772Z"
   },
   {
    "duration": 204,
    "start_time": "2023-11-21T07:50:56.777Z"
   },
   {
    "duration": 20,
    "start_time": "2023-11-21T07:50:56.982Z"
   },
   {
    "duration": 24,
    "start_time": "2023-11-21T07:50:57.003Z"
   },
   {
    "duration": 15,
    "start_time": "2023-11-21T07:50:57.028Z"
   },
   {
    "duration": 24,
    "start_time": "2023-11-21T07:50:57.044Z"
   },
   {
    "duration": 15,
    "start_time": "2023-11-21T07:50:57.069Z"
   },
   {
    "duration": 207,
    "start_time": "2023-11-21T07:54:10.416Z"
   },
   {
    "duration": 364,
    "start_time": "2023-11-21T07:54:27.263Z"
   },
   {
    "duration": 364,
    "start_time": "2023-11-21T07:55:22.007Z"
   },
   {
    "duration": 10,
    "start_time": "2023-11-21T07:55:26.134Z"
   },
   {
    "duration": 10,
    "start_time": "2023-11-21T07:55:55.158Z"
   },
   {
    "duration": 10,
    "start_time": "2023-11-21T07:56:01.158Z"
   },
   {
    "duration": 10,
    "start_time": "2023-11-21T07:57:51.383Z"
   },
   {
    "duration": 11,
    "start_time": "2023-11-21T07:58:39.631Z"
   },
   {
    "duration": 2618,
    "start_time": "2023-11-21T07:59:25.504Z"
   },
   {
    "duration": 88,
    "start_time": "2023-11-21T08:00:09.537Z"
   },
   {
    "duration": 501,
    "start_time": "2023-11-21T08:00:18.888Z"
   },
   {
    "duration": 398,
    "start_time": "2023-11-21T08:03:05.118Z"
   },
   {
    "duration": 195,
    "start_time": "2023-11-21T08:04:33.122Z"
   },
   {
    "duration": 230,
    "start_time": "2023-11-21T08:04:39.937Z"
   },
   {
    "duration": 133,
    "start_time": "2023-11-21T08:05:30.745Z"
   },
   {
    "duration": 99,
    "start_time": "2023-11-21T08:05:43.434Z"
   },
   {
    "duration": 94,
    "start_time": "2023-11-21T08:05:54.395Z"
   },
   {
    "duration": 11,
    "start_time": "2023-11-21T08:06:03.903Z"
   },
   {
    "duration": 481,
    "start_time": "2023-11-21T08:08:21.522Z"
   },
   {
    "duration": 642,
    "start_time": "2023-11-21T08:08:47.300Z"
   },
   {
    "duration": 91,
    "start_time": "2023-11-21T08:09:03.997Z"
   },
   {
    "duration": 467,
    "start_time": "2023-11-21T08:09:14.667Z"
   },
   {
    "duration": 340,
    "start_time": "2023-11-21T08:10:20.188Z"
   },
   {
    "duration": 467,
    "start_time": "2023-11-21T08:11:17.261Z"
   },
   {
    "duration": 570,
    "start_time": "2023-11-21T08:11:24.076Z"
   },
   {
    "duration": 430,
    "start_time": "2023-11-21T08:13:07.998Z"
   },
   {
    "duration": 450,
    "start_time": "2023-11-21T08:13:53.023Z"
   },
   {
    "duration": 429,
    "start_time": "2023-11-21T08:14:18.126Z"
   },
   {
    "duration": 449,
    "start_time": "2023-11-21T08:15:14.294Z"
   },
   {
    "duration": 13,
    "start_time": "2023-11-21T08:28:24.195Z"
   },
   {
    "duration": 717,
    "start_time": "2023-11-21T08:30:26.364Z"
   },
   {
    "duration": 701,
    "start_time": "2023-11-21T08:30:46.100Z"
   },
   {
    "duration": 1188,
    "start_time": "2023-11-21T08:31:11.642Z"
   },
   {
    "duration": 70,
    "start_time": "2023-11-21T08:31:12.832Z"
   },
   {
    "duration": 28,
    "start_time": "2023-11-21T08:31:12.903Z"
   },
   {
    "duration": 25,
    "start_time": "2023-11-21T08:31:12.932Z"
   },
   {
    "duration": 7,
    "start_time": "2023-11-21T08:31:12.958Z"
   },
   {
    "duration": 7,
    "start_time": "2023-11-21T08:31:12.967Z"
   },
   {
    "duration": 11,
    "start_time": "2023-11-21T08:31:12.975Z"
   },
   {
    "duration": 31,
    "start_time": "2023-11-21T08:31:12.987Z"
   },
   {
    "duration": 9,
    "start_time": "2023-11-21T08:31:13.020Z"
   },
   {
    "duration": 22,
    "start_time": "2023-11-21T08:31:13.031Z"
   },
   {
    "duration": 8,
    "start_time": "2023-11-21T08:31:13.055Z"
   },
   {
    "duration": 8,
    "start_time": "2023-11-21T08:31:13.065Z"
   },
   {
    "duration": 11,
    "start_time": "2023-11-21T08:31:13.074Z"
   },
   {
    "duration": 10,
    "start_time": "2023-11-21T08:31:13.087Z"
   },
   {
    "duration": 185,
    "start_time": "2023-11-21T08:31:13.099Z"
   },
   {
    "duration": 8,
    "start_time": "2023-11-21T08:31:13.286Z"
   },
   {
    "duration": 120,
    "start_time": "2023-11-21T08:31:13.295Z"
   },
   {
    "duration": 177,
    "start_time": "2023-11-21T08:31:13.416Z"
   },
   {
    "duration": 292,
    "start_time": "2023-11-21T08:31:13.595Z"
   },
   {
    "duration": 186,
    "start_time": "2023-11-21T08:31:13.888Z"
   },
   {
    "duration": 17,
    "start_time": "2023-11-21T08:31:14.076Z"
   },
   {
    "duration": 3,
    "start_time": "2023-11-21T08:31:14.095Z"
   },
   {
    "duration": 8,
    "start_time": "2023-11-21T08:31:14.113Z"
   },
   {
    "duration": 8,
    "start_time": "2023-11-21T08:31:14.123Z"
   },
   {
    "duration": 548,
    "start_time": "2023-11-21T08:31:14.133Z"
   },
   {
    "duration": 11,
    "start_time": "2023-11-21T08:31:14.682Z"
   },
   {
    "duration": 732,
    "start_time": "2023-11-21T08:31:14.694Z"
   },
   {
    "duration": 12,
    "start_time": "2023-11-21T08:31:15.429Z"
   },
   {
    "duration": 40,
    "start_time": "2023-11-21T08:31:15.442Z"
   },
   {
    "duration": 46,
    "start_time": "2023-11-21T08:31:15.484Z"
   },
   {
    "duration": 4,
    "start_time": "2023-11-21T08:31:15.531Z"
   },
   {
    "duration": 238,
    "start_time": "2023-11-21T08:31:15.536Z"
   },
   {
    "duration": 21,
    "start_time": "2023-11-21T08:31:15.776Z"
   },
   {
    "duration": 16,
    "start_time": "2023-11-21T08:31:15.799Z"
   },
   {
    "duration": 5,
    "start_time": "2023-11-21T08:31:15.817Z"
   },
   {
    "duration": 19,
    "start_time": "2023-11-21T08:31:15.824Z"
   },
   {
    "duration": 6,
    "start_time": "2023-11-21T08:31:15.845Z"
   },
   {
    "duration": 721,
    "start_time": "2023-11-21T08:31:42.691Z"
   },
   {
    "duration": 221,
    "start_time": "2023-11-21T08:31:50.626Z"
   },
   {
    "duration": 723,
    "start_time": "2023-11-21T08:33:17.908Z"
   },
   {
    "duration": 749,
    "start_time": "2023-11-21T08:33:22.875Z"
   },
   {
    "duration": 525,
    "start_time": "2023-11-21T08:33:29.012Z"
   },
   {
    "duration": 252,
    "start_time": "2023-11-21T08:51:49.306Z"
   },
   {
    "duration": 175,
    "start_time": "2023-11-21T08:52:46.291Z"
   },
   {
    "duration": 179,
    "start_time": "2023-11-21T08:53:09.035Z"
   },
   {
    "duration": 200,
    "start_time": "2023-11-21T08:53:25.211Z"
   },
   {
    "duration": 186,
    "start_time": "2023-11-21T08:53:44.506Z"
   },
   {
    "duration": 183,
    "start_time": "2023-11-21T08:53:53.986Z"
   },
   {
    "duration": 274,
    "start_time": "2023-11-21T08:54:37.612Z"
   },
   {
    "duration": 399,
    "start_time": "2023-11-21T08:55:00.964Z"
   },
   {
    "duration": 271,
    "start_time": "2023-11-21T08:55:16.371Z"
   },
   {
    "duration": 7,
    "start_time": "2023-11-21T08:57:51.453Z"
   },
   {
    "duration": 8,
    "start_time": "2023-11-21T08:58:26.507Z"
   },
   {
    "duration": 7,
    "start_time": "2023-11-21T08:58:43.124Z"
   },
   {
    "duration": 8,
    "start_time": "2023-11-21T08:59:04.125Z"
   },
   {
    "duration": 1595,
    "start_time": "2023-11-21T09:00:51.205Z"
   },
   {
    "duration": 7,
    "start_time": "2023-11-21T09:01:14.455Z"
   },
   {
    "duration": 81,
    "start_time": "2023-11-21T09:02:03.214Z"
   },
   {
    "duration": 1303,
    "start_time": "2023-11-21T09:02:36.231Z"
   },
   {
    "duration": 70,
    "start_time": "2023-11-21T09:02:37.536Z"
   },
   {
    "duration": 29,
    "start_time": "2023-11-21T09:02:37.608Z"
   },
   {
    "duration": 25,
    "start_time": "2023-11-21T09:02:37.639Z"
   },
   {
    "duration": 7,
    "start_time": "2023-11-21T09:02:37.666Z"
   },
   {
    "duration": 7,
    "start_time": "2023-11-21T09:02:37.675Z"
   },
   {
    "duration": 31,
    "start_time": "2023-11-21T09:02:37.684Z"
   },
   {
    "duration": 6,
    "start_time": "2023-11-21T09:02:37.717Z"
   },
   {
    "duration": 14,
    "start_time": "2023-11-21T09:02:37.725Z"
   },
   {
    "duration": 7,
    "start_time": "2023-11-21T09:02:37.742Z"
   },
   {
    "duration": 32,
    "start_time": "2023-11-21T09:02:37.750Z"
   },
   {
    "duration": 8,
    "start_time": "2023-11-21T09:02:37.784Z"
   },
   {
    "duration": 10,
    "start_time": "2023-11-21T09:02:37.794Z"
   },
   {
    "duration": 9,
    "start_time": "2023-11-21T09:02:37.806Z"
   },
   {
    "duration": 200,
    "start_time": "2023-11-21T09:02:37.817Z"
   },
   {
    "duration": 7,
    "start_time": "2023-11-21T09:02:38.019Z"
   },
   {
    "duration": 104,
    "start_time": "2023-11-21T09:02:38.028Z"
   },
   {
    "duration": 172,
    "start_time": "2023-11-21T09:02:38.134Z"
   },
   {
    "duration": 283,
    "start_time": "2023-11-21T09:02:38.308Z"
   },
   {
    "duration": 181,
    "start_time": "2023-11-21T09:02:38.593Z"
   },
   {
    "duration": 18,
    "start_time": "2023-11-21T09:02:38.775Z"
   },
   {
    "duration": 4,
    "start_time": "2023-11-21T09:02:38.795Z"
   },
   {
    "duration": 9,
    "start_time": "2023-11-21T09:02:38.814Z"
   },
   {
    "duration": 43,
    "start_time": "2023-11-21T09:02:38.825Z"
   },
   {
    "duration": 584,
    "start_time": "2023-11-21T09:02:38.869Z"
   },
   {
    "duration": 11,
    "start_time": "2023-11-21T09:02:39.454Z"
   },
   {
    "duration": 278,
    "start_time": "2023-11-21T09:02:39.467Z"
   },
   {
    "duration": 11,
    "start_time": "2023-11-21T09:02:39.749Z"
   },
   {
    "duration": 34,
    "start_time": "2023-11-21T09:02:39.761Z"
   },
   {
    "duration": 33,
    "start_time": "2023-11-21T09:02:39.797Z"
   },
   {
    "duration": 3,
    "start_time": "2023-11-21T09:02:39.831Z"
   },
   {
    "duration": 343,
    "start_time": "2023-11-21T09:02:39.836Z"
   },
   {
    "duration": 43,
    "start_time": "2023-11-21T09:02:40.180Z"
   },
   {
    "duration": 8,
    "start_time": "2023-11-21T09:02:40.224Z"
   },
   {
    "duration": 22,
    "start_time": "2023-11-21T09:02:40.234Z"
   },
   {
    "duration": 12,
    "start_time": "2023-11-21T09:02:40.257Z"
   },
   {
    "duration": 8,
    "start_time": "2023-11-21T09:02:40.313Z"
   },
   {
    "duration": 1301,
    "start_time": "2023-11-21T09:05:01.665Z"
   },
   {
    "duration": 71,
    "start_time": "2023-11-21T09:05:02.968Z"
   },
   {
    "duration": 29,
    "start_time": "2023-11-21T09:05:03.040Z"
   },
   {
    "duration": 26,
    "start_time": "2023-11-21T09:05:03.071Z"
   },
   {
    "duration": 9,
    "start_time": "2023-11-21T09:05:03.098Z"
   },
   {
    "duration": 20,
    "start_time": "2023-11-21T09:05:03.114Z"
   },
   {
    "duration": 17,
    "start_time": "2023-11-21T09:05:03.136Z"
   },
   {
    "duration": 6,
    "start_time": "2023-11-21T09:05:03.155Z"
   },
   {
    "duration": 7,
    "start_time": "2023-11-21T09:05:03.162Z"
   },
   {
    "duration": 7,
    "start_time": "2023-11-21T09:05:03.171Z"
   },
   {
    "duration": 13,
    "start_time": "2023-11-21T09:05:03.180Z"
   },
   {
    "duration": 10,
    "start_time": "2023-11-21T09:05:03.195Z"
   },
   {
    "duration": 28,
    "start_time": "2023-11-21T09:05:03.207Z"
   },
   {
    "duration": 18,
    "start_time": "2023-11-21T09:05:03.237Z"
   },
   {
    "duration": 185,
    "start_time": "2023-11-21T09:05:03.257Z"
   },
   {
    "duration": 6,
    "start_time": "2023-11-21T09:05:03.443Z"
   },
   {
    "duration": 117,
    "start_time": "2023-11-21T09:05:03.450Z"
   },
   {
    "duration": 166,
    "start_time": "2023-11-21T09:05:03.569Z"
   },
   {
    "duration": 293,
    "start_time": "2023-11-21T09:05:03.737Z"
   },
   {
    "duration": 195,
    "start_time": "2023-11-21T09:05:04.031Z"
   },
   {
    "duration": 18,
    "start_time": "2023-11-21T09:05:04.228Z"
   },
   {
    "duration": 4,
    "start_time": "2023-11-21T09:05:04.248Z"
   },
   {
    "duration": 10,
    "start_time": "2023-11-21T09:05:04.253Z"
   },
   {
    "duration": 9,
    "start_time": "2023-11-21T09:05:04.265Z"
   },
   {
    "duration": 574,
    "start_time": "2023-11-21T09:05:04.275Z"
   },
   {
    "duration": 12,
    "start_time": "2023-11-21T09:05:04.850Z"
   },
   {
    "duration": 304,
    "start_time": "2023-11-21T09:05:04.863Z"
   },
   {
    "duration": 13,
    "start_time": "2023-11-21T09:05:05.170Z"
   },
   {
    "duration": 56,
    "start_time": "2023-11-21T09:05:05.184Z"
   },
   {
    "duration": 29,
    "start_time": "2023-11-21T09:05:05.242Z"
   },
   {
    "duration": 4,
    "start_time": "2023-11-21T09:05:05.272Z"
   },
   {
    "duration": 260,
    "start_time": "2023-11-21T09:05:05.277Z"
   },
   {
    "duration": 23,
    "start_time": "2023-11-21T09:05:05.539Z"
   },
   {
    "duration": 14,
    "start_time": "2023-11-21T09:05:05.564Z"
   },
   {
    "duration": 29,
    "start_time": "2023-11-21T09:05:05.579Z"
   },
   {
    "duration": 15,
    "start_time": "2023-11-21T09:05:05.610Z"
   },
   {
    "duration": 35,
    "start_time": "2023-11-21T09:05:05.627Z"
   },
   {
    "duration": 4,
    "start_time": "2023-11-21T09:07:12.207Z"
   },
   {
    "duration": 181,
    "start_time": "2023-11-21T09:07:31.959Z"
   },
   {
    "duration": 1260,
    "start_time": "2023-11-21T09:07:49.022Z"
   },
   {
    "duration": 71,
    "start_time": "2023-11-21T09:07:50.283Z"
   },
   {
    "duration": 29,
    "start_time": "2023-11-21T09:07:50.358Z"
   },
   {
    "duration": 37,
    "start_time": "2023-11-21T09:07:50.389Z"
   },
   {
    "duration": 23,
    "start_time": "2023-11-21T09:07:50.428Z"
   },
   {
    "duration": 15,
    "start_time": "2023-11-21T09:07:50.453Z"
   },
   {
    "duration": 37,
    "start_time": "2023-11-21T09:07:50.471Z"
   },
   {
    "duration": 21,
    "start_time": "2023-11-21T09:07:50.510Z"
   },
   {
    "duration": 9,
    "start_time": "2023-11-21T09:07:50.533Z"
   },
   {
    "duration": 11,
    "start_time": "2023-11-21T09:07:50.544Z"
   },
   {
    "duration": 28,
    "start_time": "2023-11-21T09:07:50.557Z"
   },
   {
    "duration": 13,
    "start_time": "2023-11-21T09:07:50.587Z"
   },
   {
    "duration": 29,
    "start_time": "2023-11-21T09:07:50.602Z"
   },
   {
    "duration": 17,
    "start_time": "2023-11-21T09:07:50.633Z"
   },
   {
    "duration": 176,
    "start_time": "2023-11-21T09:07:50.652Z"
   },
   {
    "duration": 6,
    "start_time": "2023-11-21T09:07:50.830Z"
   },
   {
    "duration": 116,
    "start_time": "2023-11-21T09:07:50.838Z"
   },
   {
    "duration": 200,
    "start_time": "2023-11-21T09:07:50.955Z"
   },
   {
    "duration": 322,
    "start_time": "2023-11-21T09:07:51.157Z"
   },
   {
    "duration": 196,
    "start_time": "2023-11-21T09:07:51.481Z"
   },
   {
    "duration": 18,
    "start_time": "2023-11-21T09:07:51.678Z"
   },
   {
    "duration": 17,
    "start_time": "2023-11-21T09:07:51.697Z"
   },
   {
    "duration": 32,
    "start_time": "2023-11-21T09:07:51.715Z"
   },
   {
    "duration": 8,
    "start_time": "2023-11-21T09:07:51.749Z"
   },
   {
    "duration": 529,
    "start_time": "2023-11-21T09:07:51.758Z"
   },
   {
    "duration": 12,
    "start_time": "2023-11-21T09:07:52.288Z"
   },
   {
    "duration": 317,
    "start_time": "2023-11-21T09:07:52.303Z"
   },
   {
    "duration": 12,
    "start_time": "2023-11-21T09:07:52.622Z"
   },
   {
    "duration": 84,
    "start_time": "2023-11-21T09:07:52.635Z"
   },
   {
    "duration": 28,
    "start_time": "2023-11-21T09:07:52.720Z"
   },
   {
    "duration": 3,
    "start_time": "2023-11-21T09:07:52.750Z"
   },
   {
    "duration": 254,
    "start_time": "2023-11-21T09:07:52.754Z"
   },
   {
    "duration": 22,
    "start_time": "2023-11-21T09:07:53.010Z"
   },
   {
    "duration": 17,
    "start_time": "2023-11-21T09:07:53.034Z"
   },
   {
    "duration": 16,
    "start_time": "2023-11-21T09:07:53.053Z"
   },
   {
    "duration": 26,
    "start_time": "2023-11-21T09:07:53.070Z"
   },
   {
    "duration": 37,
    "start_time": "2023-11-21T09:07:53.098Z"
   },
   {
    "duration": 1231,
    "start_time": "2023-11-21T10:38:30.609Z"
   },
   {
    "duration": 71,
    "start_time": "2023-11-21T10:38:31.842Z"
   },
   {
    "duration": 29,
    "start_time": "2023-11-21T10:38:31.914Z"
   },
   {
    "duration": 26,
    "start_time": "2023-11-21T10:38:31.946Z"
   },
   {
    "duration": 21,
    "start_time": "2023-11-21T10:38:31.973Z"
   },
   {
    "duration": 33,
    "start_time": "2023-11-21T10:38:31.996Z"
   },
   {
    "duration": 40,
    "start_time": "2023-11-21T10:38:32.031Z"
   },
   {
    "duration": 35,
    "start_time": "2023-11-21T10:38:32.073Z"
   },
   {
    "duration": 35,
    "start_time": "2023-11-21T10:38:32.110Z"
   },
   {
    "duration": 30,
    "start_time": "2023-11-21T10:38:32.148Z"
   },
   {
    "duration": 28,
    "start_time": "2023-11-21T10:38:32.180Z"
   },
   {
    "duration": 24,
    "start_time": "2023-11-21T10:38:32.209Z"
   },
   {
    "duration": 34,
    "start_time": "2023-11-21T10:38:32.235Z"
   },
   {
    "duration": 24,
    "start_time": "2023-11-21T10:38:32.270Z"
   },
   {
    "duration": 171,
    "start_time": "2023-11-21T10:38:32.295Z"
   },
   {
    "duration": 5,
    "start_time": "2023-11-21T10:38:32.468Z"
   },
   {
    "duration": 114,
    "start_time": "2023-11-21T10:38:32.475Z"
   },
   {
    "duration": 173,
    "start_time": "2023-11-21T10:38:32.590Z"
   },
   {
    "duration": 301,
    "start_time": "2023-11-21T10:38:32.765Z"
   },
   {
    "duration": 189,
    "start_time": "2023-11-21T10:38:33.067Z"
   },
   {
    "duration": 25,
    "start_time": "2023-11-21T10:38:33.258Z"
   },
   {
    "duration": 5,
    "start_time": "2023-11-21T10:38:33.285Z"
   },
   {
    "duration": 25,
    "start_time": "2023-11-21T10:38:33.292Z"
   },
   {
    "duration": 11,
    "start_time": "2023-11-21T10:38:33.318Z"
   },
   {
    "duration": 537,
    "start_time": "2023-11-21T10:38:33.331Z"
   },
   {
    "duration": 12,
    "start_time": "2023-11-21T10:38:33.870Z"
   },
   {
    "duration": 290,
    "start_time": "2023-11-21T10:38:33.884Z"
   },
   {
    "duration": 11,
    "start_time": "2023-11-21T10:38:34.177Z"
   },
   {
    "duration": 47,
    "start_time": "2023-11-21T10:38:34.190Z"
   },
   {
    "duration": 28,
    "start_time": "2023-11-21T10:38:34.238Z"
   },
   {
    "duration": 3,
    "start_time": "2023-11-21T10:38:34.267Z"
   },
   {
    "duration": 215,
    "start_time": "2023-11-21T10:38:34.272Z"
   },
   {
    "duration": 27,
    "start_time": "2023-11-21T10:38:34.489Z"
   },
   {
    "duration": 8,
    "start_time": "2023-11-21T10:38:34.517Z"
   },
   {
    "duration": 7,
    "start_time": "2023-11-21T10:38:34.527Z"
   },
   {
    "duration": 18,
    "start_time": "2023-11-21T10:38:34.535Z"
   },
   {
    "duration": 29,
    "start_time": "2023-11-21T10:38:34.555Z"
   },
   {
    "duration": 90,
    "start_time": "2023-11-21T10:39:56.769Z"
   },
   {
    "duration": 1197,
    "start_time": "2023-11-21T10:40:08.041Z"
   },
   {
    "duration": 70,
    "start_time": "2023-11-21T10:40:09.240Z"
   },
   {
    "duration": 33,
    "start_time": "2023-11-21T10:40:09.312Z"
   },
   {
    "duration": 29,
    "start_time": "2023-11-21T10:40:09.347Z"
   },
   {
    "duration": 10,
    "start_time": "2023-11-21T10:40:09.378Z"
   },
   {
    "duration": 26,
    "start_time": "2023-11-21T10:40:09.390Z"
   },
   {
    "duration": 6,
    "start_time": "2023-11-21T10:40:09.418Z"
   },
   {
    "duration": 18,
    "start_time": "2023-11-21T10:40:09.426Z"
   },
   {
    "duration": 7,
    "start_time": "2023-11-21T10:40:09.446Z"
   },
   {
    "duration": 16,
    "start_time": "2023-11-21T10:40:09.455Z"
   },
   {
    "duration": 6,
    "start_time": "2023-11-21T10:40:09.473Z"
   },
   {
    "duration": 5,
    "start_time": "2023-11-21T10:40:09.481Z"
   },
   {
    "duration": 32,
    "start_time": "2023-11-21T10:40:09.487Z"
   },
   {
    "duration": 4,
    "start_time": "2023-11-21T10:40:09.521Z"
   },
   {
    "duration": 180,
    "start_time": "2023-11-21T10:40:09.527Z"
   },
   {
    "duration": 6,
    "start_time": "2023-11-21T10:40:09.713Z"
   },
   {
    "duration": 110,
    "start_time": "2023-11-21T10:40:09.721Z"
   },
   {
    "duration": 175,
    "start_time": "2023-11-21T10:40:09.834Z"
   },
   {
    "duration": 286,
    "start_time": "2023-11-21T10:40:10.010Z"
   },
   {
    "duration": 185,
    "start_time": "2023-11-21T10:40:10.298Z"
   },
   {
    "duration": 18,
    "start_time": "2023-11-21T10:40:10.486Z"
   },
   {
    "duration": 27,
    "start_time": "2023-11-21T10:40:10.514Z"
   },
   {
    "duration": 42,
    "start_time": "2023-11-21T10:40:10.543Z"
   },
   {
    "duration": 42,
    "start_time": "2023-11-21T10:40:10.587Z"
   },
   {
    "duration": 537,
    "start_time": "2023-11-21T10:40:10.630Z"
   },
   {
    "duration": 12,
    "start_time": "2023-11-21T10:40:11.169Z"
   },
   {
    "duration": 306,
    "start_time": "2023-11-21T10:40:11.183Z"
   },
   {
    "duration": 11,
    "start_time": "2023-11-21T10:40:11.493Z"
   },
   {
    "duration": 43,
    "start_time": "2023-11-21T10:40:11.513Z"
   },
   {
    "duration": 29,
    "start_time": "2023-11-21T10:40:11.557Z"
   },
   {
    "duration": 3,
    "start_time": "2023-11-21T10:40:11.588Z"
   },
   {
    "duration": 223,
    "start_time": "2023-11-21T10:40:11.593Z"
   },
   {
    "duration": 21,
    "start_time": "2023-11-21T10:40:11.818Z"
   },
   {
    "duration": 8,
    "start_time": "2023-11-21T10:40:11.841Z"
   },
   {
    "duration": 10,
    "start_time": "2023-11-21T10:40:11.851Z"
   },
   {
    "duration": 14,
    "start_time": "2023-11-21T10:40:11.863Z"
   },
   {
    "duration": 8,
    "start_time": "2023-11-21T10:40:11.878Z"
   },
   {
    "duration": 1142,
    "start_time": "2023-11-21T15:23:41.391Z"
   },
   {
    "duration": 65,
    "start_time": "2023-11-21T15:23:42.534Z"
   },
   {
    "duration": 28,
    "start_time": "2023-11-21T15:23:42.600Z"
   },
   {
    "duration": 24,
    "start_time": "2023-11-21T15:23:42.630Z"
   },
   {
    "duration": 16,
    "start_time": "2023-11-21T15:23:42.656Z"
   },
   {
    "duration": 6,
    "start_time": "2023-11-21T15:23:42.674Z"
   },
   {
    "duration": 7,
    "start_time": "2023-11-21T15:23:42.682Z"
   },
   {
    "duration": 6,
    "start_time": "2023-11-21T15:23:42.690Z"
   },
   {
    "duration": 6,
    "start_time": "2023-11-21T15:23:42.698Z"
   },
   {
    "duration": 5,
    "start_time": "2023-11-21T15:23:42.706Z"
   },
   {
    "duration": 5,
    "start_time": "2023-11-21T15:23:42.712Z"
   },
   {
    "duration": 11,
    "start_time": "2023-11-21T15:23:42.718Z"
   },
   {
    "duration": 45,
    "start_time": "2023-11-21T15:23:42.731Z"
   },
   {
    "duration": 5,
    "start_time": "2023-11-21T15:23:42.777Z"
   },
   {
    "duration": 165,
    "start_time": "2023-11-21T15:23:42.784Z"
   },
   {
    "duration": 6,
    "start_time": "2023-11-21T15:23:42.951Z"
   },
   {
    "duration": 95,
    "start_time": "2023-11-21T15:23:42.959Z"
   },
   {
    "duration": 171,
    "start_time": "2023-11-21T15:23:43.056Z"
   },
   {
    "duration": 273,
    "start_time": "2023-11-21T15:23:43.229Z"
   },
   {
    "duration": 174,
    "start_time": "2023-11-21T15:23:43.504Z"
   },
   {
    "duration": 17,
    "start_time": "2023-11-21T15:23:43.680Z"
   },
   {
    "duration": 3,
    "start_time": "2023-11-21T15:23:43.699Z"
   },
   {
    "duration": 11,
    "start_time": "2023-11-21T15:23:43.704Z"
   },
   {
    "duration": 5,
    "start_time": "2023-11-21T15:23:43.716Z"
   },
   {
    "duration": 524,
    "start_time": "2023-11-21T15:23:43.723Z"
   },
   {
    "duration": 11,
    "start_time": "2023-11-21T15:23:44.249Z"
   },
   {
    "duration": 277,
    "start_time": "2023-11-21T15:23:44.261Z"
   },
   {
    "duration": 12,
    "start_time": "2023-11-21T15:23:44.543Z"
   },
   {
    "duration": 34,
    "start_time": "2023-11-21T15:23:44.572Z"
   },
   {
    "duration": 26,
    "start_time": "2023-11-21T15:23:44.607Z"
   },
   {
    "duration": 8,
    "start_time": "2023-11-21T15:23:44.635Z"
   },
   {
    "duration": 233,
    "start_time": "2023-11-21T15:23:44.645Z"
   },
   {
    "duration": 21,
    "start_time": "2023-11-21T15:23:44.880Z"
   },
   {
    "duration": 19,
    "start_time": "2023-11-21T15:23:44.903Z"
   },
   {
    "duration": 40,
    "start_time": "2023-11-21T15:23:44.924Z"
   },
   {
    "duration": 46,
    "start_time": "2023-11-21T15:23:44.966Z"
   },
   {
    "duration": 207,
    "start_time": "2023-11-21T15:23:45.014Z"
   },
   {
    "duration": 498,
    "start_time": "2023-11-21T15:29:41.178Z"
   }
  ],
  "kernelspec": {
   "display_name": "Python 3 (ipykernel)",
   "language": "python",
   "name": "python3"
  },
  "language_info": {
   "codemirror_mode": {
    "name": "ipython",
    "version": 3
   },
   "file_extension": ".py",
   "mimetype": "text/x-python",
   "name": "python",
   "nbconvert_exporter": "python",
   "pygments_lexer": "ipython3",
   "version": "3.11.5"
  },
  "toc": {
   "base_numbering": 1,
   "nav_menu": {},
   "number_sections": true,
   "sideBar": true,
   "skip_h1_title": true,
   "title_cell": "Table of Contents",
   "title_sidebar": "Contents",
   "toc_cell": false,
   "toc_position": {},
   "toc_section_display": true,
   "toc_window_display": false
  }
 },
 "nbformat": 4,
 "nbformat_minor": 5
}
